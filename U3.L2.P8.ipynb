{
 "cells": [
  {
   "cell_type": "code",
   "execution_count": 15,
   "metadata": {},
   "outputs": [
    {
     "name": "stdout",
     "output_type": "stream",
     "text": [
      "My chance of winning before the host opens the door is:\n",
      "0.3333333333333333\n",
      "If I switch to a different available door, my chance of winning is:\n",
      "0.33333333333333337\n"
     ]
    }
   ],
   "source": [
    "'''Full disclosure: I'd heard about this mindbender prior to Thinkful, and as\n",
    "soon as I think I fully understand it, I'm lured by the wrong answer again.\n",
    "Instead of attempting some sort of proof, I simply tried to model out my \n",
    "understanding of the right answer, which I read online.'''\n",
    "\n",
    "#Monty Hall Problem\n",
    "#after I chose my first door:\n",
    "unchosenDoors = 2.0\n",
    "\n",
    "winGivenNoSwitch = 1/3\n",
    "winGivenSwitch = (1.0 - winGivenNoSwitch)/unchosenDoors\n",
    "\n",
    "print(\"My chance of winning before the host opens the door is:\")\n",
    "print(winGivenNoSwitch)\n",
    "print(\"If I switch to a different available door, my chance of winning is:\")\n",
    "print(winGivenSwitch)\n"
   ]
  },
  {
   "cell_type": "code",
   "execution_count": 13,
   "metadata": {},
   "outputs": [],
   "source": [
    "#(Yay, float math ^^^)"
   ]
  },
  {
   "cell_type": "code",
   "execution_count": 16,
   "metadata": {},
   "outputs": [
    {
     "name": "stdout",
     "output_type": "stream",
     "text": [
      "If I keep my door in spite of new info, my chance of winning is:\n",
      "0.3333333333333333\n",
      "If I switch, the chance of winning is:\n",
      "0.6666666666666667\n"
     ]
    }
   ],
   "source": [
    "#Update: with the host having removed one of the other doors from winning contention:\n",
    "newUnchosenDoors = 1\n",
    "#recalculate\n",
    "winGivenSwitch = (1 - winGivenNoSwitch)/newUnchosenDoors\n",
    "\n",
    "print(\"If I keep my door in spite of new info, my chance of winning is:\")\n",
    "print(winGivenNoSwitch)\n",
    "print(\"If I switch, the chance of winning is:\")\n",
    "print(winGivenSwitch)"
   ]
  },
  {
   "cell_type": "code",
   "execution_count": null,
   "metadata": {},
   "outputs": [],
   "source": []
  }
 ],
 "metadata": {
  "kernelspec": {
   "display_name": "Python 3",
   "language": "python",
   "name": "python3"
  },
  "language_info": {
   "codemirror_mode": {
    "name": "ipython",
    "version": 3
   },
   "file_extension": ".py",
   "mimetype": "text/x-python",
   "name": "python",
   "nbconvert_exporter": "python",
   "pygments_lexer": "ipython3",
   "version": "3.7.0"
  }
 },
 "nbformat": 4,
 "nbformat_minor": 2
}

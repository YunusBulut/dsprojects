{
 "cells": [
  {
   "cell_type": "code",
   "execution_count": 3,
   "metadata": {},
   "outputs": [
    {
     "name": "stdout",
     "output_type": "stream",
     "text": [
      "0.0625 0.0625 0.0625\n"
     ]
    }
   ],
   "source": [
    "#Question 1\n",
    "h = .5\n",
    "t = .5\n",
    "\n",
    "p_HTTH = h*t*t*h\n",
    "p_HHHH = h*h*h*h\n",
    "p_TTHH = t*t*h*h\n",
    "\n",
    "print(p_HTTH, p_HHHH, p_TTHH)"
   ]
  },
  {
   "cell_type": "code",
   "execution_count": 5,
   "metadata": {},
   "outputs": [
    {
     "name": "stdout",
     "output_type": "stream",
     "text": [
      "0.5333333333333333\n"
     ]
    }
   ],
   "source": [
    "#question 2\n",
    "men = 21\n",
    "women = 24\n",
    "ppl = men + women\n",
    "print(women/ppl)"
   ]
  },
  {
   "cell_type": "code",
   "execution_count": 7,
   "metadata": {},
   "outputs": [
    {
     "name": "stdout",
     "output_type": "stream",
     "text": [
      "5e-06\n"
     ]
    }
   ],
   "source": [
    "#Question 3\n",
    "bTravel = .1\n",
    "crash = .00005\n",
    "print(bTravel*crash)\n"
   ]
  },
  {
   "cell_type": "markdown",
   "metadata": {},
   "source": [
    "Question 4\n",
    "This survey is biased by only gathering data on those to spend enough time on the website to trigger the survey, and those who agree to take it. It's reasonable to believe that there are many users who are spending well less than 15 minutes on the website, and aren't being offered the survey at all, which would incorrectly inflate the average of 15 minutes."
   ]
  }
 ],
 "metadata": {
  "kernelspec": {
   "display_name": "Python 3",
   "language": "python",
   "name": "python3"
  },
  "language_info": {
   "codemirror_mode": {
    "name": "ipython",
    "version": 3
   },
   "file_extension": ".py",
   "mimetype": "text/x-python",
   "name": "python",
   "nbconvert_exporter": "python",
   "pygments_lexer": "ipython3",
   "version": "3.7.0"
  }
 },
 "nbformat": 4,
 "nbformat_minor": 2
}

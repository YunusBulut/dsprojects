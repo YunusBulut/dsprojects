{
 "cells": [
  {
   "cell_type": "code",
   "execution_count": 113,
   "metadata": {},
   "outputs": [],
   "source": [
    "import pandas as pd\n",
    "import numpy as np\n",
    "import scipy\n",
    "import matplotlib.pyplot as plt\n",
    "%matplotlib inline\n",
    "\n",
    "from sklearn import ensemble\n",
    "from sklearn import datasets\n",
    "from sklearn.utils import shuffle\n",
    "from sklearn.metrics import mean_squared_error"
   ]
  },
  {
   "cell_type": "code",
   "execution_count": 114,
   "metadata": {},
   "outputs": [
    {
     "data": {
      "text/html": [
       "<div>\n",
       "<style scoped>\n",
       "    .dataframe tbody tr th:only-of-type {\n",
       "        vertical-align: middle;\n",
       "    }\n",
       "\n",
       "    .dataframe tbody tr th {\n",
       "        vertical-align: top;\n",
       "    }\n",
       "\n",
       "    .dataframe thead th {\n",
       "        text-align: right;\n",
       "    }\n",
       "</style>\n",
       "<table border=\"1\" class=\"dataframe\">\n",
       "  <thead>\n",
       "    <tr style=\"text-align: right;\">\n",
       "      <th></th>\n",
       "      <th>cntry</th>\n",
       "      <th>idno</th>\n",
       "      <th>year</th>\n",
       "      <th>tvtot</th>\n",
       "      <th>ppltrst</th>\n",
       "      <th>pplfair</th>\n",
       "      <th>pplhlp</th>\n",
       "      <th>happy</th>\n",
       "      <th>sclmeet</th>\n",
       "      <th>sclact</th>\n",
       "      <th>gndr</th>\n",
       "      <th>agea</th>\n",
       "      <th>partner</th>\n",
       "    </tr>\n",
       "  </thead>\n",
       "  <tbody>\n",
       "    <tr>\n",
       "      <th>0</th>\n",
       "      <td>CH</td>\n",
       "      <td>5.0</td>\n",
       "      <td>6</td>\n",
       "      <td>3.0</td>\n",
       "      <td>3.0</td>\n",
       "      <td>10.0</td>\n",
       "      <td>5.0</td>\n",
       "      <td>8.0</td>\n",
       "      <td>5.0</td>\n",
       "      <td>4.0</td>\n",
       "      <td>2.0</td>\n",
       "      <td>60.0</td>\n",
       "      <td>1.0</td>\n",
       "    </tr>\n",
       "    <tr>\n",
       "      <th>1</th>\n",
       "      <td>CH</td>\n",
       "      <td>25.0</td>\n",
       "      <td>6</td>\n",
       "      <td>6.0</td>\n",
       "      <td>5.0</td>\n",
       "      <td>7.0</td>\n",
       "      <td>5.0</td>\n",
       "      <td>9.0</td>\n",
       "      <td>3.0</td>\n",
       "      <td>2.0</td>\n",
       "      <td>2.0</td>\n",
       "      <td>59.0</td>\n",
       "      <td>1.0</td>\n",
       "    </tr>\n",
       "    <tr>\n",
       "      <th>2</th>\n",
       "      <td>CH</td>\n",
       "      <td>26.0</td>\n",
       "      <td>6</td>\n",
       "      <td>1.0</td>\n",
       "      <td>8.0</td>\n",
       "      <td>8.0</td>\n",
       "      <td>8.0</td>\n",
       "      <td>7.0</td>\n",
       "      <td>6.0</td>\n",
       "      <td>3.0</td>\n",
       "      <td>1.0</td>\n",
       "      <td>24.0</td>\n",
       "      <td>2.0</td>\n",
       "    </tr>\n",
       "    <tr>\n",
       "      <th>3</th>\n",
       "      <td>CH</td>\n",
       "      <td>28.0</td>\n",
       "      <td>6</td>\n",
       "      <td>4.0</td>\n",
       "      <td>6.0</td>\n",
       "      <td>6.0</td>\n",
       "      <td>7.0</td>\n",
       "      <td>10.0</td>\n",
       "      <td>6.0</td>\n",
       "      <td>2.0</td>\n",
       "      <td>2.0</td>\n",
       "      <td>64.0</td>\n",
       "      <td>1.0</td>\n",
       "    </tr>\n",
       "    <tr>\n",
       "      <th>4</th>\n",
       "      <td>CH</td>\n",
       "      <td>29.0</td>\n",
       "      <td>6</td>\n",
       "      <td>5.0</td>\n",
       "      <td>6.0</td>\n",
       "      <td>7.0</td>\n",
       "      <td>5.0</td>\n",
       "      <td>8.0</td>\n",
       "      <td>7.0</td>\n",
       "      <td>2.0</td>\n",
       "      <td>2.0</td>\n",
       "      <td>55.0</td>\n",
       "      <td>1.0</td>\n",
       "    </tr>\n",
       "  </tbody>\n",
       "</table>\n",
       "</div>"
      ],
      "text/plain": [
       "  cntry  idno  year  tvtot  ppltrst  pplfair  pplhlp  happy  sclmeet  sclact  \\\n",
       "0    CH   5.0     6    3.0      3.0     10.0     5.0    8.0      5.0     4.0   \n",
       "1    CH  25.0     6    6.0      5.0      7.0     5.0    9.0      3.0     2.0   \n",
       "2    CH  26.0     6    1.0      8.0      8.0     8.0    7.0      6.0     3.0   \n",
       "3    CH  28.0     6    4.0      6.0      6.0     7.0   10.0      6.0     2.0   \n",
       "4    CH  29.0     6    5.0      6.0      7.0     5.0    8.0      7.0     2.0   \n",
       "\n",
       "   gndr  agea  partner  \n",
       "0   2.0  60.0      1.0  \n",
       "1   2.0  59.0      1.0  \n",
       "2   1.0  24.0      2.0  \n",
       "3   2.0  64.0      1.0  \n",
       "4   2.0  55.0      1.0  "
      ]
     },
     "execution_count": 114,
     "metadata": {},
     "output_type": "execute_result"
    }
   ],
   "source": [
    "df = pd.read_csv((\n",
    "    \"https://raw.githubusercontent.com/Thinkful-Ed/data-201-resources/\"\n",
    "    \"master/ESS_practice_data/ESSdata_Thinkful.csv\")).dropna()\n",
    "\n",
    "df.head()"
   ]
  },
  {
   "cell_type": "code",
   "execution_count": 115,
   "metadata": {},
   "outputs": [],
   "source": [
    "# Definine outcome and predictors.\n",
    "# Set our outcome to 0 and 1.\n",
    "y = df['partner'] - 1\n",
    "X = df.loc[:, ~df.columns.isin(['partner', 'cntry', 'idno'])]\n"
   ]
  },
  {
   "cell_type": "code",
   "execution_count": 116,
   "metadata": {},
   "outputs": [],
   "source": [
    "\n",
    "# Make the categorical variable 'country' into dummies.\n",
    "X = pd.concat([X, pd.get_dummies(df['cntry'])], axis=1)\n",
    "\n",
    "# Create training and test sets.\n",
    "offset = int(X.shape[0] * 0.9)\n",
    "\n",
    "# Put 90% of the data in the training set.\n",
    "X_train, y_train = X[:offset], y[:offset]\n",
    "\n",
    "# And put 10% in the test set.\n",
    "X_test, y_test = X[offset:], y[offset:]"
   ]
  },
  {
   "cell_type": "code",
   "execution_count": 117,
   "metadata": {},
   "outputs": [],
   "source": [
    "# We'll make 500 iterations, use 2-deep trees, and set our loss function.\n",
    "params = {'n_estimators': 500,\n",
    "          'max_depth': 2,\n",
    "          'loss': 'deviance'}\n"
   ]
  },
  {
   "cell_type": "code",
   "execution_count": 118,
   "metadata": {},
   "outputs": [],
   "source": [
    "\n",
    "# Initialize and fit the model.\n",
    "clf = ensemble.GradientBoostingClassifier(**params)\n",
    "clf.fit(X_train, y_train)\n",
    "\n",
    "predict_train = clf.predict(X_train)\n",
    "predict_test = clf.predict(X_test)"
   ]
  },
  {
   "cell_type": "code",
   "execution_count": 119,
   "metadata": {
    "scrolled": true
   },
   "outputs": [
    {
     "data": {
      "text/html": [
       "<div>\n",
       "<style scoped>\n",
       "    .dataframe tbody tr th:only-of-type {\n",
       "        vertical-align: middle;\n",
       "    }\n",
       "\n",
       "    .dataframe tbody tr th {\n",
       "        vertical-align: top;\n",
       "    }\n",
       "\n",
       "    .dataframe thead th {\n",
       "        text-align: right;\n",
       "    }\n",
       "</style>\n",
       "<table border=\"1\" class=\"dataframe\">\n",
       "  <thead>\n",
       "    <tr style=\"text-align: right;\">\n",
       "      <th>col_0</th>\n",
       "      <th>0.0</th>\n",
       "      <th>1.0</th>\n",
       "      <th>All</th>\n",
       "    </tr>\n",
       "    <tr>\n",
       "      <th>partner</th>\n",
       "      <th></th>\n",
       "      <th></th>\n",
       "      <th></th>\n",
       "    </tr>\n",
       "  </thead>\n",
       "  <tbody>\n",
       "    <tr>\n",
       "      <th>0.0</th>\n",
       "      <td>4167</td>\n",
       "      <td>341</td>\n",
       "      <td>4508</td>\n",
       "    </tr>\n",
       "    <tr>\n",
       "      <th>1.0</th>\n",
       "      <td>1291</td>\n",
       "      <td>1533</td>\n",
       "      <td>2824</td>\n",
       "    </tr>\n",
       "    <tr>\n",
       "      <th>All</th>\n",
       "      <td>5458</td>\n",
       "      <td>1874</td>\n",
       "      <td>7332</td>\n",
       "    </tr>\n",
       "  </tbody>\n",
       "</table>\n",
       "</div>"
      ],
      "text/plain": [
       "col_0     0.0   1.0   All\n",
       "partner                  \n",
       "0.0      4167   341  4508\n",
       "1.0      1291  1533  2824\n",
       "All      5458  1874  7332"
      ]
     },
     "metadata": {},
     "output_type": "display_data"
    },
    {
     "data": {
      "text/html": [
       "<div>\n",
       "<style scoped>\n",
       "    .dataframe tbody tr th:only-of-type {\n",
       "        vertical-align: middle;\n",
       "    }\n",
       "\n",
       "    .dataframe tbody tr th {\n",
       "        vertical-align: top;\n",
       "    }\n",
       "\n",
       "    .dataframe thead th {\n",
       "        text-align: right;\n",
       "    }\n",
       "</style>\n",
       "<table border=\"1\" class=\"dataframe\">\n",
       "  <thead>\n",
       "    <tr style=\"text-align: right;\">\n",
       "      <th>col_0</th>\n",
       "      <th>0.0</th>\n",
       "      <th>1.0</th>\n",
       "      <th>All</th>\n",
       "    </tr>\n",
       "    <tr>\n",
       "      <th>partner</th>\n",
       "      <th></th>\n",
       "      <th></th>\n",
       "      <th></th>\n",
       "    </tr>\n",
       "  </thead>\n",
       "  <tbody>\n",
       "    <tr>\n",
       "      <th>0.0</th>\n",
       "      <td>454</td>\n",
       "      <td>51</td>\n",
       "      <td>505</td>\n",
       "    </tr>\n",
       "    <tr>\n",
       "      <th>1.0</th>\n",
       "      <td>151</td>\n",
       "      <td>159</td>\n",
       "      <td>310</td>\n",
       "    </tr>\n",
       "    <tr>\n",
       "      <th>All</th>\n",
       "      <td>605</td>\n",
       "      <td>210</td>\n",
       "      <td>815</td>\n",
       "    </tr>\n",
       "  </tbody>\n",
       "</table>\n",
       "</div>"
      ],
      "text/plain": [
       "col_0    0.0  1.0  All\n",
       "partner               \n",
       "0.0      454   51  505\n",
       "1.0      151  159  310\n",
       "All      605  210  815"
      ]
     },
     "metadata": {},
     "output_type": "display_data"
    }
   ],
   "source": [
    "# Accuracy tables.\n",
    "table_train = pd.crosstab(y_train, predict_train, margins=True)\n",
    "display(table_train.head())\n",
    "table_test = pd.crosstab(y_test, predict_test, margins=True)\n",
    "display(table_test.head())"
   ]
  },
  {
   "cell_type": "code",
   "execution_count": 120,
   "metadata": {},
   "outputs": [
    {
     "name": "stdout",
     "output_type": "stream",
     "text": [
      "Training set accuracy:\n",
      "Percent Type I errors: 0.04650845608292417\n",
      "Percent Type II errors: 0.17607746863066012\n",
      "\n",
      "Test set accuracy:\n",
      "Percent Type I errors: 0.06257668711656442\n",
      "Percent Type II errors: 0.18527607361963191\n"
     ]
    }
   ],
   "source": [
    "train_tI_errors = table_train.loc[0.0,1.0] / table_train.loc['All','All']\n",
    "train_tII_errors = table_train.loc[1.0,0.0] / table_train.loc['All','All']\n",
    "\n",
    "test_tI_errors = table_test.loc[0.0,1.0]/table_test.loc['All','All']\n",
    "test_tII_errors = table_test.loc[1.0,0.0]/table_test.loc['All','All']\n",
    "\n",
    "print((\n",
    "    'Training set accuracy:\\n'\n",
    "    'Percent Type I errors: {}\\n'\n",
    "    'Percent Type II errors: {}\\n\\n'\n",
    "    'Test set accuracy:\\n'\n",
    "    'Percent Type I errors: {}\\n'\n",
    "    'Percent Type II errors: {}'\n",
    ").format(train_tI_errors, train_tII_errors, test_tI_errors, test_tII_errors))\n"
   ]
  },
  {
   "cell_type": "code",
   "execution_count": 121,
   "metadata": {},
   "outputs": [
    {
     "data": {
      "image/png": "[encoded data removed]",
      "text/plain": [
       "<Figure size 1080x360 with 1 Axes>"
      ]
     },
     "metadata": {},
     "output_type": "display_data"
    }
   ],
   "source": [
    "feature_importance = clf.feature_importances_\n",
    "\n",
    "# Make importances relative to max importance.\n",
    "feature_importance = 100.0 * (feature_importance / feature_importance.max())\n",
    "sorted_idx = np.argsort(feature_importance)\n",
    "pos = np.arange(sorted_idx.shape[0]) + .5\n",
    "plt.figure(figsize=[15,5])\n",
    "#plt.subplot(1, 2, 2)\n",
    "plt.barh(pos, feature_importance[sorted_idx], align='center')\n",
    "plt.yticks(pos, X.columns[sorted_idx])\n",
    "plt.xlabel('Relative Importance')\n",
    "plt.title('Variable Importance')\n",
    "plt.show()"
   ]
  },
  {
   "cell_type": "markdown",
   "metadata": {},
   "source": [
    "### DRILL: Improve this gradient boost model\n",
    "\n",
    "While this model is already doing alright, we've seen from the Type I and Type II error rates that there is definitely room for improvement.  Your task is to see how low you can get the error rates to go in the test set, based on your model in the training set.  Strategies you might use include:\n",
    "\n",
    "* Creating new features\n",
    "* Applying more overfitting-prevention strategies like subsampling\n",
    "* More iterations\n",
    "* Trying a different loss function\n",
    "* Changing the structure of the weak learner: Allowing more leaves in the tree, or other modifications\n",
    "\n",
    "Have fun!"
   ]
  },
  {
   "cell_type": "code",
   "execution_count": 122,
   "metadata": {},
   "outputs": [
    {
     "data": {
      "text/html": [
       "<div>\n",
       "<style scoped>\n",
       "    .dataframe tbody tr th:only-of-type {\n",
       "        vertical-align: middle;\n",
       "    }\n",
       "\n",
       "    .dataframe tbody tr th {\n",
       "        vertical-align: top;\n",
       "    }\n",
       "\n",
       "    .dataframe thead th {\n",
       "        text-align: right;\n",
       "    }\n",
       "</style>\n",
       "<table border=\"1\" class=\"dataframe\">\n",
       "  <thead>\n",
       "    <tr style=\"text-align: right;\">\n",
       "      <th></th>\n",
       "      <th>tvtot</th>\n",
       "      <th>ppltrst</th>\n",
       "      <th>pplfair</th>\n",
       "      <th>pplhlp</th>\n",
       "      <th>happy</th>\n",
       "      <th>sclmeet</th>\n",
       "      <th>sclact</th>\n",
       "      <th>gndr</th>\n",
       "      <th>agea</th>\n",
       "      <th>partner</th>\n",
       "    </tr>\n",
       "  </thead>\n",
       "  <tbody>\n",
       "    <tr>\n",
       "      <th>0</th>\n",
       "      <td>3.0</td>\n",
       "      <td>3.0</td>\n",
       "      <td>10.0</td>\n",
       "      <td>5.0</td>\n",
       "      <td>8.0</td>\n",
       "      <td>5.0</td>\n",
       "      <td>4.0</td>\n",
       "      <td>2.0</td>\n",
       "      <td>60.0</td>\n",
       "      <td>1.0</td>\n",
       "    </tr>\n",
       "    <tr>\n",
       "      <th>1</th>\n",
       "      <td>6.0</td>\n",
       "      <td>5.0</td>\n",
       "      <td>7.0</td>\n",
       "      <td>5.0</td>\n",
       "      <td>9.0</td>\n",
       "      <td>3.0</td>\n",
       "      <td>2.0</td>\n",
       "      <td>2.0</td>\n",
       "      <td>59.0</td>\n",
       "      <td>1.0</td>\n",
       "    </tr>\n",
       "  </tbody>\n",
       "</table>\n",
       "</div>"
      ],
      "text/plain": [
       "   tvtot  ppltrst  pplfair  pplhlp  happy  sclmeet  sclact  gndr  agea  \\\n",
       "0    3.0      3.0     10.0     5.0    8.0      5.0     4.0   2.0  60.0   \n",
       "1    6.0      5.0      7.0     5.0    9.0      3.0     2.0   2.0  59.0   \n",
       "\n",
       "   partner  \n",
       "0      1.0  \n",
       "1      1.0  "
      ]
     },
     "execution_count": 122,
     "metadata": {},
     "output_type": "execute_result"
    }
   ],
   "source": [
    "dfn = df.drop(['idno', 'cntry', 'year'], axis=1)\n",
    "dfn.head(2)"
   ]
  },
  {
   "cell_type": "markdown",
   "metadata": {},
   "source": [
    "# Attempt with only the best 5 features listed above"
   ]
  },
  {
   "cell_type": "code",
   "execution_count": 123,
   "metadata": {},
   "outputs": [],
   "source": [
    "params = {'n_estimators': 500,\n",
    "          'max_depth': 2,\n",
    "          'loss': 'deviance'}\n",
    "\n",
    "\n",
    "\n",
    "def train_and_score(X=None, Y=None, testpct=.1):\n",
    "    offset = int(X.shape[0] * (1-testpct))\n",
    "    X_train, y_train = X[:offset], y[:offset]\n",
    "    X_test, y_test = X[offset:], y[offset:]\n",
    "    clf = ensemble.GradientBoostingClassifier(**params)\n",
    "    clf.fit(X_train, y_train)\n",
    "\n",
    "    predict_train = clf.predict(X_train)\n",
    "    predict_test = clf.predict(X_test)\n",
    "\n",
    "    # Accuracy tables.\n",
    "    table_train = pd.crosstab(y_train, predict_train, margins=True)\n",
    "    table_test = pd.crosstab(y_test, predict_test, margins=True)\n",
    "\n",
    "    train_tI_errors = table_train.loc[0.0,1.0] / table_train.loc['All','All']\n",
    "    train_tII_errors = table_train.loc[1.0,0.0] / table_train.loc['All','All']\n",
    "\n",
    "    test_tI_errors = table_test.loc[0.0,1.0]/table_test.loc['All','All']\n",
    "    test_tII_errors = table_test.loc[1.0,0.0]/table_test.loc['All','All']\n",
    "\n",
    "    print((\n",
    "        'Training set accuracy:\\n'\n",
    "        'Percent Type I errors: {}\\n'\n",
    "        'Percent Type II errors: {}\\n\\n'\n",
    "        'Test set accuracy:\\n'\n",
    "        'Percent Type I errors: {}\\n'\n",
    "        'Percent Type II errors: {}'\n",
    "    ).format(train_tI_errors, train_tII_errors, test_tI_errors, test_tII_errors))\n",
    "\n",
    "    "
   ]
  },
  {
   "cell_type": "code",
   "execution_count": 124,
   "metadata": {},
   "outputs": [],
   "source": [
    "features = ['agea', 'happy', 'gndr', 'sclmeet', 'tvtot']\n",
    "X = df[features]\n",
    "Y = df['partner']"
   ]
  },
  {
   "cell_type": "code",
   "execution_count": 125,
   "metadata": {},
   "outputs": [
    {
     "name": "stdout",
     "output_type": "stream",
     "text": [
      "Training set accuracy:\n",
      "Percent Type I errors: 0.04896344789961811\n",
      "Percent Type II errors: 0.1815330060010911\n",
      "\n",
      "Test set accuracy:\n",
      "Percent Type I errors: 0.05766871165644172\n",
      "Percent Type II errors: 0.2\n"
     ]
    }
   ],
   "source": [
    "train_and_score(X,Y)"
   ]
  },
  {
   "cell_type": "code",
   "execution_count": 126,
   "metadata": {},
   "outputs": [
    {
     "name": "stdout",
     "output_type": "stream",
     "text": [
      "Training set accuracy:\n",
      "Percent Type I errors: 0.03879204517554628\n",
      "Percent Type II errors: 0.18119322366805793\n",
      "\n",
      "Test set accuracy:\n",
      "Percent Type I errors: 0.05768286696121748\n",
      "Percent Type II errors: 0.19342169857633776\n"
     ]
    }
   ],
   "source": [
    "train_and_score(X,Y,.5)"
   ]
  },
  {
   "cell_type": "code",
   "execution_count": 127,
   "metadata": {},
   "outputs": [
    {
     "name": "stdout",
     "output_type": "stream",
     "text": [
      "Training set accuracy:\n",
      "Percent Type I errors: 0.03879204517554628\n",
      "Percent Type II errors: 0.18119322366805793\n",
      "\n",
      "Test set accuracy:\n",
      "Percent Type I errors: 0.05768286696121748\n",
      "Percent Type II errors: 0.19342169857633776\n"
     ]
    }
   ],
   "source": [
    "#Not real different. Try with more depth\n",
    "def get_params():\n",
    "    params = {'n_estimators': 500,\n",
    "          'max_depth': 3,\n",
    "          'loss': 'deviance'}\n",
    "    return params\n",
    "\n",
    "train_and_score(X,Y,.5)"
   ]
  },
  {
   "cell_type": "code",
   "execution_count": 128,
   "metadata": {},
   "outputs": [],
   "source": [
    "#not a good idea, let's set that back and try more estimators\n",
    "def get_params():\n",
    "    params = {'n_estimators': 1000,\n",
    "          'max_depth': 2,\n",
    "          'loss': 'deviance'}\n",
    "    return params\n"
   ]
  },
  {
   "cell_type": "code",
   "execution_count": 129,
   "metadata": {},
   "outputs": [
    {
     "name": "stdout",
     "output_type": "stream",
     "text": [
      "Training set accuracy:\n",
      "Percent Type I errors: 0.03879204517554628\n",
      "Percent Type II errors: 0.18119322366805793\n",
      "\n",
      "Test set accuracy:\n",
      "Percent Type I errors: 0.05768286696121748\n",
      "Percent Type II errors: 0.19342169857633776\n"
     ]
    }
   ],
   "source": [
    "train_and_score(X,Y, .5)"
   ]
  },
  {
   "cell_type": "code",
   "execution_count": 130,
   "metadata": {},
   "outputs": [],
   "source": [
    "#With these features, there's not much more info to learn.\n",
    "#Let's see what lasso has to say"
   ]
  },
  {
   "cell_type": "code",
   "execution_count": 131,
   "metadata": {},
   "outputs": [
    {
     "name": "stdout",
     "output_type": "stream",
     "text": [
      "Training set accuracy:\n",
      "Percent Type I errors: 0.03952860299533514\n",
      "Percent Type II errors: 0.17358212619690647\n",
      "\n",
      "Test set accuracy:\n",
      "Percent Type I errors: 0.062346588119784\n",
      "Percent Type II errors: 0.19170348551791852\n"
     ]
    }
   ],
   "source": [
    "from sklearn.linear_model import LogisticRegression\n",
    "\n",
    "X = df.drop(['cntry', 'idno', 'year', 'partner'], axis=1)\n",
    "Y = df['partner'] -1\n",
    "\n",
    "train_and_score(X,Y, .5)"
   ]
  },
  {
   "cell_type": "code",
   "execution_count": 132,
   "metadata": {},
   "outputs": [
    {
     "name": "stdout",
     "output_type": "stream",
     "text": [
      "Just for fun: 0.7202453987730061\n"
     ]
    },
    {
     "name": "stderr",
     "output_type": "stream",
     "text": [
      "c:\\users\\greg\\appdata\\local\\programs\\python\\python37-32\\lib\\site-packages\\sklearn\\linear_model\\logistic.py:432: FutureWarning: Default solver will be changed to 'lbfgs' in 0.22. Specify a solver to silence this warning.\n",
      "  FutureWarning)\n"
     ]
    },
    {
     "data": {
      "text/plain": [
       "array([[ 0.02308615, -0.0266323 ,  0.00819386,  0.03104319, -0.23076077,\n",
       "         0.24779459, -0.00445327,  0.16367796, -0.02916152]])"
      ]
     },
     "metadata": {},
     "output_type": "display_data"
    }
   ],
   "source": [
    "lasso = LogisticRegression(penalty='l1', C=1)\n",
    "\n",
    "offset = int(X.shape[0] * (.9))\n",
    "X_train, y_train = X[:offset], y[:offset]\n",
    "X_test, y_test = X[offset:], y[offset:]\n",
    "\n",
    "lassofit = lasso.fit(X_train, y_train)\n",
    "print(\"Just for fun:\", lassofit.score(X_test, y_test))\n",
    "\n",
    "\n",
    "display(lassofit.coef_)"
   ]
  },
  {
   "cell_type": "code",
   "execution_count": 133,
   "metadata": {},
   "outputs": [],
   "source": [
    "#Lasso didn't remove any. \n",
    "#Instead, let's set up a loop. Each pass fits and scores a model, then removes the least important feature until the dataframe\n",
    "#only has one column left\n",
    "from sklearn.model_selection import train_test_split"
   ]
  },
  {
   "cell_type": "code",
   "execution_count": 134,
   "metadata": {},
   "outputs": [
    {
     "name": "stdout",
     "output_type": "stream",
     "text": [
      "Features:  ['tvtot', 'ppltrst', 'pplfair', 'pplhlp', 'happy', 'sclmeet', 'sclact', 'gndr', 'agea']\n",
      "Percent Type I errors: 0.051320193380438826\n",
      "Percent Type II errors: 0.2026775753068055\n",
      "\n",
      "Features:  ['tvtot', 'pplfair', 'pplhlp', 'happy', 'sclmeet', 'sclact', 'gndr', 'agea']\n",
      "Percent Type I errors: 0.05764224618817404\n",
      "Percent Type II errors: 0.1885459278542209\n",
      "\n",
      "Features:  ['tvtot', 'pplfair', 'pplhlp', 'happy', 'sclmeet', 'gndr', 'agea']\n",
      "Percent Type I errors: 0.05355150613611008\n",
      "Percent Type II errors: 0.19003346969133506\n",
      "\n",
      "Features:  ['tvtot', 'pplfair', 'happy', 'sclmeet', 'gndr', 'agea']\n",
      "Percent Type I errors: 0.06284864261807363\n",
      "Percent Type II errors: 0.1911491260691707\n",
      "\n",
      "Features:  ['tvtot', 'happy', 'sclmeet', 'gndr', 'agea']\n",
      "Percent Type I errors: 0.0572703607288955\n",
      "Percent Type II errors: 0.1911491260691707\n",
      "\n",
      "Features:  ['happy', 'sclmeet', 'gndr', 'agea']\n",
      "Percent Type I errors: 0.05280773521755299\n",
      "Percent Type II errors: 0.189289698772778\n",
      "\n",
      "Features:  ['happy', 'sclmeet', 'agea']\n",
      "Percent Type I errors: 0.056154704351059875\n",
      "Percent Type II errors: 0.19709929341762736\n",
      "\n",
      "Features:  ['happy', 'agea']\n",
      "Percent Type I errors: 0.04834510970621049\n",
      "Percent Type II errors: 0.20007437709185572\n",
      "\n",
      "Features:  ['agea']\n",
      "Percent Type I errors: 0.046113796950539236\n",
      "Percent Type II errors: 0.21457791000371884\n",
      "\n"
     ]
    }
   ],
   "source": [
    "Y = df['partner'] -1\n",
    "it = df.drop(['cntry', 'idno', 'year', 'partner'], axis=1)\n",
    "while len(it.columns) >= 1:\n",
    "    X_train, X_test, y_train, y_test = train_test_split(it, Y, test_size=0.33)\n",
    "    clf = ensemble.GradientBoostingClassifier(**params)\n",
    "    clf.fit(X_train, y_train)\n",
    "    predict_test = clf.predict(X_test)\n",
    "    table_test = pd.crosstab(y_test, predict_test, margins=True)\n",
    "    test_tI_errors = table_test.loc[0.0,1.0]/table_test.loc['All','All']\n",
    "    test_tII_errors = table_test.loc[1.0,0.0]/table_test.loc['All','All']\n",
    "    print(\"Features: \" , [x for x in it.columns])\n",
    "    print((\n",
    "        'Percent Type I errors: {}\\n'\n",
    "        'Percent Type II errors: {}\\n'\n",
    "    ).format(test_tI_errors, test_tII_errors))\n",
    "    importances = list(clf.feature_importances_)\n",
    "    dropcol = importances.index(min(importances))\n",
    "    it = it.drop(it.columns[dropcol], axis=1)\n",
    "    \n",
    "    \n",
    "    \n",
    "    "
   ]
  },
  {
   "cell_type": "code",
   "execution_count": 135,
   "metadata": {},
   "outputs": [
    {
     "name": "stdout",
     "output_type": "stream",
     "text": [
      "Features:  ['tvtot', 'ppltrst', 'pplfair', 'pplhlp', 'happy', 'sclmeet', 'sclact', 'gndr', 'agea']\n",
      "Percent Type I errors: 0.10821866865005578\n",
      "Percent Type II errors: 0.18073633320937152\n",
      "\n",
      "Features:  ['tvtot', 'ppltrst', 'pplfair', 'pplhlp', 'happy', 'sclmeet', 'sclact', 'agea']\n",
      "Percent Type I errors: 0.11082186686500557\n",
      "Percent Type II errors: 0.1833395314243213\n",
      "\n",
      "Features:  ['tvtot', 'ppltrst', 'pplfair', 'pplhlp', 'happy', 'sclmeet', 'agea']\n",
      "Percent Type I errors: 0.09594644849386388\n",
      "Percent Type II errors: 0.18668650055782818\n",
      "\n",
      "Features:  ['tvtot', 'pplfair', 'pplhlp', 'happy', 'sclmeet', 'agea']\n",
      "Percent Type I errors: 0.09408702119747119\n",
      "Percent Type II errors: 0.17664559315730755\n",
      "\n",
      "Features:  ['tvtot', 'pplhlp', 'happy', 'sclmeet', 'agea']\n",
      "Percent Type I errors: 0.09185570844179992\n",
      "Percent Type II errors: 0.1840833023428784\n",
      "\n",
      "Features:  ['tvtot', 'pplhlp', 'happy', 'agea']\n",
      "Percent Type I errors: 0.08925251022685013\n",
      "Percent Type II errors: 0.185198958720714\n",
      "\n",
      "Features:  ['tvtot', 'happy', 'agea']\n",
      "Percent Type I errors: 0.07251766455931573\n",
      "Percent Type II errors: 0.1956117515805132\n",
      "\n",
      "Features:  ['happy', 'agea']\n",
      "Percent Type I errors: 0.07474897731498699\n",
      "Percent Type II errors: 0.19375232428412048\n",
      "\n",
      "Features:  ['agea']\n",
      "Percent Type I errors: 0.04351059873558944\n",
      "Percent Type II errors: 0.22052807735217553\n",
      "\n"
     ]
    }
   ],
   "source": [
    "#None of the features besides age seem to consistently bring value. Let's try the same thing with a more gradual learning rate\n",
    "params = {'n_estimators': 500,\n",
    "         'max_depth': 3,\n",
    "         'loss': 'deviance',\n",
    "         'learning_rate': .5}\n",
    "\n",
    "Y = df['partner'] -1\n",
    "it = df.drop(['cntry', 'idno', 'year', 'partner'], axis=1)\n",
    "while len(it.columns) >= 1:\n",
    "    X_train, X_test, y_train, y_test = train_test_split(it, Y, test_size=0.33)\n",
    "    clf = ensemble.GradientBoostingClassifier(**params)\n",
    "    clf.fit(X_train, y_train)\n",
    "    predict_test = clf.predict(X_test)\n",
    "    table_test = pd.crosstab(y_test, predict_test, margins=True)\n",
    "    test_tI_errors = table_test.loc[0.0,1.0]/table_test.loc['All','All']\n",
    "    test_tII_errors = table_test.loc[1.0,0.0]/table_test.loc['All','All']\n",
    "    print(\"Features: \" , [x for x in it.columns])\n",
    "    print((\n",
    "        'Percent Type I errors: {}\\n'\n",
    "        'Percent Type II errors: {}\\n'\n",
    "    ).format(test_tI_errors, test_tII_errors))\n",
    "    importances = list(clf.feature_importances_)\n",
    "    dropcol = importances.index(min(importances))\n",
    "    it = it.drop(it.columns[dropcol], axis=1)"
   ]
  },
  {
   "cell_type": "code",
   "execution_count": 136,
   "metadata": {},
   "outputs": [
    {
     "name": "stdout",
     "output_type": "stream",
     "text": [
      "Features:  ['tvtot', 'ppltrst', 'pplfair', 'pplhlp', 'happy', 'sclmeet', 'sclact', 'gndr', 'agea']\n",
      "Percent Type I errors: 0.04165117143919673\n",
      "Percent Type II errors: 0.198214949795463\n",
      "\n",
      "Features:  ['tvtot', 'pplfair', 'pplhlp', 'happy', 'sclmeet', 'sclact', 'gndr', 'agea']\n",
      "Percent Type I errors: 0.03867608776496839\n",
      "Percent Type II errors: 0.20639642989959092\n",
      "\n",
      "Features:  ['tvtot', 'pplfair', 'happy', 'sclmeet', 'sclact', 'gndr', 'agea']\n",
      "Percent Type I errors: 0.054667162513945704\n",
      "Percent Type II errors: 0.17999256229081442\n",
      "\n",
      "Features:  ['tvtot', 'happy', 'sclmeet', 'sclact', 'gndr', 'agea']\n",
      "Percent Type I errors: 0.04871699516548903\n",
      "Percent Type II errors: 0.19598363703979174\n",
      "\n",
      "Features:  ['tvtot', 'happy', 'sclmeet', 'gndr', 'agea']\n",
      "Percent Type I errors: 0.046113796950539236\n",
      "Percent Type II errors: 0.20044626255113426\n",
      "\n",
      "Features:  ['tvtot', 'happy', 'sclmeet', 'agea']\n",
      "Percent Type I errors: 0.05206396429899591\n",
      "Percent Type II errors: 0.20193380438824843\n",
      "\n",
      "Features:  ['happy', 'sclmeet', 'agea']\n",
      "Percent Type I errors: 0.05057642246188174\n",
      "Percent Type II errors: 0.2045370026031982\n",
      "\n",
      "Features:  ['happy', 'agea']\n",
      "Percent Type I errors: 0.06284864261807363\n",
      "Percent Type II errors: 0.20416511714391966\n",
      "\n",
      "Features:  ['agea']\n",
      "Percent Type I errors: 0.04537002603198215\n",
      "Percent Type II errors: 0.20899962811454073\n",
      "\n"
     ]
    }
   ],
   "source": [
    "#age still a winner, but the rest of the column combinations got worse. Le'ts try a lower value than default this time:\n",
    "\n",
    "params = {'n_estimators': 500,\n",
    "         'max_depth': 3,\n",
    "         'loss': 'deviance',\n",
    "         'learning_rate': .01}\n",
    "\n",
    "Y = df['partner'] -1\n",
    "it = df.drop(['cntry', 'idno', 'year', 'partner'], axis=1)\n",
    "while len(it.columns) >= 1:\n",
    "    X_train, X_test, y_train, y_test = train_test_split(it, Y, test_size=0.33)\n",
    "    clf = ensemble.GradientBoostingClassifier(**params)\n",
    "    clf.fit(X_train, y_train)\n",
    "    predict_test = clf.predict(X_test)\n",
    "    table_test = pd.crosstab(y_test, predict_test, margins=True)\n",
    "    test_tI_errors = table_test.loc[0.0,1.0]/table_test.loc['All','All']\n",
    "    test_tII_errors = table_test.loc[1.0,0.0]/table_test.loc['All','All']\n",
    "    print(\"Features: \" , [x for x in it.columns])\n",
    "    print((\n",
    "        'Percent Type I errors: {}\\n'\n",
    "        'Percent Type II errors: {}\\n'\n",
    "    ).format(test_tI_errors, test_tII_errors))\n",
    "    importances = list(clf.feature_importances_)\n",
    "    dropcol = importances.index(min(importances))\n",
    "    it = it.drop(it.columns[dropcol], axis=1)"
   ]
  },
  {
   "cell_type": "code",
   "execution_count": 137,
   "metadata": {},
   "outputs": [
    {
     "name": "stdout",
     "output_type": "stream",
     "text": [
      "Features:  ['tvtot', 'ppltrst', 'pplfair', 'pplhlp', 'happy', 'sclmeet', 'sclact', 'gndr', 'agea']\n",
      "Percent Type I errors: 0.07549274823354407\n",
      "Percent Type II errors: 0.1788769059129788\n",
      "\n",
      "Features:  ['tvtot', 'ppltrst', 'pplfair', 'pplhlp', 'happy', 'sclmeet', 'sclact', 'agea']\n",
      "Percent Type I errors: 0.07400520639642989\n",
      "Percent Type II errors: 0.1833395314243213\n",
      "\n",
      "Features:  ['tvtot', 'ppltrst', 'pplfair', 'pplhlp', 'happy', 'sclmeet', 'agea']\n",
      "Percent Type I errors: 0.08032725920416511\n",
      "Percent Type II errors: 0.1885459278542209\n",
      "\n",
      "Features:  ['tvtot', 'pplfair', 'pplhlp', 'happy', 'sclmeet', 'agea']\n",
      "Percent Type I errors: 0.06396429899590926\n",
      "Percent Type II errors: 0.18482707326143547\n",
      "\n",
      "Features:  ['tvtot', 'pplhlp', 'happy', 'sclmeet', 'agea']\n",
      "Percent Type I errors: 0.07065823726292302\n",
      "Percent Type II errors: 0.17478616586091483\n",
      "\n",
      "Features:  ['pplhlp', 'happy', 'sclmeet', 'agea']\n",
      "Percent Type I errors: 0.06545184083302343\n",
      "Percent Type II errors: 0.18445518780215694\n",
      "\n",
      "Features:  ['pplhlp', 'happy', 'agea']\n",
      "Percent Type I errors: 0.06917069542580885\n",
      "Percent Type II errors: 0.19933060617329862\n",
      "\n",
      "Features:  ['happy', 'agea']\n",
      "Percent Type I errors: 0.06210487169951655\n",
      "Percent Type II errors: 0.19784306433618445\n",
      "\n",
      "Features:  ['agea']\n",
      "Percent Type I errors: 0.04722945332837486\n",
      "Percent Type II errors: 0.2246188174042395\n",
      "\n"
     ]
    }
   ],
   "source": [
    "#Not really better than the default of .1 learning_rate. reset that to default, and do 75% subsampling\n",
    "params = {'n_estimators': 500,\n",
    "         'max_depth': 3,\n",
    "         'loss': 'deviance',\n",
    "         'learning_rate': .1,\n",
    "         'subsample': .75}\n",
    "\n",
    "Y = df['partner'] -1\n",
    "it = df.drop(['cntry', 'idno', 'year', 'partner'], axis=1)\n",
    "while len(it.columns) >= 1:\n",
    "    X_train, X_test, y_train, y_test = train_test_split(it, Y, test_size=0.33)\n",
    "    clf = ensemble.GradientBoostingClassifier(**params)\n",
    "    clf.fit(X_train, y_train)\n",
    "    predict_test = clf.predict(X_test)\n",
    "    table_test = pd.crosstab(y_test, predict_test, margins=True)\n",
    "    test_tI_errors = table_test.loc[0.0,1.0]/table_test.loc['All','All']\n",
    "    test_tII_errors = table_test.loc[1.0,0.0]/table_test.loc['All','All']\n",
    "    print(\"Features: \" , [x for x in it.columns])\n",
    "    print((\n",
    "        'Percent Type I errors: {}\\n'\n",
    "        'Percent Type II errors: {}\\n'\n",
    "    ).format(test_tI_errors, test_tII_errors))\n",
    "    importances = list(clf.feature_importances_)\n",
    "    dropcol = importances.index(min(importances))\n",
    "    it = it.drop(it.columns[dropcol], axis=1)"
   ]
  },
  {
   "cell_type": "code",
   "execution_count": 138,
   "metadata": {},
   "outputs": [
    {
     "name": "stdout",
     "output_type": "stream",
     "text": [
      "Features:  ['tvtot', 'ppltrst', 'pplfair', 'pplhlp', 'happy', 'sclmeet', 'sclact', 'gndr', 'agea']\n",
      "Percent Type I errors: 0.0758646336928226\n",
      "Percent Type II errors: 0.1904053551506136\n",
      "\n",
      "Features:  ['tvtot', 'ppltrst', 'pplfair', 'pplhlp', 'happy', 'sclmeet', 'sclact', 'agea']\n",
      "Percent Type I errors: 0.07363332093715136\n",
      "Percent Type II errors: 0.18705838601710673\n",
      "\n",
      "Features:  ['tvtot', 'ppltrst', 'pplfair', 'pplhlp', 'happy', 'sclmeet', 'agea']\n",
      "Percent Type I errors: 0.07326143547787281\n",
      "Percent Type II errors: 0.18817404239494237\n",
      "\n",
      "Features:  ['tvtot', 'pplfair', 'pplhlp', 'happy', 'sclmeet', 'agea']\n",
      "Percent Type I errors: 0.07400520639642989\n",
      "Percent Type II errors: 0.1840833023428784\n",
      "\n",
      "Features:  ['tvtot', 'pplfair', 'pplhlp', 'happy', 'agea']\n",
      "Percent Type I errors: 0.06545184083302343\n",
      "Percent Type II errors: 0.20416511714391966\n",
      "\n",
      "Features:  ['pplfair', 'pplhlp', 'happy', 'agea']\n",
      "Percent Type I errors: 0.06582372629230197\n",
      "Percent Type II errors: 0.19226478244700632\n",
      "\n",
      "Features:  ['pplhlp', 'happy', 'agea']\n",
      "Percent Type I errors: 0.055782818891781334\n",
      "Percent Type II errors: 0.21197471178876906\n",
      "\n",
      "Features:  ['happy', 'agea']\n",
      "Percent Type I errors: 0.06917069542580885\n",
      "Percent Type II errors: 0.189289698772778\n",
      "\n",
      "Features:  ['agea']\n",
      "Percent Type I errors: 0.04202305689847527\n",
      "Percent Type II errors: 0.20639642989959092\n",
      "\n"
     ]
    }
   ],
   "source": [
    "#50% subsampling?\n",
    "params = {'n_estimators': 500,\n",
    "         'max_depth': 3,\n",
    "         'loss': 'deviance',\n",
    "         'learning_rate': .1,\n",
    "         'subsample': .5}\n",
    "\n",
    "Y = df['partner'] -1\n",
    "it = df.drop(['cntry', 'idno', 'year', 'partner'], axis=1)\n",
    "while len(it.columns) >= 1:\n",
    "    X_train, X_test, y_train, y_test = train_test_split(it, Y, test_size=0.33)\n",
    "    clf = ensemble.GradientBoostingClassifier(**params)\n",
    "    clf.fit(X_train, y_train)\n",
    "    predict_test = clf.predict(X_test)\n",
    "    table_test = pd.crosstab(y_test, predict_test, margins=True)\n",
    "    test_tI_errors = table_test.loc[0.0,1.0]/table_test.loc['All','All']\n",
    "    test_tII_errors = table_test.loc[1.0,0.0]/table_test.loc['All','All']\n",
    "    print(\"Features: \" , [x for x in it.columns])\n",
    "    print((\n",
    "        'Percent Type I errors: {}\\n'\n",
    "        'Percent Type II errors: {}\\n'\n",
    "    ).format(test_tI_errors, test_tII_errors))\n",
    "    importances = list(clf.feature_importances_)\n",
    "    dropcol = importances.index(min(importances))\n",
    "    it = it.drop(it.columns[dropcol], axis=1)"
   ]
  },
  {
   "cell_type": "code",
   "execution_count": 139,
   "metadata": {},
   "outputs": [
    {
     "name": "stdout",
     "output_type": "stream",
     "text": [
      "Features:  ['tvtot', 'ppltrst', 'pplfair', 'pplhlp', 'happy', 'sclmeet', 'sclact', 'gndr', 'agea']\n",
      "Percent Type I errors: 0.04685756786909632\n",
      "Percent Type II errors: 0.19263666790628486\n",
      "\n",
      "Features:  ['tvtot', 'pplfair', 'pplhlp', 'happy', 'sclmeet', 'sclact', 'gndr', 'agea']\n",
      "Percent Type I errors: 0.044626255113425065\n",
      "Percent Type II errors: 0.19375232428412048\n",
      "\n",
      "Features:  ['tvtot', 'pplhlp', 'happy', 'sclmeet', 'sclact', 'gndr', 'agea']\n",
      "Percent Type I errors: 0.039791744142804016\n",
      "Percent Type II errors: 0.2123465972480476\n",
      "\n",
      "Features:  ['tvtot', 'happy', 'sclmeet', 'sclact', 'gndr', 'agea']\n",
      "Percent Type I errors: 0.05057642246188174\n",
      "Percent Type II errors: 0.19970249163257717\n",
      "\n",
      "Features:  ['tvtot', 'happy', 'sclmeet', 'gndr', 'agea']\n",
      "Percent Type I errors: 0.04537002603198215\n",
      "Percent Type II errors: 0.20490888806247676\n",
      "\n",
      "Features:  ['happy', 'sclmeet', 'gndr', 'agea']\n",
      "Percent Type I errors: 0.04276682781703235\n",
      "Percent Type II errors: 0.20379323168464114\n",
      "\n",
      "Features:  ['happy', 'gndr', 'agea']\n",
      "Percent Type I errors: 0.056526589810338417\n",
      "Percent Type II errors: 0.19412420974339903\n",
      "\n",
      "Features:  ['happy', 'agea']\n",
      "Percent Type I errors: 0.04797322424693194\n",
      "Percent Type II errors: 0.21011528449237635\n",
      "\n",
      "Features:  ['agea']\n",
      "Percent Type I errors: 0.04351059873558944\n",
      "Percent Type II errors: 0.20639642989959092\n",
      "\n"
     ]
    }
   ],
   "source": [
    "#different criterion?\n",
    "params = {'n_estimators': 500,\n",
    "         'max_depth': 3,\n",
    "         'loss': 'deviance',\n",
    "         'learning_rate': .01,\n",
    "         'criterion': 'mse'}\n",
    "\n",
    "Y = df['partner'] -1\n",
    "it = df.drop(['cntry', 'idno', 'year', 'partner'], axis=1)\n",
    "while len(it.columns) >= 1:\n",
    "    X_train, X_test, y_train, y_test = train_test_split(it, Y, test_size=0.33)\n",
    "    clf = ensemble.GradientBoostingClassifier(**params)\n",
    "    clf.fit(X_train, y_train)\n",
    "    predict_test = clf.predict(X_test)\n",
    "    table_test = pd.crosstab(y_test, predict_test, margins=True)\n",
    "    test_tI_errors = table_test.loc[0.0,1.0]/table_test.loc['All','All']\n",
    "    test_tII_errors = table_test.loc[1.0,0.0]/table_test.loc['All','All']\n",
    "    print(\"Features: \" , [x for x in it.columns])\n",
    "    print((\n",
    "        'Percent Type I errors: {}\\n'\n",
    "        'Percent Type II errors: {}\\n'\n",
    "    ).format(test_tI_errors, test_tII_errors))\n",
    "    importances = list(clf.feature_importances_)\n",
    "    dropcol = importances.index(min(importances))\n",
    "    it = it.drop(it.columns[dropcol], axis=1)"
   ]
  },
  {
   "cell_type": "code",
   "execution_count": null,
   "metadata": {},
   "outputs": [],
   "source": []
  },
  {
   "cell_type": "code",
   "execution_count": null,
   "metadata": {},
   "outputs": [],
   "source": []
  }
 ],
 "metadata": {
  "kernelspec": {
   "display_name": "Python 3",
   "language": "python",
   "name": "python3"
  },
  "language_info": {
   "codemirror_mode": {
    "name": "ipython",
    "version": 3
   },
   "file_extension": ".py",
   "mimetype": "text/x-python",
   "name": "python",
   "nbconvert_exporter": "python",
   "pygments_lexer": "ipython3",
   "version": "3.7.0"
  }
 },
 "nbformat": 4,
 "nbformat_minor": 2
}

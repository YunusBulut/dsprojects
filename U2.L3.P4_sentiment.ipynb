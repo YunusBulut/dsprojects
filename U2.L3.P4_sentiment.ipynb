{
 "cells": [
  {
   "cell_type": "code",
   "execution_count": 2,
   "metadata": {},
   "outputs": [],
   "source": [
    "%matplotlib inline\n",
    "import numpy as np\n",
    "import pandas as pd\n",
    "import scipy\n",
    "import sklearn\n",
    "import matplotlib.pyplot as plt\n",
    "import seaborn as sns\n",
    "from sklearn.naive_bayes import BernoulliNB\n",
    "from sklearn.model_selection import cross_val_score\n",
    "from sklearn.model_selection import train_test_split\n",
    "from sklearn.metrics import confusion_matrix\n",
    "import collections as col"
   ]
  },
  {
   "cell_type": "markdown",
   "metadata": {},
   "source": [
    "'From Group to Individual Labels using Deep Features', Kotzias et. al,. KDD 2015\n",
    "\n",
    "Score is either 1 (for positive) or 0 (for negative)"
   ]
  },
  {
   "cell_type": "code",
   "execution_count": 4,
   "metadata": {},
   "outputs": [
    {
     "data": {
      "text/html": [
       "<div>\n",
       "<style scoped>\n",
       "    .dataframe tbody tr th:only-of-type {\n",
       "        vertical-align: middle;\n",
       "    }\n",
       "\n",
       "    .dataframe tbody tr th {\n",
       "        vertical-align: top;\n",
       "    }\n",
       "\n",
       "    .dataframe thead th {\n",
       "        text-align: right;\n",
       "    }\n",
       "</style>\n",
       "<table border=\"1\" class=\"dataframe\">\n",
       "  <thead>\n",
       "    <tr style=\"text-align: right;\">\n",
       "      <th></th>\n",
       "      <th>rev</th>\n",
       "      <th>positive</th>\n",
       "    </tr>\n",
       "  </thead>\n",
       "  <tbody>\n",
       "    <tr>\n",
       "      <th>0</th>\n",
       "      <td>So there is no way for me to plug it in here in the US unless I go by a converter.</td>\n",
       "      <td>0</td>\n",
       "    </tr>\n",
       "    <tr>\n",
       "      <th>3</th>\n",
       "      <td>Tied to charger for conversations lasting more than 45 minutes.MAJOR PROBLEMS!!</td>\n",
       "      <td>0</td>\n",
       "    </tr>\n",
       "    <tr>\n",
       "      <th>5</th>\n",
       "      <td>I have to jiggle the plug to get it to line up right to get decent volume.</td>\n",
       "      <td>0</td>\n",
       "    </tr>\n",
       "    <tr>\n",
       "      <th>6</th>\n",
       "      <td>If you have several dozen or several hundred contacts, then imagine the fun of sending each of them one by one.</td>\n",
       "      <td>0</td>\n",
       "    </tr>\n",
       "    <tr>\n",
       "      <th>8</th>\n",
       "      <td>Needless to say, I wasted my money.</td>\n",
       "      <td>0</td>\n",
       "    </tr>\n",
       "  </tbody>\n",
       "</table>\n",
       "</div>"
      ],
      "text/plain": [
       "                                                                                                               rev  \\\n",
       "0  So there is no way for me to plug it in here in the US unless I go by a converter.                                \n",
       "3  Tied to charger for conversations lasting more than 45 minutes.MAJOR PROBLEMS!!                                   \n",
       "5  I have to jiggle the plug to get it to line up right to get decent volume.                                        \n",
       "6  If you have several dozen or several hundred contacts, then imagine the fun of sending each of them one by one.   \n",
       "8  Needless to say, I wasted my money.                                                                               \n",
       "\n",
       "   positive  \n",
       "0  0         \n",
       "3  0         \n",
       "5  0         \n",
       "6  0         \n",
       "8  0         "
      ]
     },
     "execution_count": 4,
     "metadata": {},
     "output_type": "execute_result"
    }
   ],
   "source": [
    "df = pd.read_csv('amazon_cells_labelled.txt',delimiter=\"\\t\", names=['rev','positive'])\n",
    "pd.set_option('display.max_colwidth', -1)\n",
    "df[df.positive==0].head(5)"
   ]
  },
  {
   "cell_type": "markdown",
   "metadata": {},
   "source": [
    "To choose features, I used the below to identify the most common words and experimented with different combinations. "
   ]
  },
  {
   "cell_type": "code",
   "execution_count": 7,
   "metadata": {
    "scrolled": true
   },
   "outputs": [
    {
     "data": {
      "text/plain": [
       "[('the', 414),\n",
       " ('and', 307),\n",
       " ('I', 303),\n",
       " ('is', 238),\n",
       " ('a', 207),\n",
       " ('to', 195),\n",
       " ('it', 176),\n",
       " ('this', 143),\n",
       " ('my', 130),\n",
       " ('of', 117),\n",
       " ('for', 114),\n",
       " ('phone', 110),\n",
       " ('with', 106),\n",
       " ('The', 97),\n",
       " ('not', 91),\n",
       " ('was', 87),\n",
       " ('on', 86),\n",
       " ('in', 84),\n",
       " ('very', 80),\n",
       " ('have', 72),\n",
       " ('that', 71),\n",
       " ('It', 61),\n",
       " ('good', 53),\n",
       " ('This', 53),\n",
       " ('you', 52),\n",
       " ('had', 43),\n",
       " ('as', 42),\n",
       " ('but', 41),\n",
       " ('are', 40),\n",
       " ('has', 33),\n",
       " ('great', 33),\n",
       " ('one', 32),\n",
       " ('sound', 32),\n",
       " ('quality', 32),\n",
       " ('from', 32),\n",
       " ('your', 32),\n",
       " ('so', 32),\n",
       " ('it.', 31),\n",
       " ('Great', 30),\n",
       " ('would', 30),\n",
       " ('like', 30),\n",
       " ('headset', 29),\n",
       " ('phone.', 28),\n",
       " (\"I've\", 28),\n",
       " ('works', 28),\n",
       " ('than', 27),\n",
       " ('battery', 27),\n",
       " ('all', 27),\n",
       " ('use', 27),\n",
       " ('be', 25),\n",
       " ('recommend', 24),\n",
       " ('product', 24),\n",
       " ('-', 24),\n",
       " ('or', 23),\n",
       " ('at', 23),\n",
       " ('work', 23),\n",
       " ('get', 22),\n",
       " ('really', 22),\n",
       " ('up', 21),\n",
       " ('when', 20),\n",
       " ('out', 20),\n",
       " ('product.', 20),\n",
       " ('only', 20),\n",
       " (\"I'm\", 20),\n",
       " ('am', 20),\n",
       " ('no', 19),\n",
       " ('me', 19),\n",
       " ('ear', 19),\n",
       " ('any', 19),\n",
       " ('2', 19),\n",
       " ('can', 18),\n",
       " ('well', 18),\n",
       " ('about', 18),\n",
       " ('an', 18),\n",
       " ('great.', 17),\n",
       " ('Very', 17),\n",
       " ('just', 17),\n",
       " ('even', 17),\n",
       " ('after', 17),\n",
       " ('because', 17),\n",
       " (\"don't\", 17),\n",
       " ('if', 17),\n",
       " ('bought', 16),\n",
       " ('does', 16),\n",
       " ('love', 16),\n",
       " ('Works', 15),\n",
       " ('could', 15),\n",
       " ('new', 15),\n",
       " ('best', 15),\n",
       " ('well.', 15),\n",
       " ('Not', 15),\n",
       " ('been', 15),\n",
       " ('worked', 15),\n",
       " ('better', 15),\n",
       " ('also', 15),\n",
       " ('charger', 14),\n",
       " ('then', 14),\n",
       " ('car', 14),\n",
       " ('time', 14),\n",
       " ('case', 14)]"
      ]
     },
     "execution_count": 7,
     "metadata": {},
     "output_type": "execute_result"
    }
   ],
   "source": [
    "#list the most common words\n",
    "col.Counter(\" \".join(df[\"rev\"]).split()).most_common(100)"
   ]
  },
  {
   "cell_type": "markdown",
   "metadata": {},
   "source": [
    "**It's time to revisit your classifier from the previous assignment. Using the evaluation techniques we've covered here, look at your classifier's performance in more detail. Then go back and iterate by engineering new features, removing poor features, or tuning parameters. Repeat this process until you have five different versions of your classifier. Once you've iterated, answer these questions to compare the performance of each:**\n",
    "\n",
    "- Do any of your classifiers seem to overfit?    \n",
    "- Which seem to perform the best? Why?    \n",
    "- Which features seemed to be most impactful to performance?"
   ]
  },
  {
   "cell_type": "markdown",
   "metadata": {},
   "source": [
    "# Trying to predict negative reviews"
   ]
  },
  {
   "cell_type": "code",
   "execution_count": 5,
   "metadata": {},
   "outputs": [
    {
     "data": {
      "image/png": "[encoded data removed]",
      "text/plain": [
       "<Figure size 432x288 with 2 Axes>"
      ]
     },
     "metadata": {},
     "output_type": "display_data"
    }
   ],
   "source": [
    "df = pd.read_csv('amazon_cells_labelled.txt',delimiter=\"\\t\", names=['rev','positive'])\n",
    "dfn = pd.DataFrame(df)\n",
    "\n",
    "key_neg = ['bad', 'not', 'disappointed', 'problems', 'waste', 'cheap']\n",
    "\n",
    "for key in key_neg:\n",
    "    # Note that we add spaces around the key so that we're getting the word,\n",
    "    # not just pattern matching.\n",
    "    dfn[str(key)] = dfn.rev.str.contains(\n",
    "        ' ' + str(key),\n",
    "        case=False\n",
    "    )\n",
    "sns.heatmap(dfn.corr(), vmin=-1, cmap=\"PiYG\")\n",
    "plt.show()\n",
    "\n",
    "dfn['positive'] = (dfn.positive == 1)"
   ]
  },
  {
   "cell_type": "code",
   "execution_count": 17,
   "metadata": {},
   "outputs": [
    {
     "name": "stdout",
     "output_type": "stream",
     "text": [
      "Number of mislabeled points out of a total 1000 points : 394\n"
     ]
    }
   ],
   "source": [
    "inputn = dfn[key_neg]\n",
    "goaln = dfn['positive']\n",
    "\n",
    "neg = BernoulliNB()\n",
    "\n",
    "neg.fit(inputn, goaln)\n",
    "\n",
    "n_pred = neg.predict(inputn)\n",
    "\n",
    "# Display our results.\n",
    "print(\"Number of mislabeled points out of a total {} points : {}\".format(\n",
    "    inputn.shape[0],\n",
    "    (goaln != n_pred).sum()\n",
    "))\n",
    "\n"
   ]
  },
  {
   "cell_type": "markdown",
   "metadata": {},
   "source": [
    "# Evaluate the negative classifier"
   ]
  },
  {
   "cell_type": "code",
   "execution_count": 21,
   "metadata": {},
   "outputs": [
    {
     "data": {
      "text/plain": [
       "array([[120, 380],\n",
       "       [ 14, 486]], dtype=int64)"
      ]
     },
     "execution_count": 21,
     "metadata": {},
     "output_type": "execute_result"
    }
   ],
   "source": [
    "confusion_matrix(goalp,n_pred)"
   ]
  },
  {
   "cell_type": "code",
   "execution_count": 22,
   "metadata": {},
   "outputs": [
    {
     "name": "stdout",
     "output_type": "stream",
     "text": [
      "['True Negative', 'False Positive']\n",
      "['False Negative', 'True Positive']\n"
     ]
    }
   ],
   "source": [
    "confusion_convention = [\n",
    "    [\"True Negative\", \"False Positive\"],\n",
    "    [\"False Negative\", \"True Positive\"]\n",
    "]\n",
    "\n",
    "for x in confusion_convention:\n",
    "    print(x)"
   ]
  },
  {
   "cell_type": "code",
   "execution_count": 28,
   "metadata": {},
   "outputs": [
    {
     "name": "stdout",
     "output_type": "stream",
     "text": [
      "Sensitivity: Accuracy predicting negative reviews: 0.972\n",
      "Specificity: Accuracy predicting positive reviews: 0.24\n"
     ]
    }
   ],
   "source": [
    "trupos = ((goalp == n_pred) & (n_pred==1)).sum()\n",
    "falpos = ((goalp != n_pred) & (n_pred==1)).sum()\n",
    "truneg = ((goalp == n_pred) & (n_pred==0)).sum()\n",
    "falneg = ((goalp != n_pred) & (n_pred==0)).sum()\n",
    "\n",
    "sensitivity = trupos/(trupos+falneg)\n",
    "specificity = truneg/(truneg+falpos)\n",
    "\n",
    "\n",
    "print(\"Sensitivity: Accuracy predicting negative reviews: \" + str(sensitivity))\n",
    "print(\"Specificity: Accuracy predicting positive reviews: \" + str(specificity))"
   ]
  },
  {
   "cell_type": "code",
   "execution_count": 25,
   "metadata": {},
   "outputs": [
    {
     "data": {
      "text/plain": [
       "array([0.62 , 0.605, 0.58 , 0.595, 0.605])"
      ]
     },
     "execution_count": 25,
     "metadata": {},
     "output_type": "execute_result"
    }
   ],
   "source": [
    "cross_val_score(neg, inputn, goaln, cv=5)"
   ]
  },
  {
   "cell_type": "markdown",
   "metadata": {},
   "source": [
    "# Trying to predict positive reviews"
   ]
  },
  {
   "cell_type": "code",
   "execution_count": 9,
   "metadata": {},
   "outputs": [
    {
     "data": {
      "image/png": "[encoded data removed]",
      "text/plain": [
       "<Figure size 432x288 with 2 Axes>"
      ]
     },
     "metadata": {},
     "output_type": "display_data"
    }
   ],
   "source": [
    "df = pd.read_csv('amazon_cells_labelled.txt',delimiter=\"\\t\", names=['rev','positive'])\n",
    "dfp = pd.DataFrame(df)\n",
    "\n",
    "key_pos = ['great', 'quality', 'good', 'happy', 'love', 'like', 'best', 'loved', 'impressed', 'recommend', 'Works']\n",
    "\n",
    "for key in key_pos:\n",
    "    # Note that we add spaces around the key so that we're getting the word,\n",
    "    # not just pattern matching.\n",
    "    dfp[str(key)] = dfp.rev.str.contains(\n",
    "        ' ' + str(key) + ' ',\n",
    "        case=False\n",
    "    )\n",
    "sns.heatmap(dfp.corr(), vmin=-1, cmap=\"PiYG\")\n",
    "plt.show()\n",
    "\n",
    "dfp['positive'] = (dfp.positive == 1)"
   ]
  },
  {
   "cell_type": "code",
   "execution_count": 18,
   "metadata": {},
   "outputs": [
    {
     "name": "stdout",
     "output_type": "stream",
     "text": [
      "Number of mislabeled points out of a total 1000 points : 358\n"
     ]
    }
   ],
   "source": [
    "inputp = dfp[key_pos]\n",
    "goalp = dfp['positive']\n",
    "\n",
    "pos = BernoulliNB()\n",
    "\n",
    "pos.fit(inputp, goalp)\n",
    "\n",
    "p_pred = pos.predict(inputp)\n",
    "\n",
    "# Display our results.\n",
    "print(\"Number of mislabeled points out of a total {} points : {}\".format(\n",
    "    inputp.shape[0],\n",
    "    (goalp != p_pred).sum()\n",
    "))\n",
    "\n"
   ]
  },
  {
   "cell_type": "markdown",
   "metadata": {},
   "source": [
    "# Evaluate the positive classifier"
   ]
  },
  {
   "cell_type": "code",
   "execution_count": 19,
   "metadata": {},
   "outputs": [
    {
     "data": {
      "text/plain": [
       "array([[457,  43],\n",
       "       [315, 185]], dtype=int64)"
      ]
     },
     "execution_count": 19,
     "metadata": {},
     "output_type": "execute_result"
    }
   ],
   "source": [
    "\n",
    "confusion_matrix(goalp,p_pred)"
   ]
  },
  {
   "cell_type": "code",
   "execution_count": 13,
   "metadata": {},
   "outputs": [
    {
     "name": "stdout",
     "output_type": "stream",
     "text": [
      "['True Negative', 'False Positive']\n",
      "['False Negative', 'True Positive']\n"
     ]
    }
   ],
   "source": [
    "confusion_convention = [\n",
    "    [\"True Negative\", \"False Positive\"],\n",
    "    [\"False Negative\", \"True Positive\"]\n",
    "]\n",
    "\n",
    "for x in confusion_convention:\n",
    "    print(x)"
   ]
  },
  {
   "cell_type": "code",
   "execution_count": 27,
   "metadata": {},
   "outputs": [
    {
     "name": "stdout",
     "output_type": "stream",
     "text": [
      "Sensitivity: Accuracy predicting positive reviews: 0.37\n",
      "Specificity: Accuracy predicting negative reviews: 0.914\n"
     ]
    }
   ],
   "source": [
    "trupos = ((goalp == p_pred) & (p_pred==1)).sum()\n",
    "falpos = ((goalp != p_pred) & (p_pred==1)).sum()\n",
    "truneg = ((goalp == p_pred) & (p_pred==0)).sum()\n",
    "falneg = ((goalp != p_pred) & (p_pred==0)).sum()\n",
    "\n",
    "\n",
    "sensitivity = trupos/(trupos+falneg)\n",
    "specificity = truneg/(truneg+falpos)\n",
    "\n",
    "print(\"Sensitivity: Accuracy predicting positive reviews: \" + str(sensitivity))\n",
    "print(\"Specificity: Accuracy predicting negative reviews: \" + str(specificity))"
   ]
  },
  {
   "cell_type": "code",
   "execution_count": 24,
   "metadata": {},
   "outputs": [
    {
     "data": {
      "text/plain": [
       "array([0.645, 0.645, 0.635, 0.63 , 0.625])"
      ]
     },
     "execution_count": 24,
     "metadata": {},
     "output_type": "execute_result"
    }
   ],
   "source": [
    "cross_val_score(pos, inputp, goalp, cv=5)"
   ]
  },
  {
   "cell_type": "markdown",
   "metadata": {},
   "source": [
    "Both are similarly accurate (60-65%) overall, but for different reasons. The classifier that seeks to identify negative reviews is sensitive buy not specific, and vice versa for the classifier that seeks to identify positive reviews. \n",
    "\n",
    "# Next attempt: identify words that are common in only negative reviews, build out additional keywords to attempt to reduce false positives in the negative classifier"
   ]
  },
  {
   "cell_type": "code",
   "execution_count": 52,
   "metadata": {
    "scrolled": true
   },
   "outputs": [
    {
     "data": {
      "text/plain": [
       "[('the', 222),\n",
       " ('I', 157),\n",
       " ('and', 121),\n",
       " ('to', 110),\n",
       " ('a', 107),\n",
       " ('it', 105),\n",
       " ('is', 99),\n",
       " ('not', 78),\n",
       " ('this', 75),\n",
       " ('of', 68),\n",
       " ('my', 64),\n",
       " ('phone', 57),\n",
       " ('for', 52),\n",
       " ('The', 52),\n",
       " ('was', 52),\n",
       " ('in', 51),\n",
       " ('with', 44),\n",
       " ('on', 43),\n",
       " ('that', 42),\n",
       " ('have', 35),\n",
       " ('you', 35),\n",
       " ('had', 26),\n",
       " ('It', 24),\n",
       " ('but', 23),\n",
       " ('very', 22),\n",
       " ('as', 22),\n",
       " ('This', 21),\n",
       " ('are', 19),\n",
       " ('your', 18),\n",
       " ('it.', 18),\n",
       " ('from', 16),\n",
       " ('only', 16),\n",
       " ('or', 15),\n",
       " ('at', 15),\n",
       " ('would', 15),\n",
       " ('out', 15),\n",
       " ('battery', 15),\n",
       " ('work', 15),\n",
       " ('be', 15),\n",
       " ('me', 14),\n",
       " ('get', 14),\n",
       " ('Not', 14),\n",
       " ('use', 14),\n",
       " ('all', 13),\n",
       " ('after', 13),\n",
       " ('good', 13),\n",
       " ('when', 13),\n",
       " ('if', 13),\n",
       " ('then', 12),\n",
       " ('sound', 12),\n",
       " ('could', 12),\n",
       " ('phone.', 12),\n",
       " ('like', 12),\n",
       " ('too', 12),\n",
       " (\"don't\", 12),\n",
       " ('If', 11),\n",
       " ('one', 11),\n",
       " ('waste', 11),\n",
       " ('first', 11),\n",
       " ('2', 11),\n",
       " ('product', 11),\n",
       " ('about', 11),\n",
       " (\"I'm\", 11),\n",
       " ('so', 11),\n",
       " ('quality', 11),\n",
       " (\"Don't\", 11),\n",
       " ('will', 11),\n",
       " ('no', 10),\n",
       " ('up', 10),\n",
       " ('hear', 10),\n",
       " ('time', 10),\n",
       " ('buy', 10),\n",
       " ('enough', 10),\n",
       " ('-', 10),\n",
       " ('thing', 10),\n",
       " ('does', 10),\n",
       " ('really', 10),\n",
       " ('same', 10),\n",
       " ('has', 10),\n",
       " ('charger', 9),\n",
       " ('than', 9),\n",
       " ('NOT', 9),\n",
       " ('product.', 9),\n",
       " (\"doesn't\", 9),\n",
       " ('few', 9),\n",
       " ('ear.', 9),\n",
       " ('an', 9),\n",
       " ('did', 9),\n",
       " (\"I've\", 9),\n",
       " ('still', 9),\n",
       " ('because', 9),\n",
       " ('ever', 9),\n",
       " ('there', 8),\n",
       " ('plug', 8),\n",
       " ('more', 8),\n",
       " ('ear', 8),\n",
       " ('bought', 8),\n",
       " ('which', 8),\n",
       " ('worked', 8),\n",
       " ('am', 8)]"
      ]
     },
     "execution_count": 52,
     "metadata": {},
     "output_type": "execute_result"
    }
   ],
   "source": [
    "\n",
    "#Find most common words in positive reviews\n",
    "col.Counter(\" \".join(df[df.positive==False][\"rev\"]).split()).most_common(100)"
   ]
  },
  {
   "cell_type": "code",
   "execution_count": 122,
   "metadata": {},
   "outputs": [
    {
     "data": {
      "image/png": "[encoded data removed]",
      "text/plain": [
       "<Figure size 864x576 with 2 Axes>"
      ]
     },
     "metadata": {},
     "output_type": "display_data"
    }
   ],
   "source": [
    "df = pd.read_csv('amazon_cells_labelled.txt',delimiter=\"\\t\", names=['rev','positive'])\n",
    "dfn = pd.DataFrame(df)\n",
    "\n",
    "key_neg = ['bad', 'don\\'t', 'disappointed', 'waste',  'time', 'enough', 'doesn\\'t',  'not',\n",
    "          'only', 'few', 'still', 'out', 'work', 'ever']\n",
    "\n",
    "for key in key_neg:\n",
    "    # Note that we add spaces around the key so that we're getting the word,\n",
    "    # not just pattern matching.\n",
    "    dfn[str(key)] = dfn.rev.str.contains(\n",
    "        ' ' + str(key) + ' ',\n",
    "        case=False\n",
    "    )\n",
    "\n",
    "plt.figure(figsize=(12,8))\n",
    "sns.heatmap(dfn.corr(), vmin=-1, cmap=\"PiYG\")\n",
    "plt.show()"
   ]
  },
  {
   "cell_type": "code",
   "execution_count": 71,
   "metadata": {},
   "outputs": [
    {
     "name": "stdout",
     "output_type": "stream",
     "text": [
      "Number of mislabeled points out of a total 1000 points : 372\n"
     ]
    }
   ],
   "source": [
    "dfn['positive'] = (dfn.positive == 1)\n",
    "\n",
    "inputn = dfn[key_neg]\n",
    "goaln = dfn['positive']\n",
    "\n",
    "neg = BernoulliNB()\n",
    "\n",
    "neg.fit(inputn, goaln)\n",
    "\n",
    "n_pred = neg.predict(inputn)\n",
    "\n",
    "# Display our results.\n",
    "print(\"Number of mislabeled points out of a total {} points : {}\".format(\n",
    "    inputn.shape[0],\n",
    "    (goaln != n_pred).sum()\n",
    "))"
   ]
  },
  {
   "cell_type": "code",
   "execution_count": 72,
   "metadata": {},
   "outputs": [
    {
     "name": "stdout",
     "output_type": "stream",
     "text": [
      "['True Negative', 'False Positive']\n",
      "['False Negative', 'True Positive']\n"
     ]
    },
    {
     "data": {
      "text/plain": [
       "array([[177, 323],\n",
       "       [ 49, 451]], dtype=int64)"
      ]
     },
     "execution_count": 72,
     "metadata": {},
     "output_type": "execute_result"
    }
   ],
   "source": [
    "# Evaluate the negative classifier\n",
    "confusion_convention = [\n",
    "    [\"True Negative\", \"False Positive\"],\n",
    "    [\"False Negative\", \"True Positive\"]\n",
    "]\n",
    "\n",
    "for x in confusion_convention:\n",
    "    print(x)\n",
    "\n",
    "confusion_matrix(goalp,n_pred)"
   ]
  },
  {
   "cell_type": "code",
   "execution_count": 73,
   "metadata": {},
   "outputs": [
    {
     "name": "stdout",
     "output_type": "stream",
     "text": [
      "Sensitivity: Accuracy predicting negative reviews: 0.902\n",
      "Specificity: Accuracy predicting positive reviews: 0.354\n"
     ]
    },
    {
     "data": {
      "text/plain": [
       "array([0.635, 0.62 , 0.59 , 0.62 , 0.645])"
      ]
     },
     "execution_count": 73,
     "metadata": {},
     "output_type": "execute_result"
    }
   ],
   "source": [
    "\n",
    "trupos = ((goalp == n_pred) & (n_pred==1)).sum()\n",
    "falpos = ((goalp != n_pred) & (n_pred==1)).sum()\n",
    "truneg = ((goalp == n_pred) & (n_pred==0)).sum()\n",
    "falneg = ((goalp != n_pred) & (n_pred==0)).sum()\n",
    "\n",
    "sensitivity = trupos/(trupos+falneg)\n",
    "specificity = truneg/(truneg+falpos)\n",
    "\n",
    "\n",
    "print(\"Sensitivity: Accuracy predicting negative reviews: \" + str(sensitivity))\n",
    "print(\"Specificity: Accuracy predicting positive reviews: \" + str(specificity))\n",
    "\n",
    "cross_val_score(neg, inputn, goaln, cv=5)"
   ]
  },
  {
   "cell_type": "code",
   "execution_count": 74,
   "metadata": {},
   "outputs": [],
   "source": [
    "#Slightly better but still labelling a LOT of positive reviews as negative for some reason.\n",
    "#Let's try the same exercise with the positive classifier."
   ]
  },
  {
   "cell_type": "markdown",
   "metadata": {},
   "source": [
    "# Next attempt: identify words that are common in only positive reviews, build out additional keywords to attempt to reduce false negatives in the positive classifier\n"
   ]
  },
  {
   "cell_type": "code",
   "execution_count": 75,
   "metadata": {
    "scrolled": true
   },
   "outputs": [
    {
     "data": {
      "text/plain": [
       "[('the', 192),\n",
       " ('and', 186),\n",
       " ('I', 146),\n",
       " ('is', 139),\n",
       " ('a', 100),\n",
       " ('to', 85),\n",
       " ('it', 71),\n",
       " ('this', 68),\n",
       " ('my', 66),\n",
       " ('for', 62),\n",
       " ('with', 62),\n",
       " ('very', 58),\n",
       " ('phone', 53),\n",
       " ('of', 49),\n",
       " ('The', 45),\n",
       " ('on', 43),\n",
       " ('good', 40),\n",
       " ('have', 37),\n",
       " ('It', 37),\n",
       " ('was', 35),\n",
       " ('in', 33),\n",
       " ('This', 32),\n",
       " ('great', 32),\n",
       " ('Great', 30),\n",
       " ('that', 29),\n",
       " ('works', 28),\n",
       " ('has', 23),\n",
       " ('headset', 22),\n",
       " ('are', 21),\n",
       " ('quality', 21),\n",
       " ('one', 21),\n",
       " ('so', 21),\n",
       " ('sound', 20),\n",
       " ('as', 20),\n",
       " (\"I've\", 19),\n",
       " ('recommend', 18),\n",
       " ('like', 18),\n",
       " ('than', 18),\n",
       " ('but', 18),\n",
       " ('you', 17),\n",
       " ('had', 17),\n",
       " ('from', 16),\n",
       " ('phone.', 16),\n",
       " ('love', 16),\n",
       " ('great.', 15),\n",
       " ('Works', 15),\n",
       " ('best', 15),\n",
       " ('well', 15),\n",
       " ('would', 15),\n",
       " ('any', 14),\n",
       " ('all', 14),\n",
       " ('-', 14),\n",
       " ('your', 14),\n",
       " ('Good', 13),\n",
       " ('use', 13),\n",
       " ('product', 13),\n",
       " ('not', 13),\n",
       " ('it.', 13),\n",
       " ('Excellent', 12),\n",
       " ('battery', 12),\n",
       " ('well.', 12),\n",
       " ('been', 12),\n",
       " ('happy', 12),\n",
       " ('really', 12),\n",
       " ('am', 12),\n",
       " ('can', 11),\n",
       " ('up', 11),\n",
       " ('even', 11),\n",
       " ('product.', 11),\n",
       " ('ear', 11),\n",
       " ('Very', 10),\n",
       " ('nice', 10),\n",
       " ('price', 10),\n",
       " ('easy', 10),\n",
       " ('be', 10),\n",
       " ('Nice', 9),\n",
       " ('just', 9),\n",
       " ('comfortable', 9),\n",
       " ('fits', 9),\n",
       " ('price.', 9),\n",
       " ('got', 9),\n",
       " (\"I'm\", 9),\n",
       " ('no', 9),\n",
       " ('working', 9),\n",
       " ('these', 9),\n",
       " ('an', 9),\n",
       " ('bought', 8),\n",
       " ('new', 8),\n",
       " (\"it's\", 8),\n",
       " ('pretty', 8),\n",
       " ('because', 8),\n",
       " ('or', 8),\n",
       " ('better', 8),\n",
       " ('2', 8),\n",
       " ('also', 8),\n",
       " ('reception', 8),\n",
       " ('cell', 8),\n",
       " ('work', 8),\n",
       " ('get', 8),\n",
       " ('Battery', 8)]"
      ]
     },
     "execution_count": 75,
     "metadata": {},
     "output_type": "execute_result"
    }
   ],
   "source": [
    "#Find most common words in positive reviews\n",
    "col.Counter(\" \".join(df[df.positive==True][\"rev\"]).split()).most_common(100)"
   ]
  },
  {
   "cell_type": "code",
   "execution_count": 87,
   "metadata": {},
   "outputs": [
    {
     "data": {
      "image/png": "[encoded data removed]",
      "text/plain": [
       "<Figure size 864x576 with 2 Axes>"
      ]
     },
     "metadata": {},
     "output_type": "display_data"
    }
   ],
   "source": [
    "df = pd.read_csv('amazon_cells_labelled.txt',delimiter=\"\\t\", names=['rev','positive'])\n",
    "dfp = pd.DataFrame(df)\n",
    "\n",
    "key_pos = ['great', 'quality', 'good', 'happy', 'love', 'like', 'best', 'loved', 'impressed', 'recommend', 'works', 'very',\n",
    "           'well', 'excellent', 'really', 'easy', 'comfortable', 'price', 'better']\n",
    "\n",
    "for key in key_pos:\n",
    "    # Note that we add spaces around the key so that we're getting the word,\n",
    "    # not just pattern matching.\n",
    "    dfp[str(key)] = dfp.rev.str.contains(\n",
    "        ' ' + str(key) + ' ',\n",
    "        case=False\n",
    "    )\n",
    "dfp['positive'] = (dfp.positive == 1)\n",
    "plt.figure(figsize=(12,8))    \n",
    "sns.heatmap(dfp.corr(), vmin=-1, cmap=\"PiYG\")\n",
    "plt.show()\n",
    "\n"
   ]
  },
  {
   "cell_type": "code",
   "execution_count": 80,
   "metadata": {},
   "outputs": [
    {
     "name": "stdout",
     "output_type": "stream",
     "text": [
      "Number of mislabeled points out of a total 1000 points : 325\n"
     ]
    }
   ],
   "source": [
    "inputp = dfp[key_pos]\n",
    "goalp = dfp['positive']\n",
    "\n",
    "pos = BernoulliNB()\n",
    "\n",
    "pos.fit(inputp, goalp)\n",
    "\n",
    "p_pred = pos.predict(inputp)\n",
    "\n",
    "# Display our results.\n",
    "print(\"Number of mislabeled points out of a total {} points : {}\".format(\n",
    "    inputp.shape[0],\n",
    "    (goalp != p_pred).sum()\n",
    "))\n",
    "\n"
   ]
  },
  {
   "cell_type": "code",
   "execution_count": 82,
   "metadata": {},
   "outputs": [
    {
     "name": "stdout",
     "output_type": "stream",
     "text": [
      "['True Negative', 'False Positive']\n",
      "['False Negative', 'True Positive']\n"
     ]
    },
    {
     "data": {
      "text/plain": [
       "array([[443,  57],\n",
       "       [268, 232]], dtype=int64)"
      ]
     },
     "execution_count": 82,
     "metadata": {},
     "output_type": "execute_result"
    }
   ],
   "source": [
    "confusion_convention = [\n",
    "    [\"True Negative\", \"False Positive\"],\n",
    "    [\"False Negative\", \"True Positive\"]\n",
    "]\n",
    "\n",
    "for x in confusion_convention:\n",
    "    print(x)\n",
    "confusion_matrix(goalp,p_pred)"
   ]
  },
  {
   "cell_type": "code",
   "execution_count": 83,
   "metadata": {},
   "outputs": [
    {
     "name": "stdout",
     "output_type": "stream",
     "text": [
      "Sensitivity: Accuracy predicting positive reviews: 0.464\n",
      "Specificity: Accuracy predicting negative reviews: 0.886\n"
     ]
    }
   ],
   "source": [
    "trupos = ((goalp == p_pred) & (p_pred==1)).sum()\n",
    "falpos = ((goalp != p_pred) & (p_pred==1)).sum()\n",
    "truneg = ((goalp == p_pred) & (p_pred==0)).sum()\n",
    "falneg = ((goalp != p_pred) & (p_pred==0)).sum()\n",
    "\n",
    "\n",
    "sensitivity = trupos/(trupos+falneg)\n",
    "specificity = truneg/(truneg+falpos)\n",
    "\n",
    "print(\"Sensitivity: Accuracy predicting positive reviews: \" + str(sensitivity))\n",
    "print(\"Specificity: Accuracy predicting negative reviews: \" + str(specificity))"
   ]
  },
  {
   "cell_type": "code",
   "execution_count": 86,
   "metadata": {},
   "outputs": [
    {
     "data": {
      "text/plain": [
       "array([0.65 , 0.675, 0.655, 0.695, 0.665])"
      ]
     },
     "execution_count": 86,
     "metadata": {},
     "output_type": "execute_result"
    }
   ],
   "source": [
    "cross_val_score(pos, inputp, goalp, cv=5)"
   ]
  },
  {
   "cell_type": "markdown",
   "metadata": {},
   "source": [
    "Still not ideal, but this is the best I've done at 68% accuracy and I'm still not at 50% sensitivity.\n",
    "\n",
    "# Next attempt: remove some of the features that are not as strongly correlated with the positive column, add length of review and exclamation points"
   ]
  },
  {
   "cell_type": "code",
   "execution_count": null,
   "metadata": {},
   "outputs": [],
   "source": []
  },
  {
   "cell_type": "code",
   "execution_count": 112,
   "metadata": {
    "scrolled": false
   },
   "outputs": [
    {
     "data": {
      "image/png": "[encoded data removed]",
      "text/plain": [
       "<Figure size 864x576 with 2 Axes>"
      ]
     },
     "metadata": {},
     "output_type": "display_data"
    }
   ],
   "source": [
    "df = pd.read_csv('amazon_cells_labelled.txt',delimiter=\"\\t\", names=['rev','positive'])\n",
    "dfp = pd.DataFrame(df)\n",
    "\n",
    "key_pos = ['great',  'good', 'happy', 'love', 'best', 'loved', 'recommend', 'works', 'very',\n",
    "           'well', 'excellent', 'really', 'easy', 'comfortable', 'price']\n",
    "keypun_pos = ['!']\n",
    "\n",
    "for key in key_pos:\n",
    "    # Note that we add spaces around the key so that we're getting the word,\n",
    "    # not just pattern matching.\n",
    "    dfp[str(key)] = dfp.rev.str.contains(\n",
    "        ' ' + str(key) + ' ',\n",
    "        case=False\n",
    "    )\n",
    "for keypun in keypun_pos:\n",
    "    dfp[str(keypun)] = dfp.rev.str.contains(str(keypun), case=False, regex=False)\n",
    "\n",
    "dfp['revlength'] = dfp['rev'].str.len()\n",
    "dfp['positive'] = (dfp.positive == 1)\n",
    "plt.figure(figsize=(12,8))    \n",
    "sns.heatmap(dfp.corr(), vmin=-1, cmap=\"PiYG\")\n",
    "plt.show()"
   ]
  },
  {
   "cell_type": "code",
   "execution_count": 117,
   "metadata": {},
   "outputs": [
    {
     "name": "stdout",
     "output_type": "stream",
     "text": [
      "Number of mislabeled points out of a total 1000 points : 311\n"
     ]
    }
   ],
   "source": [
    "inputp = dfp[key_pos + keypun_pos]\n",
    "goalp = dfp['positive']\n",
    "\n",
    "pos = BernoulliNB()\n",
    "\n",
    "pos.fit(inputp, goalp)\n",
    "\n",
    "p_pred = pos.predict(inputp)\n",
    "\n",
    "# Display our results.\n",
    "print(\"Number of mislabeled points out of a total {} points : {}\".format(\n",
    "    inputp.shape[0],\n",
    "    (goalp != p_pred).sum()\n",
    "))\n",
    "\n"
   ]
  },
  {
   "cell_type": "code",
   "execution_count": 118,
   "metadata": {},
   "outputs": [
    {
     "name": "stdout",
     "output_type": "stream",
     "text": [
      "['True Negative', 'False Positive']\n",
      "['False Negative', 'True Positive']\n"
     ]
    },
    {
     "data": {
      "text/plain": [
       "array([[420,  80],\n",
       "       [231, 269]], dtype=int64)"
      ]
     },
     "execution_count": 118,
     "metadata": {},
     "output_type": "execute_result"
    }
   ],
   "source": [
    "confusion_convention = [\n",
    "    [\"True Negative\", \"False Positive\"],\n",
    "    [\"False Negative\", \"True Positive\"]\n",
    "]\n",
    "\n",
    "for x in confusion_convention:\n",
    "    print(x)\n",
    "confusion_matrix(goalp,p_pred)"
   ]
  },
  {
   "cell_type": "code",
   "execution_count": 119,
   "metadata": {},
   "outputs": [
    {
     "name": "stdout",
     "output_type": "stream",
     "text": [
      "Sensitivity: Accuracy predicting positive reviews: 0.538\n",
      "Specificity: Accuracy predicting negative reviews: 0.84\n"
     ]
    }
   ],
   "source": [
    "trupos = ((goalp == p_pred) & (p_pred==1)).sum()\n",
    "falpos = ((goalp != p_pred) & (p_pred==1)).sum()\n",
    "truneg = ((goalp == p_pred) & (p_pred==0)).sum()\n",
    "falneg = ((goalp != p_pred) & (p_pred==0)).sum()\n",
    "\n",
    "\n",
    "sensitivity = trupos/(trupos+falneg)\n",
    "specificity = truneg/(truneg+falpos)\n",
    "\n",
    "print(\"Sensitivity: Accuracy predicting positive reviews: \" + str(sensitivity))\n",
    "print(\"Specificity: Accuracy predicting negative reviews: \" + str(specificity))"
   ]
  },
  {
   "cell_type": "code",
   "execution_count": 121,
   "metadata": {},
   "outputs": [
    {
     "data": {
      "text/plain": [
       "array([0.715, 0.685, 0.685, 0.7  , 0.66 ])"
      ]
     },
     "execution_count": 121,
     "metadata": {},
     "output_type": "execute_result"
    }
   ],
   "source": [
    "cross_val_score(pos, inputp, goalp, cv=5)"
   ]
  },
  {
   "cell_type": "markdown",
   "metadata": {},
   "source": [
    "# Final attempt takes the strongest correlations from each types and combines them into one"
   ]
  },
  {
   "cell_type": "code",
   "execution_count": 123,
   "metadata": {
    "scrolled": false
   },
   "outputs": [
    {
     "data": {
      "image/png": "[encoded data removed]",
      "text/plain": [
       "<Figure size 864x576 with 2 Axes>"
      ]
     },
     "metadata": {},
     "output_type": "display_data"
    }
   ],
   "source": [
    "df = pd.read_csv('amazon_cells_labelled.txt',delimiter=\"\\t\", names=['rev','positive'])\n",
    "dfc = pd.DataFrame(df)\n",
    "\n",
    "key_pos = ['great',  'good', 'happy', 'love', 'best', 'recommend', 'works', 'very',\n",
    "           'well', 'excellent', 'easy', 'comfortable', 'price', 'bad', 'don\\'t', 'disappointed', 'waste',  'time', 'enough', \n",
    "           'not', 'only']\n",
    "keypun_pos = ['!']\n",
    "\n",
    "for key in key_pos:\n",
    "    # Note that we add spaces around the key so that we're getting the word,\n",
    "    # not just pattern matching.\n",
    "    dfp[str(key)] = dfp.rev.str.contains(\n",
    "        ' ' + str(key) + ' ',\n",
    "        case=False\n",
    "    )\n",
    "for keypun in keypun_pos:\n",
    "    dfp[str(keypun)] = dfp.rev.str.contains(str(keypun), case=False, regex=False)\n",
    "\n",
    "dfp['revlength'] = dfp['rev'].str.len()\n",
    "dfp['positive'] = (dfp.positive == 1)\n",
    "plt.figure(figsize=(12,8))    \n",
    "sns.heatmap(dfp.corr(), vmin=-1, cmap=\"PiYG\")\n",
    "plt.show()"
   ]
  },
  {
   "cell_type": "code",
   "execution_count": 124,
   "metadata": {},
   "outputs": [
    {
     "name": "stdout",
     "output_type": "stream",
     "text": [
      "Number of mislabeled points out of a total 1000 points : 288\n"
     ]
    }
   ],
   "source": [
    "inputp = dfp[key_pos + keypun_pos]\n",
    "goalp = dfp['positive']\n",
    "\n",
    "pos = BernoulliNB()\n",
    "\n",
    "pos.fit(inputp, goalp)\n",
    "\n",
    "p_pred = pos.predict(inputp)\n",
    "\n",
    "# Display our results.\n",
    "print(\"Number of mislabeled points out of a total {} points : {}\".format(\n",
    "    inputp.shape[0],\n",
    "    (goalp != p_pred).sum()\n",
    "))\n",
    "\n"
   ]
  },
  {
   "cell_type": "code",
   "execution_count": 125,
   "metadata": {},
   "outputs": [
    {
     "name": "stdout",
     "output_type": "stream",
     "text": [
      "['True Negative', 'False Positive']\n",
      "['False Negative', 'True Positive']\n"
     ]
    },
    {
     "data": {
      "text/plain": [
       "array([[448,  52],\n",
       "       [236, 264]], dtype=int64)"
      ]
     },
     "execution_count": 125,
     "metadata": {},
     "output_type": "execute_result"
    }
   ],
   "source": [
    "confusion_convention = [\n",
    "    [\"True Negative\", \"False Positive\"],\n",
    "    [\"False Negative\", \"True Positive\"]\n",
    "]\n",
    "\n",
    "for x in confusion_convention:\n",
    "    print(x)\n",
    "confusion_matrix(goalp,p_pred)"
   ]
  },
  {
   "cell_type": "code",
   "execution_count": 126,
   "metadata": {},
   "outputs": [
    {
     "name": "stdout",
     "output_type": "stream",
     "text": [
      "Sensitivity: Accuracy predicting positive reviews: 0.528\n",
      "Specificity: Accuracy predicting negative reviews: 0.896\n"
     ]
    }
   ],
   "source": [
    "trupos = ((goalp == p_pred) & (p_pred==1)).sum()\n",
    "falpos = ((goalp != p_pred) & (p_pred==1)).sum()\n",
    "truneg = ((goalp == p_pred) & (p_pred==0)).sum()\n",
    "falneg = ((goalp != p_pred) & (p_pred==0)).sum()\n",
    "\n",
    "\n",
    "sensitivity = trupos/(trupos+falneg)\n",
    "specificity = truneg/(truneg+falpos)\n",
    "\n",
    "print(\"Sensitivity: Accuracy predicting positive reviews: \" + str(sensitivity))\n",
    "print(\"Specificity: Accuracy predicting negative reviews: \" + str(specificity))"
   ]
  },
  {
   "cell_type": "code",
   "execution_count": 127,
   "metadata": {},
   "outputs": [
    {
     "data": {
      "text/plain": [
       "array([0.745, 0.695, 0.695, 0.72 , 0.675])"
      ]
     },
     "execution_count": 127,
     "metadata": {},
     "output_type": "execute_result"
    }
   ],
   "source": [
    "cross_val_score(pos, inputp, goalp, cv=5)"
   ]
  },
  {
   "cell_type": "markdown",
   "metadata": {},
   "source": [
    "# Summary of attempts"
   ]
  },
  {
   "cell_type": "markdown",
   "metadata": {},
   "source": [
    "**Negative attempt 1:**\n",
    "- features = ['bad', 'not', 'disappointed', 'problems', 'waste', 'cheap']\n",
    "- Accuracy: 606/1000 = 61% \n",
    "- Sensitivity: 97%\n",
    "- Specificity: 24%\n",
    "- accuracy over 5 folds: [.62, .605, .58, .595, .605]\n",
    "\n",
    "\n",
    "**Positive attempt 1:** \n",
    "\n",
    "- features = ['great', 'quality', 'good', 'happy', 'love', 'like', 'best', 'loved', 'impressed', 'recommend', 'Works']\n",
    "- Accuracy: 642/1000 = 64% \n",
    "- Sensitivity: 37%\n",
    "- Specificity: 91%\n",
    "- accuracy over 5 folds: [0.645, 0.645, 0.635, 0.63 , 0.625]\n",
    "\n",
    "**Negative attempt 2:**\n",
    "\n",
    "- features = ['bad', 'don\\'t', 'disappointed', 'waste',  'time', 'enough', 'doesn\\'t',  'not','only', 'few', 'still', 'out', 'work', 'ever']\n",
    "- Accuracy: 628/1000 = 63% \n",
    "- Sensitivity: 90%\n",
    "- Specificity: 35%\n",
    "- accuracy over 5 folds: [0.635, 0.62 , 0.59 , 0.62 , 0.645]\n",
    "\n",
    "**Positive attempt 2:**\n",
    "\n",
    "- features = ['great', 'quality', 'good', 'happy', 'love', 'like', 'best', 'loved', 'impressed', 'recommend', 'works', 'very','well', 'excellent', 'really', 'easy', 'comfortable', 'price', 'better']\n",
    "- Accuracy: 675/1000 = 68% \n",
    "- Sensitivity: 46%\n",
    "- Specificity: 89%\n",
    "- accuracy over 5 folds: [0.65 , 0.675, 0.655, 0.695, 0.665]\n",
    "\n",
    "**Positive attempt 3:**\n",
    "\n",
    "- features = ['great',  'good', 'happy', 'love', 'best', 'loved', 'recommend', 'works', 'very','well', 'excellent', 'really', 'easy', 'comfortable', 'price', '!', dfp.revlength (review length)]\n",
    "- Accuracy: 689/1000 = 69% \n",
    "- Sensitivity: 54%\n",
    "- Specificity: 84%\n",
    "- accuracy over 5 folds: [0.65 , 0.675, 0.655, 0.695, 0.665]\n",
    "\n",
    "**Merged Attempt:**\n",
    "\n",
    "- features: ['great',  'good', 'happy', 'love', 'best', 'recommend', 'works', 'very','well', 'excellent', 'easy', 'comfortable', 'price', 'bad', 'don\\'t', 'disappointed', 'waste',  'time', 'enough','not', 'only', '!', dfp.revlength (review length)]\n",
    "- Accuracy: 712/1000 = 71% \n",
    "- Sensitivity: 53%\n",
    "- Specificity: 90%\n",
    "- accuracy over 5 folds: [0.745, 0.695, 0.695, 0.72 , 0.675]\n",
    "  "
   ]
  },
  {
   "cell_type": "markdown",
   "metadata": {},
   "source": [
    "# Recap\n",
    "The merged attempt seems to overfit a bit more than the others, which makes sense given how many features it's using. \n",
    "Positive attempt #3 seems to be the best at a glance, achieving decent accuracy wihtout overfitting too badly. The most impactful features seem to be the simplest sentiment words: good, great, not, bad. "
   ]
  },
  {
   "cell_type": "code",
   "execution_count": null,
   "metadata": {},
   "outputs": [],
   "source": []
  }
 ],
 "metadata": {
  "kernelspec": {
   "display_name": "Python 3",
   "language": "python",
   "name": "python3"
  },
  "language_info": {
   "codemirror_mode": {
    "name": "ipython",
    "version": 3
   },
   "file_extension": ".py",
   "mimetype": "text/x-python",
   "name": "python",
   "nbconvert_exporter": "python",
   "pygments_lexer": "ipython3",
   "version": "3.7.0"
  }
 },
 "nbformat": 4,
 "nbformat_minor": 2
}

{
 "cells": [
  {
   "cell_type": "code",
   "execution_count": 47,
   "metadata": {},
   "outputs": [],
   "source": [
    "%matplotlib inline\n",
    "import numpy as np\n",
    "import pandas as pd\n",
    "import scipy\n",
    "import sklearn\n",
    "import matplotlib.pyplot as plt\n",
    "import seaborn as sns\n",
    "from sklearn.naive_bayes import BernoulliNB\n",
    "import collections as col"
   ]
  },
  {
   "cell_type": "markdown",
   "metadata": {},
   "source": [
    "'From Group to Individual Labels using Deep Features', Kotzias et. al,. KDD 2015\n",
    "\n",
    "Score is either 1 (for positive) or 0 (for negative)"
   ]
  },
  {
   "cell_type": "code",
   "execution_count": 48,
   "metadata": {},
   "outputs": [
    {
     "data": {
      "text/html": [
       "<div>\n",
       "<style scoped>\n",
       "    .dataframe tbody tr th:only-of-type {\n",
       "        vertical-align: middle;\n",
       "    }\n",
       "\n",
       "    .dataframe tbody tr th {\n",
       "        vertical-align: top;\n",
       "    }\n",
       "\n",
       "    .dataframe thead th {\n",
       "        text-align: right;\n",
       "    }\n",
       "</style>\n",
       "<table border=\"1\" class=\"dataframe\">\n",
       "  <thead>\n",
       "    <tr style=\"text-align: right;\">\n",
       "      <th></th>\n",
       "      <th>rev</th>\n",
       "      <th>positive</th>\n",
       "    </tr>\n",
       "  </thead>\n",
       "  <tbody>\n",
       "    <tr>\n",
       "      <th>0</th>\n",
       "      <td>So there is no way for me to plug it in here in the US unless I go by a converter.</td>\n",
       "      <td>0</td>\n",
       "    </tr>\n",
       "    <tr>\n",
       "      <th>3</th>\n",
       "      <td>Tied to charger for conversations lasting more than 45 minutes.MAJOR PROBLEMS!!</td>\n",
       "      <td>0</td>\n",
       "    </tr>\n",
       "    <tr>\n",
       "      <th>5</th>\n",
       "      <td>I have to jiggle the plug to get it to line up right to get decent volume.</td>\n",
       "      <td>0</td>\n",
       "    </tr>\n",
       "    <tr>\n",
       "      <th>6</th>\n",
       "      <td>If you have several dozen or several hundred contacts, then imagine the fun of sending each of them one by one.</td>\n",
       "      <td>0</td>\n",
       "    </tr>\n",
       "    <tr>\n",
       "      <th>8</th>\n",
       "      <td>Needless to say, I wasted my money.</td>\n",
       "      <td>0</td>\n",
       "    </tr>\n",
       "    <tr>\n",
       "      <th>9</th>\n",
       "      <td>What a waste of money and time!.</td>\n",
       "      <td>0</td>\n",
       "    </tr>\n",
       "    <tr>\n",
       "      <th>12</th>\n",
       "      <td>If the two were seperated by a mere 5+ ft I started to notice excessive static and garbled sound from the headset.</td>\n",
       "      <td>0</td>\n",
       "    </tr>\n",
       "    <tr>\n",
       "      <th>14</th>\n",
       "      <td>The design is very odd, as the ear \"clip\" is not very comfortable at all.</td>\n",
       "      <td>0</td>\n",
       "    </tr>\n",
       "    <tr>\n",
       "      <th>16</th>\n",
       "      <td>I advise EVERYONE DO NOT BE FOOLED!</td>\n",
       "      <td>0</td>\n",
       "    </tr>\n",
       "    <tr>\n",
       "      <th>19</th>\n",
       "      <td>It clicks into place in a way that makes you wonder how long that mechanism would last.</td>\n",
       "      <td>0</td>\n",
       "    </tr>\n",
       "    <tr>\n",
       "      <th>20</th>\n",
       "      <td>I went on Motorola's website and followed all directions, but could not get it to pair again.</td>\n",
       "      <td>0</td>\n",
       "    </tr>\n",
       "    <tr>\n",
       "      <th>22</th>\n",
       "      <td>The commercials are the most misleading.</td>\n",
       "      <td>0</td>\n",
       "    </tr>\n",
       "    <tr>\n",
       "      <th>24</th>\n",
       "      <td>I bought it for my mother and she had a problem with the battery.</td>\n",
       "      <td>0</td>\n",
       "    </tr>\n",
       "    <tr>\n",
       "      <th>27</th>\n",
       "      <td>I didn't think that the instructions provided were helpful to me.</td>\n",
       "      <td>0</td>\n",
       "    </tr>\n",
       "    <tr>\n",
       "      <th>28</th>\n",
       "      <td>People couldnt hear me talk and I had to pull out the earphone and talk on the phone.</td>\n",
       "      <td>0</td>\n",
       "    </tr>\n",
       "  </tbody>\n",
       "</table>\n",
       "</div>"
      ],
      "text/plain": [
       "                                                                                                                   rev  \\\n",
       "0   So there is no way for me to plug it in here in the US unless I go by a converter.                                   \n",
       "3   Tied to charger for conversations lasting more than 45 minutes.MAJOR PROBLEMS!!                                      \n",
       "5   I have to jiggle the plug to get it to line up right to get decent volume.                                           \n",
       "6   If you have several dozen or several hundred contacts, then imagine the fun of sending each of them one by one.      \n",
       "8   Needless to say, I wasted my money.                                                                                  \n",
       "9   What a waste of money and time!.                                                                                     \n",
       "12  If the two were seperated by a mere 5+ ft I started to notice excessive static and garbled sound from the headset.   \n",
       "14  The design is very odd, as the ear \"clip\" is not very comfortable at all.                                            \n",
       "16  I advise EVERYONE DO NOT BE FOOLED!                                                                                  \n",
       "19  It clicks into place in a way that makes you wonder how long that mechanism would last.                              \n",
       "20  I went on Motorola's website and followed all directions, but could not get it to pair again.                        \n",
       "22  The commercials are the most misleading.                                                                             \n",
       "24  I bought it for my mother and she had a problem with the battery.                                                    \n",
       "27  I didn't think that the instructions provided were helpful to me.                                                    \n",
       "28  People couldnt hear me talk and I had to pull out the earphone and talk on the phone.                                \n",
       "\n",
       "    positive  \n",
       "0   0         \n",
       "3   0         \n",
       "5   0         \n",
       "6   0         \n",
       "8   0         \n",
       "9   0         \n",
       "12  0         \n",
       "14  0         \n",
       "16  0         \n",
       "19  0         \n",
       "20  0         \n",
       "22  0         \n",
       "24  0         \n",
       "27  0         \n",
       "28  0         "
      ]
     },
     "execution_count": 48,
     "metadata": {},
     "output_type": "execute_result"
    }
   ],
   "source": [
    "df = pd.read_csv('amazon_cells_labelled.txt',delimiter=\"\\t\", names=['rev','positive'])\n",
    "pd.set_option('display.max_colwidth', -1)\n",
    "df[df.positive==0].head(15)"
   ]
  },
  {
   "cell_type": "markdown",
   "metadata": {},
   "source": [
    "# Trying to predict positive reviews"
   ]
  },
  {
   "cell_type": "code",
   "execution_count": 49,
   "metadata": {},
   "outputs": [
    {
     "data": {
      "image/png": "[encoded data removed]",
      "text/plain": [
       "<Figure size 432x288 with 2 Axes>"
      ]
     },
     "metadata": {},
     "output_type": "display_data"
    }
   ],
   "source": [
    "dfp = pd.DataFrame(df)\n",
    "\n",
    "key_pos = ['great', 'quality', 'good', 'happy', 'love', 'like', 'best', 'loved', 'impressed', 'recommend', 'Works']\n",
    "\n",
    "for key in key_pos:\n",
    "    # Note that we add spaces around the key so that we're getting the word,\n",
    "    # not just pattern matching.\n",
    "    dfp[str(key)] = dfp.rev.str.contains(\n",
    "        ' ' + str(key) + ' ',\n",
    "        case=False\n",
    "    )\n",
    "sns.heatmap(dfp.corr(), vmin=-1, cmap=\"PiYG\")\n",
    "plt.show()\n",
    "\n",
    "dfp['positive'] = (dfp.positive == 1)"
   ]
  },
  {
   "cell_type": "code",
   "execution_count": 50,
   "metadata": {},
   "outputs": [
    {
     "name": "stdout",
     "output_type": "stream",
     "text": [
      "Number of mislabeled points out of a total 1000 points : 358\n"
     ]
    }
   ],
   "source": [
    "inputp = dfp[key_pos]\n",
    "goalp = dfp['positive']\n",
    "\n",
    "pos = BernoulliNB()\n",
    "\n",
    "pos.fit(inputp, goalp)\n",
    "\n",
    "y_pred = pos.predict(inputp)\n",
    "\n",
    "# Display our results.\n",
    "print(\"Number of mislabeled points out of a total {} points : {}\".format(\n",
    "    inputp.shape[0],\n",
    "    (goalp != y_pred).sum()\n",
    "))\n",
    "\n"
   ]
  },
  {
   "cell_type": "markdown",
   "metadata": {},
   "source": [
    "# Trying to predict negative reviews"
   ]
  },
  {
   "cell_type": "code",
   "execution_count": 52,
   "metadata": {},
   "outputs": [
    {
     "data": {
      "image/png": "[encoded data removed]",
      "text/plain": [
       "<Figure size 432x288 with 2 Axes>"
      ]
     },
     "metadata": {},
     "output_type": "display_data"
    }
   ],
   "source": [
    "df = pd.read_csv('amazon_cells_labelled.txt',delimiter=\"\\t\", names=['rev','positive'])\n",
    "dfn = pd.DataFrame(df)\n",
    "\n",
    "key_neg = ['bad', 'not', 'disappointed', 'problems', 'waste', 'cheap']\n",
    "\n",
    "for key in key_neg:\n",
    "    # Note that we add spaces around the key so that we're getting the word,\n",
    "    # not just pattern matching.\n",
    "    dfn[str(key)] = dfn.rev.str.contains(\n",
    "        ' ' + str(key),\n",
    "        case=False\n",
    "    )\n",
    "sns.heatmap(dfn.corr(), vmin=-1, cmap=\"PiYG\")\n",
    "plt.show()\n",
    "\n",
    "dfn['positive'] = (dfn.positive == 1)"
   ]
  },
  {
   "cell_type": "code",
   "execution_count": 53,
   "metadata": {},
   "outputs": [
    {
     "name": "stdout",
     "output_type": "stream",
     "text": [
      "Number of mislabeled points out of a total 1000 points : 394\n"
     ]
    }
   ],
   "source": [
    "inputn = dfn[key_neg]\n",
    "goaln = dfn['positive']\n",
    "\n",
    "neg = BernoulliNB()\n",
    "\n",
    "neg.fit(inputn, goaln)\n",
    "\n",
    "y_pred = neg.predict(inputn)\n",
    "\n",
    "# Display our results.\n",
    "print(\"Number of mislabeled points out of a total {} points : {}\".format(\n",
    "    inputn.shape[0],\n",
    "    (goaln != y_pred).sum()\n",
    "))\n",
    "\n"
   ]
  },
  {
   "cell_type": "markdown",
   "metadata": {},
   "source": [
    "To choose features, I used the below to identify the most common words and experimented with different combinations. "
   ]
  },
  {
   "cell_type": "code",
   "execution_count": 54,
   "metadata": {},
   "outputs": [
    {
     "data": {
      "text/plain": [
       "[('the', 414),\n",
       " ('and', 307),\n",
       " ('I', 303),\n",
       " ('is', 238),\n",
       " ('a', 207),\n",
       " ('to', 195),\n",
       " ('it', 176),\n",
       " ('this', 143),\n",
       " ('my', 130),\n",
       " ('of', 117),\n",
       " ('for', 114),\n",
       " ('phone', 110),\n",
       " ('with', 106),\n",
       " ('The', 97),\n",
       " ('not', 91),\n",
       " ('was', 87),\n",
       " ('on', 86),\n",
       " ('in', 84),\n",
       " ('very', 80),\n",
       " ('have', 72),\n",
       " ('that', 71),\n",
       " ('It', 61),\n",
       " ('good', 53),\n",
       " ('This', 53),\n",
       " ('you', 52),\n",
       " ('had', 43),\n",
       " ('as', 42),\n",
       " ('but', 41),\n",
       " ('are', 40),\n",
       " ('has', 33),\n",
       " ('great', 33),\n",
       " ('one', 32),\n",
       " ('sound', 32),\n",
       " ('quality', 32),\n",
       " ('from', 32),\n",
       " ('your', 32),\n",
       " ('so', 32),\n",
       " ('it.', 31),\n",
       " ('Great', 30),\n",
       " ('would', 30),\n",
       " ('like', 30),\n",
       " ('headset', 29),\n",
       " ('phone.', 28),\n",
       " (\"I've\", 28),\n",
       " ('works', 28),\n",
       " ('than', 27),\n",
       " ('battery', 27),\n",
       " ('all', 27),\n",
       " ('use', 27),\n",
       " ('be', 25),\n",
       " ('recommend', 24),\n",
       " ('product', 24),\n",
       " ('-', 24),\n",
       " ('or', 23),\n",
       " ('at', 23),\n",
       " ('work', 23),\n",
       " ('get', 22),\n",
       " ('really', 22),\n",
       " ('up', 21),\n",
       " ('when', 20),\n",
       " ('out', 20),\n",
       " ('product.', 20),\n",
       " ('only', 20),\n",
       " (\"I'm\", 20),\n",
       " ('am', 20),\n",
       " ('no', 19),\n",
       " ('me', 19),\n",
       " ('ear', 19),\n",
       " ('any', 19),\n",
       " ('2', 19),\n",
       " ('can', 18),\n",
       " ('well', 18),\n",
       " ('about', 18),\n",
       " ('an', 18),\n",
       " ('great.', 17),\n",
       " ('Very', 17),\n",
       " ('just', 17),\n",
       " ('even', 17),\n",
       " ('after', 17),\n",
       " ('because', 17),\n",
       " (\"don't\", 17),\n",
       " ('if', 17),\n",
       " ('bought', 16),\n",
       " ('does', 16),\n",
       " ('love', 16),\n",
       " ('Works', 15),\n",
       " ('could', 15),\n",
       " ('new', 15),\n",
       " ('best', 15),\n",
       " ('well.', 15),\n",
       " ('Not', 15),\n",
       " ('been', 15),\n",
       " ('worked', 15),\n",
       " ('better', 15),\n",
       " ('also', 15),\n",
       " ('charger', 14),\n",
       " ('then', 14),\n",
       " ('car', 14),\n",
       " ('time', 14),\n",
       " ('case', 14)]"
      ]
     },
     "execution_count": 54,
     "metadata": {},
     "output_type": "execute_result"
    }
   ],
   "source": [
    "#list the most common words\n",
    "col.Counter(\" \".join(df[\"rev\"]).split()).most_common(100)"
   ]
  },
  {
   "cell_type": "code",
   "execution_count": 55,
   "metadata": {},
   "outputs": [],
   "source": [
    "# The positive model appears more accurate. Let's try it on the Yelp dataset."
   ]
  },
  {
   "cell_type": "code",
   "execution_count": 56,
   "metadata": {},
   "outputs": [
    {
     "data": {
      "text/html": [
       "<div>\n",
       "<style scoped>\n",
       "    .dataframe tbody tr th:only-of-type {\n",
       "        vertical-align: middle;\n",
       "    }\n",
       "\n",
       "    .dataframe tbody tr th {\n",
       "        vertical-align: top;\n",
       "    }\n",
       "\n",
       "    .dataframe thead th {\n",
       "        text-align: right;\n",
       "    }\n",
       "</style>\n",
       "<table border=\"1\" class=\"dataframe\">\n",
       "  <thead>\n",
       "    <tr style=\"text-align: right;\">\n",
       "      <th></th>\n",
       "      <th>rev</th>\n",
       "      <th>positive</th>\n",
       "    </tr>\n",
       "  </thead>\n",
       "  <tbody>\n",
       "    <tr>\n",
       "      <th>0</th>\n",
       "      <td>Wow... Loved this place.</td>\n",
       "      <td>1</td>\n",
       "    </tr>\n",
       "    <tr>\n",
       "      <th>1</th>\n",
       "      <td>Crust is not good.</td>\n",
       "      <td>0</td>\n",
       "    </tr>\n",
       "    <tr>\n",
       "      <th>2</th>\n",
       "      <td>Not tasty and the texture was just nasty.</td>\n",
       "      <td>0</td>\n",
       "    </tr>\n",
       "    <tr>\n",
       "      <th>3</th>\n",
       "      <td>Stopped by during the late May bank holiday off Rick Steve recommendation and loved it.</td>\n",
       "      <td>1</td>\n",
       "    </tr>\n",
       "    <tr>\n",
       "      <th>4</th>\n",
       "      <td>The selection on the menu was great and so were the prices.</td>\n",
       "      <td>1</td>\n",
       "    </tr>\n",
       "  </tbody>\n",
       "</table>\n",
       "</div>"
      ],
      "text/plain": [
       "                                                                                       rev  \\\n",
       "0  Wow... Loved this place.                                                                  \n",
       "1  Crust is not good.                                                                        \n",
       "2  Not tasty and the texture was just nasty.                                                 \n",
       "3  Stopped by during the late May bank holiday off Rick Steve recommendation and loved it.   \n",
       "4  The selection on the menu was great and so were the prices.                               \n",
       "\n",
       "   positive  \n",
       "0  1         \n",
       "1  0         \n",
       "2  0         \n",
       "3  1         \n",
       "4  1         "
      ]
     },
     "execution_count": 56,
     "metadata": {},
     "output_type": "execute_result"
    }
   ],
   "source": [
    "df2 = pd.read_csv('yelp_labelled.txt',delimiter=\"\\t\", names=['rev','positive'])\n",
    "df2.head()"
   ]
  },
  {
   "cell_type": "code",
   "execution_count": 57,
   "metadata": {},
   "outputs": [
    {
     "data": {
      "image/png": "[encoded data removed]",
      "text/plain": [
       "<Figure size 432x288 with 2 Axes>"
      ]
     },
     "metadata": {},
     "output_type": "display_data"
    },
    {
     "name": "stdout",
     "output_type": "stream",
     "text": [
      "Number of mislabeled points out of a total 1000 points : 397\n"
     ]
    }
   ],
   "source": [
    "dfp2 = df2\n",
    "\n",
    "key_pos = ['great', 'quality', 'good', 'happy', 'love', 'like', 'best', 'loved', 'impressed', 'recommend', 'Works']\n",
    "\n",
    "for key in key_pos:\n",
    "    # Note that we add spaces around the key so that we're getting the word,\n",
    "    # not just pattern matching.\n",
    "    dfp2[str(key)] = dfp2.rev.str.contains(\n",
    "        ' ' + str(key) + ' ',\n",
    "        case=False\n",
    "    )\n",
    "sns.heatmap(dfp2.corr(), vmin=-1, cmap=\"PiYG\")\n",
    "plt.show()\n",
    "\n",
    "dfp2['positive'] = (dfp2.positive == 1)\n",
    "\n",
    "inputp2 = dfp2[key_pos]\n",
    "goalp2 = dfp2['positive']\n",
    "\n",
    "pos2 = BernoulliNB()\n",
    "\n",
    "pos2.fit(inputp2, goalp2)\n",
    "\n",
    "y_pred = pos2.predict(inputp2)\n",
    "\n",
    "# Display our results.\n",
    "print(\"Number of mislabeled points out of a total {} points : {}\".format(\n",
    "    inputp2.shape[0],\n",
    "    (goalp2 != y_pred).sum()\n",
    "))\n",
    "\n"
   ]
  },
  {
   "cell_type": "markdown",
   "metadata": {},
   "source": [
    "Not quite as good, which makes sense given that yelp is not about product reviews but business reviews. overall still a decent success rate."
   ]
  },
  {
   "cell_type": "code",
   "execution_count": null,
   "metadata": {},
   "outputs": [],
   "source": []
  }
 ],
 "metadata": {
  "kernelspec": {
   "display_name": "Python 3",
   "language": "python",
   "name": "python3"
  },
  "language_info": {
   "codemirror_mode": {
    "name": "ipython",
    "version": 3
   },
   "file_extension": ".py",
   "mimetype": "text/x-python",
   "name": "python",
   "nbconvert_exporter": "python",
   "pygments_lexer": "ipython3",
   "version": "3.7.0"
  }
 },
 "nbformat": 4,
 "nbformat_minor": 2
}

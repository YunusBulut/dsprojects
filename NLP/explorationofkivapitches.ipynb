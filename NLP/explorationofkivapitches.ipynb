{
  "nbformat": 4,
  "nbformat_minor": 0,
  "metadata": {
    "colab": {
      "name": "explorationofkivapitches.ipynb",
      "version": "0.3.2",
      "provenance": []
    },
    "kernelspec": {
      "display_name": "Python 3",
      "language": "python",
      "name": "python3"
    }
  },
  "cells": [
    {
      "metadata": {
        "_uuid": "8f2839f25d086af736a60e9eeb907d3b93b6e0e5",
        "_cell_guid": "b1076dfc-b9ad-4769-8c92-a6c4dae69d19",
        "trusted": true,
        "id": "UaE7RvBqQL4C",
        "colab_type": "code",
        "colab": {
          "resources": {
            "http://localhost:8080/nbextensions/google.colab/files.js": {
              "data": "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",
              "ok": true,
              "headers": [
                [
                  "content-type",
                  "application/javascript"
                ]
              ],
              "status": 200,
              "status_text": ""
            }
          },
          "base_uri": "https://localhost:8080/",
          "height": 90
        },
        "outputId": "0797caee-f04d-422e-c545-58601f86ba43"
      },
      "cell_type": "code",
      "source": [
        "import numpy as np \n",
        "import pandas as pd\n",
        "\n",
        "from google.colab import files\n",
        "\n",
        "uploaded = files.upload()\n",
        "\n",
        "for fn in uploaded.keys():\n",
        "  print('User uploaded file \"{name}\" with length {length} bytes'.format(\n",
        "      name=fn, length=len(uploaded[fn])))"
      ],
      "execution_count": 4,
      "outputs": [
        {
          "output_type": "display_data",
          "data": {
            "text/html": [
              "\n",
              "     <input type=\"file\" id=\"files-c72af7ea-695a-4964-9cf8-8ba5ce6bf5cb\" name=\"files[]\" multiple disabled />\n",
              "     <output id=\"result-c72af7ea-695a-4964-9cf8-8ba5ce6bf5cb\">\n",
              "      Upload widget is only available when the cell has been executed in the\n",
              "      current browser session. Please rerun this cell to enable.\n",
              "      </output>\n",
              "      <script src=\"/nbextensions/google.colab/files.js\"></script> "
            ],
            "text/plain": [
              "<IPython.core.display.HTML object>"
            ]
          },
          "metadata": {
            "tags": []
          }
        },
        {
          "output_type": "stream",
          "text": [
            "Saving kiva_loans.csv to kiva_loans.csv\n",
            "User uploaded file \"kiva_loans.csv\" with length 195852823 bytes\n"
          ],
          "name": "stdout"
        }
      ]
    },
    {
      "metadata": {
        "_cell_guid": "79c7e3d0-c299-4dcb-8224-4455121ee9b0",
        "collapsed": true,
        "_uuid": "d629ff2d2480ee46fbb7e2d37f6b5fab8052498a",
        "trusted": false,
        "id": "p2GaDTAdQL4J",
        "colab_type": "text"
      },
      "cell_type": "markdown",
      "source": [
        "1. Data cleaning / processing / language parsing\n",
        "1. Create features using two different NLP methods: For example, BoW vs tf-idf.\n",
        "1. Use the features to fit supervised learning models for each feature set to predict the category outcomes.\n",
        "1. Assess your models using cross-validation and determine whether one model performed better.\n",
        "1. Pick one of the models and try to increase accuracy by at least 5 percentage points."
      ]
    },
    {
      "metadata": {
        "trusted": true,
        "_uuid": "3a755e87cf2f14d2c125d2811e096d9ac0da735d",
        "id": "QZLhNnqjQL4M",
        "colab_type": "code",
        "colab": {
          "base_uri": "https://localhost:8080/",
          "height": 583
        },
        "outputId": "e76a588c-e80a-4054-d5f4-ad1bd8bf1d71"
      },
      "cell_type": "code",
      "source": [
        "raw = pd.read_csv('kiva_loans.csv')\n",
        "raw.head(5)"
      ],
      "execution_count": 5,
      "outputs": [
        {
          "output_type": "execute_result",
          "data": {
            "text/html": [
              "<div>\n",
              "<style scoped>\n",
              "    .dataframe tbody tr th:only-of-type {\n",
              "        vertical-align: middle;\n",
              "    }\n",
              "\n",
              "    .dataframe tbody tr th {\n",
              "        vertical-align: top;\n",
              "    }\n",
              "\n",
              "    .dataframe thead th {\n",
              "        text-align: right;\n",
              "    }\n",
              "</style>\n",
              "<table border=\"1\" class=\"dataframe\">\n",
              "  <thead>\n",
              "    <tr style=\"text-align: right;\">\n",
              "      <th></th>\n",
              "      <th>id</th>\n",
              "      <th>funded_amount</th>\n",
              "      <th>loan_amount</th>\n",
              "      <th>activity</th>\n",
              "      <th>sector</th>\n",
              "      <th>use</th>\n",
              "      <th>country_code</th>\n",
              "      <th>country</th>\n",
              "      <th>region</th>\n",
              "      <th>currency</th>\n",
              "      <th>partner_id</th>\n",
              "      <th>posted_time</th>\n",
              "      <th>disbursed_time</th>\n",
              "      <th>funded_time</th>\n",
              "      <th>term_in_months</th>\n",
              "      <th>lender_count</th>\n",
              "      <th>tags</th>\n",
              "      <th>borrower_genders</th>\n",
              "      <th>repayment_interval</th>\n",
              "      <th>date</th>\n",
              "    </tr>\n",
              "  </thead>\n",
              "  <tbody>\n",
              "    <tr>\n",
              "      <th>0</th>\n",
              "      <td>653051</td>\n",
              "      <td>300.0</td>\n",
              "      <td>300.0</td>\n",
              "      <td>Fruits &amp; Vegetables</td>\n",
              "      <td>Food</td>\n",
              "      <td>To buy seasonal, fresh fruits to sell.</td>\n",
              "      <td>PK</td>\n",
              "      <td>Pakistan</td>\n",
              "      <td>Lahore</td>\n",
              "      <td>PKR</td>\n",
              "      <td>247.0</td>\n",
              "      <td>2014-01-01 06:12:39+00:00</td>\n",
              "      <td>2013-12-17 08:00:00+00:00</td>\n",
              "      <td>2014-01-02 10:06:32+00:00</td>\n",
              "      <td>12.0</td>\n",
              "      <td>12</td>\n",
              "      <td>NaN</td>\n",
              "      <td>female</td>\n",
              "      <td>irregular</td>\n",
              "      <td>2014-01-01</td>\n",
              "    </tr>\n",
              "    <tr>\n",
              "      <th>1</th>\n",
              "      <td>653053</td>\n",
              "      <td>575.0</td>\n",
              "      <td>575.0</td>\n",
              "      <td>Rickshaw</td>\n",
              "      <td>Transportation</td>\n",
              "      <td>to repair and maintain the auto rickshaw used ...</td>\n",
              "      <td>PK</td>\n",
              "      <td>Pakistan</td>\n",
              "      <td>Lahore</td>\n",
              "      <td>PKR</td>\n",
              "      <td>247.0</td>\n",
              "      <td>2014-01-01 06:51:08+00:00</td>\n",
              "      <td>2013-12-17 08:00:00+00:00</td>\n",
              "      <td>2014-01-02 09:17:23+00:00</td>\n",
              "      <td>11.0</td>\n",
              "      <td>14</td>\n",
              "      <td>NaN</td>\n",
              "      <td>female, female</td>\n",
              "      <td>irregular</td>\n",
              "      <td>2014-01-01</td>\n",
              "    </tr>\n",
              "    <tr>\n",
              "      <th>2</th>\n",
              "      <td>653068</td>\n",
              "      <td>150.0</td>\n",
              "      <td>150.0</td>\n",
              "      <td>Transportation</td>\n",
              "      <td>Transportation</td>\n",
              "      <td>To repair their old cycle-van and buy another ...</td>\n",
              "      <td>IN</td>\n",
              "      <td>India</td>\n",
              "      <td>Maynaguri</td>\n",
              "      <td>INR</td>\n",
              "      <td>334.0</td>\n",
              "      <td>2014-01-01 09:58:07+00:00</td>\n",
              "      <td>2013-12-17 08:00:00+00:00</td>\n",
              "      <td>2014-01-01 16:01:36+00:00</td>\n",
              "      <td>43.0</td>\n",
              "      <td>6</td>\n",
              "      <td>user_favorite, user_favorite</td>\n",
              "      <td>female</td>\n",
              "      <td>bullet</td>\n",
              "      <td>2014-01-01</td>\n",
              "    </tr>\n",
              "    <tr>\n",
              "      <th>3</th>\n",
              "      <td>653063</td>\n",
              "      <td>200.0</td>\n",
              "      <td>200.0</td>\n",
              "      <td>Embroidery</td>\n",
              "      <td>Arts</td>\n",
              "      <td>to purchase an embroidery machine and a variet...</td>\n",
              "      <td>PK</td>\n",
              "      <td>Pakistan</td>\n",
              "      <td>Lahore</td>\n",
              "      <td>PKR</td>\n",
              "      <td>247.0</td>\n",
              "      <td>2014-01-01 08:03:11+00:00</td>\n",
              "      <td>2013-12-24 08:00:00+00:00</td>\n",
              "      <td>2014-01-01 13:00:00+00:00</td>\n",
              "      <td>11.0</td>\n",
              "      <td>8</td>\n",
              "      <td>NaN</td>\n",
              "      <td>female</td>\n",
              "      <td>irregular</td>\n",
              "      <td>2014-01-01</td>\n",
              "    </tr>\n",
              "    <tr>\n",
              "      <th>4</th>\n",
              "      <td>653084</td>\n",
              "      <td>400.0</td>\n",
              "      <td>400.0</td>\n",
              "      <td>Milk Sales</td>\n",
              "      <td>Food</td>\n",
              "      <td>to purchase one buffalo.</td>\n",
              "      <td>PK</td>\n",
              "      <td>Pakistan</td>\n",
              "      <td>Abdul Hakeem</td>\n",
              "      <td>PKR</td>\n",
              "      <td>245.0</td>\n",
              "      <td>2014-01-01 11:53:19+00:00</td>\n",
              "      <td>2013-12-17 08:00:00+00:00</td>\n",
              "      <td>2014-01-01 19:18:51+00:00</td>\n",
              "      <td>14.0</td>\n",
              "      <td>16</td>\n",
              "      <td>NaN</td>\n",
              "      <td>female</td>\n",
              "      <td>monthly</td>\n",
              "      <td>2014-01-01</td>\n",
              "    </tr>\n",
              "  </tbody>\n",
              "</table>\n",
              "</div>"
            ],
            "text/plain": [
              "       id  funded_amount  loan_amount             activity          sector  \\\n",
              "0  653051          300.0        300.0  Fruits & Vegetables            Food   \n",
              "1  653053          575.0        575.0             Rickshaw  Transportation   \n",
              "2  653068          150.0        150.0       Transportation  Transportation   \n",
              "3  653063          200.0        200.0           Embroidery            Arts   \n",
              "4  653084          400.0        400.0           Milk Sales            Food   \n",
              "\n",
              "                                                 use country_code   country  \\\n",
              "0            To buy seasonal, fresh fruits to sell.            PK  Pakistan   \n",
              "1  to repair and maintain the auto rickshaw used ...           PK  Pakistan   \n",
              "2  To repair their old cycle-van and buy another ...           IN     India   \n",
              "3  to purchase an embroidery machine and a variet...           PK  Pakistan   \n",
              "4                           to purchase one buffalo.           PK  Pakistan   \n",
              "\n",
              "         region currency  partner_id                posted_time  \\\n",
              "0        Lahore      PKR       247.0  2014-01-01 06:12:39+00:00   \n",
              "1        Lahore      PKR       247.0  2014-01-01 06:51:08+00:00   \n",
              "2     Maynaguri      INR       334.0  2014-01-01 09:58:07+00:00   \n",
              "3        Lahore      PKR       247.0  2014-01-01 08:03:11+00:00   \n",
              "4  Abdul Hakeem      PKR       245.0  2014-01-01 11:53:19+00:00   \n",
              "\n",
              "              disbursed_time                funded_time  term_in_months  \\\n",
              "0  2013-12-17 08:00:00+00:00  2014-01-02 10:06:32+00:00            12.0   \n",
              "1  2013-12-17 08:00:00+00:00  2014-01-02 09:17:23+00:00            11.0   \n",
              "2  2013-12-17 08:00:00+00:00  2014-01-01 16:01:36+00:00            43.0   \n",
              "3  2013-12-24 08:00:00+00:00  2014-01-01 13:00:00+00:00            11.0   \n",
              "4  2013-12-17 08:00:00+00:00  2014-01-01 19:18:51+00:00            14.0   \n",
              "\n",
              "   lender_count                          tags borrower_genders  \\\n",
              "0            12                           NaN           female   \n",
              "1            14                           NaN   female, female   \n",
              "2             6  user_favorite, user_favorite           female   \n",
              "3             8                           NaN           female   \n",
              "4            16                           NaN           female   \n",
              "\n",
              "  repayment_interval        date  \n",
              "0          irregular  2014-01-01  \n",
              "1          irregular  2014-01-01  \n",
              "2             bullet  2014-01-01  \n",
              "3          irregular  2014-01-01  \n",
              "4            monthly  2014-01-01  "
            ]
          },
          "metadata": {
            "tags": []
          },
          "execution_count": 5
        }
      ]
    },
    {
      "metadata": {
        "trusted": true,
        "_uuid": "3d3721af947788541bc31893d87e96e278384756",
        "id": "PGVbv97wQL4U",
        "colab_type": "code",
        "colab": {}
      },
      "cell_type": "code",
      "source": [
        "#Goal: examine language differences between genders"
      ],
      "execution_count": 0,
      "outputs": []
    },
    {
      "metadata": {
        "trusted": true,
        "_uuid": "e39e868a0ccf2a57f8a376853a17b15afc0c9c94",
        "id": "xAFjv-uxQL4a",
        "colab_type": "code",
        "colab": {
          "base_uri": "https://localhost:8080/",
          "height": 1117
        },
        "outputId": "f8fc7879-94b4-4427-c512-ac9f00a60091"
      },
      "cell_type": "code",
      "source": [
        "#Let's examine the possibilities\n",
        "raw.groupby('borrower_genders')['use'].agg('count')"
      ],
      "execution_count": 7,
      "outputs": [
        {
          "output_type": "execute_result",
          "data": {
            "text/plain": [
              "borrower_genders\n",
              "female                                                                                                                                                                                                                                            426497\n",
              "female, female                                                                                                                                                                                                                                     12163\n",
              "female, female, female                                                                                                                                                                                                                             11676\n",
              "female, female, female, female                                                                                                                                                                                                                      9052\n",
              "female, female, female, female, female                                                                                                                                                                                                              7568\n",
              "female, female, female, female, female, female                                                                                                                                                                                                      2674\n",
              "female, female, female, female, female, female, female                                                                                                                                                                                              2127\n",
              "female, female, female, female, female, female, female, female                                                                                                                                                                                      1936\n",
              "female, female, female, female, female, female, female, female, female                                                                                                                                                                              1207\n",
              "female, female, female, female, female, female, female, female, female, female                                                                                                                                                                      2185\n",
              "female, female, female, female, female, female, female, female, female, female, female                                                                                                                                                               745\n",
              "female, female, female, female, female, female, female, female, female, female, female, female                                                                                                                                                       573\n",
              "female, female, female, female, female, female, female, female, female, female, female, female, female                                                                                                                                               460\n",
              "female, female, female, female, female, female, female, female, female, female, female, female, female, female                                                                                                                                       421\n",
              "female, female, female, female, female, female, female, female, female, female, female, female, female, female, female                                                                                                                              1283\n",
              "female, female, female, female, female, female, female, female, female, female, female, female, female, female, female, female                                                                                                                       837\n",
              "female, female, female, female, female, female, female, female, female, female, female, female, female, female, female, female, female                                                                                                              1692\n",
              "female, female, female, female, female, female, female, female, female, female, female, female, female, female, female, female, female, female                                                                                                       999\n",
              "female, female, female, female, female, female, female, female, female, female, female, female, female, female, female, female, female, female, female                                                                                               734\n",
              "female, female, female, female, female, female, female, female, female, female, female, female, female, female, female, female, female, female, female, female                                                                                       696\n",
              "female, female, female, female, female, female, female, female, female, female, female, female, female, female, female, female, female, female, female, female, female                                                                               441\n",
              "female, female, female, female, female, female, female, female, female, female, female, female, female, female, female, female, female, female, female, female, female, female                                                                       346\n",
              "female, female, female, female, female, female, female, female, female, female, female, female, female, female, female, female, female, female, female, female, female, female, female                                                               303\n",
              "female, female, female, female, female, female, female, female, female, female, female, female, female, female, female, female, female, female, female, female, female, female, female, female                                                       230\n",
              "female, female, female, female, female, female, female, female, female, female, female, female, female, female, female, female, female, female, female, female, female, female, female, female, female                                               271\n",
              "female, female, female, female, female, female, female, female, female, female, female, female, female, female, female, female, female, female, female, female, female, female, female, female, female, female                                       145\n",
              "female, female, female, female, female, female, female, female, female, female, female, female, female, female, female, female, female, female, female, female, female, female, female, female, female, female, female                               122\n",
              "female, female, female, female, female, female, female, female, female, female, female, female, female, female, female, female, female, female, female, female, female, female, female, female, female, female, female, female                       116\n",
              "female, female, female, female, female, female, female, female, female, female, female, female, female, female, female, female, female, female, female, female, female, female, female, female, female, female, female, female, female                74\n",
              "female, female, female, female, female, female, female, female, female, female, female, female, female, female, female, female, female, female, female, female, female, female, female, female, female, female, female, female, female, female       117\n",
              "                                                                                                                                                                                                                                                   ...  \n",
              "male, male, male, male, male, male, male, male, male, male, male, female, male, female, female, female, female, female, male, male, male, male, male, male, male, male, female, male                                                                   1\n",
              "male, male, male, male, male, male, male, male, male, male, male, female, male, male, female, male, male                                                                                                                                               1\n",
              "male, male, male, male, male, male, male, male, male, male, male, female, male, male, male, female, male, male, male                                                                                                                                   1\n",
              "male, male, male, male, male, male, male, male, male, male, male, female, male, male, male, female, male, male, male, male, male, male, male, male, male, male, female, male, male                                                                     1\n",
              "male, male, male, male, male, male, male, male, male, male, male, female, male, male, male, male, male                                                                                                                                                 1\n",
              "male, male, male, male, male, male, male, male, male, male, male, female, male, male, male, male, male, male, male, male, male, male, male, female, female                                                                                             1\n",
              "male, male, male, male, male, male, male, male, male, male, male, male                                                                                                                                                                                10\n",
              "male, male, male, male, male, male, male, male, male, male, male, male, female, female, male                                                                                                                                                           1\n",
              "male, male, male, male, male, male, male, male, male, male, male, male, female, male                                                                                                                                                                   1\n",
              "male, male, male, male, male, male, male, male, male, male, male, male, female, male, female, male, male, male, female, male, female, female, female, male, male                                                                                       1\n",
              "male, male, male, male, male, male, male, male, male, male, male, male, female, male, male, male, female                                                                                                                                               1\n",
              "male, male, male, male, male, male, male, male, male, male, male, male, female, male, male, male, male                                                                                                                                                 2\n",
              "male, male, male, male, male, male, male, male, male, male, male, male, female, male, male, male, male, male, male, male, male, female                                                                                                                 1\n",
              "male, male, male, male, male, male, male, male, male, male, male, male, male                                                                                                                                                                           3\n",
              "male, male, male, male, male, male, male, male, male, male, male, male, male, female                                                                                                                                                                   2\n",
              "male, male, male, male, male, male, male, male, male, male, male, male, male, female, female, male                                                                                                                                                     1\n",
              "male, male, male, male, male, male, male, male, male, male, male, male, male, female, male, female, male, female, male                                                                                                                                 1\n",
              "male, male, male, male, male, male, male, male, male, male, male, male, male, female, male, male, male, male, male                                                                                                                                     1\n",
              "male, male, male, male, male, male, male, male, male, male, male, male, male, male                                                                                                                                                                     4\n",
              "male, male, male, male, male, male, male, male, male, male, male, male, male, male, female, male                                                                                                                                                       1\n",
              "male, male, male, male, male, male, male, male, male, male, male, male, male, male, male                                                                                                                                                               1\n",
              "male, male, male, male, male, male, male, male, male, male, male, male, male, male, male, female, female, female                                                                                                                                       1\n",
              "male, male, male, male, male, male, male, male, male, male, male, male, male, male, male, female, male, male, male                                                                                                                                     1\n",
              "male, male, male, male, male, male, male, male, male, male, male, male, male, male, male, male, male                                                                                                                                                   1\n",
              "male, male, male, male, male, male, male, male, male, male, male, male, male, male, male, male, male, female                                                                                                                                           1\n",
              "male, male, male, male, male, male, male, male, male, male, male, male, male, male, male, male, male, female, male, male, male, male, male, male, male, male, male, male, male                                                                         1\n",
              "male, male, male, male, male, male, male, male, male, male, male, male, male, male, male, male, male, male                                                                                                                                             5\n",
              "male, male, male, male, male, male, male, male, male, male, male, male, male, male, male, male, male, male, male                                                                                                                                       2\n",
              "male, male, male, male, male, male, male, male, male, male, male, male, male, male, male, male, male, male, male, male                                                                                                                                 1\n",
              "male, male, male, male, male, male, male, male, male, male, male, male, male, male, male, male, male, male, male, male, male, male                                                                                                                     2\n",
              "Name: use, Length: 11298, dtype: int64"
            ]
          },
          "metadata": {
            "tags": []
          },
          "execution_count": 7
        }
      ]
    },
    {
      "metadata": {
        "trusted": true,
        "_uuid": "aa33ecf49905fa2221e938a3cfb7b50ba91cffed",
        "id": "fU05ws50QL4i",
        "colab_type": "code",
        "colab": {
          "base_uri": "https://localhost:8080/",
          "height": 120
        },
        "outputId": "aa95fbeb-0c1e-4bc7-9b72-d0d57758b731"
      },
      "cell_type": "code",
      "source": [
        "#What a mess. Let's consolidate:\n",
        "raw['borrower_genders'] = raw['borrower_genders'].astype('str') \n",
        "feat = []\n",
        "for i in raw.iterrows():\n",
        "    val = i[1][17]\n",
        "    if ('female' in val) & (', male' in val):\n",
        "        feat.append('both')\n",
        "    elif 'female' in val:\n",
        "        feat.append('female')\n",
        "    elif ('female' not in val) & ('male' in val):\n",
        "        feat.append('male')\n",
        "    else:\n",
        "        feat.append(val)\n",
        "raw['borr_gender'] = feat\n",
        "raw.groupby('borr_gender')['use'].agg('count')"
      ],
      "execution_count": 8,
      "outputs": [
        {
          "output_type": "execute_result",
          "data": {
            "text/plain": [
              "borr_gender\n",
              "both       36241\n",
              "female    492212\n",
              "male      138520\n",
              "nan            0\n",
              "Name: use, dtype: int64"
            ]
          },
          "metadata": {
            "tags": []
          },
          "execution_count": 8
        }
      ]
    },
    {
      "metadata": {
        "trusted": true,
        "_uuid": "f0077d2dc5678980cb66bd54e218e0deaaf3e6ad",
        "id": "bKpu6kK7QL4n",
        "colab_type": "code",
        "colab": {
          "base_uri": "https://localhost:8080/",
          "height": 51
        },
        "outputId": "ccf19dcd-d8c9-4e32-822e-05af8a1c0ee5"
      },
      "cell_type": "code",
      "source": [
        "df = raw[['id', 'use', 'borr_gender']]\n",
        "del raw\n",
        "df = df[(df.borr_gender == 'female') | (df.borr_gender == 'male')]\n",
        "#Reduce size\n",
        "df = df.sample(20000)\n",
        "print(df.shape)\n",
        "df['borr_gender'].unique()"
      ],
      "execution_count": 9,
      "outputs": [
        {
          "output_type": "stream",
          "text": [
            "(20000, 3)\n"
          ],
          "name": "stdout"
        },
        {
          "output_type": "execute_result",
          "data": {
            "text/plain": [
              "array(['male', 'female'], dtype=object)"
            ]
          },
          "metadata": {
            "tags": []
          },
          "execution_count": 9
        }
      ]
    },
    {
      "metadata": {
        "trusted": true,
        "_uuid": "24dd6a5b9d53de0097c5c182f0848a6e67f2ccf9",
        "id": "PeyegZT1QL47",
        "colab_type": "code",
        "colab": {
          "base_uri": "https://localhost:8080/",
          "height": 203
        },
        "outputId": "41040195-6d6c-4814-b834-66045753d6bf"
      },
      "cell_type": "code",
      "source": [
        "df.head()"
      ],
      "execution_count": 10,
      "outputs": [
        {
          "output_type": "execute_result",
          "data": {
            "text/html": [
              "<div>\n",
              "<style scoped>\n",
              "    .dataframe tbody tr th:only-of-type {\n",
              "        vertical-align: middle;\n",
              "    }\n",
              "\n",
              "    .dataframe tbody tr th {\n",
              "        vertical-align: top;\n",
              "    }\n",
              "\n",
              "    .dataframe thead th {\n",
              "        text-align: right;\n",
              "    }\n",
              "</style>\n",
              "<table border=\"1\" class=\"dataframe\">\n",
              "  <thead>\n",
              "    <tr style=\"text-align: right;\">\n",
              "      <th></th>\n",
              "      <th>id</th>\n",
              "      <th>use</th>\n",
              "      <th>borr_gender</th>\n",
              "    </tr>\n",
              "  </thead>\n",
              "  <tbody>\n",
              "    <tr>\n",
              "      <th>462253</th>\n",
              "      <td>1122142</td>\n",
              "      <td>to pay for his upcoming semester fees</td>\n",
              "      <td>male</td>\n",
              "    </tr>\n",
              "    <tr>\n",
              "      <th>547042</th>\n",
              "      <td>1208105</td>\n",
              "      <td>to pay for children's school fees</td>\n",
              "      <td>male</td>\n",
              "    </tr>\n",
              "    <tr>\n",
              "      <th>474336</th>\n",
              "      <td>1134293</td>\n",
              "      <td>to buy materials (iron, sheets of plywood).</td>\n",
              "      <td>male</td>\n",
              "    </tr>\n",
              "    <tr>\n",
              "      <th>301171</th>\n",
              "      <td>948414</td>\n",
              "      <td>to buy bricks, iron rods, cement, sand and gra...</td>\n",
              "      <td>female</td>\n",
              "    </tr>\n",
              "    <tr>\n",
              "      <th>175907</th>\n",
              "      <td>1086712</td>\n",
              "      <td>purchase a bag for keeping my stock</td>\n",
              "      <td>female</td>\n",
              "    </tr>\n",
              "  </tbody>\n",
              "</table>\n",
              "</div>"
            ],
            "text/plain": [
              "             id                                                use borr_gender\n",
              "462253  1122142              to pay for his upcoming semester fees        male\n",
              "547042  1208105                  to pay for children's school fees        male\n",
              "474336  1134293        to buy materials (iron, sheets of plywood).        male\n",
              "301171   948414  to buy bricks, iron rods, cement, sand and gra...      female\n",
              "175907  1086712                purchase a bag for keeping my stock      female"
            ]
          },
          "metadata": {
            "tags": []
          },
          "execution_count": 10
        }
      ]
    },
    {
      "metadata": {
        "_uuid": "99844a64b1dc9ffe0891c09a53456a9e04445bd0",
        "id": "V0454S8yQL5C",
        "colab_type": "text"
      },
      "cell_type": "markdown",
      "source": [
        "# BOW Feature Generation"
      ]
    },
    {
      "metadata": {
        "trusted": true,
        "_uuid": "071be3380bb822cc56ebb675eb8fd3ea844654e9",
        "id": "yd2XEGwhQL5E",
        "colab_type": "code",
        "colab": {}
      },
      "cell_type": "code",
      "source": [
        "import scipy\n",
        "import sklearn\n",
        "import spacy\n",
        "import matplotlib.pyplot as plt\n",
        "import seaborn as sns\n",
        "import re\n",
        "from collections import Counter"
      ],
      "execution_count": 0,
      "outputs": []
    },
    {
      "metadata": {
        "trusted": true,
        "_uuid": "d5591ee9b48ea118fcc26d97120170526690b558",
        "id": "iVEFmITKQL5H",
        "colab_type": "code",
        "colab": {}
      },
      "cell_type": "code",
      "source": [
        "nlp = spacy.load('en', parser=False, entity=False)"
      ],
      "execution_count": 0,
      "outputs": []
    },
    {
      "metadata": {
        "trusted": true,
        "_uuid": "240a229a7a5afa2a00aa0cdb144540bb7fe830ec",
        "id": "HJVtLAmcQL5M",
        "colab_type": "code",
        "colab": {
          "base_uri": "https://localhost:8080/",
          "height": 203
        },
        "outputId": "ace6274e-4ca6-4f2d-a477-5b8cbe9033eb"
      },
      "cell_type": "code",
      "source": [
        "df = df.dropna(how='any')\n",
        "df['tokens'] = df['use'].apply(lambda y: nlp(y))\n",
        "df = df.reset_index()\n",
        "df.head()"
      ],
      "execution_count": 15,
      "outputs": [
        {
          "output_type": "execute_result",
          "data": {
            "text/html": [
              "<div>\n",
              "<style scoped>\n",
              "    .dataframe tbody tr th:only-of-type {\n",
              "        vertical-align: middle;\n",
              "    }\n",
              "\n",
              "    .dataframe tbody tr th {\n",
              "        vertical-align: top;\n",
              "    }\n",
              "\n",
              "    .dataframe thead th {\n",
              "        text-align: right;\n",
              "    }\n",
              "</style>\n",
              "<table border=\"1\" class=\"dataframe\">\n",
              "  <thead>\n",
              "    <tr style=\"text-align: right;\">\n",
              "      <th></th>\n",
              "      <th>index</th>\n",
              "      <th>id</th>\n",
              "      <th>use</th>\n",
              "      <th>borr_gender</th>\n",
              "      <th>tokens</th>\n",
              "    </tr>\n",
              "  </thead>\n",
              "  <tbody>\n",
              "    <tr>\n",
              "      <th>0</th>\n",
              "      <td>462253</td>\n",
              "      <td>1122142</td>\n",
              "      <td>to pay for his upcoming semester fees</td>\n",
              "      <td>male</td>\n",
              "      <td>(to, pay, for, his, upcoming, semester, fees)</td>\n",
              "    </tr>\n",
              "    <tr>\n",
              "      <th>1</th>\n",
              "      <td>547042</td>\n",
              "      <td>1208105</td>\n",
              "      <td>to pay for children's school fees</td>\n",
              "      <td>male</td>\n",
              "      <td>(to, pay, for, children, 's, school, fees)</td>\n",
              "    </tr>\n",
              "    <tr>\n",
              "      <th>2</th>\n",
              "      <td>474336</td>\n",
              "      <td>1134293</td>\n",
              "      <td>to buy materials (iron, sheets of plywood).</td>\n",
              "      <td>male</td>\n",
              "      <td>(to, buy, materials, (, iron, ,, sheets, of, p...</td>\n",
              "    </tr>\n",
              "    <tr>\n",
              "      <th>3</th>\n",
              "      <td>301171</td>\n",
              "      <td>948414</td>\n",
              "      <td>to buy bricks, iron rods, cement, sand and gra...</td>\n",
              "      <td>female</td>\n",
              "      <td>(to, buy, bricks, ,, iron, rods, ,, cement, ,,...</td>\n",
              "    </tr>\n",
              "    <tr>\n",
              "      <th>4</th>\n",
              "      <td>175907</td>\n",
              "      <td>1086712</td>\n",
              "      <td>purchase a bag for keeping my stock</td>\n",
              "      <td>female</td>\n",
              "      <td>(purchase, a, bag, for, keeping, my, stock)</td>\n",
              "    </tr>\n",
              "  </tbody>\n",
              "</table>\n",
              "</div>"
            ],
            "text/plain": [
              "    index       id                                                use  \\\n",
              "0  462253  1122142              to pay for his upcoming semester fees   \n",
              "1  547042  1208105                  to pay for children's school fees   \n",
              "2  474336  1134293        to buy materials (iron, sheets of plywood).   \n",
              "3  301171   948414  to buy bricks, iron rods, cement, sand and gra...   \n",
              "4  175907  1086712                purchase a bag for keeping my stock   \n",
              "\n",
              "  borr_gender                                             tokens  \n",
              "0        male      (to, pay, for, his, upcoming, semester, fees)  \n",
              "1        male         (to, pay, for, children, 's, school, fees)  \n",
              "2        male  (to, buy, materials, (, iron, ,, sheets, of, p...  \n",
              "3      female  (to, buy, bricks, ,, iron, rods, ,, cement, ,,...  \n",
              "4      female        (purchase, a, bag, for, keeping, my, stock)  "
            ]
          },
          "metadata": {
            "tags": []
          },
          "execution_count": 15
        }
      ]
    },
    {
      "metadata": {
        "trusted": true,
        "_uuid": "7a105b4a04d41c24e9bec79fc182c7f8589e9479",
        "id": "afF8LWMtQL5Q",
        "colab_type": "code",
        "colab": {}
      },
      "cell_type": "code",
      "source": [
        "# Utility function to create a list of the 2000 most common words.\n",
        "def bag_of_words(text, n):\n",
        "    allwords=[]\n",
        "    for _ in text:    \n",
        "        # Filter out punctuation and stop words.\n",
        "        allwords.append([token.lemma_\n",
        "                    for token in _\n",
        "                    if not token.is_punct\n",
        "                    and not token.is_stop])\n",
        "    allwords = [item for sublist in allwords for item in sublist]    \n",
        "    # Return the most common words.\n",
        "    return [item[0] for item in Counter(allwords).most_common(n)]\n",
        "    "
      ],
      "execution_count": 0,
      "outputs": []
    },
    {
      "metadata": {
        "trusted": true,
        "_uuid": "7fee1e20ef194e2815c3037f62879ac0f089fe66",
        "id": "O5YimWFqQL5W",
        "colab_type": "code",
        "colab": {}
      },
      "cell_type": "code",
      "source": [
        "twoKwords = bag_of_words(df.tokens, 2000)"
      ],
      "execution_count": 0,
      "outputs": []
    },
    {
      "metadata": {
        "trusted": true,
        "_uuid": "0313706ae937b91c836f007247df6f65b3aad4b7",
        "id": "2e2YvzuCQL5a",
        "colab_type": "code",
        "colab": {
          "base_uri": "https://localhost:8080/",
          "height": 188
        },
        "outputId": "ad6ea7e9-4b72-49a0-89f6-f29d68dac969"
      },
      "cell_type": "code",
      "source": [
        "list(twoKwords)[:10]"
      ],
      "execution_count": 18,
      "outputs": [
        {
          "output_type": "execute_result",
          "data": {
            "text/plain": [
              "['buy',\n",
              " 'purchase',\n",
              " 'sell',\n",
              " 'business',\n",
              " 'pay',\n",
              " 'fertilizer',\n",
              " 'supply',\n",
              " 'to',\n",
              " 'stock',\n",
              " 'water']"
            ]
          },
          "metadata": {
            "tags": []
          },
          "execution_count": 18
        }
      ]
    },
    {
      "metadata": {
        "trusted": true,
        "_uuid": "d6a2cd82ddb2be07e0a1d9c6deee7bb5544eb624",
        "id": "J0UKTPqxQL5g",
        "colab_type": "code",
        "colab": {}
      },
      "cell_type": "code",
      "source": [
        "from sklearn.feature_extraction.text import CountVectorizer"
      ],
      "execution_count": 0,
      "outputs": []
    },
    {
      "metadata": {
        "trusted": true,
        "_uuid": "e1fb89225aad7a9884d45433a702a1728486d4cf",
        "id": "6lWgyaJ-QL5n",
        "colab_type": "code",
        "colab": {}
      },
      "cell_type": "code",
      "source": [
        "vectorizer = CountVectorizer(vocabulary=twoKwords)"
      ],
      "execution_count": 0,
      "outputs": []
    },
    {
      "metadata": {
        "trusted": true,
        "_uuid": "bc1aab317c9d1e962468ae2c66c91d3309b2dec9",
        "id": "D2CnnlNkQL5r",
        "colab_type": "code",
        "colab": {
          "base_uri": "https://localhost:8080/",
          "height": 612
        },
        "outputId": "f7f9a6c5-79bc-4dab-f274-9f55bc0fe342"
      },
      "cell_type": "code",
      "source": [
        "X = vectorizer.fit_transform(df['use'])\n",
        "df2 =  pd.DataFrame(X.toarray(), columns=vectorizer.get_feature_names())\n",
        "word_counts = pd.concat([df,df2], axis=1)\n",
        "print(word_counts.shape)\n",
        "del df2\n",
        "word_counts.head()"
      ],
      "execution_count": 21,
      "outputs": [
        {
          "output_type": "stream",
          "text": [
            "(19998, 2005)\n"
          ],
          "name": "stdout"
        },
        {
          "output_type": "execute_result",
          "data": {
            "text/html": [
              "<div>\n",
              "<style scoped>\n",
              "    .dataframe tbody tr th:only-of-type {\n",
              "        vertical-align: middle;\n",
              "    }\n",
              "\n",
              "    .dataframe tbody tr th {\n",
              "        vertical-align: top;\n",
              "    }\n",
              "\n",
              "    .dataframe thead th {\n",
              "        text-align: right;\n",
              "    }\n",
              "</style>\n",
              "<table border=\"1\" class=\"dataframe\">\n",
              "  <thead>\n",
              "    <tr style=\"text-align: right;\">\n",
              "      <th></th>\n",
              "      <th>index</th>\n",
              "      <th>id</th>\n",
              "      <th>use</th>\n",
              "      <th>borr_gender</th>\n",
              "      <th>tokens</th>\n",
              "      <th>buy</th>\n",
              "      <th>purchase</th>\n",
              "      <th>sell</th>\n",
              "      <th>business</th>\n",
              "      <th>pay</th>\n",
              "      <th>...</th>\n",
              "      <th>rag</th>\n",
              "      <th>remainder</th>\n",
              "      <th>fair</th>\n",
              "      <th>maximize</th>\n",
              "      <th>success</th>\n",
              "      <th>awning</th>\n",
              "      <th>catalogue</th>\n",
              "      <th>barbed</th>\n",
              "      <th>grout</th>\n",
              "      <th>pour</th>\n",
              "    </tr>\n",
              "  </thead>\n",
              "  <tbody>\n",
              "    <tr>\n",
              "      <th>0</th>\n",
              "      <td>462253</td>\n",
              "      <td>1122142</td>\n",
              "      <td>to pay for his upcoming semester fees</td>\n",
              "      <td>male</td>\n",
              "      <td>(to, pay, for, his, upcoming, semester, fees)</td>\n",
              "      <td>0</td>\n",
              "      <td>0</td>\n",
              "      <td>0</td>\n",
              "      <td>0</td>\n",
              "      <td>1</td>\n",
              "      <td>...</td>\n",
              "      <td>0</td>\n",
              "      <td>0</td>\n",
              "      <td>0</td>\n",
              "      <td>0</td>\n",
              "      <td>0</td>\n",
              "      <td>0</td>\n",
              "      <td>0</td>\n",
              "      <td>0</td>\n",
              "      <td>0</td>\n",
              "      <td>0</td>\n",
              "    </tr>\n",
              "    <tr>\n",
              "      <th>1</th>\n",
              "      <td>547042</td>\n",
              "      <td>1208105</td>\n",
              "      <td>to pay for children's school fees</td>\n",
              "      <td>male</td>\n",
              "      <td>(to, pay, for, children, 's, school, fees)</td>\n",
              "      <td>0</td>\n",
              "      <td>0</td>\n",
              "      <td>0</td>\n",
              "      <td>0</td>\n",
              "      <td>1</td>\n",
              "      <td>...</td>\n",
              "      <td>0</td>\n",
              "      <td>0</td>\n",
              "      <td>0</td>\n",
              "      <td>0</td>\n",
              "      <td>0</td>\n",
              "      <td>0</td>\n",
              "      <td>0</td>\n",
              "      <td>0</td>\n",
              "      <td>0</td>\n",
              "      <td>0</td>\n",
              "    </tr>\n",
              "    <tr>\n",
              "      <th>2</th>\n",
              "      <td>474336</td>\n",
              "      <td>1134293</td>\n",
              "      <td>to buy materials (iron, sheets of plywood).</td>\n",
              "      <td>male</td>\n",
              "      <td>(to, buy, materials, (, iron, ,, sheets, of, p...</td>\n",
              "      <td>1</td>\n",
              "      <td>0</td>\n",
              "      <td>0</td>\n",
              "      <td>0</td>\n",
              "      <td>0</td>\n",
              "      <td>...</td>\n",
              "      <td>0</td>\n",
              "      <td>0</td>\n",
              "      <td>0</td>\n",
              "      <td>0</td>\n",
              "      <td>0</td>\n",
              "      <td>0</td>\n",
              "      <td>0</td>\n",
              "      <td>0</td>\n",
              "      <td>0</td>\n",
              "      <td>0</td>\n",
              "    </tr>\n",
              "    <tr>\n",
              "      <th>3</th>\n",
              "      <td>301171</td>\n",
              "      <td>948414</td>\n",
              "      <td>to buy bricks, iron rods, cement, sand and gra...</td>\n",
              "      <td>female</td>\n",
              "      <td>(to, buy, bricks, ,, iron, rods, ,, cement, ,,...</td>\n",
              "      <td>1</td>\n",
              "      <td>0</td>\n",
              "      <td>0</td>\n",
              "      <td>0</td>\n",
              "      <td>0</td>\n",
              "      <td>...</td>\n",
              "      <td>0</td>\n",
              "      <td>0</td>\n",
              "      <td>0</td>\n",
              "      <td>0</td>\n",
              "      <td>0</td>\n",
              "      <td>0</td>\n",
              "      <td>0</td>\n",
              "      <td>0</td>\n",
              "      <td>0</td>\n",
              "      <td>0</td>\n",
              "    </tr>\n",
              "    <tr>\n",
              "      <th>4</th>\n",
              "      <td>175907</td>\n",
              "      <td>1086712</td>\n",
              "      <td>purchase a bag for keeping my stock</td>\n",
              "      <td>female</td>\n",
              "      <td>(purchase, a, bag, for, keeping, my, stock)</td>\n",
              "      <td>0</td>\n",
              "      <td>1</td>\n",
              "      <td>0</td>\n",
              "      <td>0</td>\n",
              "      <td>0</td>\n",
              "      <td>...</td>\n",
              "      <td>0</td>\n",
              "      <td>0</td>\n",
              "      <td>0</td>\n",
              "      <td>0</td>\n",
              "      <td>0</td>\n",
              "      <td>0</td>\n",
              "      <td>0</td>\n",
              "      <td>0</td>\n",
              "      <td>0</td>\n",
              "      <td>0</td>\n",
              "    </tr>\n",
              "  </tbody>\n",
              "</table>\n",
              "<p>5 rows × 2005 columns</p>\n",
              "</div>"
            ],
            "text/plain": [
              "    index       id                                                use  \\\n",
              "0  462253  1122142              to pay for his upcoming semester fees   \n",
              "1  547042  1208105                  to pay for children's school fees   \n",
              "2  474336  1134293        to buy materials (iron, sheets of plywood).   \n",
              "3  301171   948414  to buy bricks, iron rods, cement, sand and gra...   \n",
              "4  175907  1086712                purchase a bag for keeping my stock   \n",
              "\n",
              "  borr_gender                                             tokens  buy  \\\n",
              "0        male      (to, pay, for, his, upcoming, semester, fees)    0   \n",
              "1        male         (to, pay, for, children, 's, school, fees)    0   \n",
              "2        male  (to, buy, materials, (, iron, ,, sheets, of, p...    1   \n",
              "3      female  (to, buy, bricks, ,, iron, rods, ,, cement, ,,...    1   \n",
              "4      female        (purchase, a, bag, for, keeping, my, stock)    0   \n",
              "\n",
              "   purchase  sell  business  pay  ...   rag  remainder  fair  maximize  \\\n",
              "0         0     0         0    1  ...     0          0     0         0   \n",
              "1         0     0         0    1  ...     0          0     0         0   \n",
              "2         0     0         0    0  ...     0          0     0         0   \n",
              "3         0     0         0    0  ...     0          0     0         0   \n",
              "4         1     0         0    0  ...     0          0     0         0   \n",
              "\n",
              "   success  awning  catalogue  barbed  grout  pour  \n",
              "0        0       0          0       0      0     0  \n",
              "1        0       0          0       0      0     0  \n",
              "2        0       0          0       0      0     0  \n",
              "3        0       0          0       0      0     0  \n",
              "4        0       0          0       0      0     0  \n",
              "\n",
              "[5 rows x 2005 columns]"
            ]
          },
          "metadata": {
            "tags": []
          },
          "execution_count": 21
        }
      ]
    },
    {
      "metadata": {
        "_uuid": "60cb6044d7de21e62c779b835adb241094958903",
        "id": "CmPrxTulQL5x",
        "colab_type": "text"
      },
      "cell_type": "markdown",
      "source": [
        "# Try Random Forest"
      ]
    },
    {
      "metadata": {
        "trusted": true,
        "_uuid": "ba5af4381bc0c542d24cf8f6e9665cdaf38c22c9",
        "id": "l5kn-tx9QL5z",
        "colab_type": "code",
        "colab": {}
      },
      "cell_type": "code",
      "source": [
        "from sklearn import ensemble\n",
        "from sklearn.model_selection import train_test_split, cross_val_score"
      ],
      "execution_count": 0,
      "outputs": []
    },
    {
      "metadata": {
        "trusted": true,
        "_uuid": "968c94746ae36811a9b4e612a349ea445772581d",
        "id": "wtPBrYjsQL59",
        "colab_type": "code",
        "colab": {
          "base_uri": "https://localhost:8080/",
          "height": 68
        },
        "outputId": "ebd559d3-2e85-4824-9d87-20c3bbda5bdc"
      },
      "cell_type": "code",
      "source": [
        "rfc = ensemble.RandomForestClassifier(n_estimators=25)\n",
        "Y = word_counts['borr_gender']\n",
        "X = np.array(word_counts.drop(['index','id','use','borr_gender','tokens'], 1))\n",
        "\n",
        "X_train, X_test, y_train, y_test = train_test_split(X, \n",
        "                                                    Y,\n",
        "                                                    test_size=0.4,\n",
        "                                                    random_state=0)\n",
        "train = rfc.fit(X_train, y_train)\n",
        "\n",
        "print('Training set score:', rfc.score(X_train, y_train))\n",
        "print('\\nTest set score:', cross_val_score(rfc,X_test, y_test, cv=3))"
      ],
      "execution_count": 23,
      "outputs": [
        {
          "output_type": "stream",
          "text": [
            "Training set score: 0.9555759293215536\n",
            "\n",
            "Test set score: [0.78410795 0.7711928  0.78432108]\n"
          ],
          "name": "stdout"
        }
      ]
    },
    {
      "metadata": {
        "_uuid": "88226ba14b76c9dc2323e7c4e958027e8c367aaf",
        "id": "s8t6h7imQL6J",
        "colab_type": "text"
      },
      "cell_type": "markdown",
      "source": [
        "# Logistic Regression"
      ]
    },
    {
      "metadata": {
        "trusted": true,
        "_uuid": "a80dce452ccc30892f9a0443548dea3c4ddfdaed",
        "id": "dGOEnN4-QL6J",
        "colab_type": "code",
        "colab": {
          "base_uri": "https://localhost:8080/",
          "height": 86
        },
        "outputId": "b9d52857-fef5-44b8-ac73-42c25e19dc2c"
      },
      "cell_type": "code",
      "source": [
        "from sklearn.linear_model import LogisticRegression\n",
        "\n",
        "lr = LogisticRegression(solver='liblinear')\n",
        "train = lr.fit(X_train, y_train)\n",
        "print(X_train.shape, y_train.shape)\n",
        "print('Training set score:', lr.score(X_train, y_train))\n",
        "print('\\nTest set score:', cross_val_score(lr,X_test, y_test, cv=3))"
      ],
      "execution_count": 24,
      "outputs": [
        {
          "output_type": "stream",
          "text": [
            "(11998, 1999) (11998,)\n",
            "Training set score: 0.8378896482747125\n",
            "\n",
            "Test set score: [0.77848576 0.78244561 0.78844711]\n"
          ],
          "name": "stdout"
        }
      ]
    },
    {
      "metadata": {
        "trusted": true,
        "_uuid": "f4977d2e633ed3dec129e092c4c2535fa583f7de",
        "id": "9eWn0Dp3QL6P",
        "colab_type": "text"
      },
      "cell_type": "markdown",
      "source": [
        "Logistic Regression appears to be doing better. \n",
        "I will not try to improve rfc performance by 5%"
      ]
    },
    {
      "metadata": {
        "trusted": true,
        "_uuid": "ced51e743ff7ec64fa63a6205359c4bd87af5bae",
        "id": "JNnEPxNAQL6R",
        "colab_type": "code",
        "colab": {
          "base_uri": "https://localhost:8080/",
          "height": 68
        },
        "outputId": "ce66acc1-9f7a-450a-bbd1-c02769b71367"
      },
      "cell_type": "code",
      "source": [
        "rfc = ensemble.RandomForestClassifier(n_estimators=25,\n",
        "                                     max_depth=100)\n",
        "Y = word_counts['borr_gender']\n",
        "X = np.array(word_counts.drop(['index','id','use','borr_gender','tokens'], 1))\n",
        "\n",
        "X_train, X_test, y_train, y_test = train_test_split(X, \n",
        "                                                    Y,\n",
        "                                                    test_size=0.4,\n",
        "                                                    random_state=0)\n",
        "train = rfc.fit(X_train, y_train)\n",
        "\n",
        "print('Training set score:', rfc.score(X_train, y_train))\n",
        "print('\\nTest set score:', cross_val_score(rfc,X_test, y_test, cv=3))"
      ],
      "execution_count": 25,
      "outputs": [
        {
          "output_type": "stream",
          "text": [
            "Training set score: 0.9084014002333722\n",
            "\n",
            "Test set score: [0.79347826 0.78657164 0.78807202]\n"
          ],
          "name": "stdout"
        }
      ]
    },
    {
      "metadata": {
        "trusted": true,
        "_uuid": "b1feaa036a7c5038354546fb166e1d47419da34a",
        "id": "eoygL3xpQL6W",
        "colab_type": "code",
        "colab": {
          "base_uri": "https://localhost:8080/",
          "height": 68
        },
        "outputId": "82c35339-7c2d-41c4-b562-5f60cd2bc2f7"
      },
      "cell_type": "code",
      "source": [
        "rfc = ensemble.RandomForestClassifier(n_estimators=25,\n",
        "                                     max_depth=20)\n",
        "Y = word_counts['borr_gender']\n",
        "X = np.array(word_counts.drop(['index','id','use','borr_gender','tokens'], 1))\n",
        "\n",
        "X_train, X_test, y_train, y_test = train_test_split(X, \n",
        "                                                    Y,\n",
        "                                                    test_size=0.4,\n",
        "                                                    random_state=0)\n",
        "train = rfc.fit(X_train, y_train)\n",
        "\n",
        "print('Training set score:', rfc.score(X_train, y_train))\n",
        "print('\\nTest set score:', cross_val_score(rfc,X_test, y_test, cv=3))"
      ],
      "execution_count": 26,
      "outputs": [
        {
          "output_type": "stream",
          "text": [
            "Training set score: 0.8078013002167028\n",
            "\n",
            "Test set score: [0.78148426 0.77831958 0.78544636]\n"
          ],
          "name": "stdout"
        }
      ]
    },
    {
      "metadata": {
        "trusted": true,
        "_uuid": "da76fe737470cdaf4038228a4abf4919f2a39638",
        "id": "gcyLIk84QL6b",
        "colab_type": "code",
        "colab": {}
      },
      "cell_type": "code",
      "source": [
        "#That's not helping, let's try including more features..."
      ],
      "execution_count": 0,
      "outputs": []
    },
    {
      "metadata": {
        "trusted": true,
        "_uuid": "a31293ff61229fc5fe688acbd7fdb59e3d9fe67e",
        "id": "zU3izESjQL6f",
        "colab_type": "code",
        "colab": {
          "base_uri": "https://localhost:8080/",
          "height": 489
        },
        "outputId": "750afa7a-0bfc-40a9-ba84-320894f6ce1f"
      },
      "cell_type": "code",
      "source": [
        "threeKwords = bag_of_words(df.tokens, 3000)\n",
        "vectorizer = CountVectorizer(vocabulary=threeKwords)\n",
        "\n",
        "X = vectorizer.fit_transform(df['use'])\n",
        "df2 =  pd.DataFrame(X.toarray(), columns=vectorizer.get_feature_names())\n",
        "word_counts = pd.concat([df,df2], axis=1)\n",
        "print(word_counts.shape)\n",
        "del df2\n",
        "word_counts.head()"
      ],
      "execution_count": 28,
      "outputs": [
        {
          "output_type": "stream",
          "text": [
            "(19998, 3005)\n"
          ],
          "name": "stdout"
        },
        {
          "output_type": "execute_result",
          "data": {
            "text/html": [
              "<div>\n",
              "<style scoped>\n",
              "    .dataframe tbody tr th:only-of-type {\n",
              "        vertical-align: middle;\n",
              "    }\n",
              "\n",
              "    .dataframe tbody tr th {\n",
              "        vertical-align: top;\n",
              "    }\n",
              "\n",
              "    .dataframe thead th {\n",
              "        text-align: right;\n",
              "    }\n",
              "</style>\n",
              "<table border=\"1\" class=\"dataframe\">\n",
              "  <thead>\n",
              "    <tr style=\"text-align: right;\">\n",
              "      <th></th>\n",
              "      <th>index</th>\n",
              "      <th>id</th>\n",
              "      <th>use</th>\n",
              "      <th>borr_gender</th>\n",
              "      <th>tokens</th>\n",
              "      <th>buy</th>\n",
              "      <th>purchase</th>\n",
              "      <th>sell</th>\n",
              "      <th>business</th>\n",
              "      <th>pay</th>\n",
              "      <th>...</th>\n",
              "      <th>recovery</th>\n",
              "      <th>woodcutt</th>\n",
              "      <th>ma</th>\n",
              "      <th>suman</th>\n",
              "      <th>5.22</th>\n",
              "      <th>blood</th>\n",
              "      <th>pain</th>\n",
              "      <th>judite</th>\n",
              "      <th>oman</th>\n",
              "      <th>100-kilo</th>\n",
              "    </tr>\n",
              "  </thead>\n",
              "  <tbody>\n",
              "    <tr>\n",
              "      <th>0</th>\n",
              "      <td>462253</td>\n",
              "      <td>1122142</td>\n",
              "      <td>to pay for his upcoming semester fees</td>\n",
              "      <td>male</td>\n",
              "      <td>(to, pay, for, his, upcoming, semester, fees)</td>\n",
              "      <td>0</td>\n",
              "      <td>0</td>\n",
              "      <td>0</td>\n",
              "      <td>0</td>\n",
              "      <td>1</td>\n",
              "      <td>...</td>\n",
              "      <td>0</td>\n",
              "      <td>0</td>\n",
              "      <td>0</td>\n",
              "      <td>0</td>\n",
              "      <td>0</td>\n",
              "      <td>0</td>\n",
              "      <td>0</td>\n",
              "      <td>0</td>\n",
              "      <td>0</td>\n",
              "      <td>0</td>\n",
              "    </tr>\n",
              "    <tr>\n",
              "      <th>1</th>\n",
              "      <td>547042</td>\n",
              "      <td>1208105</td>\n",
              "      <td>to pay for children's school fees</td>\n",
              "      <td>male</td>\n",
              "      <td>(to, pay, for, children, 's, school, fees)</td>\n",
              "      <td>0</td>\n",
              "      <td>0</td>\n",
              "      <td>0</td>\n",
              "      <td>0</td>\n",
              "      <td>1</td>\n",
              "      <td>...</td>\n",
              "      <td>0</td>\n",
              "      <td>0</td>\n",
              "      <td>0</td>\n",
              "      <td>0</td>\n",
              "      <td>0</td>\n",
              "      <td>0</td>\n",
              "      <td>0</td>\n",
              "      <td>0</td>\n",
              "      <td>0</td>\n",
              "      <td>0</td>\n",
              "    </tr>\n",
              "    <tr>\n",
              "      <th>2</th>\n",
              "      <td>474336</td>\n",
              "      <td>1134293</td>\n",
              "      <td>to buy materials (iron, sheets of plywood).</td>\n",
              "      <td>male</td>\n",
              "      <td>(to, buy, materials, (, iron, ,, sheets, of, p...</td>\n",
              "      <td>1</td>\n",
              "      <td>0</td>\n",
              "      <td>0</td>\n",
              "      <td>0</td>\n",
              "      <td>0</td>\n",
              "      <td>...</td>\n",
              "      <td>0</td>\n",
              "      <td>0</td>\n",
              "      <td>0</td>\n",
              "      <td>0</td>\n",
              "      <td>0</td>\n",
              "      <td>0</td>\n",
              "      <td>0</td>\n",
              "      <td>0</td>\n",
              "      <td>0</td>\n",
              "      <td>0</td>\n",
              "    </tr>\n",
              "    <tr>\n",
              "      <th>3</th>\n",
              "      <td>301171</td>\n",
              "      <td>948414</td>\n",
              "      <td>to buy bricks, iron rods, cement, sand and gra...</td>\n",
              "      <td>female</td>\n",
              "      <td>(to, buy, bricks, ,, iron, rods, ,, cement, ,,...</td>\n",
              "      <td>1</td>\n",
              "      <td>0</td>\n",
              "      <td>0</td>\n",
              "      <td>0</td>\n",
              "      <td>0</td>\n",
              "      <td>...</td>\n",
              "      <td>0</td>\n",
              "      <td>0</td>\n",
              "      <td>0</td>\n",
              "      <td>0</td>\n",
              "      <td>0</td>\n",
              "      <td>0</td>\n",
              "      <td>0</td>\n",
              "      <td>0</td>\n",
              "      <td>0</td>\n",
              "      <td>0</td>\n",
              "    </tr>\n",
              "    <tr>\n",
              "      <th>4</th>\n",
              "      <td>175907</td>\n",
              "      <td>1086712</td>\n",
              "      <td>purchase a bag for keeping my stock</td>\n",
              "      <td>female</td>\n",
              "      <td>(purchase, a, bag, for, keeping, my, stock)</td>\n",
              "      <td>0</td>\n",
              "      <td>1</td>\n",
              "      <td>0</td>\n",
              "      <td>0</td>\n",
              "      <td>0</td>\n",
              "      <td>...</td>\n",
              "      <td>0</td>\n",
              "      <td>0</td>\n",
              "      <td>0</td>\n",
              "      <td>0</td>\n",
              "      <td>0</td>\n",
              "      <td>0</td>\n",
              "      <td>0</td>\n",
              "      <td>0</td>\n",
              "      <td>0</td>\n",
              "      <td>0</td>\n",
              "    </tr>\n",
              "  </tbody>\n",
              "</table>\n",
              "<p>5 rows × 3005 columns</p>\n",
              "</div>"
            ],
            "text/plain": [
              "    index       id                                                use  \\\n",
              "0  462253  1122142              to pay for his upcoming semester fees   \n",
              "1  547042  1208105                  to pay for children's school fees   \n",
              "2  474336  1134293        to buy materials (iron, sheets of plywood).   \n",
              "3  301171   948414  to buy bricks, iron rods, cement, sand and gra...   \n",
              "4  175907  1086712                purchase a bag for keeping my stock   \n",
              "\n",
              "  borr_gender                                             tokens  buy  \\\n",
              "0        male      (to, pay, for, his, upcoming, semester, fees)    0   \n",
              "1        male         (to, pay, for, children, 's, school, fees)    0   \n",
              "2        male  (to, buy, materials, (, iron, ,, sheets, of, p...    1   \n",
              "3      female  (to, buy, bricks, ,, iron, rods, ,, cement, ,,...    1   \n",
              "4      female        (purchase, a, bag, for, keeping, my, stock)    0   \n",
              "\n",
              "   purchase  sell  business  pay    ...     recovery  woodcutt  ma  suman  \\\n",
              "0         0     0         0    1    ...            0         0   0      0   \n",
              "1         0     0         0    1    ...            0         0   0      0   \n",
              "2         0     0         0    0    ...            0         0   0      0   \n",
              "3         0     0         0    0    ...            0         0   0      0   \n",
              "4         1     0         0    0    ...            0         0   0      0   \n",
              "\n",
              "   5.22  blood  pain  judite  oman  100-kilo  \n",
              "0     0      0     0       0     0         0  \n",
              "1     0      0     0       0     0         0  \n",
              "2     0      0     0       0     0         0  \n",
              "3     0      0     0       0     0         0  \n",
              "4     0      0     0       0     0         0  \n",
              "\n",
              "[5 rows x 3005 columns]"
            ]
          },
          "metadata": {
            "tags": []
          },
          "execution_count": 28
        }
      ]
    },
    {
      "metadata": {
        "trusted": true,
        "_uuid": "62df797ac0fa12de31c23facb11300e96c8c6c81",
        "id": "nhAOmdS2QL6j",
        "colab_type": "code",
        "colab": {
          "base_uri": "https://localhost:8080/",
          "height": 68
        },
        "outputId": "2c1ac09f-404a-425a-90ca-7a041ed13b9c"
      },
      "cell_type": "code",
      "source": [
        "rfc = ensemble.RandomForestClassifier(n_estimators=25,\n",
        "                                     max_depth=100)\n",
        "Y = word_counts['borr_gender']\n",
        "X = np.array(word_counts.drop(['index','id','use','borr_gender','tokens'], 1))\n",
        "\n",
        "X_train, X_test, y_train, y_test = train_test_split(X, \n",
        "                                                    Y,\n",
        "                                                    test_size=0.4,\n",
        "                                                    random_state=0)\n",
        "train = rfc.fit(X_train, y_train)\n",
        "\n",
        "print('Training set score:', rfc.score(X_train, y_train))\n",
        "print('\\nTest set score:', cross_val_score(rfc,X_test, y_test, cv=3))"
      ],
      "execution_count": 29,
      "outputs": [
        {
          "output_type": "stream",
          "text": [
            "Training set score: 0.9046507751291882\n",
            "\n",
            "Test set score: [0.78710645 0.78094524 0.79407352]\n"
          ],
          "name": "stdout"
        }
      ]
    },
    {
      "metadata": {
        "trusted": true,
        "_uuid": "207b545390f8d62af355dec18d28f1e970fd7a49",
        "id": "hOm2M55vQL6o",
        "colab_type": "code",
        "colab": {
          "base_uri": "https://localhost:8080/",
          "height": 68
        },
        "outputId": "9a428d1c-ae7f-44ae-b097-8675d22b4d9d"
      },
      "cell_type": "code",
      "source": [
        "rfc = ensemble.RandomForestClassifier(n_estimators=200,\n",
        "                                     max_depth=100)\n",
        "train = rfc.fit(X_train, y_train)\n",
        "\n",
        "print('Training set score:', rfc.score(X_train, y_train))\n",
        "print('\\nTest set score:', cross_val_score(rfc,X_test, y_test, cv=3))"
      ],
      "execution_count": 30,
      "outputs": [
        {
          "output_type": "stream",
          "text": [
            "Training set score: 0.9101516919486581\n",
            "\n",
            "Test set score: [0.7946027  0.78657164 0.79219805]\n"
          ],
          "name": "stdout"
        }
      ]
    },
    {
      "metadata": {
        "trusted": true,
        "_uuid": "bdfd5673ac893f3830d25b5a72be604b9916a593",
        "id": "J2cnwJYaQL6u",
        "colab_type": "code",
        "colab": {
          "base_uri": "https://localhost:8080/",
          "height": 68
        },
        "outputId": "029c377a-9cc2-4cae-a272-2abd4391d4da"
      },
      "cell_type": "code",
      "source": [
        "#One more performance intensive try...\n",
        "rfc = ensemble.RandomForestClassifier(n_estimators=250,\n",
        "                                     max_depth=None)\n",
        "train = rfc.fit(X_train, y_train)\n",
        "print('Training set score:', rfc.score(X_train, y_train))\n",
        "print('\\nTest set score:', cross_val_score(rfc,X_test, y_test, cv=3))"
      ],
      "execution_count": 31,
      "outputs": [
        {
          "output_type": "stream",
          "text": [
            "Training set score: 0.9606601100183364\n",
            "\n",
            "Test set score: [0.78523238 0.7768192  0.78769692]\n"
          ],
          "name": "stdout"
        }
      ]
    },
    {
      "metadata": {
        "trusted": true,
        "_uuid": "71644ba6c5a40f3c9ef618034ebfc5bdc2719e71",
        "id": "xOlm2Xk7QL61",
        "colab_type": "code",
        "colab": {}
      },
      "cell_type": "code",
      "source": [
        "from sklearn.feature_extraction.text import TfidfVectorizer"
      ],
      "execution_count": 0,
      "outputs": []
    },
    {
      "metadata": {
        "trusted": true,
        "_uuid": "4da1d002dcd66c9fd865d617319566e11d41d746",
        "id": "cS-rv-fzQL68",
        "colab_type": "code",
        "colab": {}
      },
      "cell_type": "code",
      "source": [
        "vectorizer = TfidfVectorizer(max_df=0.5, # drop words that occur in more than .X of the paragraphs\n",
        "                             min_df=4, # only use words that appear at least n times\n",
        "                             stop_words='english', \n",
        "                             lowercase=True, #convert everything to lower case\n",
        "                             use_idf=True,#we definitely want to use inverse document frequencies in our weighting\n",
        "                             norm=u'l2', #Applies a correction factor so that longer paragraphs and shorter paragraphs get treated equally\n",
        "                             smooth_idf=True #Adds 1 to all document frequencies, as if an extra document existed that used every word once.  Prevents divide-by-zero errors\n",
        "                            )"
      ],
      "execution_count": 0,
      "outputs": []
    },
    {
      "metadata": {
        "trusted": true,
        "_uuid": "bff6d358387bf119f99beab7c6831803832e6245",
        "id": "ji8oy7ZEQL7A",
        "colab_type": "code",
        "colab": {
          "base_uri": "https://localhost:8080/",
          "height": 34
        },
        "outputId": "55ae5a3d-8c44-4d94-ac35-b2021132e98f"
      },
      "cell_type": "code",
      "source": [
        "use_tfidf=vectorizer.fit_transform(df['use'])\n",
        "print(\"Number of features: %d\" % use_tfidf.get_shape()[1])\n"
      ],
      "execution_count": 34,
      "outputs": [
        {
          "output_type": "stream",
          "text": [
            "Number of features: 2024\n"
          ],
          "name": "stdout"
        }
      ]
    },
    {
      "metadata": {
        "trusted": true,
        "_uuid": "745ec790bc7ff9467202076fa65390e29b3add46",
        "id": "1LQtG-cYQL7I",
        "colab_type": "code",
        "colab": {}
      },
      "cell_type": "code",
      "source": [
        "from sklearn.decomposition import TruncatedSVD\n",
        "from sklearn.pipeline import make_pipeline\n",
        "from sklearn.preprocessing import Normalizer"
      ],
      "execution_count": 0,
      "outputs": []
    },
    {
      "metadata": {
        "trusted": true,
        "_uuid": "22723ff7f948a0af6c208a23edad531affebda3f",
        "id": "iNKQ0wYWQL7P",
        "colab_type": "code",
        "colab": {
          "base_uri": "https://localhost:8080/",
          "height": 1148
        },
        "outputId": "e76662d3-8980-468b-a014-34b5b70045cd"
      },
      "cell_type": "code",
      "source": [
        "#Our SVD data reducer.  We are going to reduce the feature space\n",
        "svd= TruncatedSVD(200)\n",
        "lsa = make_pipeline(svd, Normalizer(copy=False))\n",
        "# Run SVD on the training data, then project the training data.\n",
        "X_lsa = lsa.fit_transform(use_tfidf)\n",
        "\n",
        "variance_explained=svd.explained_variance_ratio_\n",
        "total_variance = variance_explained.sum()\n",
        "print(\"Percent variance captured by all components:\",total_variance*100)\n",
        "\n",
        "#Looking at what sorts of paragraphs our solution considers similar, for the first five identified topics\n",
        "paras_by_component=pd.DataFrame(X_lsa,index=df.use)\n",
        "for i in range(5):\n",
        "    print('Component {}:'.format(i))\n",
        "    print(paras_by_component.loc[:,i].sort_values(ascending=False)[0:10])"
      ],
      "execution_count": 36,
      "outputs": [
        {
          "output_type": "stream",
          "text": [
            "Percent variance captured by all components: 61.55840481159919\n",
            "Component 0:\n",
            "use\n",
            "to purchase additional groceries to sell.    0.680566\n",
            "to purchase additional groceries to sell.    0.680566\n",
            "to purchase additional groceries to sell.    0.680566\n",
            "to purchase additional groceries to sell.    0.680566\n",
            "to purchase additional groceries to sell.    0.680566\n",
            "to purchase additional groceries to sell.    0.680566\n",
            "to purchase shawls to sell.                  0.671406\n",
            "to purchase yellow eels to sell.             0.669429\n",
            "to purchase offal and grease to sell.        0.669152\n",
            "to purchase more crabs to sell.              0.669132\n",
            "Name: 0, dtype: float64\n",
            "Component 1:\n",
            "use\n",
            " To buy a water filter to provide safe drinking water for their family.\\t     0.983172\n",
            "To buy a water filter to provide safe drinking water for their family.\\t\\t    0.983172\n",
            "to buy a water filter to provide safe drinking water for their family.        0.983172\n",
            "To buy a water filter to provide safe drinking water for their family.        0.983172\n",
            "to buy a water filter to provide safe drinking water for her family.          0.983172\n",
            "To buy a water filter to provide safe drinking water for her family.          0.983172\n",
            "to buy a water filter to provide safe drinking water for their family.        0.983172\n",
            "to buy a water filter to provide safe drinking water for their family.        0.983172\n",
            "To buy a water filter to provide safe drinking water for their family         0.983172\n",
            " To buy a water filter to provide safe drinking water for their family.\\t     0.983172\n",
            "Name: 1, dtype: float64\n",
            "Component 2:\n",
            "use\n",
            "to purchase feed and other supplies to raise her pigs.          0.734333\n",
            "to purchase feed and other supplies to raise her pigs.          0.734333\n",
            "to purchase feed and other supplies to raise her pigs.          0.734333\n",
            "to purchase feed and other supplies to raise her pigs.          0.734333\n",
            "to buy feed, vitamins and other supplies to raise her pigs.     0.732224\n",
            "to buy feed, vitamins, and other supplies to raise her pigs.    0.732224\n",
            "to buy feed, vitamins, and other supplies to raise her pigs.    0.732224\n",
            "to buy feed, other supplies and vitamins to raise her pigs.     0.732224\n",
            "to buy feed, other supplies, and vitamins to raise her pigs.    0.732224\n",
            "to buy feed, vitamins, and other supplies to raise her pigs     0.732224\n",
            "Name: 2, dtype: float64\n",
            "Component 3:\n",
            "use\n",
            "to purchase farm inputs with the hope that it will help her to pay her children's school fees    0.513943\n",
            "to pay for specialization fees                                                                   0.507275\n",
            "o pay her Technical registration fees                                                            0.506602\n",
            "to pay examination fees.                                                                         0.504872\n",
            "to pay her technical study fees.                                                                 0.503657\n",
            "to pay the fees for her business administration program.                                         0.501569\n",
            "to pay her program fees                                                                          0.501366\n",
            "to pay her program fees                                                                          0.501366\n",
            "to pay for his legal residency permit fees.                                                      0.500280\n",
            "to pay legal fees for an inheritance.                                                            0.500280\n",
            "Name: 3, dtype: float64\n",
            "Component 4:\n",
            "use\n",
            "to pay her school tuition fees.                        0.624768\n",
            "to pay school tuition fees                             0.624768\n",
            "to pay her nephew's school tuition fees.               0.624768\n",
            "to pay for tuition fees, allowances, and a uniform.    0.619665\n",
            "to pay for tuition fees and allowances                 0.618678\n",
            "to pay his tuition fees                                0.618678\n",
            "To pay her tuition fees                                0.618678\n",
            "to pay for her tuition fees                            0.618678\n",
            "to pay for his niece's tuition fees.                   0.618678\n",
            "to pay her tuition fees                                0.618678\n",
            "Name: 4, dtype: float64\n"
          ],
          "name": "stdout"
        }
      ]
    },
    {
      "metadata": {
        "trusted": true,
        "_uuid": "57a735c33ae6592e5f10521dd856bc24cec023f4",
        "id": "tN21k8BiQL7U",
        "colab_type": "code",
        "colab": {
          "base_uri": "https://localhost:8080/",
          "height": 51
        },
        "outputId": "a3bdb660-02f0-4e35-f2b6-8f80edb07d28"
      },
      "cell_type": "code",
      "source": [
        "# Random Forest attempt\n",
        "rfc = ensemble.RandomForestClassifier(n_estimators=25,\n",
        "                                     max_depth=None)\n",
        "Y = df['borr_gender']\n",
        "X = X_lsa\n",
        "\n",
        "train = rfc.fit(X, Y)\n",
        "print('\\nTest set score:', cross_val_score(rfc,X, Y, cv=3))"
      ],
      "execution_count": 37,
      "outputs": [
        {
          "output_type": "stream",
          "text": [
            "\n",
            "Test set score: [0.7940603  0.79417942 0.79939985]\n"
          ],
          "name": "stdout"
        }
      ]
    },
    {
      "metadata": {
        "trusted": true,
        "_uuid": "82df187b598564792099d70167ba6abf2d6ca3b9",
        "id": "nklCVAwgQL7a",
        "colab_type": "code",
        "colab": {
          "base_uri": "https://localhost:8080/",
          "height": 51
        },
        "outputId": "453cf849-ad18-45e1-b681-25af83ff0fed"
      },
      "cell_type": "code",
      "source": [
        "# Random Forest attempt\n",
        "rfc = ensemble.RandomForestClassifier(n_estimators=250,\n",
        "                                     max_depth=100)\n",
        "Y = df['borr_gender']\n",
        "X = X_lsa\n",
        "\n",
        "train = rfc.fit(X, Y)\n",
        "print('\\nTest set score:', cross_val_score(rfc,X, Y, cv=3))"
      ],
      "execution_count": 38,
      "outputs": [
        {
          "output_type": "stream",
          "text": [
            "\n",
            "Test set score: [0.79781011 0.80078008 0.79579895]\n"
          ],
          "name": "stdout"
        }
      ]
    },
    {
      "metadata": {
        "trusted": true,
        "_uuid": "171b41da996f2ae4241c63969d7082dcb0def121",
        "id": "Bk5wwQMSQL7g",
        "colab_type": "code",
        "colab": {
          "base_uri": "https://localhost:8080/",
          "height": 51
        },
        "outputId": "d3ec322a-9a72-4c07-8a9d-76adbc1e2cec"
      },
      "cell_type": "code",
      "source": [
        "lr = LogisticRegression(solver='liblinear')\n",
        "train = lr.fit(X, Y)\n",
        "print('\\nCV score:', cross_val_score(lr,X, Y, cv=3))"
      ],
      "execution_count": 39,
      "outputs": [
        {
          "output_type": "stream",
          "text": [
            "\n",
            "CV score: [0.79271036 0.79807981 0.80435109]\n"
          ],
          "name": "stdout"
        }
      ]
    },
    {
      "metadata": {
        "_uuid": "583d91cce0675223216383fed2350a3d5ca4fdad",
        "id": "kMc1VZMnQL7l",
        "colab_type": "text"
      },
      "cell_type": "markdown",
      "source": [
        "Both of these methods seem to be convergin on .8 in cross validation. "
      ]
    },
    {
      "metadata": {
        "trusted": true,
        "_uuid": "d677c12ee0e695e51d8fe592a7569fbd6d597619",
        "id": "NXwxEXHNQL7n",
        "colab_type": "code",
        "colab": {}
      },
      "cell_type": "code",
      "source": [
        ""
      ],
      "execution_count": 0,
      "outputs": []
    }
  ]
}
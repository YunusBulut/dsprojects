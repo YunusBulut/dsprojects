{
 "cells": [
  {
   "cell_type": "code",
   "execution_count": 38,
   "metadata": {},
   "outputs": [],
   "source": [
    "import pandas as pd\n",
    "from matplotlib import pyplot as plt\n",
    "import numpy as np\n",
    "import math\n",
    "import seaborn as sns\n",
    "import sklearn\n",
    "from sklearn import linear_model\n",
    "from sklearn import preprocessing\n",
    "%matplotlib inline\n",
    "sns.set_style('white')\n",
    "from sklearn.linear_model import LogisticRegression\n",
    "import statsmodels.discrete.discrete_model as sm"
   ]
  },
  {
   "cell_type": "code",
   "execution_count": 2,
   "metadata": {},
   "outputs": [
    {
     "name": "stderr",
     "output_type": "stream",
     "text": [
      "c:\\users\\greg\\appdata\\local\\programs\\python\\python37-32\\lib\\site-packages\\IPython\\core\\interactiveshell.py:2785: DtypeWarning: Columns (4,11,12,13) have mixed types. Specify dtype option on import or set low_memory=False.\n",
      "  interactivity=interactivity, compiler=compiler, result=result)\n"
     ]
    },
    {
     "data": {
      "text/plain": [
       "(72032, 41)"
      ]
     },
     "metadata": {},
     "output_type": "display_data"
    },
    {
     "data": {
      "text/html": [
       "<div>\n",
       "<style scoped>\n",
       "    .dataframe tbody tr th:only-of-type {\n",
       "        vertical-align: middle;\n",
       "    }\n",
       "\n",
       "    .dataframe tbody tr th {\n",
       "        vertical-align: top;\n",
       "    }\n",
       "\n",
       "    .dataframe thead th {\n",
       "        text-align: right;\n",
       "    }\n",
       "</style>\n",
       "<table border=\"1\" class=\"dataframe\">\n",
       "  <thead>\n",
       "    <tr style=\"text-align: right;\">\n",
       "      <th></th>\n",
       "      <th>Id</th>\n",
       "      <th>UNITID</th>\n",
       "      <th>INSTNM</th>\n",
       "      <th>STABBR</th>\n",
       "      <th>AccredAgency</th>\n",
       "      <th>HCM2</th>\n",
       "      <th>main</th>\n",
       "      <th>NUMBRANCH</th>\n",
       "      <th>PREDDEG</th>\n",
       "      <th>CONTROL</th>\n",
       "      <th>...</th>\n",
       "      <th>HI_INC_DEBT_N</th>\n",
       "      <th>DEP_DEBT_N</th>\n",
       "      <th>IND_DEBT_N</th>\n",
       "      <th>PELL_DEBT_N</th>\n",
       "      <th>NOPELL_DEBT_N</th>\n",
       "      <th>FEMALE_DEBT_N</th>\n",
       "      <th>MALE_DEBT_N</th>\n",
       "      <th>FIRSTGEN_DEBT_N</th>\n",
       "      <th>NOTFIRSTGEN_DEBT_N</th>\n",
       "      <th>Year</th>\n",
       "    </tr>\n",
       "  </thead>\n",
       "  <tbody>\n",
       "    <tr>\n",
       "      <th>0</th>\n",
       "      <td>52668</td>\n",
       "      <td>100654</td>\n",
       "      <td>ALABAMA A &amp; M UNIVERSITY</td>\n",
       "      <td>AL</td>\n",
       "      <td>NaN</td>\n",
       "      <td>0</td>\n",
       "      <td>True</td>\n",
       "      <td>1</td>\n",
       "      <td>Predominantly bachelor's-degree granting</td>\n",
       "      <td>Public</td>\n",
       "      <td>...</td>\n",
       "      <td>234.0</td>\n",
       "      <td>2384.0</td>\n",
       "      <td>565.0</td>\n",
       "      <td>2400.0</td>\n",
       "      <td>554.0</td>\n",
       "      <td>1516.0</td>\n",
       "      <td>1325.0</td>\n",
       "      <td>938.0</td>\n",
       "      <td>1476.0</td>\n",
       "      <td>2004</td>\n",
       "    </tr>\n",
       "    <tr>\n",
       "      <th>1</th>\n",
       "      <td>52669</td>\n",
       "      <td>100663</td>\n",
       "      <td>UNIVERSITY OF ALABAMA AT BIRMINGHAM</td>\n",
       "      <td>AL</td>\n",
       "      <td>NaN</td>\n",
       "      <td>0</td>\n",
       "      <td>True</td>\n",
       "      <td>1</td>\n",
       "      <td>Predominantly bachelor's-degree granting</td>\n",
       "      <td>Public</td>\n",
       "      <td>...</td>\n",
       "      <td>592.0</td>\n",
       "      <td>2913.0</td>\n",
       "      <td>1726.0</td>\n",
       "      <td>2805.0</td>\n",
       "      <td>1849.0</td>\n",
       "      <td>2921.0</td>\n",
       "      <td>1567.0</td>\n",
       "      <td>1662.0</td>\n",
       "      <td>2455.0</td>\n",
       "      <td>2004</td>\n",
       "    </tr>\n",
       "    <tr>\n",
       "      <th>2</th>\n",
       "      <td>52670</td>\n",
       "      <td>100690</td>\n",
       "      <td>Amridge University</td>\n",
       "      <td>AL</td>\n",
       "      <td>NaN</td>\n",
       "      <td>0</td>\n",
       "      <td>True</td>\n",
       "      <td>1</td>\n",
       "      <td>Predominantly bachelor's-degree granting</td>\n",
       "      <td>Private nonprofit</td>\n",
       "      <td>...</td>\n",
       "      <td>NaN</td>\n",
       "      <td>NaN</td>\n",
       "      <td>325.0</td>\n",
       "      <td>254.0</td>\n",
       "      <td>NaN</td>\n",
       "      <td>157.0</td>\n",
       "      <td>181.0</td>\n",
       "      <td>162.0</td>\n",
       "      <td>131.0</td>\n",
       "      <td>2004</td>\n",
       "    </tr>\n",
       "    <tr>\n",
       "      <th>3</th>\n",
       "      <td>52671</td>\n",
       "      <td>100706</td>\n",
       "      <td>University of Alabama in Huntsville</td>\n",
       "      <td>AL</td>\n",
       "      <td>NaN</td>\n",
       "      <td>0</td>\n",
       "      <td>True</td>\n",
       "      <td>1</td>\n",
       "      <td>Predominantly bachelor's-degree granting</td>\n",
       "      <td>Public</td>\n",
       "      <td>...</td>\n",
       "      <td>282.0</td>\n",
       "      <td>1120.0</td>\n",
       "      <td>831.0</td>\n",
       "      <td>1172.0</td>\n",
       "      <td>783.0</td>\n",
       "      <td>1071.0</td>\n",
       "      <td>828.0</td>\n",
       "      <td>653.0</td>\n",
       "      <td>1132.0</td>\n",
       "      <td>2004</td>\n",
       "    </tr>\n",
       "    <tr>\n",
       "      <th>4</th>\n",
       "      <td>52672</td>\n",
       "      <td>100724</td>\n",
       "      <td>ALABAMA STATE UNIVERSITY</td>\n",
       "      <td>AL</td>\n",
       "      <td>NaN</td>\n",
       "      <td>0</td>\n",
       "      <td>True</td>\n",
       "      <td>1</td>\n",
       "      <td>Predominantly bachelor's-degree granting</td>\n",
       "      <td>Public</td>\n",
       "      <td>...</td>\n",
       "      <td>207.0</td>\n",
       "      <td>2988.0</td>\n",
       "      <td>637.0</td>\n",
       "      <td>3087.0</td>\n",
       "      <td>548.0</td>\n",
       "      <td>1943.0</td>\n",
       "      <td>1563.0</td>\n",
       "      <td>1181.0</td>\n",
       "      <td>1655.0</td>\n",
       "      <td>2004</td>\n",
       "    </tr>\n",
       "  </tbody>\n",
       "</table>\n",
       "<p>5 rows × 41 columns</p>\n",
       "</div>"
      ],
      "text/plain": [
       "      Id  UNITID                               INSTNM STABBR AccredAgency  \\\n",
       "0  52668  100654             ALABAMA A & M UNIVERSITY     AL          NaN   \n",
       "1  52669  100663  UNIVERSITY OF ALABAMA AT BIRMINGHAM     AL          NaN   \n",
       "2  52670  100690                   Amridge University     AL          NaN   \n",
       "3  52671  100706  University of Alabama in Huntsville     AL          NaN   \n",
       "4  52672  100724             ALABAMA STATE UNIVERSITY     AL          NaN   \n",
       "\n",
       "   HCM2  main  NUMBRANCH                                   PREDDEG  \\\n",
       "0     0  True          1  Predominantly bachelor's-degree granting   \n",
       "1     0  True          1  Predominantly bachelor's-degree granting   \n",
       "2     0  True          1  Predominantly bachelor's-degree granting   \n",
       "3     0  True          1  Predominantly bachelor's-degree granting   \n",
       "4     0  True          1  Predominantly bachelor's-degree granting   \n",
       "\n",
       "             CONTROL  ...  HI_INC_DEBT_N DEP_DEBT_N IND_DEBT_N PELL_DEBT_N  \\\n",
       "0             Public  ...          234.0     2384.0      565.0      2400.0   \n",
       "1             Public  ...          592.0     2913.0     1726.0      2805.0   \n",
       "2  Private nonprofit  ...            NaN        NaN      325.0       254.0   \n",
       "3             Public  ...          282.0     1120.0      831.0      1172.0   \n",
       "4             Public  ...          207.0     2988.0      637.0      3087.0   \n",
       "\n",
       "  NOPELL_DEBT_N  FEMALE_DEBT_N  MALE_DEBT_N  FIRSTGEN_DEBT_N  \\\n",
       "0         554.0         1516.0       1325.0            938.0   \n",
       "1        1849.0         2921.0       1567.0           1662.0   \n",
       "2           NaN          157.0        181.0            162.0   \n",
       "3         783.0         1071.0        828.0            653.0   \n",
       "4         548.0         1943.0       1563.0           1181.0   \n",
       "\n",
       "   NOTFIRSTGEN_DEBT_N  Year  \n",
       "0              1476.0  2004  \n",
       "1              2455.0  2004  \n",
       "2               131.0  2004  \n",
       "3              1132.0  2004  \n",
       "4              1655.0  2004  \n",
       "\n",
       "[5 rows x 41 columns]"
      ]
     },
     "execution_count": 2,
     "metadata": {},
     "output_type": "execute_result"
    }
   ],
   "source": [
    "file = 'C:/Users/Greg/Documents/Personal/Thinkful/dsprojects/prepcap/Scorecard_Final.csv'\n",
    "df = pd.read_csv(file)\n",
    "display(df.shape)\n",
    "df.head()"
   ]
  },
  {
   "cell_type": "code",
   "execution_count": 3,
   "metadata": {},
   "outputs": [],
   "source": [
    "df['y'] = np.where(df.CONTROL == 'Public', 1, 0)\n"
   ]
  },
  {
   "cell_type": "code",
   "execution_count": 4,
   "metadata": {},
   "outputs": [
    {
     "data": {
      "text/plain": [
       "Id                      int64\n",
       "UNITID                  int64\n",
       "INSTNM                 object\n",
       "STABBR                 object\n",
       "AccredAgency           object\n",
       "HCM2                    int64\n",
       "main                     bool\n",
       "NUMBRANCH               int64\n",
       "PREDDEG                object\n",
       "CONTROL                object\n",
       "region                 object\n",
       "LOCALE                 object\n",
       "CCBASIC                object\n",
       "CCUGPROF               object\n",
       "RELAFFIL               object\n",
       "PCIP01                float64\n",
       "CURROPER                 bool\n",
       "NPT4_PUB              float64\n",
       "NPT4_PRIV             float64\n",
       "CDR3                  float64\n",
       "DEATH_YR2_RT          float64\n",
       "DEATH_YR3_RT          float64\n",
       "DEATH_YR4_RT          float64\n",
       "DEATH_YR6_RT          float64\n",
       "DEATH_YR8_RT          float64\n",
       "DEBT_MDN              float64\n",
       "DEBT_N                float64\n",
       "GRAD_DEBT_N           float64\n",
       "WDRAW_DEBT_N          float64\n",
       "LO_INC_DEBT_N         float64\n",
       "MD_INC_DEBT_N         float64\n",
       "HI_INC_DEBT_N         float64\n",
       "DEP_DEBT_N            float64\n",
       "IND_DEBT_N            float64\n",
       "PELL_DEBT_N           float64\n",
       "NOPELL_DEBT_N         float64\n",
       "FEMALE_DEBT_N         float64\n",
       "MALE_DEBT_N           float64\n",
       "FIRSTGEN_DEBT_N       float64\n",
       "NOTFIRSTGEN_DEBT_N    float64\n",
       "Year                    int64\n",
       "y                       int32\n",
       "dtype: object"
      ]
     },
     "execution_count": 4,
     "metadata": {},
     "output_type": "execute_result"
    }
   ],
   "source": [
    "df.dtypes"
   ]
  },
  {
   "cell_type": "code",
   "execution_count": 5,
   "metadata": {},
   "outputs": [
    {
     "data": {
      "text/html": [
       "<div>\n",
       "<style scoped>\n",
       "    .dataframe tbody tr th:only-of-type {\n",
       "        vertical-align: middle;\n",
       "    }\n",
       "\n",
       "    .dataframe tbody tr th {\n",
       "        vertical-align: top;\n",
       "    }\n",
       "\n",
       "    .dataframe thead th {\n",
       "        text-align: right;\n",
       "    }\n",
       "</style>\n",
       "<table border=\"1\" class=\"dataframe\">\n",
       "  <thead>\n",
       "    <tr style=\"text-align: right;\">\n",
       "      <th></th>\n",
       "      <th>NUMBRANCH</th>\n",
       "      <th>DEBT_MDN</th>\n",
       "      <th>DEBT_N</th>\n",
       "      <th>LO_INC_DEBT_N</th>\n",
       "      <th>MD_INC_DEBT_N</th>\n",
       "      <th>HI_INC_DEBT_N</th>\n",
       "      <th>FEMALE_DEBT_N</th>\n",
       "      <th>MALE_DEBT_N</th>\n",
       "    </tr>\n",
       "    <tr>\n",
       "      <th>y</th>\n",
       "      <th></th>\n",
       "      <th></th>\n",
       "      <th></th>\n",
       "      <th></th>\n",
       "      <th></th>\n",
       "      <th></th>\n",
       "      <th></th>\n",
       "      <th></th>\n",
       "    </tr>\n",
       "  </thead>\n",
       "  <tbody>\n",
       "    <tr>\n",
       "      <th>0</th>\n",
       "      <td>15792</td>\n",
       "      <td>15792</td>\n",
       "      <td>15792</td>\n",
       "      <td>15792</td>\n",
       "      <td>15792</td>\n",
       "      <td>15792</td>\n",
       "      <td>15792</td>\n",
       "      <td>15792</td>\n",
       "    </tr>\n",
       "    <tr>\n",
       "      <th>1</th>\n",
       "      <td>12667</td>\n",
       "      <td>12667</td>\n",
       "      <td>12667</td>\n",
       "      <td>12667</td>\n",
       "      <td>12667</td>\n",
       "      <td>12667</td>\n",
       "      <td>12667</td>\n",
       "      <td>12667</td>\n",
       "    </tr>\n",
       "  </tbody>\n",
       "</table>\n",
       "</div>"
      ],
      "text/plain": [
       "   NUMBRANCH  DEBT_MDN  DEBT_N  LO_INC_DEBT_N  MD_INC_DEBT_N  HI_INC_DEBT_N  \\\n",
       "y                                                                             \n",
       "0      15792     15792   15792          15792          15792          15792   \n",
       "1      12667     12667   12667          12667          12667          12667   \n",
       "\n",
       "   FEMALE_DEBT_N  MALE_DEBT_N  \n",
       "y                              \n",
       "0          15792        15792  \n",
       "1          12667        12667  "
      ]
     },
     "execution_count": 5,
     "metadata": {},
     "output_type": "execute_result"
    }
   ],
   "source": [
    "feats = df[['y', 'NUMBRANCH', 'DEBT_MDN', 'DEBT_N', 'LO_INC_DEBT_N', 'MD_INC_DEBT_N', 'HI_INC_DEBT_N', 'FEMALE_DEBT_N', 'MALE_DEBT_N']]\n",
    "feats = feats.dropna(axis=0)\n",
    "feats.groupby('y').agg('count')"
   ]
  },
  {
   "cell_type": "code",
   "execution_count": 6,
   "metadata": {},
   "outputs": [
    {
     "name": "stdout",
     "output_type": "stream",
     "text": [
      "(14229, 8) (14230, 8) (14229,) (14230,)\n"
     ]
    }
   ],
   "source": [
    "split = int(len(feats)/2)\n",
    "dftrain = feats.iloc[:split:, :].copy()\n",
    "dftest = feats.iloc[split:, :].copy()\n",
    "Xtrain = dftrain.drop('y', axis=1)\n",
    "Xtest = dftest.drop('y', axis=1)\n",
    "Ytrain = dftrain['y']\n",
    "Ytest = dftest['y']\n",
    "\n",
    "\n",
    "print(Xtrain.shape, Xtest.shape, Ytrain.shape, Ytest.shape)"
   ]
  },
  {
   "cell_type": "code",
   "execution_count": 7,
   "metadata": {},
   "outputs": [
    {
     "name": "stderr",
     "output_type": "stream",
     "text": [
      "c:\\users\\greg\\appdata\\local\\programs\\python\\python37-32\\lib\\site-packages\\sklearn\\linear_model\\logistic.py:432: FutureWarning: Default solver will be changed to 'lbfgs' in 0.22. Specify a solver to silence this warning.\n",
      "  FutureWarning)\n"
     ]
    },
    {
     "name": "stdout",
     "output_type": "stream",
     "text": [
      "\n",
      " Percentage accuracy vanilla\n",
      "0.7522839072382291\n"
     ]
    },
    {
     "name": "stderr",
     "output_type": "stream",
     "text": [
      "c:\\users\\greg\\appdata\\local\\programs\\python\\python37-32\\lib\\site-packages\\sklearn\\linear_model\\logistic.py:432: FutureWarning: Default solver will be changed to 'lbfgs' in 0.22. Specify a solver to silence this warning.\n",
      "  FutureWarning)\n"
     ]
    },
    {
     "name": "stdout",
     "output_type": "stream",
     "text": [
      "\n",
      " Percentage accuracy ridge\n",
      "0.7545326774420239\n"
     ]
    },
    {
     "name": "stderr",
     "output_type": "stream",
     "text": [
      "c:\\users\\greg\\appdata\\local\\programs\\python\\python37-32\\lib\\site-packages\\sklearn\\linear_model\\logistic.py:432: FutureWarning: Default solver will be changed to 'lbfgs' in 0.22. Specify a solver to silence this warning.\n",
      "  FutureWarning)\n"
     ]
    },
    {
     "name": "stdout",
     "output_type": "stream",
     "text": [
      "\n",
      " Percentage accuracy lasso\n",
      "0.8560787069571328\n"
     ]
    },
    {
     "name": "stderr",
     "output_type": "stream",
     "text": [
      "c:\\users\\greg\\appdata\\local\\programs\\python\\python37-32\\lib\\site-packages\\sklearn\\svm\\base.py:922: ConvergenceWarning: Liblinear failed to converge, increase the number of iterations.\n",
      "  \"the number of iterations.\", ConvergenceWarning)\n"
     ]
    }
   ],
   "source": [
    "lr = linear_model.LogisticRegression(penalty='l2', C=1e9)\n",
    "lr = lr.fit(Xtrain, Ytrain)\n",
    "print('\\n Percentage accuracy vanilla')\n",
    "print(lr.score(Xtest, Ytest))\n",
    "\n",
    "ridge = linear_model.LogisticRegression(penalty='l2', C=1)\n",
    "ridgefit = ridge.fit(Xtrain, Ytrain)\n",
    "print('\\n Percentage accuracy ridge')\n",
    "print(ridgefit.score(Xtest, Ytest))\n",
    "\n",
    "\n",
    "lasso = linear_model.LogisticRegression(penalty='l1', C=1)\n",
    "lassfit = lasso.fit(Xtrain, Ytrain)\n",
    "print('\\n Percentage accuracy lasso')\n",
    "print(lassfit.score(Xtest, Ytest))"
   ]
  },
  {
   "cell_type": "code",
   "execution_count": 8,
   "metadata": {},
   "outputs": [
    {
     "name": "stdout",
     "output_type": "stream",
     "text": [
      "0.822487702037948\n",
      "0.7520028109627548\n",
      "0.7549543218552354\n",
      "0.7523541813070976\n",
      "0.7713984539704849\n",
      "0.816865776528461\n",
      "0.7530569219957836\n",
      "0.7591004919184821\n",
      "0.7521433591004919\n",
      "0.7545326774420239\n",
      "0.7479971890372452\n",
      "0.7469430780042164\n",
      "0.7839775122979621\n",
      "0.826563598032326\n",
      "0.7472241742796908\n",
      "0.823330990864371\n",
      "0.7517919887561489\n",
      "0.7688685874912158\n",
      "0.7513000702740689\n"
     ]
    }
   ],
   "source": [
    "for C in range(1,20,1):\n",
    "    C = C/10\n",
    "    ridge = linear_model.LogisticRegression(penalty='l2', C=C, solver='liblinear')\n",
    "    ridgefit = ridge.fit(Xtrain, Ytrain)\n",
    "    print(ridgefit.score(Xtest, Ytest))"
   ]
  },
  {
   "cell_type": "markdown",
   "metadata": {},
   "source": [
    "for C in range(1,5,1):\n",
    "    C = C/10\n",
    "    lasso = linear_model.LogisticRegression(penalty='l1', C=C, solver='liblinear', max_iter=200)\n",
    "    lassfit = lasso.fit(Xtrain, Ytrain)\n",
    "    print(lassfit.score(Xtest, Ytest))"
   ]
  },
  {
   "cell_type": "code",
   "execution_count": 9,
   "metadata": {},
   "outputs": [
    {
     "data": {
      "text/plain": [
       "array([[-2.94178343e-01, -8.06468837e-05,  8.12880554e-03,\n",
       "         3.57444312e-02,  3.68252000e-02,  3.69371662e-02,\n",
       "        -4.48669192e-02, -4.48872534e-02]])"
      ]
     },
     "execution_count": 9,
     "metadata": {},
     "output_type": "execute_result"
    }
   ],
   "source": [
    "lr.coef_"
   ]
  },
  {
   "cell_type": "code",
   "execution_count": 10,
   "metadata": {},
   "outputs": [
    {
     "data": {
      "text/plain": [
       "array([[-2.79730246e-01, -8.38442596e-05,  8.08434261e-03,\n",
       "         3.66301098e-02,  3.77581603e-02,  3.78529296e-02,\n",
       "        -4.57466320e-02, -4.57566609e-02]])"
      ]
     },
     "execution_count": 10,
     "metadata": {},
     "output_type": "execute_result"
    }
   ],
   "source": [
    "ridgefit.coef_"
   ]
  },
  {
   "cell_type": "code",
   "execution_count": 11,
   "metadata": {},
   "outputs": [
    {
     "data": {
      "text/plain": [
       "array([[-7.07749589e-01, -3.25678024e-04,  8.66141108e-03,\n",
       "         6.47117712e-03,  6.48711139e-03,  8.71299530e-03,\n",
       "        -1.54370079e-02, -1.56344448e-02]])"
      ]
     },
     "execution_count": 11,
     "metadata": {},
     "output_type": "execute_result"
    }
   ],
   "source": [
    "lassfit.coef_"
   ]
  },
  {
   "cell_type": "code",
   "execution_count": 12,
   "metadata": {},
   "outputs": [],
   "source": [
    "#I suspect the high value of the features is making all the coefficients low, even when they are meaningful. \n",
    "#I'm going to scale down the features without changing anything else and see if that gives more intuitive coefficients"
   ]
  },
  {
   "cell_type": "code",
   "execution_count": 13,
   "metadata": {},
   "outputs": [
    {
     "data": {
      "text/html": [
       "<div>\n",
       "<style scoped>\n",
       "    .dataframe tbody tr th:only-of-type {\n",
       "        vertical-align: middle;\n",
       "    }\n",
       "\n",
       "    .dataframe tbody tr th {\n",
       "        vertical-align: top;\n",
       "    }\n",
       "\n",
       "    .dataframe thead th {\n",
       "        text-align: right;\n",
       "    }\n",
       "</style>\n",
       "<table border=\"1\" class=\"dataframe\">\n",
       "  <thead>\n",
       "    <tr style=\"text-align: right;\">\n",
       "      <th></th>\n",
       "      <th>y</th>\n",
       "      <th>NUMBRANCH</th>\n",
       "      <th>DEBT_MDN</th>\n",
       "      <th>DEBT_N</th>\n",
       "      <th>LO_INC_DEBT_N</th>\n",
       "      <th>MD_INC_DEBT_N</th>\n",
       "      <th>HI_INC_DEBT_N</th>\n",
       "      <th>FEMALE_DEBT_N</th>\n",
       "      <th>MALE_DEBT_N</th>\n",
       "    </tr>\n",
       "  </thead>\n",
       "  <tbody>\n",
       "    <tr>\n",
       "      <th>0</th>\n",
       "      <td>1</td>\n",
       "      <td>1</td>\n",
       "      <td>13625.0</td>\n",
       "      <td>3092.0</td>\n",
       "      <td>1872.0</td>\n",
       "      <td>843.0</td>\n",
       "      <td>234.0</td>\n",
       "      <td>1516.0</td>\n",
       "      <td>1325.0</td>\n",
       "    </tr>\n",
       "    <tr>\n",
       "      <th>1</th>\n",
       "      <td>1</td>\n",
       "      <td>1</td>\n",
       "      <td>10500.0</td>\n",
       "      <td>4938.0</td>\n",
       "      <td>2566.0</td>\n",
       "      <td>1481.0</td>\n",
       "      <td>592.0</td>\n",
       "      <td>2921.0</td>\n",
       "      <td>1567.0</td>\n",
       "    </tr>\n",
       "    <tr>\n",
       "      <th>3</th>\n",
       "      <td>1</td>\n",
       "      <td>1</td>\n",
       "      <td>10500.0</td>\n",
       "      <td>2036.0</td>\n",
       "      <td>970.0</td>\n",
       "      <td>699.0</td>\n",
       "      <td>282.0</td>\n",
       "      <td>1071.0</td>\n",
       "      <td>828.0</td>\n",
       "    </tr>\n",
       "    <tr>\n",
       "      <th>4</th>\n",
       "      <td>1</td>\n",
       "      <td>1</td>\n",
       "      <td>11000.0</td>\n",
       "      <td>3896.0</td>\n",
       "      <td>2552.0</td>\n",
       "      <td>866.0</td>\n",
       "      <td>207.0</td>\n",
       "      <td>1943.0</td>\n",
       "      <td>1563.0</td>\n",
       "    </tr>\n",
       "    <tr>\n",
       "      <th>5</th>\n",
       "      <td>1</td>\n",
       "      <td>1</td>\n",
       "      <td>14500.0</td>\n",
       "      <td>5786.0</td>\n",
       "      <td>2248.0</td>\n",
       "      <td>1961.0</td>\n",
       "      <td>1311.0</td>\n",
       "      <td>2951.0</td>\n",
       "      <td>2427.0</td>\n",
       "    </tr>\n",
       "  </tbody>\n",
       "</table>\n",
       "</div>"
      ],
      "text/plain": [
       "   y  NUMBRANCH  DEBT_MDN  DEBT_N  LO_INC_DEBT_N  MD_INC_DEBT_N  \\\n",
       "0  1          1   13625.0  3092.0         1872.0          843.0   \n",
       "1  1          1   10500.0  4938.0         2566.0         1481.0   \n",
       "3  1          1   10500.0  2036.0          970.0          699.0   \n",
       "4  1          1   11000.0  3896.0         2552.0          866.0   \n",
       "5  1          1   14500.0  5786.0         2248.0         1961.0   \n",
       "\n",
       "   HI_INC_DEBT_N  FEMALE_DEBT_N  MALE_DEBT_N  \n",
       "0          234.0         1516.0       1325.0  \n",
       "1          592.0         2921.0       1567.0  \n",
       "3          282.0         1071.0        828.0  \n",
       "4          207.0         1943.0       1563.0  \n",
       "5         1311.0         2951.0       2427.0  "
      ]
     },
     "execution_count": 13,
     "metadata": {},
     "output_type": "execute_result"
    }
   ],
   "source": [
    "feats.head()"
   ]
  },
  {
   "cell_type": "code",
   "execution_count": 20,
   "metadata": {},
   "outputs": [
    {
     "name": "stderr",
     "output_type": "stream",
     "text": [
      "c:\\users\\greg\\appdata\\local\\programs\\python\\python37-32\\lib\\site-packages\\sklearn\\preprocessing\\data.py:617: DataConversionWarning: Data with input dtype int64, float64 were all converted to float64 by StandardScaler.\n",
      "  return self.partial_fit(X, y)\n",
      "c:\\users\\greg\\appdata\\local\\programs\\python\\python37-32\\lib\\site-packages\\sklearn\\base.py:462: DataConversionWarning: Data with input dtype int64, float64 were all converted to float64 by StandardScaler.\n",
      "  return self.fit(X, **fit_params).transform(X)\n"
     ]
    },
    {
     "data": {
      "text/html": [
       "<div>\n",
       "<style scoped>\n",
       "    .dataframe tbody tr th:only-of-type {\n",
       "        vertical-align: middle;\n",
       "    }\n",
       "\n",
       "    .dataframe tbody tr th {\n",
       "        vertical-align: top;\n",
       "    }\n",
       "\n",
       "    .dataframe thead th {\n",
       "        text-align: right;\n",
       "    }\n",
       "</style>\n",
       "<table border=\"1\" class=\"dataframe\">\n",
       "  <thead>\n",
       "    <tr style=\"text-align: right;\">\n",
       "      <th></th>\n",
       "      <th>y</th>\n",
       "      <th>NUMBRANCH</th>\n",
       "      <th>DEBT_MDN</th>\n",
       "      <th>DEBT_N</th>\n",
       "      <th>LO_INC_DEBT_N</th>\n",
       "      <th>MD_INC_DEBT_N</th>\n",
       "      <th>HI_INC_DEBT_N</th>\n",
       "      <th>FEMALE_DEBT_N</th>\n",
       "      <th>MALE_DEBT_N</th>\n",
       "    </tr>\n",
       "  </thead>\n",
       "  <tbody>\n",
       "    <tr>\n",
       "      <th>0</th>\n",
       "      <td>1</td>\n",
       "      <td>-0.362238</td>\n",
       "      <td>0.705178</td>\n",
       "      <td>-0.229582</td>\n",
       "      <td>-0.220108</td>\n",
       "      <td>-0.228069</td>\n",
       "      <td>-0.293905</td>\n",
       "      <td>-0.223919</td>\n",
       "      <td>-0.239186</td>\n",
       "    </tr>\n",
       "    <tr>\n",
       "      <th>1</th>\n",
       "      <td>1</td>\n",
       "      <td>-0.362238</td>\n",
       "      <td>0.028469</td>\n",
       "      <td>-0.191255</td>\n",
       "      <td>-0.197233</td>\n",
       "      <td>-0.182016</td>\n",
       "      <td>-0.210635</td>\n",
       "      <td>-0.181252</td>\n",
       "      <td>-0.223619</td>\n",
       "    </tr>\n",
       "    <tr>\n",
       "      <th>3</th>\n",
       "      <td>1</td>\n",
       "      <td>-0.362238</td>\n",
       "      <td>0.028469</td>\n",
       "      <td>-0.251507</td>\n",
       "      <td>-0.249840</td>\n",
       "      <td>-0.238463</td>\n",
       "      <td>-0.282740</td>\n",
       "      <td>-0.237432</td>\n",
       "      <td>-0.271156</td>\n",
       "    </tr>\n",
       "    <tr>\n",
       "      <th>4</th>\n",
       "      <td>1</td>\n",
       "      <td>-0.362238</td>\n",
       "      <td>0.136742</td>\n",
       "      <td>-0.212889</td>\n",
       "      <td>-0.197695</td>\n",
       "      <td>-0.226409</td>\n",
       "      <td>-0.300185</td>\n",
       "      <td>-0.210952</td>\n",
       "      <td>-0.223876</td>\n",
       "    </tr>\n",
       "    <tr>\n",
       "      <th>5</th>\n",
       "      <td>1</td>\n",
       "      <td>-0.362238</td>\n",
       "      <td>0.894656</td>\n",
       "      <td>-0.173649</td>\n",
       "      <td>-0.207715</td>\n",
       "      <td>-0.147368</td>\n",
       "      <td>-0.043397</td>\n",
       "      <td>-0.180341</td>\n",
       "      <td>-0.168299</td>\n",
       "    </tr>\n",
       "  </tbody>\n",
       "</table>\n",
       "</div>"
      ],
      "text/plain": [
       "   y  NUMBRANCH  DEBT_MDN    DEBT_N  LO_INC_DEBT_N  MD_INC_DEBT_N  \\\n",
       "0  1  -0.362238  0.705178 -0.229582      -0.220108      -0.228069   \n",
       "1  1  -0.362238  0.028469 -0.191255      -0.197233      -0.182016   \n",
       "3  1  -0.362238  0.028469 -0.251507      -0.249840      -0.238463   \n",
       "4  1  -0.362238  0.136742 -0.212889      -0.197695      -0.226409   \n",
       "5  1  -0.362238  0.894656 -0.173649      -0.207715      -0.147368   \n",
       "\n",
       "   HI_INC_DEBT_N  FEMALE_DEBT_N  MALE_DEBT_N  \n",
       "0      -0.293905      -0.223919    -0.239186  \n",
       "1      -0.210635      -0.181252    -0.223619  \n",
       "3      -0.282740      -0.237432    -0.271156  \n",
       "4      -0.300185      -0.210952    -0.223876  \n",
       "5      -0.043397      -0.180341    -0.168299  "
      ]
     },
     "execution_count": 20,
     "metadata": {},
     "output_type": "execute_result"
    }
   ],
   "source": [
    "scaler = preprocessing.StandardScaler()\n",
    "#featcols = pd.DataFrame()\n",
    "featsScaled = scaler.fit_transform(feats.iloc[:,1:])\n",
    "featsScaled = pd.DataFrame(featsScaled, index=feats.index)\n",
    "featsScaled.insert(0,'y',feats['y'])\n",
    "featsScaled.columns = feats.columns\n",
    "featsScaled.head()"
   ]
  },
  {
   "cell_type": "code",
   "execution_count": 15,
   "metadata": {},
   "outputs": [
    {
     "name": "stdout",
     "output_type": "stream",
     "text": [
      "(14229, 8) (14230, 8) (14229,) (14230,)\n"
     ]
    }
   ],
   "source": [
    "split = int(len(featsScaled)/2)\n",
    "dftrain = featsScaled.iloc[:split:, :].copy()\n",
    "dftest = featsScaled.iloc[split:, :].copy()\n",
    "Xtrain = dftrain.drop('y', axis=1)\n",
    "Xtest = dftest.drop('y', axis=1)\n",
    "Ytrain = dftrain['y']\n",
    "Ytest = dftest['y']\n",
    "\n",
    "\n",
    "print(Xtrain.shape, Xtest.shape, Ytrain.shape, Ytest.shape)"
   ]
  },
  {
   "cell_type": "code",
   "execution_count": 16,
   "metadata": {},
   "outputs": [
    {
     "name": "stderr",
     "output_type": "stream",
     "text": [
      "c:\\users\\greg\\appdata\\local\\programs\\python\\python37-32\\lib\\site-packages\\sklearn\\linear_model\\logistic.py:432: FutureWarning: Default solver will be changed to 'lbfgs' in 0.22. Specify a solver to silence this warning.\n",
      "  FutureWarning)\n"
     ]
    },
    {
     "name": "stdout",
     "output_type": "stream",
     "text": [
      "\n",
      " Percentage accuracy vanilla\n",
      "0.8399156711173577\n",
      "\n",
      " Percentage accuracy ridge\n",
      "0.8443429374560787\n"
     ]
    },
    {
     "name": "stderr",
     "output_type": "stream",
     "text": [
      "c:\\users\\greg\\appdata\\local\\programs\\python\\python37-32\\lib\\site-packages\\sklearn\\linear_model\\logistic.py:432: FutureWarning: Default solver will be changed to 'lbfgs' in 0.22. Specify a solver to silence this warning.\n",
      "  FutureWarning)\n",
      "c:\\users\\greg\\appdata\\local\\programs\\python\\python37-32\\lib\\site-packages\\sklearn\\linear_model\\logistic.py:432: FutureWarning: Default solver will be changed to 'lbfgs' in 0.22. Specify a solver to silence this warning.\n",
      "  FutureWarning)\n"
     ]
    },
    {
     "name": "stdout",
     "output_type": "stream",
     "text": [
      "\n",
      " Percentage accuracy lasso\n",
      "0.8514406184118061\n"
     ]
    },
    {
     "name": "stderr",
     "output_type": "stream",
     "text": [
      "c:\\users\\greg\\appdata\\local\\programs\\python\\python37-32\\lib\\site-packages\\sklearn\\svm\\base.py:922: ConvergenceWarning: Liblinear failed to converge, increase the number of iterations.\n",
      "  \"the number of iterations.\", ConvergenceWarning)\n"
     ]
    }
   ],
   "source": [
    "lr = linear_model.LogisticRegression(penalty='l2', C=1e9)\n",
    "lr = lr.fit(Xtrain, Ytrain)\n",
    "print('\\n Percentage accuracy vanilla')\n",
    "print(lr.score(Xtest, Ytest))\n",
    "\n",
    "ridge = linear_model.LogisticRegression(penalty='l2', C=1)\n",
    "ridgefit = ridge.fit(Xtrain, Ytrain)\n",
    "print('\\n Percentage accuracy ridge')\n",
    "print(ridgefit.score(Xtest, Ytest))\n",
    "\n",
    "\n",
    "lasso = linear_model.LogisticRegression(penalty='l1', C=1)\n",
    "lassfit = lasso.fit(Xtrain, Ytrain)\n",
    "print('\\n Percentage accuracy lasso')\n",
    "print(lassfit.score(Xtest, Ytest))"
   ]
  },
  {
   "cell_type": "code",
   "execution_count": 17,
   "metadata": {},
   "outputs": [
    {
     "data": {
      "text/plain": [
       "array([[  -20.90840203,    -1.8774077 ,   562.43390308,  1252.1173084 ,\n",
       "          599.15127185,   187.3902222 , -1788.63671087,  -848.62322754]])"
      ]
     },
     "metadata": {},
     "output_type": "display_data"
    },
    {
     "data": {
      "text/plain": [
       "array([[-12.62513685,  -1.29593041,   1.92377261,  -3.35452832,\n",
       "          2.87514178,   8.30942367,  -2.02502431,  -3.80501949]])"
      ]
     },
     "metadata": {},
     "output_type": "display_data"
    },
    {
     "data": {
      "text/plain": [
       "array([[ -15.15230119,   -1.38624807,  173.0963632 ,    0.        ,\n",
       "           1.1743363 ,    9.65140107, -122.58082876,  -61.56795087]])"
      ]
     },
     "metadata": {},
     "output_type": "display_data"
    }
   ],
   "source": [
    "display(lr.coef_)\n",
    "\n",
    "display(ridgefit.coef_)\n",
    "\n",
    "display(lassfit.coef_)"
   ]
  },
  {
   "cell_type": "code",
   "execution_count": 21,
   "metadata": {},
   "outputs": [],
   "source": [
    "#Much more insightful. Sure enough, classic linear regression has some very large coefficients.\n",
    "#Since Lasso is indicating that I can remove 1-3 features, I'm going to do that, then rereun all the models."
   ]
  },
  {
   "cell_type": "code",
   "execution_count": 22,
   "metadata": {},
   "outputs": [
    {
     "data": {
      "text/html": [
       "<div>\n",
       "<style scoped>\n",
       "    .dataframe tbody tr th:only-of-type {\n",
       "        vertical-align: middle;\n",
       "    }\n",
       "\n",
       "    .dataframe tbody tr th {\n",
       "        vertical-align: top;\n",
       "    }\n",
       "\n",
       "    .dataframe thead th {\n",
       "        text-align: right;\n",
       "    }\n",
       "</style>\n",
       "<table border=\"1\" class=\"dataframe\">\n",
       "  <thead>\n",
       "    <tr style=\"text-align: right;\">\n",
       "      <th></th>\n",
       "      <th>y</th>\n",
       "      <th>NUMBRANCH</th>\n",
       "      <th>DEBT_MDN</th>\n",
       "      <th>DEBT_N</th>\n",
       "      <th>LO_INC_DEBT_N</th>\n",
       "      <th>MD_INC_DEBT_N</th>\n",
       "      <th>HI_INC_DEBT_N</th>\n",
       "      <th>FEMALE_DEBT_N</th>\n",
       "      <th>MALE_DEBT_N</th>\n",
       "    </tr>\n",
       "  </thead>\n",
       "  <tbody>\n",
       "    <tr>\n",
       "      <th>0</th>\n",
       "      <td>1</td>\n",
       "      <td>-0.362238</td>\n",
       "      <td>0.705178</td>\n",
       "      <td>-0.229582</td>\n",
       "      <td>-0.220108</td>\n",
       "      <td>-0.228069</td>\n",
       "      <td>-0.293905</td>\n",
       "      <td>-0.223919</td>\n",
       "      <td>-0.239186</td>\n",
       "    </tr>\n",
       "  </tbody>\n",
       "</table>\n",
       "</div>"
      ],
      "text/plain": [
       "   y  NUMBRANCH  DEBT_MDN    DEBT_N  LO_INC_DEBT_N  MD_INC_DEBT_N  \\\n",
       "0  1  -0.362238  0.705178 -0.229582      -0.220108      -0.228069   \n",
       "\n",
       "   HI_INC_DEBT_N  FEMALE_DEBT_N  MALE_DEBT_N  \n",
       "0      -0.293905      -0.223919    -0.239186  "
      ]
     },
     "execution_count": 22,
     "metadata": {},
     "output_type": "execute_result"
    }
   ],
   "source": [
    "featsScaled.head(1)"
   ]
  },
  {
   "cell_type": "code",
   "execution_count": 27,
   "metadata": {},
   "outputs": [
    {
     "name": "stdout",
     "output_type": "stream",
     "text": [
      "(14229, 7) (14230, 7) (14229,) (14230,)\n"
     ]
    }
   ],
   "source": [
    "feats2 = featsScaled.drop('LO_INC_DEBT_N', axis=1)\n",
    "split = int(len(feats2)/2)\n",
    "dftrain = feats2.iloc[:split:, :].copy()\n",
    "dftest = feats2.iloc[split:, :].copy()\n",
    "Xtrain = dftrain.drop('y', axis=1)\n",
    "Xtest = dftest.drop('y', axis=1)\n",
    "Ytrain = dftrain['y']\n",
    "Ytest = dftest['y']\n",
    "\n",
    "\n",
    "print(Xtrain.shape, Xtest.shape, Ytrain.shape, Ytest.shape)"
   ]
  },
  {
   "cell_type": "code",
   "execution_count": 28,
   "metadata": {},
   "outputs": [
    {
     "name": "stderr",
     "output_type": "stream",
     "text": [
      "c:\\users\\greg\\appdata\\local\\programs\\python\\python37-32\\lib\\site-packages\\sklearn\\linear_model\\logistic.py:432: FutureWarning: Default solver will be changed to 'lbfgs' in 0.22. Specify a solver to silence this warning.\n",
      "  FutureWarning)\n",
      "c:\\users\\greg\\appdata\\local\\programs\\python\\python37-32\\lib\\site-packages\\sklearn\\linear_model\\logistic.py:432: FutureWarning: Default solver will be changed to 'lbfgs' in 0.22. Specify a solver to silence this warning.\n",
      "  FutureWarning)\n"
     ]
    },
    {
     "name": "stdout",
     "output_type": "stream",
     "text": [
      "\n",
      " Percentage accuracy vanilla\n",
      "0.8514406184118061\n",
      "\n",
      " Percentage accuracy ridge\n",
      "0.8451159522136331\n"
     ]
    },
    {
     "name": "stderr",
     "output_type": "stream",
     "text": [
      "c:\\users\\greg\\appdata\\local\\programs\\python\\python37-32\\lib\\site-packages\\sklearn\\linear_model\\logistic.py:432: FutureWarning: Default solver will be changed to 'lbfgs' in 0.22. Specify a solver to silence this warning.\n",
      "  FutureWarning)\n"
     ]
    },
    {
     "name": "stdout",
     "output_type": "stream",
     "text": [
      "\n",
      " Percentage accuracy lasso\n",
      "0.8519325368938861\n"
     ]
    },
    {
     "name": "stderr",
     "output_type": "stream",
     "text": [
      "c:\\users\\greg\\appdata\\local\\programs\\python\\python37-32\\lib\\site-packages\\sklearn\\svm\\base.py:922: ConvergenceWarning: Liblinear failed to converge, increase the number of iterations.\n",
      "  \"the number of iterations.\", ConvergenceWarning)\n"
     ]
    }
   ],
   "source": [
    "lr = linear_model.LogisticRegression(penalty='l2', C=1e9)\n",
    "lr = lr.fit(Xtrain, Ytrain)\n",
    "print('\\n Percentage accuracy vanilla')\n",
    "print(lr.score(Xtest, Ytest))\n",
    "\n",
    "ridge = linear_model.LogisticRegression(penalty='l2', C=1)\n",
    "ridgefit = ridge.fit(Xtrain, Ytrain)\n",
    "print('\\n Percentage accuracy ridge')\n",
    "print(ridgefit.score(Xtest, Ytest))\n",
    "\n",
    "\n",
    "lasso = linear_model.LogisticRegression(penalty='l1', C=1)\n",
    "lassfit = lasso.fit(Xtrain, Ytrain)\n",
    "print('\\n Percentage accuracy lasso')\n",
    "print(lassfit.score(Xtest, Ytest))"
   ]
  },
  {
   "cell_type": "code",
   "execution_count": 33,
   "metadata": {},
   "outputs": [
    {
     "data": {
      "text/plain": [
       "array([[ -20.69411798,   -1.62580291,  925.08275741,   -6.80273625,\n",
       "          12.74210349, -651.33567952, -307.38794318]])"
      ]
     },
     "metadata": {},
     "output_type": "display_data"
    },
    {
     "data": {
      "text/plain": [
       "array([[-13.46677621,  -1.33281151,   2.55221569,   4.66607391,\n",
       "          9.27611518,  -5.80938307,  -6.37455966]])"
      ]
     },
     "metadata": {},
     "output_type": "display_data"
    },
    {
     "data": {
      "text/plain": [
       "array([[ -17.16008746,   -1.45908715,  399.28792733,   -2.69594048,\n",
       "          10.23750831, -279.3460746 , -134.61123178]])"
      ]
     },
     "metadata": {},
     "output_type": "display_data"
    }
   ],
   "source": [
    "display(lr.coef_)\n",
    "\n",
    "display(ridgefit.coef_)\n",
    "\n",
    "display(lassfit.coef_)"
   ]
  },
  {
   "cell_type": "code",
   "execution_count": 30,
   "metadata": {},
   "outputs": [
    {
     "name": "stdout",
     "output_type": "stream",
     "text": [
      "0.8345748418833451\n",
      "0.8394237526352776\n",
      "0.8421644413211525\n",
      "0.843429374560787\n",
      "0.8444834855938159\n",
      "0.8445537596626844\n",
      "0.8450456781447646\n",
      "0.845326774420239\n",
      "0.8452565003513703\n",
      "0.8451159522136331\n",
      "0.844975404075896\n",
      "0.8450456781447646\n",
      "0.8451159522136331\n",
      "0.8454673225579761\n",
      "0.845818692902319\n",
      "0.8455375966268447\n",
      "0.8457484188334504\n",
      "0.8456781447645819\n",
      "0.8456078706957133\n"
     ]
    }
   ],
   "source": [
    "#Test ridge for different values of lambda\n",
    "for C in range(1,20,1):\n",
    "    C = C/10\n",
    "    ridge = linear_model.LogisticRegression(penalty='l2', C=C, solver='liblinear')\n",
    "    ridgefit = ridge.fit(Xtrain, Ytrain)\n",
    "    print(ridgefit.score(Xtest, Ytest))"
   ]
  },
  {
   "cell_type": "code",
   "execution_count": 31,
   "metadata": {},
   "outputs": [
    {
     "name": "stdout",
     "output_type": "stream",
     "text": [
      "0.848208011243851\n",
      "0.8470836261419536\n"
     ]
    },
    {
     "name": "stderr",
     "output_type": "stream",
     "text": [
      "c:\\users\\greg\\appdata\\local\\programs\\python\\python37-32\\lib\\site-packages\\sklearn\\svm\\base.py:922: ConvergenceWarning: Liblinear failed to converge, increase the number of iterations.\n",
      "  \"the number of iterations.\", ConvergenceWarning)\n"
     ]
    },
    {
     "name": "stdout",
     "output_type": "stream",
     "text": [
      "0.8537596626844695\n",
      "0.8546029515108925\n"
     ]
    },
    {
     "name": "stderr",
     "output_type": "stream",
     "text": [
      "c:\\users\\greg\\appdata\\local\\programs\\python\\python37-32\\lib\\site-packages\\sklearn\\svm\\base.py:922: ConvergenceWarning: Liblinear failed to converge, increase the number of iterations.\n",
      "  \"the number of iterations.\", ConvergenceWarning)\n"
     ]
    },
    {
     "name": "stdout",
     "output_type": "stream",
     "text": [
      "0.8560787069571328\n",
      "0.8562895291637386\n"
     ]
    },
    {
     "name": "stderr",
     "output_type": "stream",
     "text": [
      "c:\\users\\greg\\appdata\\local\\programs\\python\\python37-32\\lib\\site-packages\\sklearn\\svm\\base.py:922: ConvergenceWarning: Liblinear failed to converge, increase the number of iterations.\n",
      "  \"the number of iterations.\", ConvergenceWarning)\n"
     ]
    }
   ],
   "source": [
    "for C in range(1,22,4):\n",
    "    C = C/10\n",
    "    lasso = linear_model.LogisticRegression(penalty='l1', C=C, solver='liblinear', max_iter=200)\n",
    "    lassfit = lasso.fit(Xtrain, Ytrain)\n",
    "    print(lassfit.score(Xtest, Ytest))"
   ]
  },
  {
   "cell_type": "markdown",
   "metadata": {},
   "source": [
    "# At first,\n",
    "Lasso appears to be better while there are bad features, due to its inherent feature selection. However, once I changed the featureset and reran all models with the new features, ridge appears to be best. All 3 are scoring similarly on accuracy, but Ridge actually has far lower coefficients, leading me to believe that may be the most versatile model for new data.\n",
    "\n",
    "Below I reproduce with Statsmodels. "
   ]
  },
  {
   "cell_type": "code",
   "execution_count": 41,
   "metadata": {},
   "outputs": [
    {
     "ename": "ValueError",
     "evalue": "shapes (14229,7) and (14230,7) not aligned: 7 (dim 1) != 14230 (dim 0)",
     "output_type": "error",
     "traceback": [
      "\u001b[1;31m---------------------------------------------------------------------------\u001b[0m",
      "\u001b[1;31mValueError\u001b[0m                                Traceback (most recent call last)",
      "\u001b[1;32m<ipython-input-41-1c60a2cf85bf>\u001b[0m in \u001b[0;36m<module>\u001b[1;34m()\u001b[0m\n\u001b[0;32m      1\u001b[0m \u001b[0mlogit\u001b[0m \u001b[1;33m=\u001b[0m \u001b[0msm\u001b[0m\u001b[1;33m.\u001b[0m\u001b[0mLogit\u001b[0m\u001b[1;33m(\u001b[0m\u001b[0mYtrain\u001b[0m\u001b[1;33m,\u001b[0m \u001b[0mXtrain\u001b[0m\u001b[1;33m)\u001b[0m\u001b[1;33m\u001b[0m\u001b[0m\n\u001b[1;32m----> 2\u001b[1;33m \u001b[0mlogit\u001b[0m\u001b[1;33m.\u001b[0m\u001b[0mscore_obs\u001b[0m\u001b[1;33m(\u001b[0m\u001b[0mXtest\u001b[0m\u001b[1;33m)\u001b[0m\u001b[1;33m\u001b[0m\u001b[0m\n\u001b[0m",
      "\u001b[1;32mc:\\users\\greg\\appdata\\local\\programs\\python\\python37-32\\lib\\site-packages\\statsmodels\\discrete\\discrete_model.py\u001b[0m in \u001b[0;36mscore_obs\u001b[1;34m(self, params)\u001b[0m\n\u001b[0;32m   1802\u001b[0m         \u001b[0my\u001b[0m \u001b[1;33m=\u001b[0m \u001b[0mself\u001b[0m\u001b[1;33m.\u001b[0m\u001b[0mendog\u001b[0m\u001b[1;33m\u001b[0m\u001b[0m\n\u001b[0;32m   1803\u001b[0m         \u001b[0mX\u001b[0m \u001b[1;33m=\u001b[0m \u001b[0mself\u001b[0m\u001b[1;33m.\u001b[0m\u001b[0mexog\u001b[0m\u001b[1;33m\u001b[0m\u001b[0m\n\u001b[1;32m-> 1804\u001b[1;33m         \u001b[0mL\u001b[0m \u001b[1;33m=\u001b[0m \u001b[0mself\u001b[0m\u001b[1;33m.\u001b[0m\u001b[0mcdf\u001b[0m\u001b[1;33m(\u001b[0m\u001b[0mnp\u001b[0m\u001b[1;33m.\u001b[0m\u001b[0mdot\u001b[0m\u001b[1;33m(\u001b[0m\u001b[0mX\u001b[0m\u001b[1;33m,\u001b[0m \u001b[0mparams\u001b[0m\u001b[1;33m)\u001b[0m\u001b[1;33m)\u001b[0m\u001b[1;33m\u001b[0m\u001b[0m\n\u001b[0m\u001b[0;32m   1805\u001b[0m         \u001b[1;32mreturn\u001b[0m \u001b[1;33m(\u001b[0m\u001b[0my\u001b[0m \u001b[1;33m-\u001b[0m \u001b[0mL\u001b[0m\u001b[1;33m)\u001b[0m\u001b[1;33m[\u001b[0m\u001b[1;33m:\u001b[0m\u001b[1;33m,\u001b[0m\u001b[1;32mNone\u001b[0m\u001b[1;33m]\u001b[0m \u001b[1;33m*\u001b[0m \u001b[0mX\u001b[0m\u001b[1;33m\u001b[0m\u001b[0m\n\u001b[0;32m   1806\u001b[0m \u001b[1;33m\u001b[0m\u001b[0m\n",
      "\u001b[1;31mValueError\u001b[0m: shapes (14229,7) and (14230,7) not aligned: 7 (dim 1) != 14230 (dim 0)"
     ]
    }
   ],
   "source": [
    "logit = sm.Logit(Ytrain, Xtrain)\n",
    "logit.score_obs(Xtest)"
   ]
  },
  {
   "cell_type": "code",
   "execution_count": null,
   "metadata": {},
   "outputs": [],
   "source": [
    "logit.fit().params"
   ]
  }
 ],
 "metadata": {
  "kernelspec": {
   "display_name": "Python 3",
   "language": "python",
   "name": "python3"
  },
  "language_info": {
   "codemirror_mode": {
    "name": "ipython",
    "version": 3
   },
   "file_extension": ".py",
   "mimetype": "text/x-python",
   "name": "python",
   "nbconvert_exporter": "python",
   "pygments_lexer": "ipython3",
   "version": "3.7.0"
  }
 },
 "nbformat": 4,
 "nbformat_minor": 2
}

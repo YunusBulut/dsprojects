{
 "cells": [
  {
   "cell_type": "code",
   "execution_count": 1,
   "metadata": {},
   "outputs": [],
   "source": [
    "import pandas as pd\n",
    "from matplotlib import pyplot as plt\n",
    "import numpy as np\n",
    "import math\n",
    "import seaborn as sns\n",
    "import sklearn\n",
    "from sklearn import linear_model\n",
    "from sklearn import preprocessing\n",
    "%matplotlib inline\n",
    "sns.set_style('white')"
   ]
  },
  {
   "cell_type": "code",
   "execution_count": 2,
   "metadata": {},
   "outputs": [
    {
     "name": "stderr",
     "output_type": "stream",
     "text": [
      "c:\\users\\greg\\appdata\\local\\programs\\python\\python37-32\\lib\\site-packages\\IPython\\core\\interactiveshell.py:2785: DtypeWarning: Columns (4,11,12,13) have mixed types. Specify dtype option on import or set low_memory=False.\n",
      "  interactivity=interactivity, compiler=compiler, result=result)\n"
     ]
    },
    {
     "data": {
      "text/plain": [
       "(72032, 41)"
      ]
     },
     "metadata": {},
     "output_type": "display_data"
    },
    {
     "data": {
      "text/html": [
       "<div>\n",
       "<style scoped>\n",
       "    .dataframe tbody tr th:only-of-type {\n",
       "        vertical-align: middle;\n",
       "    }\n",
       "\n",
       "    .dataframe tbody tr th {\n",
       "        vertical-align: top;\n",
       "    }\n",
       "\n",
       "    .dataframe thead th {\n",
       "        text-align: right;\n",
       "    }\n",
       "</style>\n",
       "<table border=\"1\" class=\"dataframe\">\n",
       "  <thead>\n",
       "    <tr style=\"text-align: right;\">\n",
       "      <th></th>\n",
       "      <th>Id</th>\n",
       "      <th>UNITID</th>\n",
       "      <th>INSTNM</th>\n",
       "      <th>STABBR</th>\n",
       "      <th>AccredAgency</th>\n",
       "      <th>HCM2</th>\n",
       "      <th>main</th>\n",
       "      <th>NUMBRANCH</th>\n",
       "      <th>PREDDEG</th>\n",
       "      <th>CONTROL</th>\n",
       "      <th>...</th>\n",
       "      <th>HI_INC_DEBT_N</th>\n",
       "      <th>DEP_DEBT_N</th>\n",
       "      <th>IND_DEBT_N</th>\n",
       "      <th>PELL_DEBT_N</th>\n",
       "      <th>NOPELL_DEBT_N</th>\n",
       "      <th>FEMALE_DEBT_N</th>\n",
       "      <th>MALE_DEBT_N</th>\n",
       "      <th>FIRSTGEN_DEBT_N</th>\n",
       "      <th>NOTFIRSTGEN_DEBT_N</th>\n",
       "      <th>Year</th>\n",
       "    </tr>\n",
       "  </thead>\n",
       "  <tbody>\n",
       "    <tr>\n",
       "      <th>0</th>\n",
       "      <td>52668</td>\n",
       "      <td>100654</td>\n",
       "      <td>ALABAMA A &amp; M UNIVERSITY</td>\n",
       "      <td>AL</td>\n",
       "      <td>NaN</td>\n",
       "      <td>0</td>\n",
       "      <td>True</td>\n",
       "      <td>1</td>\n",
       "      <td>Predominantly bachelor's-degree granting</td>\n",
       "      <td>Public</td>\n",
       "      <td>...</td>\n",
       "      <td>234.0</td>\n",
       "      <td>2384.0</td>\n",
       "      <td>565.0</td>\n",
       "      <td>2400.0</td>\n",
       "      <td>554.0</td>\n",
       "      <td>1516.0</td>\n",
       "      <td>1325.0</td>\n",
       "      <td>938.0</td>\n",
       "      <td>1476.0</td>\n",
       "      <td>2004</td>\n",
       "    </tr>\n",
       "    <tr>\n",
       "      <th>1</th>\n",
       "      <td>52669</td>\n",
       "      <td>100663</td>\n",
       "      <td>UNIVERSITY OF ALABAMA AT BIRMINGHAM</td>\n",
       "      <td>AL</td>\n",
       "      <td>NaN</td>\n",
       "      <td>0</td>\n",
       "      <td>True</td>\n",
       "      <td>1</td>\n",
       "      <td>Predominantly bachelor's-degree granting</td>\n",
       "      <td>Public</td>\n",
       "      <td>...</td>\n",
       "      <td>592.0</td>\n",
       "      <td>2913.0</td>\n",
       "      <td>1726.0</td>\n",
       "      <td>2805.0</td>\n",
       "      <td>1849.0</td>\n",
       "      <td>2921.0</td>\n",
       "      <td>1567.0</td>\n",
       "      <td>1662.0</td>\n",
       "      <td>2455.0</td>\n",
       "      <td>2004</td>\n",
       "    </tr>\n",
       "    <tr>\n",
       "      <th>2</th>\n",
       "      <td>52670</td>\n",
       "      <td>100690</td>\n",
       "      <td>Amridge University</td>\n",
       "      <td>AL</td>\n",
       "      <td>NaN</td>\n",
       "      <td>0</td>\n",
       "      <td>True</td>\n",
       "      <td>1</td>\n",
       "      <td>Predominantly bachelor's-degree granting</td>\n",
       "      <td>Private nonprofit</td>\n",
       "      <td>...</td>\n",
       "      <td>NaN</td>\n",
       "      <td>NaN</td>\n",
       "      <td>325.0</td>\n",
       "      <td>254.0</td>\n",
       "      <td>NaN</td>\n",
       "      <td>157.0</td>\n",
       "      <td>181.0</td>\n",
       "      <td>162.0</td>\n",
       "      <td>131.0</td>\n",
       "      <td>2004</td>\n",
       "    </tr>\n",
       "    <tr>\n",
       "      <th>3</th>\n",
       "      <td>52671</td>\n",
       "      <td>100706</td>\n",
       "      <td>University of Alabama in Huntsville</td>\n",
       "      <td>AL</td>\n",
       "      <td>NaN</td>\n",
       "      <td>0</td>\n",
       "      <td>True</td>\n",
       "      <td>1</td>\n",
       "      <td>Predominantly bachelor's-degree granting</td>\n",
       "      <td>Public</td>\n",
       "      <td>...</td>\n",
       "      <td>282.0</td>\n",
       "      <td>1120.0</td>\n",
       "      <td>831.0</td>\n",
       "      <td>1172.0</td>\n",
       "      <td>783.0</td>\n",
       "      <td>1071.0</td>\n",
       "      <td>828.0</td>\n",
       "      <td>653.0</td>\n",
       "      <td>1132.0</td>\n",
       "      <td>2004</td>\n",
       "    </tr>\n",
       "    <tr>\n",
       "      <th>4</th>\n",
       "      <td>52672</td>\n",
       "      <td>100724</td>\n",
       "      <td>ALABAMA STATE UNIVERSITY</td>\n",
       "      <td>AL</td>\n",
       "      <td>NaN</td>\n",
       "      <td>0</td>\n",
       "      <td>True</td>\n",
       "      <td>1</td>\n",
       "      <td>Predominantly bachelor's-degree granting</td>\n",
       "      <td>Public</td>\n",
       "      <td>...</td>\n",
       "      <td>207.0</td>\n",
       "      <td>2988.0</td>\n",
       "      <td>637.0</td>\n",
       "      <td>3087.0</td>\n",
       "      <td>548.0</td>\n",
       "      <td>1943.0</td>\n",
       "      <td>1563.0</td>\n",
       "      <td>1181.0</td>\n",
       "      <td>1655.0</td>\n",
       "      <td>2004</td>\n",
       "    </tr>\n",
       "  </tbody>\n",
       "</table>\n",
       "<p>5 rows × 41 columns</p>\n",
       "</div>"
      ],
      "text/plain": [
       "      Id  UNITID                               INSTNM STABBR AccredAgency  \\\n",
       "0  52668  100654             ALABAMA A & M UNIVERSITY     AL          NaN   \n",
       "1  52669  100663  UNIVERSITY OF ALABAMA AT BIRMINGHAM     AL          NaN   \n",
       "2  52670  100690                   Amridge University     AL          NaN   \n",
       "3  52671  100706  University of Alabama in Huntsville     AL          NaN   \n",
       "4  52672  100724             ALABAMA STATE UNIVERSITY     AL          NaN   \n",
       "\n",
       "   HCM2  main  NUMBRANCH                                   PREDDEG  \\\n",
       "0     0  True          1  Predominantly bachelor's-degree granting   \n",
       "1     0  True          1  Predominantly bachelor's-degree granting   \n",
       "2     0  True          1  Predominantly bachelor's-degree granting   \n",
       "3     0  True          1  Predominantly bachelor's-degree granting   \n",
       "4     0  True          1  Predominantly bachelor's-degree granting   \n",
       "\n",
       "             CONTROL  ...  HI_INC_DEBT_N DEP_DEBT_N IND_DEBT_N PELL_DEBT_N  \\\n",
       "0             Public  ...          234.0     2384.0      565.0      2400.0   \n",
       "1             Public  ...          592.0     2913.0     1726.0      2805.0   \n",
       "2  Private nonprofit  ...            NaN        NaN      325.0       254.0   \n",
       "3             Public  ...          282.0     1120.0      831.0      1172.0   \n",
       "4             Public  ...          207.0     2988.0      637.0      3087.0   \n",
       "\n",
       "  NOPELL_DEBT_N  FEMALE_DEBT_N  MALE_DEBT_N  FIRSTGEN_DEBT_N  \\\n",
       "0         554.0         1516.0       1325.0            938.0   \n",
       "1        1849.0         2921.0       1567.0           1662.0   \n",
       "2           NaN          157.0        181.0            162.0   \n",
       "3         783.0         1071.0        828.0            653.0   \n",
       "4         548.0         1943.0       1563.0           1181.0   \n",
       "\n",
       "   NOTFIRSTGEN_DEBT_N  Year  \n",
       "0              1476.0  2004  \n",
       "1              2455.0  2004  \n",
       "2               131.0  2004  \n",
       "3              1132.0  2004  \n",
       "4              1655.0  2004  \n",
       "\n",
       "[5 rows x 41 columns]"
      ]
     },
     "execution_count": 2,
     "metadata": {},
     "output_type": "execute_result"
    }
   ],
   "source": [
    "file = 'C:/Users/Greg/Documents/Personal/Thinkful/dsprojects/prepcap/Scorecard_Final.csv'\n",
    "df = pd.read_csv(file)\n",
    "display(df.shape)\n",
    "df.head()"
   ]
  },
  {
   "cell_type": "code",
   "execution_count": 3,
   "metadata": {},
   "outputs": [],
   "source": [
    "df['y'] = np.where(df.CONTROL == 'Public', 1, 0)\n"
   ]
  },
  {
   "cell_type": "code",
   "execution_count": 4,
   "metadata": {},
   "outputs": [
    {
     "data": {
      "text/plain": [
       "Id                      int64\n",
       "UNITID                  int64\n",
       "INSTNM                 object\n",
       "STABBR                 object\n",
       "AccredAgency           object\n",
       "HCM2                    int64\n",
       "main                     bool\n",
       "NUMBRANCH               int64\n",
       "PREDDEG                object\n",
       "CONTROL                object\n",
       "region                 object\n",
       "LOCALE                 object\n",
       "CCBASIC                object\n",
       "CCUGPROF               object\n",
       "RELAFFIL               object\n",
       "PCIP01                float64\n",
       "CURROPER                 bool\n",
       "NPT4_PUB              float64\n",
       "NPT4_PRIV             float64\n",
       "CDR3                  float64\n",
       "DEATH_YR2_RT          float64\n",
       "DEATH_YR3_RT          float64\n",
       "DEATH_YR4_RT          float64\n",
       "DEATH_YR6_RT          float64\n",
       "DEATH_YR8_RT          float64\n",
       "DEBT_MDN              float64\n",
       "DEBT_N                float64\n",
       "GRAD_DEBT_N           float64\n",
       "WDRAW_DEBT_N          float64\n",
       "LO_INC_DEBT_N         float64\n",
       "MD_INC_DEBT_N         float64\n",
       "HI_INC_DEBT_N         float64\n",
       "DEP_DEBT_N            float64\n",
       "IND_DEBT_N            float64\n",
       "PELL_DEBT_N           float64\n",
       "NOPELL_DEBT_N         float64\n",
       "FEMALE_DEBT_N         float64\n",
       "MALE_DEBT_N           float64\n",
       "FIRSTGEN_DEBT_N       float64\n",
       "NOTFIRSTGEN_DEBT_N    float64\n",
       "Year                    int64\n",
       "y                       int32\n",
       "dtype: object"
      ]
     },
     "execution_count": 4,
     "metadata": {},
     "output_type": "execute_result"
    }
   ],
   "source": [
    "df.dtypes"
   ]
  },
  {
   "cell_type": "code",
   "execution_count": 5,
   "metadata": {},
   "outputs": [
    {
     "data": {
      "text/html": [
       "<div>\n",
       "<style scoped>\n",
       "    .dataframe tbody tr th:only-of-type {\n",
       "        vertical-align: middle;\n",
       "    }\n",
       "\n",
       "    .dataframe tbody tr th {\n",
       "        vertical-align: top;\n",
       "    }\n",
       "\n",
       "    .dataframe thead th {\n",
       "        text-align: right;\n",
       "    }\n",
       "</style>\n",
       "<table border=\"1\" class=\"dataframe\">\n",
       "  <thead>\n",
       "    <tr style=\"text-align: right;\">\n",
       "      <th></th>\n",
       "      <th>NUMBRANCH</th>\n",
       "      <th>DEBT_MDN</th>\n",
       "      <th>DEBT_N</th>\n",
       "      <th>LO_INC_DEBT_N</th>\n",
       "      <th>MD_INC_DEBT_N</th>\n",
       "      <th>HI_INC_DEBT_N</th>\n",
       "      <th>FEMALE_DEBT_N</th>\n",
       "      <th>MALE_DEBT_N</th>\n",
       "    </tr>\n",
       "    <tr>\n",
       "      <th>y</th>\n",
       "      <th></th>\n",
       "      <th></th>\n",
       "      <th></th>\n",
       "      <th></th>\n",
       "      <th></th>\n",
       "      <th></th>\n",
       "      <th></th>\n",
       "      <th></th>\n",
       "    </tr>\n",
       "  </thead>\n",
       "  <tbody>\n",
       "    <tr>\n",
       "      <th>0</th>\n",
       "      <td>15792</td>\n",
       "      <td>15792</td>\n",
       "      <td>15792</td>\n",
       "      <td>15792</td>\n",
       "      <td>15792</td>\n",
       "      <td>15792</td>\n",
       "      <td>15792</td>\n",
       "      <td>15792</td>\n",
       "    </tr>\n",
       "    <tr>\n",
       "      <th>1</th>\n",
       "      <td>12667</td>\n",
       "      <td>12667</td>\n",
       "      <td>12667</td>\n",
       "      <td>12667</td>\n",
       "      <td>12667</td>\n",
       "      <td>12667</td>\n",
       "      <td>12667</td>\n",
       "      <td>12667</td>\n",
       "    </tr>\n",
       "  </tbody>\n",
       "</table>\n",
       "</div>"
      ],
      "text/plain": [
       "   NUMBRANCH  DEBT_MDN  DEBT_N  LO_INC_DEBT_N  MD_INC_DEBT_N  HI_INC_DEBT_N  \\\n",
       "y                                                                             \n",
       "0      15792     15792   15792          15792          15792          15792   \n",
       "1      12667     12667   12667          12667          12667          12667   \n",
       "\n",
       "   FEMALE_DEBT_N  MALE_DEBT_N  \n",
       "y                              \n",
       "0          15792        15792  \n",
       "1          12667        12667  "
      ]
     },
     "execution_count": 5,
     "metadata": {},
     "output_type": "execute_result"
    }
   ],
   "source": [
    "feats = df[['y', 'NUMBRANCH', 'DEBT_MDN', 'DEBT_N', 'LO_INC_DEBT_N', 'MD_INC_DEBT_N', 'HI_INC_DEBT_N', 'FEMALE_DEBT_N', 'MALE_DEBT_N']]\n",
    "feats = feats.dropna(axis=0)\n",
    "feats.groupby('y').agg('count')"
   ]
  },
  {
   "cell_type": "code",
   "execution_count": 6,
   "metadata": {},
   "outputs": [
    {
     "name": "stdout",
     "output_type": "stream",
     "text": [
      "(14229, 8) (14230, 8) (14229,) (14230,)\n"
     ]
    }
   ],
   "source": [
    "split = int(len(feats)/2)\n",
    "dftrain = feats.iloc[:split:, :].copy()\n",
    "dftest = feats.iloc[split:, :].copy()\n",
    "Xtrain = dftrain.drop('y', axis=1)\n",
    "Xtest = dftest.drop('y', axis=1)\n",
    "Ytrain = dftrain['y']\n",
    "Ytest = dftest['y']\n",
    "\n",
    "\n",
    "print(Xtrain.shape, Xtest.shape, Ytrain.shape, Ytest.shape)"
   ]
  },
  {
   "cell_type": "code",
   "execution_count": 7,
   "metadata": {},
   "outputs": [
    {
     "name": "stdout",
     "output_type": "stream",
     "text": [
      "\n",
      " Percentage accuracy vanilla\n",
      "0.7522839072382291\n"
     ]
    },
    {
     "name": "stderr",
     "output_type": "stream",
     "text": [
      "c:\\users\\greg\\appdata\\local\\programs\\python\\python37-32\\lib\\site-packages\\sklearn\\linear_model\\logistic.py:432: FutureWarning: Default solver will be changed to 'lbfgs' in 0.22. Specify a solver to silence this warning.\n",
      "  FutureWarning)\n",
      "c:\\users\\greg\\appdata\\local\\programs\\python\\python37-32\\lib\\site-packages\\sklearn\\linear_model\\logistic.py:432: FutureWarning: Default solver will be changed to 'lbfgs' in 0.22. Specify a solver to silence this warning.\n",
      "  FutureWarning)\n"
     ]
    },
    {
     "name": "stdout",
     "output_type": "stream",
     "text": [
      "\n",
      " Percentage accuracy ridge\n",
      "0.7545326774420239\n"
     ]
    },
    {
     "name": "stderr",
     "output_type": "stream",
     "text": [
      "c:\\users\\greg\\appdata\\local\\programs\\python\\python37-32\\lib\\site-packages\\sklearn\\linear_model\\logistic.py:432: FutureWarning: Default solver will be changed to 'lbfgs' in 0.22. Specify a solver to silence this warning.\n",
      "  FutureWarning)\n"
     ]
    },
    {
     "name": "stdout",
     "output_type": "stream",
     "text": [
      "\n",
      " Percentage accuracy lasso\n",
      "0.8544624033731553\n"
     ]
    },
    {
     "name": "stderr",
     "output_type": "stream",
     "text": [
      "c:\\users\\greg\\appdata\\local\\programs\\python\\python37-32\\lib\\site-packages\\sklearn\\svm\\base.py:922: ConvergenceWarning: Liblinear failed to converge, increase the number of iterations.\n",
      "  \"the number of iterations.\", ConvergenceWarning)\n"
     ]
    }
   ],
   "source": [
    "lr = linear_model.LogisticRegression(penalty='l2', C=1e9)\n",
    "lr = lr.fit(Xtrain, Ytrain)\n",
    "print('\\n Percentage accuracy vanilla')\n",
    "print(lr.score(Xtest, Ytest))\n",
    "\n",
    "ridge = linear_model.LogisticRegression(penalty='l2', C=1)\n",
    "ridgefit = ridge.fit(Xtrain, Ytrain)\n",
    "print('\\n Percentage accuracy ridge')\n",
    "print(ridgefit.score(Xtest, Ytest))\n",
    "\n",
    "\n",
    "lasso = linear_model.LogisticRegression(penalty='l1', C=1)\n",
    "lassfit = lasso.fit(Xtrain, Ytrain)\n",
    "print('\\n Percentage accuracy lasso')\n",
    "print(lassfit.score(Xtest, Ytest))"
   ]
  },
  {
   "cell_type": "code",
   "execution_count": 8,
   "metadata": {},
   "outputs": [
    {
     "name": "stdout",
     "output_type": "stream",
     "text": [
      "0.822487702037948\n",
      "0.7520028109627548\n",
      "0.7549543218552354\n",
      "0.7523541813070976\n",
      "0.7713984539704849\n",
      "0.816865776528461\n",
      "0.7530569219957836\n",
      "0.7591004919184821\n",
      "0.7521433591004919\n",
      "0.7545326774420239\n",
      "0.7479971890372452\n",
      "0.7469430780042164\n",
      "0.7839775122979621\n",
      "0.826563598032326\n",
      "0.7472241742796908\n",
      "0.823330990864371\n",
      "0.7517919887561489\n",
      "0.7688685874912158\n",
      "0.7513000702740689\n"
     ]
    }
   ],
   "source": [
    "for C in range(1,20,1):\n",
    "    C = C/10\n",
    "    ridge = linear_model.LogisticRegression(penalty='l2', C=C, solver='liblinear')\n",
    "    ridgefit = ridge.fit(Xtrain, Ytrain)\n",
    "    print(ridgefit.score(Xtest, Ytest))"
   ]
  },
  {
   "cell_type": "code",
   "execution_count": 9,
   "metadata": {},
   "outputs": [
    {
     "name": "stderr",
     "output_type": "stream",
     "text": [
      "c:\\users\\greg\\appdata\\local\\programs\\python\\python37-32\\lib\\site-packages\\sklearn\\svm\\base.py:922: ConvergenceWarning: Liblinear failed to converge, increase the number of iterations.\n",
      "  \"the number of iterations.\", ConvergenceWarning)\n"
     ]
    },
    {
     "name": "stdout",
     "output_type": "stream",
     "text": [
      "0.8459592410400563\n"
     ]
    },
    {
     "name": "stderr",
     "output_type": "stream",
     "text": [
      "c:\\users\\greg\\appdata\\local\\programs\\python\\python37-32\\lib\\site-packages\\sklearn\\svm\\base.py:922: ConvergenceWarning: Liblinear failed to converge, increase the number of iterations.\n",
      "  \"the number of iterations.\", ConvergenceWarning)\n"
     ]
    },
    {
     "name": "stdout",
     "output_type": "stream",
     "text": [
      "0.8540407589599438\n"
     ]
    },
    {
     "name": "stderr",
     "output_type": "stream",
     "text": [
      "c:\\users\\greg\\appdata\\local\\programs\\python\\python37-32\\lib\\site-packages\\sklearn\\svm\\base.py:922: ConvergenceWarning: Liblinear failed to converge, increase the number of iterations.\n",
      "  \"the number of iterations.\", ConvergenceWarning)\n"
     ]
    },
    {
     "name": "stdout",
     "output_type": "stream",
     "text": [
      "0.8546029515108925\n"
     ]
    },
    {
     "name": "stderr",
     "output_type": "stream",
     "text": [
      "c:\\users\\greg\\appdata\\local\\programs\\python\\python37-32\\lib\\site-packages\\sklearn\\svm\\base.py:922: ConvergenceWarning: Liblinear failed to converge, increase the number of iterations.\n",
      "  \"the number of iterations.\", ConvergenceWarning)\n"
     ]
    },
    {
     "name": "stdout",
     "output_type": "stream",
     "text": [
      "0.8553056921995783\n"
     ]
    },
    {
     "name": "stderr",
     "output_type": "stream",
     "text": [
      "c:\\users\\greg\\appdata\\local\\programs\\python\\python37-32\\lib\\site-packages\\sklearn\\svm\\base.py:922: ConvergenceWarning: Liblinear failed to converge, increase the number of iterations.\n",
      "  \"the number of iterations.\", ConvergenceWarning)\n"
     ]
    },
    {
     "name": "stdout",
     "output_type": "stream",
     "text": [
      "0.8459592410400563\n"
     ]
    },
    {
     "name": "stderr",
     "output_type": "stream",
     "text": [
      "c:\\users\\greg\\appdata\\local\\programs\\python\\python37-32\\lib\\site-packages\\sklearn\\svm\\base.py:922: ConvergenceWarning: Liblinear failed to converge, increase the number of iterations.\n",
      "  \"the number of iterations.\", ConvergenceWarning)\n"
     ]
    },
    {
     "name": "stdout",
     "output_type": "stream",
     "text": [
      "0.8551651440618412\n"
     ]
    },
    {
     "name": "stderr",
     "output_type": "stream",
     "text": [
      "c:\\users\\greg\\appdata\\local\\programs\\python\\python37-32\\lib\\site-packages\\sklearn\\svm\\base.py:922: ConvergenceWarning: Liblinear failed to converge, increase the number of iterations.\n",
      "  \"the number of iterations.\", ConvergenceWarning)\n"
     ]
    },
    {
     "name": "stdout",
     "output_type": "stream",
     "text": [
      "0.8491918482080112\n"
     ]
    },
    {
     "name": "stderr",
     "output_type": "stream",
     "text": [
      "c:\\users\\greg\\appdata\\local\\programs\\python\\python37-32\\lib\\site-packages\\sklearn\\svm\\base.py:922: ConvergenceWarning: Liblinear failed to converge, increase the number of iterations.\n",
      "  \"the number of iterations.\", ConvergenceWarning)\n"
     ]
    },
    {
     "name": "stdout",
     "output_type": "stream",
     "text": [
      "0.8462403373155306\n"
     ]
    },
    {
     "name": "stderr",
     "output_type": "stream",
     "text": [
      "c:\\users\\greg\\appdata\\local\\programs\\python\\python37-32\\lib\\site-packages\\sklearn\\svm\\base.py:922: ConvergenceWarning: Liblinear failed to converge, increase the number of iterations.\n",
      "  \"the number of iterations.\", ConvergenceWarning)\n"
     ]
    },
    {
     "name": "stdout",
     "output_type": "stream",
     "text": [
      "0.8457484188334504\n"
     ]
    },
    {
     "name": "stderr",
     "output_type": "stream",
     "text": [
      "c:\\users\\greg\\appdata\\local\\programs\\python\\python37-32\\lib\\site-packages\\sklearn\\svm\\base.py:922: ConvergenceWarning: Liblinear failed to converge, increase the number of iterations.\n",
      "  \"the number of iterations.\", ConvergenceWarning)\n"
     ]
    },
    {
     "name": "stdout",
     "output_type": "stream",
     "text": [
      "0.8542515811665495\n"
     ]
    },
    {
     "name": "stderr",
     "output_type": "stream",
     "text": [
      "c:\\users\\greg\\appdata\\local\\programs\\python\\python37-32\\lib\\site-packages\\sklearn\\svm\\base.py:922: ConvergenceWarning: Liblinear failed to converge, increase the number of iterations.\n",
      "  \"the number of iterations.\", ConvergenceWarning)\n"
     ]
    },
    {
     "name": "stdout",
     "output_type": "stream",
     "text": [
      "0.8462403373155306\n"
     ]
    },
    {
     "name": "stderr",
     "output_type": "stream",
     "text": [
      "c:\\users\\greg\\appdata\\local\\programs\\python\\python37-32\\lib\\site-packages\\sklearn\\svm\\base.py:922: ConvergenceWarning: Liblinear failed to converge, increase the number of iterations.\n",
      "  \"the number of iterations.\", ConvergenceWarning)\n"
     ]
    },
    {
     "name": "stdout",
     "output_type": "stream",
     "text": [
      "0.8525650035137035\n"
     ]
    },
    {
     "name": "stderr",
     "output_type": "stream",
     "text": [
      "c:\\users\\greg\\appdata\\local\\programs\\python\\python37-32\\lib\\site-packages\\sklearn\\svm\\base.py:922: ConvergenceWarning: Liblinear failed to converge, increase the number of iterations.\n",
      "  \"the number of iterations.\", ConvergenceWarning)\n"
     ]
    },
    {
     "name": "stdout",
     "output_type": "stream",
     "text": [
      "0.8484891075193254\n"
     ]
    },
    {
     "name": "stderr",
     "output_type": "stream",
     "text": [
      "c:\\users\\greg\\appdata\\local\\programs\\python\\python37-32\\lib\\site-packages\\sklearn\\svm\\base.py:922: ConvergenceWarning: Liblinear failed to converge, increase the number of iterations.\n",
      "  \"the number of iterations.\", ConvergenceWarning)\n"
     ]
    },
    {
     "name": "stdout",
     "output_type": "stream",
     "text": [
      "0.8548137737174982\n"
     ]
    },
    {
     "name": "stderr",
     "output_type": "stream",
     "text": [
      "c:\\users\\greg\\appdata\\local\\programs\\python\\python37-32\\lib\\site-packages\\sklearn\\svm\\base.py:922: ConvergenceWarning: Liblinear failed to converge, increase the number of iterations.\n",
      "  \"the number of iterations.\", ConvergenceWarning)\n"
     ]
    },
    {
     "name": "stdout",
     "output_type": "stream",
     "text": [
      "0.8549543218552355\n"
     ]
    },
    {
     "name": "stderr",
     "output_type": "stream",
     "text": [
      "c:\\users\\greg\\appdata\\local\\programs\\python\\python37-32\\lib\\site-packages\\sklearn\\svm\\base.py:922: ConvergenceWarning: Liblinear failed to converge, increase the number of iterations.\n",
      "  \"the number of iterations.\", ConvergenceWarning)\n"
     ]
    },
    {
     "name": "stdout",
     "output_type": "stream",
     "text": [
      "0.8541813070976809\n"
     ]
    },
    {
     "name": "stderr",
     "output_type": "stream",
     "text": [
      "c:\\users\\greg\\appdata\\local\\programs\\python\\python37-32\\lib\\site-packages\\sklearn\\svm\\base.py:922: ConvergenceWarning: Liblinear failed to converge, increase the number of iterations.\n",
      "  \"the number of iterations.\", ConvergenceWarning)\n"
     ]
    },
    {
     "name": "stdout",
     "output_type": "stream",
     "text": [
      "0.846170063246662\n"
     ]
    },
    {
     "name": "stderr",
     "output_type": "stream",
     "text": [
      "c:\\users\\greg\\appdata\\local\\programs\\python\\python37-32\\lib\\site-packages\\sklearn\\svm\\base.py:922: ConvergenceWarning: Liblinear failed to converge, increase the number of iterations.\n",
      "  \"the number of iterations.\", ConvergenceWarning)\n"
     ]
    },
    {
     "name": "stdout",
     "output_type": "stream",
     "text": [
      "0.8548137737174982\n",
      "0.8491215741391427\n"
     ]
    },
    {
     "name": "stderr",
     "output_type": "stream",
     "text": [
      "c:\\users\\greg\\appdata\\local\\programs\\python\\python37-32\\lib\\site-packages\\sklearn\\svm\\base.py:922: ConvergenceWarning: Liblinear failed to converge, increase the number of iterations.\n",
      "  \"the number of iterations.\", ConvergenceWarning)\n"
     ]
    }
   ],
   "source": [
    "for C in range(1,20,1):\n",
    "    C = C/10\n",
    "    lasso = linear_model.LogisticRegression(penalty='l1', C=C, solver='liblinear', max_iter=200)\n",
    "    lassfit = lasso.fit(Xtrain, Ytrain)\n",
    "    print(lassfit.score(Xtest, Ytest))"
   ]
  },
  {
   "cell_type": "code",
   "execution_count": null,
   "metadata": {},
   "outputs": [],
   "source": []
  }
 ],
 "metadata": {
  "kernelspec": {
   "display_name": "Python 3",
   "language": "python",
   "name": "python3"
  },
  "language_info": {
   "codemirror_mode": {
    "name": "ipython",
    "version": 3
   },
   "file_extension": ".py",
   "mimetype": "text/x-python",
   "name": "python",
   "nbconvert_exporter": "python",
   "pygments_lexer": "ipython3",
   "version": "3.7.0"
  }
 },
 "nbformat": 4,
 "nbformat_minor": 2
}

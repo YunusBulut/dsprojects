{
 "cells": [
  {
   "cell_type": "markdown",
   "metadata": {},
   "source": [
    "Prepare this data to model with multivariable regression (including data cleaning if necessary) according to this specification:\n",
    "\n",
    "$$ Property crime = \\alpha + Population + Population^2 + Murder + Robbery$$\n",
    "\n",
    "The 'population' variable is already set for you, but you will need to create the last three features.  Robbery and Murder are currently continuous variables.  For this model, please use these variables to create  categorical features where values greater than 0 are coded 1, and values equal to 0 are coded 0.  You'll use this data and model in a later assignment- for now, just write the code you need to get the data ready.  Don't forget basic data cleaning procedures, either!  Do some graphing to see if there are any anomalous cases, and decide how you want to deal with them."
   ]
  },
  {
   "cell_type": "code",
   "execution_count": 141,
   "metadata": {},
   "outputs": [],
   "source": [
    "%matplotlib inline\n",
    "import pandas as pd\n",
    "import numpy as np\n",
    "import seaborn as sns\n",
    "from matplotlib import pyplot as plt\n"
   ]
  },
  {
   "cell_type": "code",
   "execution_count": 142,
   "metadata": {},
   "outputs": [
    {
     "data": {
      "text/html": [
       "<div>\n",
       "<style scoped>\n",
       "    .dataframe tbody tr th:only-of-type {\n",
       "        vertical-align: middle;\n",
       "    }\n",
       "\n",
       "    .dataframe tbody tr th {\n",
       "        vertical-align: top;\n",
       "    }\n",
       "\n",
       "    .dataframe thead th {\n",
       "        text-align: right;\n",
       "    }\n",
       "</style>\n",
       "<table border=\"1\" class=\"dataframe\">\n",
       "  <thead>\n",
       "    <tr style=\"text-align: right;\">\n",
       "      <th></th>\n",
       "      <th>city</th>\n",
       "      <th>population</th>\n",
       "      <th>violent_crime</th>\n",
       "      <th>murder_and_nonnegligent_manslaughter</th>\n",
       "      <th>rape_revised</th>\n",
       "      <th>rape_legacy</th>\n",
       "      <th>robbery</th>\n",
       "      <th>agg_assault</th>\n",
       "      <th>property_crime</th>\n",
       "      <th>burglary</th>\n",
       "      <th>larceny_theft</th>\n",
       "      <th>motor_vehicle_theft</th>\n",
       "      <th>arson</th>\n",
       "    </tr>\n",
       "  </thead>\n",
       "  <tbody>\n",
       "    <tr>\n",
       "      <th>0</th>\n",
       "      <td>Adams Village</td>\n",
       "      <td>1,861</td>\n",
       "      <td>0</td>\n",
       "      <td>0</td>\n",
       "      <td>NaN</td>\n",
       "      <td>0</td>\n",
       "      <td>0</td>\n",
       "      <td>0</td>\n",
       "      <td>12</td>\n",
       "      <td>2</td>\n",
       "      <td>10</td>\n",
       "      <td>0</td>\n",
       "      <td>0.0</td>\n",
       "    </tr>\n",
       "    <tr>\n",
       "      <th>1</th>\n",
       "      <td>Addison Town and Village</td>\n",
       "      <td>2,577</td>\n",
       "      <td>3</td>\n",
       "      <td>0</td>\n",
       "      <td>NaN</td>\n",
       "      <td>0</td>\n",
       "      <td>0</td>\n",
       "      <td>3</td>\n",
       "      <td>24</td>\n",
       "      <td>3</td>\n",
       "      <td>20</td>\n",
       "      <td>1</td>\n",
       "      <td>0.0</td>\n",
       "    </tr>\n",
       "    <tr>\n",
       "      <th>2</th>\n",
       "      <td>Akron Village</td>\n",
       "      <td>2,846</td>\n",
       "      <td>3</td>\n",
       "      <td>0</td>\n",
       "      <td>NaN</td>\n",
       "      <td>0</td>\n",
       "      <td>0</td>\n",
       "      <td>3</td>\n",
       "      <td>16</td>\n",
       "      <td>1</td>\n",
       "      <td>15</td>\n",
       "      <td>0</td>\n",
       "      <td>0.0</td>\n",
       "    </tr>\n",
       "    <tr>\n",
       "      <th>3</th>\n",
       "      <td>Albany</td>\n",
       "      <td>97,956</td>\n",
       "      <td>791</td>\n",
       "      <td>8</td>\n",
       "      <td>NaN</td>\n",
       "      <td>30</td>\n",
       "      <td>227</td>\n",
       "      <td>526</td>\n",
       "      <td>4,090</td>\n",
       "      <td>705</td>\n",
       "      <td>3,243</td>\n",
       "      <td>142</td>\n",
       "      <td>NaN</td>\n",
       "    </tr>\n",
       "    <tr>\n",
       "      <th>4</th>\n",
       "      <td>Albion Village</td>\n",
       "      <td>6,388</td>\n",
       "      <td>23</td>\n",
       "      <td>0</td>\n",
       "      <td>NaN</td>\n",
       "      <td>3</td>\n",
       "      <td>4</td>\n",
       "      <td>16</td>\n",
       "      <td>223</td>\n",
       "      <td>53</td>\n",
       "      <td>165</td>\n",
       "      <td>5</td>\n",
       "      <td>NaN</td>\n",
       "    </tr>\n",
       "  </tbody>\n",
       "</table>\n",
       "</div>"
      ],
      "text/plain": [
       "                       city population violent_crime  \\\n",
       "0             Adams Village      1,861             0   \n",
       "1  Addison Town and Village      2,577             3   \n",
       "2             Akron Village      2,846             3   \n",
       "3                    Albany     97,956           791   \n",
       "4            Albion Village      6,388            23   \n",
       "\n",
       "   murder_and_nonnegligent_manslaughter  rape_revised rape_legacy robbery  \\\n",
       "0                                     0           NaN           0       0   \n",
       "1                                     0           NaN           0       0   \n",
       "2                                     0           NaN           0       0   \n",
       "3                                     8           NaN          30     227   \n",
       "4                                     0           NaN           3       4   \n",
       "\n",
       "  agg_assault property_crime burglary larceny_theft motor_vehicle_theft  arson  \n",
       "0           0             12        2            10                   0    0.0  \n",
       "1           3             24        3            20                   1    0.0  \n",
       "2           3             16        1            15                   0    0.0  \n",
       "3         526          4,090      705         3,243                 142    NaN  \n",
       "4          16            223       53           165                   5    NaN  "
      ]
     },
     "execution_count": 142,
     "metadata": {},
     "output_type": "execute_result"
    }
   ],
   "source": [
    "df = pd.read_csv('copieddata.csv')\n",
    "#rename columns to be programmer friendly\n",
    "df.columns = ['city', 'population', 'violent_crime',\n",
    "       'murder_and_nonnegligent_manslaughter',\n",
    "       'rape_revised', 'rape_legacy',\n",
    "       'robbery', 'agg_assault', 'property_crime', 'burglary',\n",
    "       'larceny_theft', 'motor_vehicle_theft', 'arson']\n",
    "df.head()"
   ]
  },
  {
   "cell_type": "code",
   "execution_count": 143,
   "metadata": {},
   "outputs": [
    {
     "data": {
      "text/plain": [
       "city                                     object\n",
       "population                               object\n",
       "violent_crime                            object\n",
       "murder_and_nonnegligent_manslaughter      int64\n",
       "rape_revised                            float64\n",
       "rape_legacy                              object\n",
       "robbery                                  object\n",
       "agg_assault                              object\n",
       "property_crime                           object\n",
       "burglary                                 object\n",
       "larceny_theft                            object\n",
       "motor_vehicle_theft                      object\n",
       "arson                                   float64\n",
       "dtype: object"
      ]
     },
     "execution_count": 143,
     "metadata": {},
     "output_type": "execute_result"
    }
   ],
   "source": [
    "df.dtypes"
   ]
  },
  {
   "cell_type": "code",
   "execution_count": 144,
   "metadata": {},
   "outputs": [],
   "source": [
    "\n",
    "#convert to appropriate types\n",
    "df['population'] = df.population.str.replace(',', '').astype('float')\n",
    "df['violent_crime'] = df.violent_crime.str.replace(',', '').astype('float')\n",
    "df['murder_and_nonnegligent_manslaughter'] = df.murder_and_nonnegligent_manslaughter.astype('float')\n",
    "df.drop(columns=['rape_revised'], inplace=True)\n",
    "df['rape_legacy'] = df.rape_legacy.str.replace(',', '').astype('float')\n",
    "df['robbery'] = df.robbery.str.replace(',', '').astype('float')\n",
    "df['agg_assault'] = df.agg_assault.str.replace(',', '').astype('float')\n",
    "df['property_crime'] = df.property_crime.str.replace(',', '').astype('float')\n",
    "df['burglary'] = df.burglary.str.replace(',', '').astype('float')\n",
    "df['larceny_theft'] = df.larceny_theft.str.replace(',', '').astype('float')\n",
    "df['motor_vehicle_theft'] = df.motor_vehicle_theft.str.replace(',', '').astype('float')"
   ]
  },
  {
   "cell_type": "code",
   "execution_count": 147,
   "metadata": {
    "scrolled": true
   },
   "outputs": [
    {
     "data": {
      "text/plain": [
       "city                                     object\n",
       "population                              float64\n",
       "violent_crime                           float64\n",
       "murder_and_nonnegligent_manslaughter    float64\n",
       "rape_legacy                             float64\n",
       "robbery                                 float64\n",
       "agg_assault                             float64\n",
       "property_crime                          float64\n",
       "burglary                                float64\n",
       "larceny_theft                           float64\n",
       "motor_vehicle_theft                     float64\n",
       "arson                                   float64\n",
       "dtype: object"
      ]
     },
     "execution_count": 147,
     "metadata": {},
     "output_type": "execute_result"
    }
   ],
   "source": [
    "df.dtypes"
   ]
  },
  {
   "cell_type": "code",
   "execution_count": 148,
   "metadata": {},
   "outputs": [
    {
     "data": {
      "text/plain": [
       "(348, 12)"
      ]
     },
     "execution_count": 148,
     "metadata": {},
     "output_type": "execute_result"
    }
   ],
   "source": [
    "df.shape"
   ]
  },
  {
   "cell_type": "code",
   "execution_count": 149,
   "metadata": {
    "scrolled": false
   },
   "outputs": [
    {
     "data": {
      "image/png": "[encoded data removed]",
      "text/plain": [
       "<Figure size 1080x144 with 1 Axes>"
      ]
     },
     "metadata": {},
     "output_type": "display_data"
    }
   ],
   "source": [
    "#Let's see our population range\n",
    "plt.figure(figsize=(15,2))\n",
    "sns.boxplot(df['population'])\n",
    "plt.show()"
   ]
  },
  {
   "cell_type": "code",
   "execution_count": 150,
   "metadata": {},
   "outputs": [],
   "source": [
    "#that's no good. let's try this without New York, which is way too big to put into the same model as the rest of this data"
   ]
  },
  {
   "cell_type": "code",
   "execution_count": 151,
   "metadata": {},
   "outputs": [
    {
     "data": {
      "text/plain": [
       "(347, 12)"
      ]
     },
     "execution_count": 151,
     "metadata": {},
     "output_type": "execute_result"
    }
   ],
   "source": [
    "dfny = df[df.city != 'New York']\n",
    "dfny.shape"
   ]
  },
  {
   "cell_type": "code",
   "execution_count": 152,
   "metadata": {},
   "outputs": [
    {
     "data": {
      "image/png": "[encoded data removed]",
      "text/plain": [
       "<Figure size 1080x144 with 1 Axes>"
      ]
     },
     "metadata": {},
     "output_type": "display_data"
    }
   ],
   "source": [
    "plt.figure(figsize=(15,2))\n",
    "sns.boxplot(dfny['population'])\n",
    "plt.show()"
   ]
  },
  {
   "cell_type": "code",
   "execution_count": 154,
   "metadata": {},
   "outputs": [
    {
     "data": {
      "image/png": "[encoded data removed]",
      "text/plain": [
       "<Figure size 1080x144 with 1 Axes>"
      ]
     },
     "metadata": {},
     "output_type": "display_data"
    }
   ],
   "source": [
    "#Some other basic exploration\n",
    "plt.figure(figsize=(15,2))\n",
    "sns.boxplot(dfny['murder_and_nonnegligent_manslaughter'])\n",
    "plt.show()"
   ]
  },
  {
   "cell_type": "code",
   "execution_count": 155,
   "metadata": {},
   "outputs": [
    {
     "data": {
      "image/png": "[encoded data removed]",
      "text/plain": [
       "<Figure size 1080x144 with 1 Axes>"
      ]
     },
     "metadata": {},
     "output_type": "display_data"
    }
   ],
   "source": [
    "plt.figure(figsize=(15,2))\n",
    "sns.boxplot(dfny['robbery'])\n",
    "plt.show()"
   ]
  },
  {
   "cell_type": "code",
   "execution_count": 156,
   "metadata": {},
   "outputs": [],
   "source": [
    "#Create features per the original assignment\n",
    "features = dfny[['city', 'population', 'property_crime']]\n",
    "features = features.assign(pop2 = features.population **2)"
   ]
  },
  {
   "cell_type": "code",
   "execution_count": 157,
   "metadata": {
    "scrolled": false
   },
   "outputs": [
    {
     "data": {
      "text/html": [
       "<div>\n",
       "<style scoped>\n",
       "    .dataframe tbody tr th:only-of-type {\n",
       "        vertical-align: middle;\n",
       "    }\n",
       "\n",
       "    .dataframe tbody tr th {\n",
       "        vertical-align: top;\n",
       "    }\n",
       "\n",
       "    .dataframe thead th {\n",
       "        text-align: right;\n",
       "    }\n",
       "</style>\n",
       "<table border=\"1\" class=\"dataframe\">\n",
       "  <thead>\n",
       "    <tr style=\"text-align: right;\">\n",
       "      <th></th>\n",
       "      <th>city</th>\n",
       "      <th>population</th>\n",
       "      <th>property_crime</th>\n",
       "      <th>pop2</th>\n",
       "      <th>murder</th>\n",
       "      <th>robbery</th>\n",
       "    </tr>\n",
       "  </thead>\n",
       "  <tbody>\n",
       "    <tr>\n",
       "      <th>0</th>\n",
       "      <td>Adams Village</td>\n",
       "      <td>1861.0</td>\n",
       "      <td>12.0</td>\n",
       "      <td>3.463321e+06</td>\n",
       "      <td>0</td>\n",
       "      <td>0</td>\n",
       "    </tr>\n",
       "    <tr>\n",
       "      <th>1</th>\n",
       "      <td>Addison Town and Village</td>\n",
       "      <td>2577.0</td>\n",
       "      <td>24.0</td>\n",
       "      <td>6.640929e+06</td>\n",
       "      <td>0</td>\n",
       "      <td>0</td>\n",
       "    </tr>\n",
       "    <tr>\n",
       "      <th>2</th>\n",
       "      <td>Akron Village</td>\n",
       "      <td>2846.0</td>\n",
       "      <td>16.0</td>\n",
       "      <td>8.099716e+06</td>\n",
       "      <td>0</td>\n",
       "      <td>0</td>\n",
       "    </tr>\n",
       "    <tr>\n",
       "      <th>3</th>\n",
       "      <td>Albany</td>\n",
       "      <td>97956.0</td>\n",
       "      <td>4090.0</td>\n",
       "      <td>9.595378e+09</td>\n",
       "      <td>1</td>\n",
       "      <td>1</td>\n",
       "    </tr>\n",
       "    <tr>\n",
       "      <th>4</th>\n",
       "      <td>Albion Village</td>\n",
       "      <td>6388.0</td>\n",
       "      <td>223.0</td>\n",
       "      <td>4.080654e+07</td>\n",
       "      <td>0</td>\n",
       "      <td>1</td>\n",
       "    </tr>\n",
       "  </tbody>\n",
       "</table>\n",
       "</div>"
      ],
      "text/plain": [
       "                       city  population  property_crime          pop2  murder  \\\n",
       "0             Adams Village      1861.0            12.0  3.463321e+06       0   \n",
       "1  Addison Town and Village      2577.0            24.0  6.640929e+06       0   \n",
       "2             Akron Village      2846.0            16.0  8.099716e+06       0   \n",
       "3                    Albany     97956.0          4090.0  9.595378e+09       1   \n",
       "4            Albion Village      6388.0           223.0  4.080654e+07       0   \n",
       "\n",
       "   robbery  \n",
       "0        0  \n",
       "1        0  \n",
       "2        0  \n",
       "3        1  \n",
       "4        1  "
      ]
     },
     "execution_count": 157,
     "metadata": {},
     "output_type": "execute_result"
    }
   ],
   "source": [
    "features = features.assign(murder = np.where(dfny['murder_and_nonnegligent_manslaughter'] >0,1,0))\n",
    "features = features.assign(robbery = np.where(dfny['robbery'] >0, 1,0))\n",
    "features.head()"
   ]
  },
  {
   "cell_type": "markdown",
   "metadata": {},
   "source": [
    "# Using this data, build a regression model to predict property crimes. You can use the features you prepared in the previous assignment, new features of your own choosing, or a combination. The goal here is prediction rather than understanding mechanisms, so the focus is on creating a model that explains a lot of variance."
   ]
  },
  {
   "cell_type": "code",
   "execution_count": 158,
   "metadata": {},
   "outputs": [],
   "source": [
    "from sklearn import linear_model\n",
    "import statsmodels.formula.api as smf\n",
    "import math"
   ]
  },
  {
   "cell_type": "code",
   "execution_count": 159,
   "metadata": {},
   "outputs": [
    {
     "data": {
      "text/plain": [
       "Index(['city', 'population', 'violent_crime',\n",
       "       'murder_and_nonnegligent_manslaughter', 'rape_legacy', 'robbery',\n",
       "       'agg_assault', 'property_crime', 'burglary', 'larceny_theft',\n",
       "       'motor_vehicle_theft', 'arson'],\n",
       "      dtype='object')"
      ]
     },
     "execution_count": 159,
     "metadata": {},
     "output_type": "execute_result"
    }
   ],
   "source": [
    "df.columns"
   ]
  },
  {
   "cell_type": "code",
   "execution_count": 160,
   "metadata": {},
   "outputs": [
    {
     "name": "stdout",
     "output_type": "stream",
     "text": [
      "\n",
      "Coefficients: \n",
      " [4.12734676]\n",
      "\n",
      "Intercept: \n",
      " 174.37729303836022\n",
      "\n",
      "R-squared:\n",
      "0.8918008240850744\n"
     ]
    },
    {
     "data": {
      "image/png": "[encoded data removed]",
      "text/plain": [
       "<Figure size 432x288 with 1 Axes>"
      ]
     },
     "metadata": {},
     "output_type": "display_data"
    },
    {
     "data": {
      "image/png": "[encoded data removed]",
      "text/plain": [
       "<Figure size 432x288 with 1 Axes>"
      ]
     },
     "metadata": {},
     "output_type": "display_data"
    },
    {
     "data": {
      "text/html": [
       "<div>\n",
       "<style scoped>\n",
       "    .dataframe tbody tr th:only-of-type {\n",
       "        vertical-align: middle;\n",
       "    }\n",
       "\n",
       "    .dataframe tbody tr th {\n",
       "        vertical-align: top;\n",
       "    }\n",
       "\n",
       "    .dataframe thead th {\n",
       "        text-align: right;\n",
       "    }\n",
       "</style>\n",
       "<table border=\"1\" class=\"dataframe\">\n",
       "  <thead>\n",
       "    <tr style=\"text-align: right;\">\n",
       "      <th></th>\n",
       "      <th>violent_crime</th>\n",
       "    </tr>\n",
       "  </thead>\n",
       "  <tbody>\n",
       "    <tr>\n",
       "      <th>violent_crime</th>\n",
       "      <td>1.0</td>\n",
       "    </tr>\n",
       "  </tbody>\n",
       "</table>\n",
       "</div>"
      ],
      "text/plain": [
       "               violent_crime\n",
       "violent_crime            1.0"
      ]
     },
     "metadata": {},
     "output_type": "display_data"
    }
   ],
   "source": [
    "#Attempt 1\n",
    "regr = linear_model.LinearRegression()\n",
    "Y = dfny['property_crime']\n",
    "X = dfny[['violent_crime']]\n",
    "regr.fit(X, Y)\n",
    "\n",
    "# Inspect the results.\n",
    "print('\\nCoefficients: \\n', regr.coef_)\n",
    "print('\\nIntercept: \\n', regr.intercept_)\n",
    "print('\\nR-squared:')\n",
    "print(regr.score(X, Y))\n",
    "\n",
    "#check multivariate normality\n",
    "# Extract predicted values.\n",
    "predicted = regr.predict(X).ravel()\n",
    "actual = dfny['property_crime']\n",
    "\n",
    "# Calculate the error, also called the residual.\n",
    "residual = actual - predicted\n",
    "\n",
    "#check multivariate normality\n",
    "plt.hist(residual, bins=100)\n",
    "plt.title('Residual counts')\n",
    "plt.xlabel('Residual')\n",
    "plt.ylabel('Count')\n",
    "plt.show()\n",
    "\n",
    "#check scedasticity\n",
    "plt.scatter(predicted, residual)\n",
    "plt.xlabel('Predicted')\n",
    "plt.ylabel('Residual')\n",
    "plt.axhline(y=0)\n",
    "plt.title('Residual vs. Predicted')\n",
    "plt.show()\n",
    "\n",
    "\n",
    "#check multicollinearity\n",
    "correlation_matrix = X.corr()\n",
    "display(correlation_matrix)"
   ]
  },
  {
   "cell_type": "code",
   "execution_count": 161,
   "metadata": {},
   "outputs": [
    {
     "data": {
      "text/plain": [
       "<matplotlib.axes._subplots.AxesSubplot at 0x158c4610>"
      ]
     },
     "execution_count": 161,
     "metadata": {},
     "output_type": "execute_result"
    },
    {
     "data": {
      "image/png": "[encoded data removed]",
      "text/plain": [
       "<Figure size 432x288 with 2 Axes>"
      ]
     },
     "metadata": {},
     "output_type": "display_data"
    }
   ],
   "source": [
    "#This has multivariate normality problems. small cities are being overpredicted and large cities are underpredicted\n",
    "\n",
    "#Let's check the correlation heatmap\n",
    "\n",
    "sns.heatmap(dfny.corr(), vmin=0, cmap=\"PiYG\")"
   ]
  },
  {
   "cell_type": "code",
   "execution_count": 163,
   "metadata": {},
   "outputs": [
    {
     "name": "stdout",
     "output_type": "stream",
     "text": [
      "\n",
      "Coefficients: \n",
      " [1.43843736]\n",
      "\n",
      "Intercept: \n",
      " -44.332318841997505\n",
      "\n",
      "R-squared:\n",
      "0.9892933480458743\n"
     ]
    }
   ],
   "source": [
    "#Attempt 2 - #Larceny is the strongest correlation to property crime, so let's see what that looks like\n",
    "regr = linear_model.LinearRegression()\n",
    "Y = dfny['property_crime']\n",
    "X = dfny[['larceny_theft']]\n",
    "regr.fit(X, Y)\n",
    "\n",
    "# Inspect the results.\n",
    "print('\\nCoefficients: \\n', regr.coef_)\n",
    "print('\\nIntercept: \\n', regr.intercept_)\n",
    "print('\\nR-squared:')\n",
    "print(regr.score(X, Y))"
   ]
  },
  {
   "cell_type": "code",
   "execution_count": 164,
   "metadata": {},
   "outputs": [
    {
     "data": {
      "image/png": "[encoded data removed]",
      "text/plain": [
       "<Figure size 432x288 with 1 Axes>"
      ]
     },
     "metadata": {},
     "output_type": "display_data"
    }
   ],
   "source": [
    "#check linearity\n",
    "plt.scatter(dfny.property_crime, dfny.larceny_theft)\n",
    "plt.show()"
   ]
  },
  {
   "cell_type": "code",
   "execution_count": 165,
   "metadata": {},
   "outputs": [
    {
     "data": {
      "image/png": "[encoded data removed]",
      "text/plain": [
       "<Figure size 432x288 with 1 Axes>"
      ]
     },
     "metadata": {},
     "output_type": "display_data"
    }
   ],
   "source": [
    "#check multivariate normality\n",
    "# Extract predicted values.\n",
    "predicted = regr.predict(X).ravel()\n",
    "actual = dfny['property_crime']\n",
    "\n",
    "# Calculate the error, also called the residual.\n",
    "residual = actual - predicted\n",
    "\n",
    "#nor awful but seems a little skewed\n",
    "plt.hist(residual, bins=100)\n",
    "plt.title('Residual counts')\n",
    "plt.xlabel('Residual')\n",
    "plt.ylabel('Count')\n",
    "plt.show()"
   ]
  },
  {
   "cell_type": "code",
   "execution_count": 166,
   "metadata": {},
   "outputs": [
    {
     "data": {
      "image/png": "[encoded data removed]",
      "text/plain": [
       "<Figure size 432x288 with 1 Axes>"
      ]
     },
     "metadata": {},
     "output_type": "display_data"
    }
   ],
   "source": [
    "#check scedasticity\n",
    "plt.scatter(predicted, residual)\n",
    "plt.xlabel('Predicted')\n",
    "plt.ylabel('Residual')\n",
    "plt.axhline(y=0)\n",
    "plt.title('Residual vs. Predicted')\n",
    "plt.show()\n"
   ]
  },
  {
   "cell_type": "code",
   "execution_count": 167,
   "metadata": {},
   "outputs": [],
   "source": [
    "#That's quite bad"
   ]
  },
  {
   "cell_type": "code",
   "execution_count": 168,
   "metadata": {},
   "outputs": [
    {
     "name": "stdout",
     "output_type": "stream",
     "text": [
      "\n",
      "Coefficients: \n",
      " [1.29510871e-02 1.14920528e-07 1.95038666e+02 9.28205845e+01]\n",
      "\n",
      "Intercept: \n",
      " -16.815866321663066\n",
      "\n",
      "R-squared:\n",
      "0.8444937611173492\n"
     ]
    },
    {
     "data": {
      "image/png": "[encoded data removed]",
      "text/plain": [
       "<Figure size 432x288 with 1 Axes>"
      ]
     },
     "metadata": {},
     "output_type": "display_data"
    },
    {
     "data": {
      "image/png": "[encoded data removed]",
      "text/plain": [
       "<Figure size 432x288 with 1 Axes>"
      ]
     },
     "metadata": {},
     "output_type": "display_data"
    },
    {
     "data": {
      "image/png": "[encoded data removed]",
      "text/plain": [
       "<Figure size 432x288 with 1 Axes>"
      ]
     },
     "metadata": {},
     "output_type": "display_data"
    },
    {
     "data": {
      "text/html": [
       "<div>\n",
       "<style scoped>\n",
       "    .dataframe tbody tr th:only-of-type {\n",
       "        vertical-align: middle;\n",
       "    }\n",
       "\n",
       "    .dataframe tbody tr th {\n",
       "        vertical-align: top;\n",
       "    }\n",
       "\n",
       "    .dataframe thead th {\n",
       "        text-align: right;\n",
       "    }\n",
       "</style>\n",
       "<table border=\"1\" class=\"dataframe\">\n",
       "  <thead>\n",
       "    <tr style=\"text-align: right;\">\n",
       "      <th></th>\n",
       "      <th>population</th>\n",
       "      <th>pop2</th>\n",
       "      <th>murder</th>\n",
       "      <th>robbery</th>\n",
       "    </tr>\n",
       "  </thead>\n",
       "  <tbody>\n",
       "    <tr>\n",
       "      <th>population</th>\n",
       "      <td>1.000000</td>\n",
       "      <td>0.888582</td>\n",
       "      <td>0.502713</td>\n",
       "      <td>0.344347</td>\n",
       "    </tr>\n",
       "    <tr>\n",
       "      <th>pop2</th>\n",
       "      <td>0.888582</td>\n",
       "      <td>1.000000</td>\n",
       "      <td>0.344873</td>\n",
       "      <td>0.152289</td>\n",
       "    </tr>\n",
       "    <tr>\n",
       "      <th>murder</th>\n",
       "      <td>0.502713</td>\n",
       "      <td>0.344873</td>\n",
       "      <td>1.000000</td>\n",
       "      <td>0.310503</td>\n",
       "    </tr>\n",
       "    <tr>\n",
       "      <th>robbery</th>\n",
       "      <td>0.344347</td>\n",
       "      <td>0.152289</td>\n",
       "      <td>0.310503</td>\n",
       "      <td>1.000000</td>\n",
       "    </tr>\n",
       "  </tbody>\n",
       "</table>\n",
       "</div>"
      ],
      "text/plain": [
       "            population      pop2    murder   robbery\n",
       "population    1.000000  0.888582  0.502713  0.344347\n",
       "pop2          0.888582  1.000000  0.344873  0.152289\n",
       "murder        0.502713  0.344873  1.000000  0.310503\n",
       "robbery       0.344347  0.152289  0.310503  1.000000"
      ]
     },
     "metadata": {},
     "output_type": "display_data"
    }
   ],
   "source": [
    "#Attempt 3 using the originally assigned features:\n",
    "regr = linear_model.LinearRegression()\n",
    "Y = features['property_crime']\n",
    "X = features[['population', 'pop2', 'murder', 'robbery']]\n",
    "regr.fit(X, Y)\n",
    "\n",
    "# Inspect the results.\n",
    "print('\\nCoefficients: \\n', regr.coef_)\n",
    "print('\\nIntercept: \\n', regr.intercept_)\n",
    "print('\\nR-squared:')\n",
    "print(regr.score(X, Y))\n",
    "#check linearity\n",
    "plt.scatter(features.property_crime, features.population)\n",
    "plt.show()\n",
    "\n",
    "#check multivariate normality\n",
    "# Extract predicted values.\n",
    "predicted = regr.predict(X).ravel()\n",
    "actual = features['property_crime']\n",
    "\n",
    "# Calculate the error, also called the residual.\n",
    "residual = actual - predicted\n",
    "\n",
    "#check multivariate normality\n",
    "plt.hist(residual, bins=100)\n",
    "plt.title('Residual counts')\n",
    "plt.xlabel('Residual')\n",
    "plt.ylabel('Count')\n",
    "plt.show()\n",
    "\n",
    "#check scedasticity\n",
    "plt.scatter(predicted, residual)\n",
    "plt.xlabel('Predicted')\n",
    "plt.ylabel('Residual')\n",
    "plt.axhline(y=0)\n",
    "plt.title('Residual vs. Predicted')\n",
    "plt.show()\n",
    "\n",
    "\n",
    "#check multicollinearity\n",
    "correlation_matrix = X.corr()\n",
    "display(correlation_matrix)"
   ]
  },
  {
   "cell_type": "code",
   "execution_count": 169,
   "metadata": {},
   "outputs": [],
   "source": [
    "#Not bad, though the larger cities are still not great"
   ]
  },
  {
   "cell_type": "code",
   "execution_count": 170,
   "metadata": {},
   "outputs": [
    {
     "data": {
      "text/plain": [
       "Index(['city', 'population', 'violent_crime',\n",
       "       'murder_and_nonnegligent_manslaughter', 'rape_legacy', 'robbery',\n",
       "       'agg_assault', 'property_crime', 'burglary', 'larceny_theft',\n",
       "       'motor_vehicle_theft', 'arson'],\n",
       "      dtype='object')"
      ]
     },
     "execution_count": 170,
     "metadata": {},
     "output_type": "execute_result"
    }
   ],
   "source": [
    "dfny.columns"
   ]
  },
  {
   "cell_type": "code",
   "execution_count": 171,
   "metadata": {},
   "outputs": [],
   "source": [
    "#Use PCA on several other crime items to predict property crime\n",
    "from sklearn.preprocessing import StandardScaler\n",
    "from sklearn.decomposition import PCA \n",
    "crime = dfny[['violent_crime', 'murder_and_nonnegligent_manslaughter', 'rape_legacy', 'robbery', 'agg_assault', 'burglary'\n",
    "             , 'larceny_theft', 'motor_vehicle_theft']]\n",
    "S = StandardScaler().fit_transform(crime)\n"
   ]
  },
  {
   "cell_type": "code",
   "execution_count": 172,
   "metadata": {},
   "outputs": [],
   "source": [
    "St = S.T\n",
    "Cx = np.cov(St)\n",
    "eig_val_cov, eig_vec_cov = np.linalg.eig(Cx)"
   ]
  },
  {
   "cell_type": "code",
   "execution_count": 173,
   "metadata": {},
   "outputs": [
    {
     "name": "stdout",
     "output_type": "stream",
     "text": [
      "Eigenvector 1: \n",
      "[[-0.35820137]\n",
      " [-0.34985744]\n",
      " [-0.35307405]\n",
      " [-0.35643112]\n",
      " [-0.35590089]\n",
      " [-0.35699338]\n",
      " [-0.34006579]\n",
      " [-0.35753695]]\n",
      "Eigenvalue 1: 7.702914656761019\n",
      "----------------------------------------\n",
      "Eigenvector 2: \n",
      "[[ 0.20266952]\n",
      " [ 0.27941353]\n",
      " [-0.09578768]\n",
      " [ 0.30607455]\n",
      " [ 0.14667777]\n",
      " [-0.18870679]\n",
      " [-0.83564497]\n",
      " [ 0.15023018]]\n",
      "Eigenvalue 2: 0.1503854306337862\n",
      "----------------------------------------\n",
      "Eigenvector 3: \n",
      "[[ 0.31098501]\n",
      " [-0.71040826]\n",
      " [-0.29431104]\n",
      " [ 0.19724078]\n",
      " [ 0.47104158]\n",
      " [-0.18008459]\n",
      " [ 0.0863402 ]\n",
      " [ 0.10639665]]\n",
      "Eigenvalue 3: 0.07642452603034493\n",
      "----------------------------------------\n",
      "Eigenvector 4: \n",
      "[[ 0.01686911]\n",
      " [-0.36547888]\n",
      " [ 0.80593643]\n",
      " [-0.25825434]\n",
      " [ 0.16475505]\n",
      " [ 0.0718532 ]\n",
      " [-0.31624186]\n",
      " [-0.13264906]]\n",
      "Eigenvalue 4: 0.050654478915381135\n",
      "----------------------------------------\n",
      "Eigenvector 5: \n",
      "[[-8.27763984e-01]\n",
      " [ 1.29658548e-02]\n",
      " [ 3.75676081e-02]\n",
      " [ 3.32174169e-01]\n",
      " [ 4.50430538e-01]\n",
      " [-4.25702367e-14]\n",
      " [ 8.63195463e-15]\n",
      " [ 7.38797591e-14]]\n",
      "Eigenvalue 5: 8.6704323690951e-16\n",
      "----------------------------------------\n",
      "Eigenvector 6: \n",
      "[[ 0.19595546]\n",
      " [ 0.347848  ]\n",
      " [ 0.072676  ]\n",
      " [-0.05678101]\n",
      " [ 0.38590999]\n",
      " [-0.48725693]\n",
      " [ 0.19784027]\n",
      " [-0.63766036]]\n",
      "Eigenvalue 6: 0.022478332872005066\n",
      "----------------------------------------\n",
      "Eigenvector 7: \n",
      "[[-0.07461193]\n",
      " [ 0.19698696]\n",
      " [-0.12821164]\n",
      " [-0.717779  ]\n",
      " [ 0.39724011]\n",
      " [-0.15642567]\n",
      " [-0.0070079 ]\n",
      " [ 0.49159585]]\n",
      "Eigenvalue 7: 0.006092442354019511\n",
      "----------------------------------------\n",
      "Eigenvector 8: \n",
      "[[ 0.06679751]\n",
      " [ 0.03609625]\n",
      " [-0.32692441]\n",
      " [-0.21190929]\n",
      " [ 0.30525709]\n",
      " [ 0.73311925]\n",
      " [-0.19849261]\n",
      " [-0.41521681]]\n",
      "Eigenvalue 8: 0.014171519716684447\n",
      "----------------------------------------\n",
      "The percentage of total variance in the dataset explained by each component calculated by hand.\n",
      " [9.60089507e-01 1.87440054e-02 9.52553530e-03 6.31356257e-03\n",
      " 1.08068069e-16 2.80169423e-03 7.59360610e-04 1.76633495e-03]\n"
     ]
    }
   ],
   "source": [
    "# Inspecting the eigenvalues and eigenvectors.\n",
    "for i in range(len(eig_val_cov)):\n",
    "    eigvec_cov = eig_vec_cov[:, i].reshape(1, 8).T\n",
    "    print('Eigenvector {}: \\n{}'.format(i + 1, eigvec_cov))\n",
    "    print('Eigenvalue {}: {}'.format(i + 1, eig_val_cov[i]))\n",
    "    print(40 * '-')\n",
    "\n",
    "print(\n",
    "    'The percentage of total variance in the dataset explained by each',\n",
    "    'component calculated by hand.\\n',\n",
    "    eig_val_cov / sum(eig_val_cov)\n",
    ")"
   ]
  },
  {
   "cell_type": "code",
   "execution_count": 174,
   "metadata": {},
   "outputs": [],
   "source": [
    "#96% explained by the first component. Easily keep that one and toss the rest.\n",
    "P = eig_vec_cov[:, 0]\n",
    "\n",
    "# Transform X into Y.\n",
    "Y = P.T.dot(St)\n",
    "features['crime'] = Y\n"
   ]
  },
  {
   "cell_type": "code",
   "execution_count": 176,
   "metadata": {},
   "outputs": [
    {
     "name": "stdout",
     "output_type": "stream",
     "text": [
      "\n",
      "Coefficients: \n",
      " [-361.48525323]\n",
      "\n",
      "Intercept: \n",
      " 385.7521613832853\n",
      "\n",
      "R-squared:\n",
      "0.940773775798779\n"
     ]
    },
    {
     "data": {
      "image/png": "[encoded data removed]",
      "text/plain": [
       "<Figure size 432x288 with 1 Axes>"
      ]
     },
     "metadata": {},
     "output_type": "display_data"
    },
    {
     "data": {
      "image/png": "[encoded data removed]",
      "text/plain": [
       "<Figure size 432x288 with 1 Axes>"
      ]
     },
     "metadata": {},
     "output_type": "display_data"
    },
    {
     "data": {
      "image/png": "[encoded data removed]",
      "text/plain": [
       "<Figure size 432x288 with 1 Axes>"
      ]
     },
     "metadata": {},
     "output_type": "display_data"
    }
   ],
   "source": [
    "#Regression attempt with just this feature\n",
    "regr = linear_model.LinearRegression()\n",
    "Y = features['property_crime']\n",
    "X = features[['crime']]\n",
    "regr.fit(X, Y)\n",
    "\n",
    "# Inspect the results.\n",
    "print('\\nCoefficients: \\n', regr.coef_)\n",
    "print('\\nIntercept: \\n', regr.intercept_)\n",
    "print('\\nR-squared:')\n",
    "print(regr.score(X, Y))\n",
    "#check linearity\n",
    "plt.scatter(features.property_crime, features.crime)\n",
    "plt.show()\n",
    "\n",
    "#check multivariate normality\n",
    "# Extract predicted values.\n",
    "predicted = regr.predict(X).ravel()\n",
    "actual = features['property_crime']\n",
    "\n",
    "# Calculate the error, also called the residual.\n",
    "residual = actual - predicted\n",
    "\n",
    "#check multivariate normality\n",
    "plt.hist(residual, bins=100)\n",
    "plt.title('Residual counts')\n",
    "plt.xlabel('Residual')\n",
    "plt.ylabel('Count')\n",
    "plt.show()\n",
    "\n",
    "#check scedasticity\n",
    "plt.scatter(predicted, residual)\n",
    "plt.xlabel('Predicted')\n",
    "plt.ylabel('Residual')\n",
    "plt.axhline(y=0)\n",
    "plt.title('Residual vs. Predicted')\n",
    "plt.show()\n",
    "\n"
   ]
  },
  {
   "cell_type": "code",
   "execution_count": 179,
   "metadata": {},
   "outputs": [
    {
     "data": {
      "text/html": [
       "<div>\n",
       "<style scoped>\n",
       "    .dataframe tbody tr th:only-of-type {\n",
       "        vertical-align: middle;\n",
       "    }\n",
       "\n",
       "    .dataframe tbody tr th {\n",
       "        vertical-align: top;\n",
       "    }\n",
       "\n",
       "    .dataframe thead th {\n",
       "        text-align: right;\n",
       "    }\n",
       "</style>\n",
       "<table border=\"1\" class=\"dataframe\">\n",
       "  <thead>\n",
       "    <tr style=\"text-align: right;\">\n",
       "      <th></th>\n",
       "      <th>city</th>\n",
       "      <th>population</th>\n",
       "      <th>property_crime</th>\n",
       "      <th>pop2</th>\n",
       "      <th>murder</th>\n",
       "      <th>robbery</th>\n",
       "      <th>crime</th>\n",
       "      <th>big</th>\n",
       "    </tr>\n",
       "  </thead>\n",
       "  <tbody>\n",
       "    <tr>\n",
       "      <th>0</th>\n",
       "      <td>Adams Village</td>\n",
       "      <td>1861.0</td>\n",
       "      <td>12.0</td>\n",
       "      <td>3.463321e+06</td>\n",
       "      <td>0</td>\n",
       "      <td>0</td>\n",
       "      <td>0.682761</td>\n",
       "      <td>0.116628</td>\n",
       "    </tr>\n",
       "    <tr>\n",
       "      <th>1</th>\n",
       "      <td>Addison Town and Village</td>\n",
       "      <td>2577.0</td>\n",
       "      <td>24.0</td>\n",
       "      <td>6.640929e+06</td>\n",
       "      <td>0</td>\n",
       "      <td>0</td>\n",
       "      <td>0.658510</td>\n",
       "      <td>0.161500</td>\n",
       "    </tr>\n",
       "    <tr>\n",
       "      <th>2</th>\n",
       "      <td>Akron Village</td>\n",
       "      <td>2846.0</td>\n",
       "      <td>16.0</td>\n",
       "      <td>8.099716e+06</td>\n",
       "      <td>0</td>\n",
       "      <td>0</td>\n",
       "      <td>0.668880</td>\n",
       "      <td>0.178358</td>\n",
       "    </tr>\n",
       "    <tr>\n",
       "      <th>3</th>\n",
       "      <td>Albany</td>\n",
       "      <td>97956.0</td>\n",
       "      <td>4090.0</td>\n",
       "      <td>9.595378e+09</td>\n",
       "      <td>1</td>\n",
       "      <td>1</td>\n",
       "      <td>-7.807937</td>\n",
       "      <td>6.138869</td>\n",
       "    </tr>\n",
       "    <tr>\n",
       "      <th>4</th>\n",
       "      <td>Albion Village</td>\n",
       "      <td>6388.0</td>\n",
       "      <td>223.0</td>\n",
       "      <td>4.080654e+07</td>\n",
       "      <td>0</td>\n",
       "      <td>1</td>\n",
       "      <td>0.320755</td>\n",
       "      <td>0.400334</td>\n",
       "    </tr>\n",
       "  </tbody>\n",
       "</table>\n",
       "</div>"
      ],
      "text/plain": [
       "                       city  population  property_crime          pop2  murder  \\\n",
       "0             Adams Village      1861.0            12.0  3.463321e+06       0   \n",
       "1  Addison Town and Village      2577.0            24.0  6.640929e+06       0   \n",
       "2             Akron Village      2846.0            16.0  8.099716e+06       0   \n",
       "3                    Albany     97956.0          4090.0  9.595378e+09       1   \n",
       "4            Albion Village      6388.0           223.0  4.080654e+07       0   \n",
       "\n",
       "   robbery     crime       big  \n",
       "0        0  0.682761  0.116628  \n",
       "1        0  0.658510  0.161500  \n",
       "2        0  0.668880  0.178358  \n",
       "3        1 -7.807937  6.138869  \n",
       "4        1  0.320755  0.400334  "
      ]
     },
     "execution_count": 179,
     "metadata": {},
     "output_type": "execute_result"
    }
   ],
   "source": [
    "#Our residual is still not normally distributed. let's try to correct so that the larger cities have smaller errors and smaller\n",
    "#cities have larger errors. \n",
    "\n",
    "#Create new feature that's defined as each population value over it's the mean of all of them\n",
    "features['big'] = [x / features.population.mean() for x in features['population']]\n",
    "features.head()"
   ]
  },
  {
   "cell_type": "code",
   "execution_count": 181,
   "metadata": {},
   "outputs": [
    {
     "name": "stdout",
     "output_type": "stream",
     "text": [
      "\n",
      "Coefficients: \n",
      " [-284.00097051  150.98936999]\n",
      "\n",
      "Intercept: \n",
      " 234.76279138978512\n",
      "\n",
      "R-squared:\n",
      "0.9589197858706376\n"
     ]
    },
    {
     "data": {
      "image/png": "[encoded data removed]",
      "text/plain": [
       "<Figure size 432x288 with 1 Axes>"
      ]
     },
     "metadata": {},
     "output_type": "display_data"
    },
    {
     "data": {
      "image/png": "[encoded data removed]",
      "text/plain": [
       "<Figure size 432x288 with 1 Axes>"
      ]
     },
     "metadata": {},
     "output_type": "display_data"
    },
    {
     "data": {
      "image/png": "[encoded data removed]",
      "text/plain": [
       "<Figure size 432x288 with 1 Axes>"
      ]
     },
     "metadata": {},
     "output_type": "display_data"
    },
    {
     "data": {
      "text/html": [
       "<div>\n",
       "<style scoped>\n",
       "    .dataframe tbody tr th:only-of-type {\n",
       "        vertical-align: middle;\n",
       "    }\n",
       "\n",
       "    .dataframe tbody tr th {\n",
       "        vertical-align: top;\n",
       "    }\n",
       "\n",
       "    .dataframe thead th {\n",
       "        text-align: right;\n",
       "    }\n",
       "</style>\n",
       "<table border=\"1\" class=\"dataframe\">\n",
       "  <thead>\n",
       "    <tr style=\"text-align: right;\">\n",
       "      <th></th>\n",
       "      <th>crime</th>\n",
       "      <th>big</th>\n",
       "    </tr>\n",
       "  </thead>\n",
       "  <tbody>\n",
       "    <tr>\n",
       "      <th>crime</th>\n",
       "      <td>1.000000</td>\n",
       "      <td>-0.839238</td>\n",
       "    </tr>\n",
       "    <tr>\n",
       "      <th>big</th>\n",
       "      <td>-0.839238</td>\n",
       "      <td>1.000000</td>\n",
       "    </tr>\n",
       "  </tbody>\n",
       "</table>\n",
       "</div>"
      ],
      "text/plain": [
       "          crime       big\n",
       "crime  1.000000 -0.839238\n",
       "big   -0.839238  1.000000"
      ]
     },
     "metadata": {},
     "output_type": "display_data"
    }
   ],
   "source": [
    "# Try again using this feature as well as the original 5-crime PCA component\n",
    "regr = linear_model.LinearRegression()\n",
    "Y = features['property_crime']\n",
    "X = features[['crime', 'big']]\n",
    "regr.fit(X, Y)\n",
    "\n",
    "# Inspect the results.\n",
    "print('\\nCoefficients: \\n', regr.coef_)\n",
    "print('\\nIntercept: \\n', regr.intercept_)\n",
    "print('\\nR-squared:')\n",
    "print(regr.score(X, Y))\n",
    "#check linearity\n",
    "plt.scatter(features.property_crime, features.crime)\n",
    "plt.show()\n",
    "\n",
    "#check multivariate normality\n",
    "# Extract predicted values.\n",
    "predicted = regr.predict(X).ravel()\n",
    "actual = features['property_crime']\n",
    "\n",
    "# Calculate the error, also called the residual.\n",
    "residual = actual - predicted\n",
    "\n",
    "#check multivariate normality\n",
    "plt.hist(residual, bins=100)\n",
    "plt.title('Residual counts')\n",
    "plt.xlabel('Residual')\n",
    "plt.ylabel('Count')\n",
    "plt.show()\n",
    "\n",
    "#check scedasticity\n",
    "plt.scatter(predicted, residual)\n",
    "plt.xlabel('Predicted')\n",
    "plt.ylabel('Residual')\n",
    "plt.axhline(y=0)\n",
    "plt.title('Residual vs. Predicted')\n",
    "plt.show()\n",
    "\n",
    "\n",
    "#check multicollinearity\n",
    "correlation_matrix = X.corr()\n",
    "display(correlation_matrix)"
   ]
  },
  {
   "cell_type": "code",
   "execution_count": 182,
   "metadata": {
    "scrolled": true
   },
   "outputs": [],
   "source": [
    "##Not perfect but clearly the best attempt yet. one more:"
   ]
  },
  {
   "cell_type": "code",
   "execution_count": 183,
   "metadata": {},
   "outputs": [
    {
     "data": {
      "text/html": [
       "<div>\n",
       "<style scoped>\n",
       "    .dataframe tbody tr th:only-of-type {\n",
       "        vertical-align: middle;\n",
       "    }\n",
       "\n",
       "    .dataframe tbody tr th {\n",
       "        vertical-align: top;\n",
       "    }\n",
       "\n",
       "    .dataframe thead th {\n",
       "        text-align: right;\n",
       "    }\n",
       "</style>\n",
       "<table border=\"1\" class=\"dataframe\">\n",
       "  <thead>\n",
       "    <tr style=\"text-align: right;\">\n",
       "      <th></th>\n",
       "      <th>city</th>\n",
       "      <th>population</th>\n",
       "      <th>property_crime</th>\n",
       "      <th>pop2</th>\n",
       "      <th>murder</th>\n",
       "      <th>robbery</th>\n",
       "      <th>crime</th>\n",
       "      <th>big</th>\n",
       "      <th>sqrtpop</th>\n",
       "    </tr>\n",
       "  </thead>\n",
       "  <tbody>\n",
       "    <tr>\n",
       "      <th>0</th>\n",
       "      <td>Adams Village</td>\n",
       "      <td>1861.0</td>\n",
       "      <td>12.0</td>\n",
       "      <td>3.463321e+06</td>\n",
       "      <td>0</td>\n",
       "      <td>0</td>\n",
       "      <td>0.682761</td>\n",
       "      <td>0.116628</td>\n",
       "      <td>43.139309</td>\n",
       "    </tr>\n",
       "    <tr>\n",
       "      <th>1</th>\n",
       "      <td>Addison Town and Village</td>\n",
       "      <td>2577.0</td>\n",
       "      <td>24.0</td>\n",
       "      <td>6.640929e+06</td>\n",
       "      <td>0</td>\n",
       "      <td>0</td>\n",
       "      <td>0.658510</td>\n",
       "      <td>0.161500</td>\n",
       "      <td>50.764161</td>\n",
       "    </tr>\n",
       "    <tr>\n",
       "      <th>2</th>\n",
       "      <td>Akron Village</td>\n",
       "      <td>2846.0</td>\n",
       "      <td>16.0</td>\n",
       "      <td>8.099716e+06</td>\n",
       "      <td>0</td>\n",
       "      <td>0</td>\n",
       "      <td>0.668880</td>\n",
       "      <td>0.178358</td>\n",
       "      <td>53.347915</td>\n",
       "    </tr>\n",
       "    <tr>\n",
       "      <th>3</th>\n",
       "      <td>Albany</td>\n",
       "      <td>97956.0</td>\n",
       "      <td>4090.0</td>\n",
       "      <td>9.595378e+09</td>\n",
       "      <td>1</td>\n",
       "      <td>1</td>\n",
       "      <td>-7.807937</td>\n",
       "      <td>6.138869</td>\n",
       "      <td>312.979233</td>\n",
       "    </tr>\n",
       "    <tr>\n",
       "      <th>4</th>\n",
       "      <td>Albion Village</td>\n",
       "      <td>6388.0</td>\n",
       "      <td>223.0</td>\n",
       "      <td>4.080654e+07</td>\n",
       "      <td>0</td>\n",
       "      <td>1</td>\n",
       "      <td>0.320755</td>\n",
       "      <td>0.400334</td>\n",
       "      <td>79.924965</td>\n",
       "    </tr>\n",
       "  </tbody>\n",
       "</table>\n",
       "</div>"
      ],
      "text/plain": [
       "                       city  population  property_crime          pop2  murder  \\\n",
       "0             Adams Village      1861.0            12.0  3.463321e+06       0   \n",
       "1  Addison Town and Village      2577.0            24.0  6.640929e+06       0   \n",
       "2             Akron Village      2846.0            16.0  8.099716e+06       0   \n",
       "3                    Albany     97956.0          4090.0  9.595378e+09       1   \n",
       "4            Albion Village      6388.0           223.0  4.080654e+07       0   \n",
       "\n",
       "   robbery     crime       big     sqrtpop  \n",
       "0        0  0.682761  0.116628   43.139309  \n",
       "1        0  0.658510  0.161500   50.764161  \n",
       "2        0  0.668880  0.178358   53.347915  \n",
       "3        1 -7.807937  6.138869  312.979233  \n",
       "4        1  0.320755  0.400334   79.924965  "
      ]
     },
     "execution_count": 183,
     "metadata": {},
     "output_type": "execute_result"
    }
   ],
   "source": [
    "#try regression with the PCA component and also the sqrt of population\n",
    "features['sqrtpop'] = [math.sqrt(x) for x in features['population']]\n",
    "features.head()"
   ]
  },
  {
   "cell_type": "code",
   "execution_count": 184,
   "metadata": {},
   "outputs": [
    {
     "name": "stdout",
     "output_type": "stream",
     "text": [
      "\n",
      "Coefficients: \n",
      " [-311.72632834    2.95119523]\n",
      "\n",
      "Intercept: \n",
      " 76.7059091067336\n",
      "\n",
      "R-squared:\n",
      "0.9636910242031071\n"
     ]
    },
    {
     "data": {
      "image/png": "[encoded data removed]",
      "text/plain": [
       "<Figure size 432x288 with 1 Axes>"
      ]
     },
     "metadata": {},
     "output_type": "display_data"
    },
    {
     "data": {
      "image/png": "[encoded data removed]",
      "text/plain": [
       "<Figure size 432x288 with 1 Axes>"
      ]
     },
     "metadata": {},
     "output_type": "display_data"
    },
    {
     "data": {
      "image/png": "[encoded data removed]",
      "text/plain": [
       "<Figure size 432x288 with 1 Axes>"
      ]
     },
     "metadata": {},
     "output_type": "display_data"
    },
    {
     "data": {
      "text/html": [
       "<div>\n",
       "<style scoped>\n",
       "    .dataframe tbody tr th:only-of-type {\n",
       "        vertical-align: middle;\n",
       "    }\n",
       "\n",
       "    .dataframe tbody tr th {\n",
       "        vertical-align: top;\n",
       "    }\n",
       "\n",
       "    .dataframe thead th {\n",
       "        text-align: right;\n",
       "    }\n",
       "</style>\n",
       "<table border=\"1\" class=\"dataframe\">\n",
       "  <thead>\n",
       "    <tr style=\"text-align: right;\">\n",
       "      <th></th>\n",
       "      <th>crime</th>\n",
       "      <th>sqrtpop</th>\n",
       "    </tr>\n",
       "  </thead>\n",
       "  <tbody>\n",
       "    <tr>\n",
       "      <th>crime</th>\n",
       "      <td>1.00000</td>\n",
       "      <td>-0.66145</td>\n",
       "    </tr>\n",
       "    <tr>\n",
       "      <th>sqrtpop</th>\n",
       "      <td>-0.66145</td>\n",
       "      <td>1.00000</td>\n",
       "    </tr>\n",
       "  </tbody>\n",
       "</table>\n",
       "</div>"
      ],
      "text/plain": [
       "           crime  sqrtpop\n",
       "crime    1.00000 -0.66145\n",
       "sqrtpop -0.66145  1.00000"
      ]
     },
     "metadata": {},
     "output_type": "display_data"
    }
   ],
   "source": [
    "regr = linear_model.LinearRegression()\n",
    "Y = features['property_crime']\n",
    "X = features[['crime', 'sqrtpop']]\n",
    "regr.fit(X, Y)\n",
    "\n",
    "# Inspect the results.\n",
    "print('\\nCoefficients: \\n', regr.coef_)\n",
    "print('\\nIntercept: \\n', regr.intercept_)\n",
    "print('\\nR-squared:')\n",
    "print(regr.score(X, Y))\n",
    "#check linearity\n",
    "plt.scatter(features.property_crime, features.sqrtpop)\n",
    "plt.show()\n",
    "\n",
    "#check multivariate normality\n",
    "# Extract predicted values.\n",
    "predicted = regr.predict(X).ravel()\n",
    "actual = features['property_crime']\n",
    "\n",
    "# Calculate the error, also called the residual.\n",
    "residual = actual - predicted\n",
    "\n",
    "#check multivariate normality\n",
    "plt.hist(residual, bins=100)\n",
    "plt.title('Residual counts')\n",
    "plt.xlabel('Residual')\n",
    "plt.ylabel('Count')\n",
    "plt.show()\n",
    "\n",
    "#check scedasticity\n",
    "plt.scatter(predicted, residual)\n",
    "plt.xlabel('Predicted')\n",
    "plt.ylabel('Residual')\n",
    "plt.axhline(y=0)\n",
    "plt.title('Residual vs. Predicted')\n",
    "plt.show()\n",
    "\n",
    "\n",
    "#check multicollinearity\n",
    "correlation_matrix = X.corr()\n",
    "display(correlation_matrix)"
   ]
  },
  {
   "cell_type": "markdown",
   "metadata": {},
   "source": [
    "# Summary\n",
    "\n",
    "The best model needs only 2 features:\n",
    "* a single primary component created using all the other crime stats  \n",
    "* The square root of the population. taking the root eliminates the extremity of some of the larger values and enables a linear regression to be valid for the range of cities, as long as NYC itself is excluded."
   ]
  },
  {
   "cell_type": "code",
   "execution_count": null,
   "metadata": {},
   "outputs": [],
   "source": []
  }
 ],
 "metadata": {
  "kernelspec": {
   "display_name": "Python 3",
   "language": "python",
   "name": "python3"
  },
  "language_info": {
   "codemirror_mode": {
    "name": "ipython",
    "version": 3
   },
   "file_extension": ".py",
   "mimetype": "text/x-python",
   "name": "python",
   "nbconvert_exporter": "python",
   "pygments_lexer": "ipython3",
   "version": "3.7.0"
  }
 },
 "nbformat": 4,
 "nbformat_minor": 2
}

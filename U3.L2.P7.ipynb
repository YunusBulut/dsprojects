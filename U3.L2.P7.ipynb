{
 "cells": [
  {
   "cell_type": "markdown",
   "metadata": {},
   "source": [
    "Question 1:\n",
    "This is in a Christian country the day before a huge holiday, so AirBNB patterns will not reflect the popular neighborhoods in the city. A better question might be:\n",
    "* Which neighborhoods are most visited non-residents around Christmas in Amsterdam?"
   ]
  },
  {
   "cell_type": "markdown",
   "metadata": {},
   "source": [
    "Question 2: This date was the day after a historical tragedy in New York, and does not provide a baseline for comparison against SF. In fact, it's no unreasonable to think that you'd get unusual results in SF as well given the global nature of the Sept. 11 Tragedy.\n",
    "* If possible, collect data on preceding days as well, and measure the increase in mental health service use as a result of 9/11, both locally and across the country\n",
    "* Reframe: How did mental health services use in NY the day after 9/11 compare to the mental health services use in SF the same day?"
   ]
  },
  {
   "cell_type": "markdown",
   "metadata": {},
   "source": [
    "Question 3: \"What are the most common reasons Armenians visit local pubs?\"\n",
    "ISSUES:\n",
    "* Most of the respondents are under 21, which also biased for students\n",
    "* 5 super rich people (relatively) - account for this in analysis\n",
    "* 80% came from one region\n",
    "\n",
    "Reframe: What are the most common reasons that student visit local pubs around the Capital Region?"
   ]
  },
  {
   "cell_type": "code",
   "execution_count": null,
   "metadata": {},
   "outputs": [],
   "source": []
  }
 ],
 "metadata": {
  "kernelspec": {
   "display_name": "Python 3",
   "language": "python",
   "name": "python3"
  },
  "language_info": {
   "codemirror_mode": {
    "name": "ipython",
    "version": 3
   },
   "file_extension": ".py",
   "mimetype": "text/x-python",
   "name": "python",
   "nbconvert_exporter": "python",
   "pygments_lexer": "ipython3",
   "version": "3.7.0"
  }
 },
 "nbformat": 4,
 "nbformat_minor": 2
}

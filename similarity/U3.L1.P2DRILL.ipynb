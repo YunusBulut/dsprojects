{
 "cells": [
  {
   "cell_type": "markdown",
   "metadata": {},
   "source": [
    "## DRILL:\n",
    "\n",
    "Let's say we work at a credit card company and we're trying to figure out if people are going to pay their bills on time. We have everyone's purchases, split into four main categories: groceries, dining out, utilities, and entertainment. What are some ways you might use KNN to create this model? What aspects of KNN would be useful? Write up your thoughts in submit a link below.\n"
   ]
  },
  {
   "cell_type": "markdown",
   "metadata": {},
   "source": [
    "# Discussion\n",
    "The simplest form would be to use each of the amounts spent in each category as a feature with some training data where you know whether they paid or not. This might work. \n",
    "\n",
    "The problem with this approach is that it wouldn't factor the scale of expenditures. Someone could have proportionally similar spending habits to someone else with double the income and they would be significantly distant. These could be converted to percentages of the total and used as 3 features - the fourth would be redundant information. However, the tradeoff is that the scale of expenditures may contain information about repayment liklihood. That probably isn't worth losing.\n",
    "\n",
    "\n",
    "Similarly, spending categories with large ranges (groceries/dining out) might overpower categories with smaller ranges (utilities). To counter this, we could try normalizing all 4 features to between 0-1.\n",
    "\n",
    "Z-scores would not be advisable to use; a couple heavy spenders (outliers) could drastically skew the mean and thereby the zscores, and this is a phenomenom we see in income/spending in society. \n",
    "\n",
    "\n",
    "\n"
   ]
  },
  {
   "cell_type": "code",
   "execution_count": null,
   "metadata": {},
   "outputs": [],
   "source": []
  }
 ],
 "metadata": {
  "kernelspec": {
   "display_name": "Python 3",
   "language": "python",
   "name": "python3"
  },
  "language_info": {
   "codemirror_mode": {
    "name": "ipython",
    "version": 3
   },
   "file_extension": ".py",
   "mimetype": "text/x-python",
   "name": "python",
   "nbconvert_exporter": "python",
   "pygments_lexer": "ipython3",
   "version": "3.7.0"
  }
 },
 "nbformat": 4,
 "nbformat_minor": 2
}

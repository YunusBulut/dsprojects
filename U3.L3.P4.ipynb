{
 "cells": [
  {
   "cell_type": "code",
   "execution_count": 1,
   "metadata": {},
   "outputs": [],
   "source": [
    "import pandas as pd\n",
    "import numpy as np\n",
    "import matplotlib.pyplot as plt\n",
    "%matplotlib inline\n",
    "%config IPCompleter.greedy=True"
   ]
  },
  {
   "cell_type": "code",
   "execution_count": 11,
   "metadata": {},
   "outputs": [
    {
     "data": {
      "image/png": "[encoded data removed]",
      "text/plain": [
       "<Figure size 432x288 with 1 Axes>"
      ]
     },
     "metadata": {},
     "output_type": "display_data"
    },
    {
     "name": "stdout",
     "output_type": "stream",
     "text": [
      "Mean: 0.6484353073740625\n",
      "StDev: 1.222810233643644\n"
     ]
    }
   ],
   "source": [
    "gumbelDist = np.random.gumbel(size=100)\n",
    "plt.hist(gumbelDist)\n",
    "plt.axvline(gumbelDist.mean(), color='red', linestyle='solid', linewidth=2)\n",
    "plt.axvline(gumbelDist.mean() + gumbelDist.std(), color='red', linestyle='dashed', linewidth=2)\n",
    "plt.axvline(gumbelDist.mean() - gumbelDist.std(), color='red', linestyle='dashed', linewidth=2)\n",
    "plt.show()\n",
    "print(\"Mean: \" + str(gumbelDist.mean()))\n",
    "print(\"StDev: \" + str(gumbelDist.std()))"
   ]
  },
  {
   "cell_type": "code",
   "execution_count": 12,
   "metadata": {},
   "outputs": [],
   "source": [
    "#For the Gumbel distribution, mean is a useful measure of central tendency, but the variance is deceptive to measure \n",
    "#with a single statistic as the right side of the curve consistently has more extreme values than the left\n"
   ]
  },
  {
   "cell_type": "code",
   "execution_count": 19,
   "metadata": {},
   "outputs": [
    {
     "data": {
      "image/png": "[encoded data removed]",
      "text/plain": [
       "<Figure size 432x288 with 1 Axes>"
      ]
     },
     "metadata": {},
     "output_type": "display_data"
    },
    {
     "name": "stdout",
     "output_type": "stream",
     "text": [
      "Mean: 3.21\n",
      "StDev: 2.4669616940682317\n"
     ]
    }
   ],
   "source": [
    "geoDist = np.random.geometric(.28, size=100)\n",
    "plt.hist(geoDist)\n",
    "plt.axvline(geoDist.mean(), color='red', linestyle='solid', linewidth=2)\n",
    "plt.axvline(geoDist.mean() + geoDist.std(), color='red', linestyle='dashed', linewidth=2)\n",
    "plt.axvline(geoDist.mean() - geoDist.std(), color='red', linestyle='dashed', linewidth=2)\n",
    "plt.show()\n",
    "print(\"Mean: \" + str(geoDist.mean()))\n",
    "print(\"StDev: \" + str(geoDist.std()))"
   ]
  },
  {
   "cell_type": "code",
   "execution_count": 20,
   "metadata": {},
   "outputs": [],
   "source": [
    "#For a geometric distribution, the mean is a poor measure of central tendency and\n",
    "#st dev is a poor measure of variance as you can't have negative successes."
   ]
  },
  {
   "cell_type": "code",
   "execution_count": 26,
   "metadata": {},
   "outputs": [
    {
     "data": {
      "image/png": "[encoded data removed]",
      "text/plain": [
       "<Figure size 432x288 with 1 Axes>"
      ]
     },
     "metadata": {},
     "output_type": "display_data"
    },
    {
     "name": "stdout",
     "output_type": "stream",
     "text": [
      "Mean: 1.4256982110794842\n",
      "StDev: 0.5744967121170185\n"
     ]
    }
   ],
   "source": [
    "noncDist = np.random.noncentral_f(60,12,15, size=100)\n",
    "plt.hist(noncDist)\n",
    "plt.axvline(noncDist.mean(), color='red', linestyle='solid', linewidth=2)\n",
    "plt.axvline(noncDist.mean() + noncDist.std(), color='red', linestyle='dashed', linewidth=2)\n",
    "plt.axvline(noncDist.mean() - noncDist.std(), color='red', linestyle='dashed', linewidth=2)\n",
    "plt.show()\n",
    "print(\"Mean: \" + str(noncDist.mean()))\n",
    "print(\"StDev: \" + str(noncDist.std()))"
   ]
  },
  {
   "cell_type": "code",
   "execution_count": 27,
   "metadata": {},
   "outputs": [],
   "source": [
    "#Not shockingly, the mean of the \"noncentral F\" distribution is not a good measure of central tendency.\n",
    "#std dev is not great at capturing variance either, as the left side of the curve stops at zero while \n",
    "#the right has extreme values."
   ]
  },
  {
   "cell_type": "code",
   "execution_count": 31,
   "metadata": {},
   "outputs": [
    {
     "data": {
      "image/png": "[encoded data removed]",
      "text/plain": [
       "<Figure size 432x288 with 1 Axes>"
      ]
     },
     "metadata": {},
     "output_type": "display_data"
    },
    {
     "name": "stdout",
     "output_type": "stream",
     "text": [
      "Mean: -0.7915454930493425\n",
      "StDev: 6.023578047596008\n"
     ]
    }
   ],
   "source": [
    "cauchyDist = np.random.standard_cauchy(size=100)\n",
    "plt.hist(cauchyDist)\n",
    "plt.axvline(cauchyDist.mean(), color='red', linestyle='solid', linewidth=2)\n",
    "plt.axvline(cauchyDist.mean() + cauchyDist.std(), color='red', linestyle='dashed', linewidth=2)\n",
    "plt.axvline(cauchyDist.mean() - cauchyDist.std(), color='red', linestyle='dashed', linewidth=2)\n",
    "plt.show()\n",
    "print(\"Mean: \" + str(cauchyDist.mean()))\n",
    "print(\"StDev: \" + str(cauchyDist.std()))"
   ]
  },
  {
   "cell_type": "code",
   "execution_count": 32,
   "metadata": {},
   "outputs": [],
   "source": [
    "#Mean is a good measure of central tendency for a standard cauchy distribution, \n",
    "#however, std. dev doesn't very well describe the extreme outliers that seem to appear on the tails of this curve."
   ]
  },
  {
   "cell_type": "code",
   "execution_count": 33,
   "metadata": {},
   "outputs": [],
   "source": [
    "#4:\n",
    "#One pattern I notice is that distributions that can't have negative values (i.e., measure occurences) aren't normal because \n",
    "#there can be positive outliers but not negative ones.\n",
    "\n",
    "#Last exercise:"
   ]
  },
  {
   "cell_type": "code",
   "execution_count": 39,
   "metadata": {},
   "outputs": [
    {
     "data": {
      "image/png": "[encoded data removed]",
      "text/plain": [
       "<Figure size 432x288 with 1 Axes>"
      ]
     },
     "metadata": {},
     "output_type": "display_data"
    },
    {
     "name": "stdout",
     "output_type": "stream",
     "text": [
      "Mean: 15.02014204184199\n",
      "StDev: 1.2199121236899462\n"
     ]
    }
   ],
   "source": [
    "rand1 = np.random.normal(loc=5,scale=.5,size=100)\n",
    "rand2 = np.random.normal(loc=10,scale=1,size=100)\n",
    "rand3 = rand1 + rand2\n",
    "plt.hist(rand3)\n",
    "plt.axvline(rand3.mean(), color='red', linestyle='solid', linewidth=2)\n",
    "plt.axvline(rand3.mean() + rand3.std(), color='red', linestyle='dashed', linewidth=2)\n",
    "plt.axvline(rand3.mean() - rand3.std(), color='red', linestyle='dashed', linewidth=2)\n",
    "plt.show()\n",
    "print(\"Mean: \" + str(rand3.mean()))\n",
    "print(\"StDev: \" + str(rand3.std()))\n"
   ]
  },
  {
   "cell_type": "code",
   "execution_count": 40,
   "metadata": {},
   "outputs": [],
   "source": [
    "#The dist is not perfectly normal. mean seems to capture central tendency well, but variance is not easily described."
   ]
  },
  {
   "cell_type": "code",
   "execution_count": null,
   "metadata": {},
   "outputs": [],
   "source": []
  }
 ],
 "metadata": {
  "kernelspec": {
   "display_name": "Python 3",
   "language": "python",
   "name": "python3"
  },
  "language_info": {
   "codemirror_mode": {
    "name": "ipython",
    "version": 3
   },
   "file_extension": ".py",
   "mimetype": "text/x-python",
   "name": "python",
   "nbconvert_exporter": "python",
   "pygments_lexer": "ipython3",
   "version": "3.7.0"
  }
 },
 "nbformat": 4,
 "nbformat_minor": 2
}

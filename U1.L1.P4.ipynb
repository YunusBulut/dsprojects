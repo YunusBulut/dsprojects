{
 "cells": [
  {
   "cell_type": "markdown",
   "metadata": {},
   "source": [
    "# Question 1"
   ]
  },
  {
   "cell_type": "markdown",
   "metadata": {},
   "source": [
    "You work at an e-commerce company that sells three goods: widgets, doodads, and fizzbangs. The head of advertising asks you which they should feature in their new advertising campaign. You have data on individual visitors' sessions (activity on a website, pageviews, and purchases), as well as whether or not those users converted from an advertisement for that session. You also have the cost and price information for the goods."
   ]
  },
  {
   "cell_type": "markdown",
   "metadata": {},
   "source": [
    "# Answer\n",
    "\n",
    "Let's define advertisement as paying money in exchange for  guaranteed pageviews - advertisement can't guarantee more than views. Therefore, the question should be which product has generated the most profit from pageviews historically?\n",
    "\n",
    "First, isolate all sessions that converted from an advertisement, and group them by the 3 products. \n",
    "Second, for each product, calculate the mean purchase (in units) for all the ad-driven sessions. Include non-purchases as zeroes so that this implicitly includes the rate of purchases.\n",
    "\n",
    "Separately, calculate the unit profit for each good (price minus cost).\n",
    "\n",
    ">(Mean units purchased for all ad-driven sessions) * (profit per unit) = estimated profit to be earned from each ad placed\n",
    "\n",
    "Whichever of the products that has the highest profit to be earned from each ad placed is the one that should be featured in the campaign. "
   ]
  },
  {
   "cell_type": "markdown",
   "metadata": {},
   "source": [
    "# Question 2"
   ]
  },
  {
   "cell_type": "markdown",
   "metadata": {},
   "source": [
    "You work at a web design company that offers to build websites for clients. Signups have slowed, and you are tasked with finding out why. The onboarding funnel has three steps: email and password signup, plan choice, and payment. On a user level you have information on what steps they have completed as well as timestamps for all of those events for the past 3 years. You also have information on marketing spend on a weekly level."
   ]
  },
  {
   "cell_type": "markdown",
   "metadata": {},
   "source": [
    "# Answer\n",
    "\n",
    "Which of the 3 steps in our funnel has declined significantly enough to explain the reduced signups?\n",
    "\n",
    "As an initial step, I would group each of the 3 funnel steps by week, and chart them all on a line graph to see approximately when the decline happened/started, and if all 3 steps declined or if only some of them have. \n",
    "\n",
    "If the email/password signups have NOT declined, but plan choices and/or payments have, then I would take a mean of the weeks before and after the decline and make sure that the difference between them is statistically significant using a p-test. If so, that should be the starting point for deeper investigation.\n",
    "\n",
    "If the email/password signups have declined (and by extension everything else has too), I would see how strong the correlation is with marketing spend over the period of decline. The result of this would determine whether marketing spend is the result of the decline, or if there's some other issue with email signups that needs investigation."
   ]
  },
  {
   "cell_type": "markdown",
   "metadata": {},
   "source": [
    "# Question 3"
   ]
  },
  {
   "cell_type": "markdown",
   "metadata": {},
   "source": [
    "You work at a hotel website and currently the website ranks search results by price. For simplicity's sake, let's say it's a website for one city with 100 hotels. You are tasked with proposing a better ranking system. You have session information, price information for the hotels, and whether each hotel is currently available."
   ]
  },
  {
   "cell_type": "markdown",
   "metadata": {},
   "source": [
    "# Answer\n",
    "\n",
    "The first step should be defining \"good search results\". I propose that a good hotel search result factors in 3 things: price, availability, and (if available) neighborhood. If the neighborhood is unavailable or not part of their search terms, price and availability will do.\n",
    "\n",
    "Before implementing changes, determine the baseline: what percent of searches result in reservations made to a search result? What seasonal trends in hotel spending are expected as part of a baseline measurement?\n",
    "\n",
    "Then, amend the search to filter out unavailable hotels for the nights that have been searched. Formulate a hypothesis - for example, that we'll sell more reservations by listing hotels within X miles of the searched neighborhood first, then ranking by price after that.\n",
    "\n",
    "After getting a decent sample from the new rankings, compare the populations against the baseline and use a ptest to measure the significance of your results."
   ]
  },
  {
   "cell_type": "markdown",
   "metadata": {},
   "source": [
    "# Question 4"
   ]
  },
  {
   "cell_type": "markdown",
   "metadata": {},
   "source": [
    "You work at a social network, and the management is worried about churn (users stopping using the product). You are tasked with finding out if their churn is atypical. You have three years of data for users with an entry for every time they've logged in, including the timestamp and length of session."
   ]
  },
  {
   "cell_type": "markdown",
   "metadata": {},
   "source": [
    "# Answer\n",
    "\n",
    "I would plot each of the 3 known measurements of site usage (# of logins, length of logins, and total time spent on site per [day, week, or other time period].) The slope of a line of best fit would inform whether these are declining over time or not, and if so, recent samples could be compared to old samples and a ptest used to determine significance of the decline. \n",
    "\n",
    "Even if the results are atypical, they may not indicate churn. For example, if logins are way down but length of session is way up, then total time spent on the site is not necessarily in decline amidst changing user habits. BY testing the significance of all 3, a narrative could be constructed that informs the next strategic steps."
   ]
  },
  {
   "cell_type": "code",
   "execution_count": null,
   "metadata": {},
   "outputs": [],
   "source": []
  }
 ],
 "metadata": {
  "kernelspec": {
   "display_name": "Python 3",
   "language": "python",
   "name": "python3"
  },
  "language_info": {
   "codemirror_mode": {
    "name": "ipython",
    "version": 3
   },
   "file_extension": ".py",
   "mimetype": "text/x-python",
   "name": "python",
   "nbconvert_exporter": "python",
   "pygments_lexer": "ipython3",
   "version": "3.7.0"
  }
 },
 "nbformat": 4,
 "nbformat_minor": 2
}

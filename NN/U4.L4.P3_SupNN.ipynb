{
 "cells": [
  {
   "cell_type": "markdown",
   "metadata": {},
   "source": [
    "# Curriculum"
   ]
  },
  {
   "cell_type": "code",
   "execution_count": 9,
   "metadata": {},
   "outputs": [],
   "source": [
    "import numpy as np\n",
    "import pandas as pd\n",
    "import matplotlib.pyplot as plt\n",
    "%matplotlib inline\n",
    "# Import the model.\n",
    "from sklearn.neural_network import MLPClassifier\n",
    "from sklearn.model_selection import cross_val_score"
   ]
  },
  {
   "cell_type": "code",
   "execution_count": 2,
   "metadata": {},
   "outputs": [
    {
     "data": {
      "text/html": [
       "<div>\n",
       "<style scoped>\n",
       "    .dataframe tbody tr th:only-of-type {\n",
       "        vertical-align: middle;\n",
       "    }\n",
       "\n",
       "    .dataframe tbody tr th {\n",
       "        vertical-align: top;\n",
       "    }\n",
       "\n",
       "    .dataframe thead th {\n",
       "        text-align: right;\n",
       "    }\n",
       "</style>\n",
       "<table border=\"1\" class=\"dataframe\">\n",
       "  <thead>\n",
       "    <tr style=\"text-align: right;\">\n",
       "      <th></th>\n",
       "      <th>Title</th>\n",
       "      <th>Artist</th>\n",
       "      <th>ConstituentID</th>\n",
       "      <th>ArtistBio</th>\n",
       "      <th>Nationality</th>\n",
       "      <th>BeginDate</th>\n",
       "      <th>EndDate</th>\n",
       "      <th>Gender</th>\n",
       "      <th>Date</th>\n",
       "      <th>Medium</th>\n",
       "      <th>...</th>\n",
       "      <th>ThumbnailURL</th>\n",
       "      <th>Circumference (cm)</th>\n",
       "      <th>Depth (cm)</th>\n",
       "      <th>Diameter (cm)</th>\n",
       "      <th>Height (cm)</th>\n",
       "      <th>Length (cm)</th>\n",
       "      <th>Weight (kg)</th>\n",
       "      <th>Width (cm)</th>\n",
       "      <th>Seat Height (cm)</th>\n",
       "      <th>Duration (sec.)</th>\n",
       "    </tr>\n",
       "  </thead>\n",
       "  <tbody>\n",
       "    <tr>\n",
       "      <th>0</th>\n",
       "      <td>Ferdinandsbrücke Project, Vienna, Austria, Ele...</td>\n",
       "      <td>Otto Wagner</td>\n",
       "      <td>6210</td>\n",
       "      <td>(Austrian, 1841–1918)</td>\n",
       "      <td>(Austrian)</td>\n",
       "      <td>(1841)</td>\n",
       "      <td>(1918)</td>\n",
       "      <td>(Male)</td>\n",
       "      <td>1896</td>\n",
       "      <td>Ink and cut-and-pasted painted pages on paper</td>\n",
       "      <td>...</td>\n",
       "      <td>http://www.moma.org/media/W1siZiIsIjU5NDA1Il0s...</td>\n",
       "      <td>NaN</td>\n",
       "      <td>NaN</td>\n",
       "      <td>NaN</td>\n",
       "      <td>48.6</td>\n",
       "      <td>NaN</td>\n",
       "      <td>NaN</td>\n",
       "      <td>168.9</td>\n",
       "      <td>NaN</td>\n",
       "      <td>NaN</td>\n",
       "    </tr>\n",
       "  </tbody>\n",
       "</table>\n",
       "<p>1 rows × 29 columns</p>\n",
       "</div>"
      ],
      "text/plain": [
       "                                               Title       Artist  \\\n",
       "0  Ferdinandsbrücke Project, Vienna, Austria, Ele...  Otto Wagner   \n",
       "\n",
       "  ConstituentID              ArtistBio Nationality BeginDate EndDate  Gender  \\\n",
       "0          6210  (Austrian, 1841–1918)  (Austrian)    (1841)  (1918)  (Male)   \n",
       "\n",
       "   Date                                         Medium       ...        \\\n",
       "0  1896  Ink and cut-and-pasted painted pages on paper       ...         \n",
       "\n",
       "                                        ThumbnailURL Circumference (cm)  \\\n",
       "0  http://www.moma.org/media/W1siZiIsIjU5NDA1Il0s...                NaN   \n",
       "\n",
       "  Depth (cm) Diameter (cm) Height (cm) Length (cm) Weight (kg)  Width (cm)  \\\n",
       "0        NaN           NaN        48.6         NaN         NaN       168.9   \n",
       "\n",
       "  Seat Height (cm) Duration (sec.)  \n",
       "0              NaN             NaN  \n",
       "\n",
       "[1 rows x 29 columns]"
      ]
     },
     "execution_count": 2,
     "metadata": {},
     "output_type": "execute_result"
    }
   ],
   "source": [
    "artworks = pd.read_csv('https://media.githubusercontent.com/media/MuseumofModernArt/collection/master/Artworks.csv')\n",
    "artworks.head(1)"
   ]
  },
  {
   "cell_type": "code",
   "execution_count": 4,
   "metadata": {},
   "outputs": [
    {
     "data": {
      "text/plain": [
       "Index(['Title', 'Artist', 'ConstituentID', 'ArtistBio', 'Nationality',\n",
       "       'BeginDate', 'EndDate', 'Gender', 'Date', 'Medium', 'Dimensions',\n",
       "       'CreditLine', 'AccessionNumber', 'Classification', 'Department',\n",
       "       'DateAcquired', 'Cataloged', 'ObjectID', 'URL', 'ThumbnailURL',\n",
       "       'Circumference (cm)', 'Depth (cm)', 'Diameter (cm)', 'Height (cm)',\n",
       "       'Length (cm)', 'Weight (kg)', 'Width (cm)', 'Seat Height (cm)',\n",
       "       'Duration (sec.)'],\n",
       "      dtype='object')"
      ]
     },
     "execution_count": 4,
     "metadata": {},
     "output_type": "execute_result"
    }
   ],
   "source": [
    "artworks.columns"
   ]
  },
  {
   "cell_type": "code",
   "execution_count": 3,
   "metadata": {},
   "outputs": [],
   "source": [
    "# Select Columns.\n",
    "artworks = artworks[['Artist', 'Nationality', 'Gender', 'Date', 'Department',\n",
    "                    'DateAcquired', 'URL', 'ThumbnailURL', 'Height (cm)', 'Width (cm)']]\n",
    "\n",
    "# Convert URL's to booleans.\n",
    "artworks['URL'] = artworks['URL'].notnull()\n",
    "artworks['ThumbnailURL'] = artworks['ThumbnailURL'].notnull()\n",
    "\n",
    "# Drop films and some other tricky rows.\n",
    "artworks = artworks[artworks['Department']!='Film']\n",
    "artworks = artworks[artworks['Department']!='Media and Performance Art']\n",
    "artworks = artworks[artworks['Department']!='Fluxus Collection']\n",
    "\n",
    "# Drop missing data.\n",
    "artworks = artworks.dropna()"
   ]
  },
  {
   "cell_type": "code",
   "execution_count": 6,
   "metadata": {},
   "outputs": [
    {
     "name": "stdout",
     "output_type": "stream",
     "text": [
      "(106596, 10)\n"
     ]
    },
    {
     "data": {
      "text/html": [
       "<div>\n",
       "<style scoped>\n",
       "    .dataframe tbody tr th:only-of-type {\n",
       "        vertical-align: middle;\n",
       "    }\n",
       "\n",
       "    .dataframe tbody tr th {\n",
       "        vertical-align: top;\n",
       "    }\n",
       "\n",
       "    .dataframe thead th {\n",
       "        text-align: right;\n",
       "    }\n",
       "</style>\n",
       "<table border=\"1\" class=\"dataframe\">\n",
       "  <thead>\n",
       "    <tr style=\"text-align: right;\">\n",
       "      <th></th>\n",
       "      <th>Artist</th>\n",
       "      <th>Nationality</th>\n",
       "      <th>Gender</th>\n",
       "      <th>Date</th>\n",
       "      <th>Department</th>\n",
       "      <th>DateAcquired</th>\n",
       "      <th>URL</th>\n",
       "      <th>ThumbnailURL</th>\n",
       "      <th>Height (cm)</th>\n",
       "      <th>Width (cm)</th>\n",
       "    </tr>\n",
       "  </thead>\n",
       "  <tbody>\n",
       "    <tr>\n",
       "      <th>0</th>\n",
       "      <td>Otto Wagner</td>\n",
       "      <td>(Austrian)</td>\n",
       "      <td>(Male)</td>\n",
       "      <td>1896</td>\n",
       "      <td>Architecture &amp; Design</td>\n",
       "      <td>1996-04-09</td>\n",
       "      <td>True</td>\n",
       "      <td>True</td>\n",
       "      <td>48.6000</td>\n",
       "      <td>168.9000</td>\n",
       "    </tr>\n",
       "    <tr>\n",
       "      <th>1</th>\n",
       "      <td>Christian de Portzamparc</td>\n",
       "      <td>(French)</td>\n",
       "      <td>(Male)</td>\n",
       "      <td>1987</td>\n",
       "      <td>Architecture &amp; Design</td>\n",
       "      <td>1995-01-17</td>\n",
       "      <td>True</td>\n",
       "      <td>True</td>\n",
       "      <td>40.6401</td>\n",
       "      <td>29.8451</td>\n",
       "    </tr>\n",
       "    <tr>\n",
       "      <th>2</th>\n",
       "      <td>Emil Hoppe</td>\n",
       "      <td>(Austrian)</td>\n",
       "      <td>(Male)</td>\n",
       "      <td>1903</td>\n",
       "      <td>Architecture &amp; Design</td>\n",
       "      <td>1997-01-15</td>\n",
       "      <td>True</td>\n",
       "      <td>True</td>\n",
       "      <td>34.3000</td>\n",
       "      <td>31.8000</td>\n",
       "    </tr>\n",
       "    <tr>\n",
       "      <th>3</th>\n",
       "      <td>Bernard Tschumi</td>\n",
       "      <td>()</td>\n",
       "      <td>(Male)</td>\n",
       "      <td>1980</td>\n",
       "      <td>Architecture &amp; Design</td>\n",
       "      <td>1995-01-17</td>\n",
       "      <td>True</td>\n",
       "      <td>True</td>\n",
       "      <td>50.8000</td>\n",
       "      <td>50.8000</td>\n",
       "    </tr>\n",
       "    <tr>\n",
       "      <th>4</th>\n",
       "      <td>Emil Hoppe</td>\n",
       "      <td>(Austrian)</td>\n",
       "      <td>(Male)</td>\n",
       "      <td>1903</td>\n",
       "      <td>Architecture &amp; Design</td>\n",
       "      <td>1997-01-15</td>\n",
       "      <td>True</td>\n",
       "      <td>True</td>\n",
       "      <td>38.4000</td>\n",
       "      <td>19.1000</td>\n",
       "    </tr>\n",
       "  </tbody>\n",
       "</table>\n",
       "</div>"
      ],
      "text/plain": [
       "                     Artist Nationality  Gender  Date             Department  \\\n",
       "0               Otto Wagner  (Austrian)  (Male)  1896  Architecture & Design   \n",
       "1  Christian de Portzamparc    (French)  (Male)  1987  Architecture & Design   \n",
       "2                Emil Hoppe  (Austrian)  (Male)  1903  Architecture & Design   \n",
       "3           Bernard Tschumi          ()  (Male)  1980  Architecture & Design   \n",
       "4                Emil Hoppe  (Austrian)  (Male)  1903  Architecture & Design   \n",
       "\n",
       "  DateAcquired   URL  ThumbnailURL  Height (cm)  Width (cm)  \n",
       "0   1996-04-09  True          True      48.6000    168.9000  \n",
       "1   1995-01-17  True          True      40.6401     29.8451  \n",
       "2   1997-01-15  True          True      34.3000     31.8000  \n",
       "3   1995-01-17  True          True      50.8000     50.8000  \n",
       "4   1997-01-15  True          True      38.4000     19.1000  "
      ]
     },
     "execution_count": 6,
     "metadata": {},
     "output_type": "execute_result"
    }
   ],
   "source": [
    "print(artworks.shape)\n",
    "artworks.head()"
   ]
  },
  {
   "cell_type": "code",
   "execution_count": 7,
   "metadata": {},
   "outputs": [
    {
     "data": {
      "text/plain": [
       "Artist           object\n",
       "Nationality      object\n",
       "Gender           object\n",
       "Date             object\n",
       "Department       object\n",
       "DateAcquired     object\n",
       "URL                bool\n",
       "ThumbnailURL       bool\n",
       "Height (cm)     float64\n",
       "Width (cm)      float64\n",
       "dtype: object"
      ]
     },
     "execution_count": 7,
     "metadata": {},
     "output_type": "execute_result"
    }
   ],
   "source": [
    "\n",
    "artworks.dtypes"
   ]
  },
  {
   "cell_type": "code",
   "execution_count": 4,
   "metadata": {},
   "outputs": [
    {
     "data": {
      "text/plain": [
       "dtype('int64')"
      ]
     },
     "execution_count": 4,
     "metadata": {},
     "output_type": "execute_result"
    }
   ],
   "source": [
    "\n",
    "artworks['DateAcquired'] = pd.to_datetime(artworks.DateAcquired)\n",
    "artworks['YearAcquired'] = artworks.DateAcquired.dt.year\n",
    "artworks['YearAcquired'].dtype"
   ]
  },
  {
   "cell_type": "code",
   "execution_count": 5,
   "metadata": {},
   "outputs": [],
   "source": [
    "# Remove multiple nationalities, genders, and artists.\n",
    "artworks.loc[artworks['Gender'].str.contains('\\) \\('), 'Gender'] = '\\(multiple_persons\\)'\n",
    "artworks.loc[artworks['Nationality'].str.contains('\\) \\('), 'Nationality'] = '\\(multiple_nationalities\\)'\n",
    "artworks.loc[artworks['Artist'].str.contains(','), 'Artist'] = 'Multiple_Artists'\n",
    "\n",
    "# Convert dates to start date, cutting down number of distinct examples.\n",
    "artworks['Date'] = pd.Series(artworks.Date.str.extract(\n",
    "    '([0-9]{4})', expand=False))[:-1]\n",
    "\n",
    "\n",
    "artworks2 = artworks.sample(5000)\n",
    "# Final column drops and NA drop.\n",
    "X = artworks2.drop(['Department', 'DateAcquired', 'Artist', 'Nationality', 'Date'], 1)"
   ]
  },
  {
   "cell_type": "code",
   "execution_count": 6,
   "metadata": {},
   "outputs": [
    {
     "name": "stdout",
     "output_type": "stream",
     "text": [
      "original (5000, 11)\n",
      "nationalities (5000, 70)\n",
      "dates (5000, 172)\n"
     ]
    }
   ],
   "source": [
    "# Create dummies separately.\n",
    "print('original',artworks2.shape)\n",
    "#artists = pd.get_dummies(artworks.Artist)\n",
    "#print('artists',artists.shape)\n",
    "nationalities = pd.get_dummies(artworks2.Nationality)\n",
    "print('nationalities',nationalities.shape)\n",
    "dates = pd.get_dummies(artworks2.Date)\n",
    "print('dates',dates.shape)"
   ]
  },
  {
   "cell_type": "code",
   "execution_count": 7,
   "metadata": {},
   "outputs": [],
   "source": [
    "# Concat with other variables, but artists slows this wayyyyy down so we'll keep it out for now\n",
    "X = pd.get_dummies(X, sparse=True)\n",
    "X = pd.concat([X, nationalities, dates], axis=1)\n",
    "\n",
    "Y = artworks2.Department"
   ]
  },
  {
   "cell_type": "code",
   "execution_count": 12,
   "metadata": {},
   "outputs": [
    {
     "data": {
      "text/plain": [
       "MLPClassifier(activation='relu', alpha=0.0001, batch_size='auto', beta_1=0.9,\n",
       "       beta_2=0.999, early_stopping=False, epsilon=1e-08,\n",
       "       hidden_layer_sizes=(1000,), learning_rate='constant',\n",
       "       learning_rate_init=0.001, max_iter=200, momentum=0.9,\n",
       "       n_iter_no_change=10, nesterovs_momentum=True, power_t=0.5,\n",
       "       random_state=None, shuffle=True, solver='adam', tol=0.0001,\n",
       "       validation_fraction=0.1, verbose=False, warm_start=False)"
      ]
     },
     "execution_count": 12,
     "metadata": {},
     "output_type": "execute_result"
    }
   ],
   "source": [
    "# Alright! We've done our prep, let's build the model.\n",
    "# Neural networks are hugely computationally intensive.\n",
    "# This may take several minutes to run.\n",
    "\n",
    "# Establish and fit the model, with a single, 1000 perceptron layer.\n",
    "mlp = MLPClassifier(hidden_layer_sizes=(1000,))\n",
    "mlp.fit(X, Y)"
   ]
  },
  {
   "cell_type": "code",
   "execution_count": 13,
   "metadata": {},
   "outputs": [
    {
     "data": {
      "text/plain": [
       "0.6658"
      ]
     },
     "execution_count": 13,
     "metadata": {},
     "output_type": "execute_result"
    }
   ],
   "source": [
    "mlp.score(X, Y)"
   ]
  },
  {
   "cell_type": "code",
   "execution_count": 14,
   "metadata": {},
   "outputs": [
    {
     "data": {
      "text/plain": [
       "Drawings & Prints        0.6312\n",
       "Photography              0.2310\n",
       "Architecture & Design    0.1046\n",
       "Painting & Sculpture     0.0332\n",
       "Name: Department, dtype: float64"
      ]
     },
     "execution_count": 14,
     "metadata": {},
     "output_type": "execute_result"
    }
   ],
   "source": [
    "Y.value_counts()/len(Y)"
   ]
  },
  {
   "cell_type": "code",
   "execution_count": 15,
   "metadata": {},
   "outputs": [
    {
     "data": {
      "text/plain": [
       "array([0.48702595, 0.691     , 0.635     , 0.34434434, 0.24524525])"
      ]
     },
     "execution_count": 15,
     "metadata": {},
     "output_type": "execute_result"
    }
   ],
   "source": [
    "\n",
    "cross_val_score(mlp, X, Y, cv=5)"
   ]
  },
  {
   "cell_type": "markdown",
   "metadata": {},
   "source": [
    "# DRILL\n",
    "Now it's your turn. Using the space below, experiment with different hidden layer structures. You can try this on a subset of the data to improve runtime. See how things vary. See what seems to matter the most. Feel free to manipulate other parameters as well. It may also be beneficial to do some real feature selection work..."
   ]
  },
  {
   "cell_type": "markdown",
   "metadata": {},
   "source": [
    "**Try 2 Layers**"
   ]
  },
  {
   "cell_type": "code",
   "execution_count": 16,
   "metadata": {},
   "outputs": [
    {
     "data": {
      "text/plain": [
       "MLPClassifier(activation='relu', alpha=0.0001, batch_size='auto', beta_1=0.9,\n",
       "       beta_2=0.999, early_stopping=False, epsilon=1e-08,\n",
       "       hidden_layer_sizes=(200, 2), learning_rate='constant',\n",
       "       learning_rate_init=0.001, max_iter=200, momentum=0.9,\n",
       "       n_iter_no_change=10, nesterovs_momentum=True, power_t=0.5,\n",
       "       random_state=None, shuffle=True, solver='adam', tol=0.0001,\n",
       "       validation_fraction=0.1, verbose=False, warm_start=False)"
      ]
     },
     "execution_count": 16,
     "metadata": {},
     "output_type": "execute_result"
    }
   ],
   "source": [
    "mlp = MLPClassifier(hidden_layer_sizes=(200,2))\n",
    "mlp.fit(X, Y)"
   ]
  },
  {
   "cell_type": "code",
   "execution_count": 17,
   "metadata": {},
   "outputs": [
    {
     "data": {
      "text/plain": [
       "0.6312"
      ]
     },
     "execution_count": 17,
     "metadata": {},
     "output_type": "execute_result"
    }
   ],
   "source": [
    "mlp.score(X, Y)"
   ]
  },
  {
   "cell_type": "code",
   "execution_count": 18,
   "metadata": {},
   "outputs": [
    {
     "name": "stderr",
     "output_type": "stream",
     "text": [
      "c:\\users\\greg\\appdata\\local\\programs\\python\\python37-32\\lib\\site-packages\\sklearn\\neural_network\\multilayer_perceptron.py:562: ConvergenceWarning: Stochastic Optimizer: Maximum iterations (200) reached and the optimization hasn't converged yet.\n",
      "  % self.max_iter, ConvergenceWarning)\n"
     ]
    },
    {
     "data": {
      "text/plain": [
       "array([0.63073852, 0.631     , 0.631     , 0.63163163, 0.63163163])"
      ]
     },
     "execution_count": 18,
     "metadata": {},
     "output_type": "execute_result"
    }
   ],
   "source": [
    "cross_val_score(mlp, X, Y, cv=5)"
   ]
  },
  {
   "cell_type": "markdown",
   "metadata": {},
   "source": [
    "**A second layer appears to have eliminated overfitting without much accuracy loss! Let's see what a 3rd does...Trying 3 layers**"
   ]
  },
  {
   "cell_type": "code",
   "execution_count": 19,
   "metadata": {},
   "outputs": [
    {
     "data": {
      "text/plain": [
       "0.6312"
      ]
     },
     "execution_count": 19,
     "metadata": {},
     "output_type": "execute_result"
    }
   ],
   "source": [
    "mlp = MLPClassifier(hidden_layer_sizes=(100,3))\n",
    "mlp.fit(X, Y)\n",
    "\n",
    "mlp.score(X, Y)"
   ]
  },
  {
   "cell_type": "code",
   "execution_count": 20,
   "metadata": {},
   "outputs": [
    {
     "data": {
      "text/plain": [
       "array([0.63473054, 0.63      , 0.631     , 0.63163163, 0.63163163])"
      ]
     },
     "execution_count": 20,
     "metadata": {},
     "output_type": "execute_result"
    }
   ],
   "source": [
    "cross_val_score(mlp, X, Y, cv=5)"
   ]
  },
  {
   "cell_type": "markdown",
   "metadata": {},
   "source": [
    "**No real change. Let's see if we can reduce the layers to 100 with just 2 layers for performance reasons**"
   ]
  },
  {
   "cell_type": "code",
   "execution_count": 21,
   "metadata": {},
   "outputs": [
    {
     "data": {
      "text/plain": [
       "0.6458"
      ]
     },
     "execution_count": 21,
     "metadata": {},
     "output_type": "execute_result"
    }
   ],
   "source": [
    "mlp = MLPClassifier(hidden_layer_sizes=(100,2))\n",
    "mlp.fit(X, Y)\n",
    "\n",
    "mlp.score(X, Y)"
   ]
  },
  {
   "cell_type": "code",
   "execution_count": 22,
   "metadata": {},
   "outputs": [
    {
     "name": "stderr",
     "output_type": "stream",
     "text": [
      "c:\\users\\greg\\appdata\\local\\programs\\python\\python37-32\\lib\\site-packages\\sklearn\\neural_network\\multilayer_perceptron.py:562: ConvergenceWarning: Stochastic Optimizer: Maximum iterations (200) reached and the optimization hasn't converged yet.\n",
      "  % self.max_iter, ConvergenceWarning)\n"
     ]
    },
    {
     "data": {
      "text/plain": [
       "array([0.63073852, 0.63      , 0.631     , 0.63163163, 0.63163163])"
      ]
     },
     "execution_count": 22,
     "metadata": {},
     "output_type": "execute_result"
    }
   ],
   "source": [
    "cross_val_score(mlp, X, Y, cv=5)"
   ]
  },
  {
   "cell_type": "markdown",
   "metadata": {},
   "source": [
    "**Nice! Let's resample a couple times to confirm results:**"
   ]
  },
  {
   "cell_type": "code",
   "execution_count": 27,
   "metadata": {},
   "outputs": [
    {
     "name": "stderr",
     "output_type": "stream",
     "text": [
      "c:\\users\\greg\\appdata\\local\\programs\\python\\python37-32\\lib\\site-packages\\sklearn\\neural_network\\multilayer_perceptron.py:562: ConvergenceWarning: Stochastic Optimizer: Maximum iterations (200) reached and the optimization hasn't converged yet.\n",
      "  % self.max_iter, ConvergenceWarning)\n"
     ]
    },
    {
     "data": {
      "text/plain": [
       "array([0.61876248, 0.61938062, 0.619     , 0.61961962, 0.62024048])"
      ]
     },
     "execution_count": 27,
     "metadata": {},
     "output_type": "execute_result"
    }
   ],
   "source": [
    "artworks3 = artworks.sample(5000)\n",
    "# Final column drops and NA drop.\n",
    "X = artworks3.drop(['Department', 'DateAcquired', 'Artist', 'Nationality', 'Date'], 1)\n",
    "# Create dummies separately.\n",
    "nationalities = pd.get_dummies(artworks3.Nationality)\n",
    "dates = pd.get_dummies(artworks3.Date)\n",
    "X = pd.get_dummies(X, sparse=True)\n",
    "X = pd.concat([X, nationalities, dates], axis=1)\n",
    "Y = artworks3.Department\n",
    "\n",
    "mlp = MLPClassifier(hidden_layer_sizes=(100,2))\n",
    "mlp.fit(X, Y)\n",
    "cross_val_score(mlp, X, Y, cv=5)"
   ]
  },
  {
   "cell_type": "code",
   "execution_count": 28,
   "metadata": {},
   "outputs": [
    {
     "data": {
      "text/plain": [
       "array([0.63036963, 0.63036963, 0.63036963, 0.63063063, 0.63126253])"
      ]
     },
     "execution_count": 28,
     "metadata": {},
     "output_type": "execute_result"
    }
   ],
   "source": [
    "artworks4 = artworks.sample(5000)\n",
    "# Final column drops and NA drop.\n",
    "X = artworks4.drop(['Department', 'DateAcquired', 'Artist', 'Nationality', 'Date'], 1)\n",
    "# Create dummies separately.\n",
    "nationalities = pd.get_dummies(artworks4.Nationality)\n",
    "dates = pd.get_dummies(artworks4.Date)\n",
    "X = pd.get_dummies(X, sparse=True)\n",
    "X = pd.concat([X, nationalities, dates], axis=1)\n",
    "Y = artworks4.Department\n",
    "\n",
    "mlp = MLPClassifier(hidden_layer_sizes=(100,2))\n",
    "mlp.fit(X, Y)\n",
    "cross_val_score(mlp, X, Y, cv=5)"
   ]
  },
  {
   "cell_type": "markdown",
   "metadata": {},
   "source": [
    "**How small can we make the 2 layers without losing accuracy?**"
   ]
  },
  {
   "cell_type": "code",
   "execution_count": 29,
   "metadata": {},
   "outputs": [
    {
     "data": {
      "text/plain": [
       "array([0.63036963, 0.63036963, 0.63036963, 0.11411411, 0.63126253])"
      ]
     },
     "execution_count": 29,
     "metadata": {},
     "output_type": "execute_result"
    }
   ],
   "source": [
    "mlp = MLPClassifier(hidden_layer_sizes=(50,2))\n",
    "mlp.fit(X, Y)\n",
    "cross_val_score(mlp, X, Y, cv=5)"
   ]
  },
  {
   "cell_type": "markdown",
   "metadata": {},
   "source": [
    "**This sample is giving weird results, resampling...**"
   ]
  },
  {
   "cell_type": "code",
   "execution_count": 30,
   "metadata": {},
   "outputs": [],
   "source": [
    "artworks2 = artworks.sample(5000)\n",
    "X = artworks2.drop(['Department', 'DateAcquired', 'Artist', 'Nationality', 'Date'], 1)\n",
    "nationalities = pd.get_dummies(artworks2.Nationality)\n",
    "dates = pd.get_dummies(artworks2.Date)\n",
    "X = pd.get_dummies(X, sparse=True)\n",
    "X = pd.concat([X, nationalities, dates], axis=1)\n",
    "Y = artworks2.Department"
   ]
  },
  {
   "cell_type": "code",
   "execution_count": 43,
   "metadata": {},
   "outputs": [
    {
     "data": {
      "text/plain": [
       "array([0.61277445, 0.61438561, 0.614     , 0.61361361, 0.61422846])"
      ]
     },
     "execution_count": 43,
     "metadata": {},
     "output_type": "execute_result"
    }
   ],
   "source": [
    "mlp = MLPClassifier(hidden_layer_sizes=(50,2), max_iter=350)\n",
    "mlp.fit(X, Y)\n",
    "cross_val_score(mlp, X, Y, cv=5)"
   ]
  },
  {
   "cell_type": "markdown",
   "metadata": {},
   "source": [
    "**What about MUCH smaller, but more layers?**"
   ]
  },
  {
   "cell_type": "code",
   "execution_count": 41,
   "metadata": {
    "scrolled": false
   },
   "outputs": [
    {
     "data": {
      "text/plain": [
       "array([0.61277445, 0.68731269, 0.692     , 0.5025025 , 0.65330661])"
      ]
     },
     "execution_count": 41,
     "metadata": {},
     "output_type": "execute_result"
    }
   ],
   "source": [
    "mlp = MLPClassifier(hidden_layer_sizes=(8,8), max_iter=500)\n",
    "mlp.fit(X, Y)\n",
    "cross_val_score(mlp, X, Y, cv=5)"
   ]
  },
  {
   "cell_type": "code",
   "execution_count": 42,
   "metadata": {},
   "outputs": [
    {
     "data": {
      "text/plain": [
       "array([0.66966068, 0.66833167, 0.683     , 0.25025025, 0.57915832])"
      ]
     },
     "execution_count": 42,
     "metadata": {},
     "output_type": "execute_result"
    }
   ],
   "source": [
    "mlp = MLPClassifier(hidden_layer_sizes=(25,8), max_iter=500)\n",
    "mlp.fit(X, Y)\n",
    "cross_val_score(mlp, X, Y, cv=5)"
   ]
  },
  {
   "cell_type": "markdown",
   "metadata": {},
   "source": [
    "**Too unstable. Let's turn on verbose=True to see what happens**"
   ]
  },
  {
   "cell_type": "code",
   "execution_count": 10,
   "metadata": {
    "scrolled": true
   },
   "outputs": [
    {
     "name": "stdout",
     "output_type": "stream",
     "text": [
      "created\n",
      "Iteration 1, loss = 17.80359561\n",
      "Iteration 2, loss = 17.80359505\n",
      "Iteration 3, loss = 17.80359460\n",
      "Iteration 4, loss = 17.54715778\n",
      "Iteration 5, loss = 17.99871312\n",
      "Iteration 6, loss = 17.40777264\n",
      "Iteration 7, loss = 12.27555220\n",
      "Iteration 8, loss = 1.66847377\n",
      "Iteration 9, loss = 1.09826947\n",
      "Iteration 10, loss = 1.03886173\n",
      "Iteration 11, loss = 1.02341817\n",
      "Iteration 12, loss = 1.00898422\n",
      "Iteration 13, loss = 1.00068186\n",
      "Iteration 14, loss = 0.99207635\n",
      "Iteration 15, loss = 0.98119278\n",
      "Iteration 16, loss = 0.97103940\n",
      "Iteration 17, loss = 0.96150480\n",
      "Iteration 18, loss = 0.95208843\n",
      "Iteration 19, loss = 0.94716782\n",
      "Iteration 20, loss = 0.93988702\n",
      "Iteration 21, loss = 0.93142884\n",
      "Iteration 22, loss = 0.92736001\n",
      "Iteration 23, loss = 0.92200937\n",
      "Iteration 24, loss = 0.91582224\n",
      "Iteration 25, loss = 0.91010329\n",
      "Iteration 26, loss = 0.90501819\n",
      "Iteration 27, loss = 0.90047206\n",
      "Iteration 28, loss = 0.89733367\n",
      "Iteration 29, loss = 0.89239783\n",
      "Iteration 30, loss = 0.89330933\n",
      "Iteration 31, loss = 0.88159647\n",
      "Iteration 32, loss = 0.86479714\n",
      "Iteration 33, loss = 0.86485144\n",
      "Iteration 34, loss = 0.85622604\n",
      "Iteration 35, loss = 0.85831296\n",
      "Iteration 36, loss = 0.84146343\n",
      "Iteration 37, loss = 0.83587331\n",
      "Iteration 38, loss = 0.83472457\n",
      "Iteration 39, loss = 0.83262225\n",
      "Iteration 40, loss = 0.83740073\n",
      "Iteration 41, loss = 0.82960851\n",
      "Iteration 42, loss = 0.83179937\n",
      "Iteration 43, loss = 0.83011811\n",
      "Iteration 44, loss = 0.82302582\n",
      "Iteration 45, loss = 0.82180072\n",
      "Iteration 46, loss = 0.82050325\n",
      "Iteration 47, loss = 0.81954876\n",
      "Iteration 48, loss = 0.81695312\n",
      "Iteration 49, loss = 0.81641536\n",
      "Iteration 50, loss = 0.81323369\n",
      "Iteration 51, loss = 0.81010411\n",
      "Iteration 52, loss = 0.80916719\n",
      "Iteration 53, loss = 0.81203394\n",
      "Iteration 54, loss = 0.80718530\n",
      "Iteration 55, loss = 0.80787691\n",
      "Iteration 56, loss = 0.80415932\n",
      "Iteration 57, loss = 0.80221105\n",
      "Iteration 58, loss = 0.81129396\n",
      "Iteration 59, loss = 0.80468389\n",
      "Iteration 60, loss = 0.79831771\n",
      "Iteration 61, loss = 0.80382528\n",
      "Iteration 62, loss = 0.80035324\n",
      "Iteration 63, loss = 0.79187230\n",
      "Iteration 64, loss = 0.79915737\n",
      "Iteration 65, loss = 0.79394263\n",
      "Iteration 66, loss = 0.78827688\n",
      "Iteration 67, loss = 0.78673053\n",
      "Iteration 68, loss = 0.79623469\n",
      "Iteration 69, loss = 0.78620592\n",
      "Iteration 70, loss = 0.79243278\n",
      "Iteration 71, loss = 0.78840825\n",
      "Iteration 72, loss = 0.78716518\n",
      "Iteration 73, loss = 0.78428338\n",
      "Iteration 74, loss = 0.78970834\n",
      "Iteration 75, loss = 0.78314766\n",
      "Iteration 76, loss = 0.77547389\n",
      "Iteration 77, loss = 0.77454295\n",
      "Iteration 78, loss = 0.77842709\n",
      "Iteration 79, loss = 0.77352856\n",
      "Iteration 80, loss = 0.77643271\n",
      "Iteration 81, loss = 0.78538642\n",
      "Iteration 82, loss = 0.78074351\n",
      "Iteration 83, loss = 0.76951871\n",
      "Iteration 84, loss = 0.77154752\n",
      "Iteration 85, loss = 0.76646821\n",
      "Iteration 86, loss = 0.77104933\n",
      "Iteration 87, loss = 0.76979383\n",
      "Iteration 88, loss = 0.77651989\n",
      "Iteration 89, loss = 0.77557984\n",
      "Iteration 90, loss = 0.76145562\n",
      "Iteration 91, loss = 0.76349865\n",
      "Iteration 92, loss = 0.76468777\n",
      "Iteration 93, loss = 0.75740249\n",
      "Iteration 94, loss = 0.76208708\n",
      "Iteration 95, loss = 0.75760520\n",
      "Iteration 96, loss = 0.75398518\n",
      "Iteration 97, loss = 0.74812064\n",
      "Iteration 98, loss = 0.75148786\n",
      "Iteration 99, loss = 0.75471711\n",
      "Iteration 100, loss = 0.75651016\n",
      "Iteration 101, loss = 0.74606226\n",
      "Iteration 102, loss = 0.74241930\n",
      "Iteration 103, loss = 0.74228351\n",
      "Iteration 104, loss = 0.74995603\n",
      "Iteration 105, loss = 0.74781872\n",
      "Iteration 106, loss = 0.74202650\n",
      "Iteration 107, loss = 0.74348370\n",
      "Iteration 108, loss = 0.74002301\n",
      "Iteration 109, loss = 0.74344651\n",
      "Iteration 110, loss = 0.74101290\n",
      "Iteration 111, loss = 0.74477523\n",
      "Iteration 112, loss = 0.74887520\n",
      "Iteration 113, loss = 0.73075950\n",
      "Iteration 114, loss = 0.73438396\n",
      "Iteration 115, loss = 0.74344779\n",
      "Iteration 116, loss = 0.72869649\n",
      "Iteration 117, loss = 0.72613955\n",
      "Iteration 118, loss = 0.73189135\n",
      "Iteration 119, loss = 0.72834770\n",
      "Iteration 120, loss = 0.72472380\n",
      "Iteration 121, loss = 0.72777796\n",
      "Iteration 122, loss = 0.72954669\n",
      "Iteration 123, loss = 0.73592879\n",
      "Iteration 124, loss = 0.72860750\n",
      "Iteration 125, loss = 0.72145847\n",
      "Iteration 126, loss = 0.71888603\n",
      "Iteration 127, loss = 0.74049398\n",
      "Iteration 128, loss = 0.71204744\n",
      "Iteration 129, loss = 0.72244625\n",
      "Iteration 130, loss = 0.71292908\n",
      "Iteration 131, loss = 0.70835276\n",
      "Iteration 132, loss = 0.70856089\n",
      "Iteration 133, loss = 0.70804185\n",
      "Iteration 134, loss = 0.71906302\n",
      "Iteration 135, loss = 0.71677117\n",
      "Iteration 136, loss = 0.71149866\n",
      "Iteration 137, loss = 0.70437369\n",
      "Iteration 138, loss = 0.71078822\n",
      "Iteration 139, loss = 0.71056914\n",
      "Iteration 140, loss = 0.70362770\n",
      "Iteration 141, loss = 0.70376210\n",
      "Iteration 142, loss = 0.71950149\n",
      "Iteration 143, loss = 0.70663973\n",
      "Iteration 144, loss = 0.71489162\n",
      "Iteration 145, loss = 0.70808932\n",
      "Iteration 146, loss = 0.70427319\n",
      "Iteration 147, loss = 0.71038340\n",
      "Iteration 148, loss = 0.70634710\n",
      "Iteration 149, loss = 0.70856020\n",
      "Iteration 150, loss = 0.71825689\n",
      "Iteration 151, loss = 0.70406912\n",
      "Training loss did not improve more than tol=0.000100 for 10 consecutive epochs. Stopping.\n",
      "fit\n",
      "Iteration 1, loss = 6.13293462\n",
      "Iteration 2, loss = 1.50962274\n",
      "Iteration 3, loss = 1.08767186\n",
      "Iteration 4, loss = 1.01668303\n",
      "Iteration 5, loss = 0.99650987\n",
      "Iteration 6, loss = 0.98759497\n",
      "Iteration 7, loss = 0.97999674\n",
      "Iteration 8, loss = 0.97189561\n",
      "Iteration 9, loss = 0.96298003\n",
      "Iteration 10, loss = 0.95724008\n",
      "Iteration 11, loss = 0.95067981\n",
      "Iteration 12, loss = 0.94560157\n",
      "Iteration 13, loss = 0.93963567\n",
      "Iteration 14, loss = 0.93461132\n",
      "Iteration 15, loss = 0.93126923\n",
      "Iteration 16, loss = 0.92812231\n",
      "Iteration 17, loss = 0.92526366\n",
      "Iteration 18, loss = 0.92039352\n",
      "Iteration 19, loss = 0.91915251\n",
      "Iteration 20, loss = 0.91466028\n",
      "Iteration 21, loss = 0.91570267\n",
      "Iteration 22, loss = 0.91195987\n",
      "Iteration 23, loss = 0.91309449\n",
      "Iteration 24, loss = 0.91434193\n",
      "Iteration 25, loss = 0.90771495\n",
      "Iteration 26, loss = 0.90370634\n",
      "Iteration 27, loss = 0.90390637\n",
      "Iteration 28, loss = 0.89993153\n",
      "Iteration 29, loss = 0.89938266\n",
      "Iteration 30, loss = 0.89731623\n",
      "Iteration 31, loss = 0.89699902\n",
      "Iteration 32, loss = 0.89905806\n",
      "Iteration 33, loss = 0.89881868\n",
      "Iteration 34, loss = 0.89412184\n",
      "Iteration 35, loss = 0.89583636\n",
      "Iteration 36, loss = 0.89188631\n",
      "Iteration 37, loss = 0.88690221\n",
      "Iteration 38, loss = 0.89064656\n",
      "Iteration 39, loss = 0.88428405\n",
      "Iteration 40, loss = 0.88295056\n",
      "Iteration 41, loss = 0.88464909\n",
      "Iteration 42, loss = 0.87996778\n",
      "Iteration 43, loss = 0.87914031\n",
      "Iteration 44, loss = 0.87959700\n",
      "Iteration 45, loss = 0.87712299\n",
      "Iteration 46, loss = 0.87426744\n",
      "Iteration 47, loss = 0.87355718\n",
      "Iteration 48, loss = 0.87597284\n",
      "Iteration 49, loss = 0.87683914\n",
      "Iteration 50, loss = 0.87568685\n",
      "Iteration 51, loss = 0.87048198\n",
      "Iteration 52, loss = 0.86991224\n",
      "Iteration 53, loss = 0.86609649\n",
      "Iteration 54, loss = 0.86315432\n",
      "Iteration 55, loss = 0.87284702\n",
      "Iteration 56, loss = 0.86234883\n",
      "Iteration 57, loss = 0.86008893\n",
      "Iteration 58, loss = 0.85813580\n",
      "Iteration 59, loss = 0.86525662\n",
      "Iteration 60, loss = 0.86731247\n",
      "Iteration 61, loss = 0.85481470\n",
      "Iteration 62, loss = 0.85334332\n",
      "Iteration 63, loss = 0.85388519\n",
      "Iteration 64, loss = 0.85229538\n",
      "Iteration 65, loss = 0.85226856\n",
      "Iteration 66, loss = 0.85061723\n",
      "Iteration 67, loss = 0.85724757\n",
      "Iteration 68, loss = 0.85189093\n",
      "Iteration 69, loss = 0.84608012\n",
      "Iteration 70, loss = 0.84925489\n",
      "Iteration 71, loss = 0.84333159\n",
      "Iteration 72, loss = 0.83981418\n",
      "Iteration 73, loss = 0.84053317\n",
      "Iteration 74, loss = 0.84099055\n",
      "Iteration 75, loss = 0.83588347\n",
      "Iteration 76, loss = 0.83707116\n",
      "Iteration 77, loss = 0.84254715\n",
      "Iteration 78, loss = 0.83442497\n",
      "Iteration 79, loss = 0.83218167\n",
      "Iteration 80, loss = 0.83703547\n",
      "Iteration 81, loss = 0.83055146\n",
      "Iteration 82, loss = 0.82676018\n",
      "Iteration 83, loss = 0.83622910\n",
      "Iteration 84, loss = 0.82707718\n",
      "Iteration 85, loss = 0.83515737\n",
      "Iteration 86, loss = 0.82328974\n",
      "Iteration 87, loss = 0.82507217\n",
      "Iteration 88, loss = 0.82042725\n",
      "Iteration 89, loss = 0.82029222\n",
      "Iteration 90, loss = 0.82087107\n",
      "Iteration 91, loss = 0.82887433\n",
      "Iteration 92, loss = 0.82629803\n",
      "Iteration 93, loss = 0.81946244\n",
      "Iteration 94, loss = 0.81751522\n",
      "Iteration 95, loss = 0.81294295\n",
      "Iteration 96, loss = 0.81126319\n",
      "Iteration 97, loss = 0.81030265\n",
      "Iteration 98, loss = 0.80834920\n",
      "Iteration 99, loss = 0.81700640\n",
      "Iteration 100, loss = 0.82188106\n",
      "Iteration 101, loss = 0.80547290\n",
      "Iteration 102, loss = 0.81210271\n"
     ]
    },
    {
     "name": "stdout",
     "output_type": "stream",
     "text": [
      "Iteration 103, loss = 0.81026926\n",
      "Iteration 104, loss = 0.80870836\n",
      "Iteration 105, loss = 0.80443662\n",
      "Iteration 106, loss = 0.80183290\n",
      "Iteration 107, loss = 0.80750475\n",
      "Iteration 108, loss = 0.81248157\n",
      "Iteration 109, loss = 0.80933116\n",
      "Iteration 110, loss = 0.81249982\n",
      "Iteration 111, loss = 0.79866980\n",
      "Iteration 112, loss = 0.79844086\n",
      "Iteration 113, loss = 0.80057580\n",
      "Iteration 114, loss = 0.79669759\n",
      "Iteration 115, loss = 0.79453468\n",
      "Iteration 116, loss = 0.80185902\n",
      "Iteration 117, loss = 0.79508272\n",
      "Iteration 118, loss = 0.78893816\n",
      "Iteration 119, loss = 0.78931419\n",
      "Iteration 120, loss = 0.79834317\n",
      "Iteration 121, loss = 0.78849736\n",
      "Iteration 122, loss = 0.78947967\n",
      "Iteration 123, loss = 0.79528117\n",
      "Iteration 124, loss = 0.78811310\n",
      "Iteration 125, loss = 0.79352199\n",
      "Iteration 126, loss = 0.78078712\n",
      "Iteration 127, loss = 0.78086842\n",
      "Iteration 128, loss = 0.78967895\n",
      "Iteration 129, loss = 0.78033995\n",
      "Iteration 130, loss = 0.78461804\n",
      "Iteration 131, loss = 0.78276403\n",
      "Iteration 132, loss = 0.78043329\n",
      "Iteration 133, loss = 0.78257985\n",
      "Iteration 134, loss = 0.78322600\n",
      "Iteration 135, loss = 0.77309068\n",
      "Iteration 136, loss = 0.77461414\n",
      "Iteration 137, loss = 0.77188891\n",
      "Iteration 138, loss = 0.77880616\n",
      "Iteration 139, loss = 0.77165180\n",
      "Iteration 140, loss = 0.77203722\n",
      "Iteration 141, loss = 0.78449090\n",
      "Iteration 142, loss = 0.77031849\n",
      "Iteration 143, loss = 0.76828009\n",
      "Iteration 144, loss = 0.77120732\n",
      "Iteration 145, loss = 0.77298993\n",
      "Iteration 146, loss = 0.77932206\n",
      "Iteration 147, loss = 0.77071995\n",
      "Iteration 148, loss = 0.76567013\n",
      "Iteration 149, loss = 0.77034667\n",
      "Iteration 150, loss = 0.77112007\n",
      "Iteration 151, loss = 0.76682233\n",
      "Iteration 152, loss = 0.76116843\n",
      "Iteration 153, loss = 0.76244734\n",
      "Iteration 154, loss = 0.76219555\n",
      "Iteration 155, loss = 0.76631215\n",
      "Iteration 156, loss = 0.76096450\n",
      "Iteration 157, loss = 0.76124076\n",
      "Iteration 158, loss = 0.76239987\n",
      "Iteration 159, loss = 0.76787299\n",
      "Iteration 160, loss = 0.77068350\n",
      "Iteration 161, loss = 0.78713546\n",
      "Iteration 162, loss = 0.78362480\n",
      "Iteration 163, loss = 0.76037810\n",
      "Iteration 164, loss = 0.76093375\n",
      "Iteration 165, loss = 0.75594688\n",
      "Iteration 166, loss = 0.75792630\n",
      "Iteration 167, loss = 0.76315026\n",
      "Iteration 168, loss = 0.76252978\n",
      "Iteration 169, loss = 0.76712003\n",
      "Iteration 170, loss = 0.75279742\n",
      "Iteration 171, loss = 0.75681594\n",
      "Iteration 172, loss = 0.75473402\n",
      "Iteration 173, loss = 0.75960500\n",
      "Iteration 174, loss = 0.76088979\n",
      "Iteration 175, loss = 0.75143766\n",
      "Iteration 176, loss = 0.75765705\n",
      "Iteration 177, loss = 0.75669254\n",
      "Iteration 178, loss = 0.75087676\n",
      "Iteration 179, loss = 0.76922131\n",
      "Iteration 180, loss = 0.75720984\n",
      "Iteration 181, loss = 0.74808299\n",
      "Iteration 182, loss = 0.74879247\n",
      "Iteration 183, loss = 0.76013066\n",
      "Iteration 184, loss = 0.75029592\n",
      "Iteration 185, loss = 0.75634333\n",
      "Iteration 186, loss = 0.75898223\n",
      "Iteration 187, loss = 0.75748589\n",
      "Iteration 188, loss = 0.75432359\n",
      "Iteration 189, loss = 0.74590168\n",
      "Iteration 190, loss = 0.76478745\n",
      "Iteration 191, loss = 0.76192499\n",
      "Iteration 192, loss = 0.76193894\n",
      "Iteration 193, loss = 0.75555888\n",
      "Iteration 194, loss = 0.74873596\n",
      "Iteration 195, loss = 0.74813311\n",
      "Iteration 196, loss = 0.74985222\n",
      "Iteration 197, loss = 0.74716361\n",
      "Iteration 198, loss = 0.75035456\n",
      "Iteration 199, loss = 0.75515490\n",
      "Iteration 200, loss = 0.76819960\n",
      "Training loss did not improve more than tol=0.000100 for 10 consecutive epochs. Stopping.\n",
      "Iteration 1, loss = 8.17693316\n",
      "Iteration 2, loss = 6.89446762\n",
      "Iteration 3, loss = 6.47718633\n",
      "Iteration 4, loss = 6.44694280\n",
      "Iteration 5, loss = 6.35008946\n",
      "Iteration 6, loss = 4.86590865\n",
      "Iteration 7, loss = 3.19312163\n",
      "Iteration 8, loss = 2.01687274\n",
      "Iteration 9, loss = 1.36232512\n",
      "Iteration 10, loss = 1.19463658\n",
      "Iteration 11, loss = 1.15607195\n",
      "Iteration 12, loss = 1.12883055\n",
      "Iteration 13, loss = 1.10640953\n",
      "Iteration 14, loss = 1.08723606\n",
      "Iteration 15, loss = 1.07069064\n",
      "Iteration 16, loss = 1.05602298\n",
      "Iteration 17, loss = 1.04125460\n",
      "Iteration 18, loss = 1.02459629\n",
      "Iteration 19, loss = 1.01196642\n",
      "Iteration 20, loss = 1.00159880\n",
      "Iteration 21, loss = 0.99199521\n",
      "Iteration 22, loss = 0.98390341\n",
      "Iteration 23, loss = 0.97530910\n",
      "Iteration 24, loss = 0.97069359\n",
      "Iteration 25, loss = 0.96057535\n",
      "Iteration 26, loss = 0.95372120\n",
      "Iteration 27, loss = 0.94885478\n",
      "Iteration 28, loss = 0.94304399\n",
      "Iteration 29, loss = 0.93899625\n",
      "Iteration 30, loss = 0.93425452\n",
      "Iteration 31, loss = 0.92924459\n",
      "Iteration 32, loss = 0.92192574\n",
      "Iteration 33, loss = 0.91619416\n",
      "Iteration 34, loss = 0.91474451\n",
      "Iteration 35, loss = 0.91119685\n",
      "Iteration 36, loss = 0.90665924\n",
      "Iteration 37, loss = 0.90531891\n",
      "Iteration 38, loss = 0.89907527\n",
      "Iteration 39, loss = 0.89573650\n",
      "Iteration 40, loss = 0.88807776\n",
      "Iteration 41, loss = 0.88609820\n",
      "Iteration 42, loss = 0.89035411\n",
      "Iteration 43, loss = 0.87785206\n",
      "Iteration 44, loss = 0.87507701\n",
      "Iteration 45, loss = 0.87493201\n",
      "Iteration 46, loss = 0.87015130\n",
      "Iteration 47, loss = 0.86699510\n",
      "Iteration 48, loss = 0.85851226\n",
      "Iteration 49, loss = 0.85848907\n",
      "Iteration 50, loss = 0.85443089\n",
      "Iteration 51, loss = 0.85150307\n",
      "Iteration 52, loss = 0.85291832\n",
      "Iteration 53, loss = 0.84093264\n",
      "Iteration 54, loss = 0.84817779\n",
      "Iteration 55, loss = 0.83565875\n",
      "Iteration 56, loss = 0.83382959\n",
      "Iteration 57, loss = 0.83142591\n",
      "Iteration 58, loss = 0.82895545\n",
      "Iteration 59, loss = 0.82789713\n",
      "Iteration 60, loss = 0.82321399\n",
      "Iteration 61, loss = 0.82972100\n",
      "Iteration 62, loss = 0.82594763\n",
      "Iteration 63, loss = 0.81357647\n",
      "Iteration 64, loss = 0.81308758\n",
      "Iteration 65, loss = 0.81315088\n",
      "Iteration 66, loss = 0.81374753\n",
      "Iteration 67, loss = 0.80907346\n",
      "Iteration 68, loss = 0.80580194\n",
      "Iteration 69, loss = 0.83107822\n",
      "Iteration 70, loss = 0.80920887\n",
      "Iteration 71, loss = 0.80279180\n",
      "Iteration 72, loss = 0.79733205\n",
      "Iteration 73, loss = 0.80121607\n",
      "Iteration 74, loss = 0.79680317\n",
      "Iteration 75, loss = 0.79126773\n",
      "Iteration 76, loss = 0.79580448\n",
      "Iteration 77, loss = 0.78608563\n",
      "Iteration 78, loss = 0.78917262\n",
      "Iteration 79, loss = 0.78556996\n",
      "Iteration 80, loss = 0.79238069\n",
      "Iteration 81, loss = 0.78847828\n",
      "Iteration 82, loss = 0.79082826\n",
      "Iteration 83, loss = 0.78595131\n",
      "Iteration 84, loss = 0.78846218\n",
      "Iteration 85, loss = 0.79653092\n",
      "Iteration 86, loss = 0.77403001\n",
      "Iteration 87, loss = 0.77133463\n",
      "Iteration 88, loss = 0.78308761\n",
      "Iteration 89, loss = 0.77774648\n",
      "Iteration 90, loss = 0.76789087\n",
      "Iteration 91, loss = 0.77387363\n",
      "Iteration 92, loss = 0.76658716\n",
      "Iteration 93, loss = 0.77272301\n",
      "Iteration 94, loss = 0.76281044\n",
      "Iteration 95, loss = 0.76746104\n",
      "Iteration 96, loss = 0.76352261\n",
      "Iteration 97, loss = 0.76131733\n",
      "Iteration 98, loss = 0.76753095\n",
      "Iteration 99, loss = 0.76305828\n",
      "Iteration 100, loss = 0.76830232\n",
      "Iteration 101, loss = 0.75960138\n",
      "Iteration 102, loss = 0.75650732\n",
      "Iteration 103, loss = 0.76172314\n",
      "Iteration 104, loss = 0.77480865\n",
      "Iteration 105, loss = 0.77241232\n",
      "Iteration 106, loss = 0.75344695\n",
      "Iteration 107, loss = 0.75953528\n",
      "Iteration 108, loss = 0.75535544\n",
      "Iteration 109, loss = 0.76779067\n",
      "Iteration 110, loss = 0.75227035\n",
      "Iteration 111, loss = 0.75590379\n",
      "Iteration 112, loss = 0.74862517\n",
      "Iteration 113, loss = 0.74529066\n",
      "Iteration 114, loss = 0.75572528\n",
      "Iteration 115, loss = 0.74867140\n",
      "Iteration 116, loss = 0.75481383\n",
      "Iteration 117, loss = 0.75036079\n",
      "Iteration 118, loss = 0.74736419\n",
      "Iteration 119, loss = 0.73887415\n",
      "Iteration 120, loss = 0.73976200\n",
      "Iteration 121, loss = 0.74035360\n",
      "Iteration 122, loss = 0.74564513\n",
      "Iteration 123, loss = 0.73329724\n",
      "Iteration 124, loss = 0.75404683\n",
      "Iteration 125, loss = 0.77832208\n",
      "Iteration 126, loss = 0.73627759\n",
      "Iteration 127, loss = 0.73937393\n",
      "Iteration 128, loss = 0.74482468\n",
      "Iteration 129, loss = 0.73116254\n",
      "Iteration 130, loss = 0.73681330\n",
      "Iteration 131, loss = 0.72831726\n",
      "Iteration 132, loss = 0.72987886\n",
      "Iteration 133, loss = 0.73205324\n",
      "Iteration 134, loss = 0.73084943\n",
      "Iteration 135, loss = 0.73101720\n",
      "Iteration 136, loss = 0.72676787\n",
      "Iteration 137, loss = 0.72964908\n",
      "Iteration 138, loss = 0.73653969\n",
      "Iteration 139, loss = 0.76447463\n",
      "Iteration 140, loss = 0.73959390\n",
      "Iteration 141, loss = 0.72321324\n",
      "Iteration 142, loss = 0.71773122\n",
      "Iteration 143, loss = 0.72127772\n",
      "Iteration 144, loss = 0.71814427\n",
      "Iteration 145, loss = 0.72820661\n",
      "Iteration 146, loss = 0.73419431\n",
      "Iteration 147, loss = 0.72676244\n",
      "Iteration 148, loss = 0.71579185\n",
      "Iteration 149, loss = 0.71904305\n",
      "Iteration 150, loss = 0.72821588\n",
      "Iteration 151, loss = 0.74148349\n",
      "Iteration 152, loss = 0.74083783\n",
      "Iteration 153, loss = 0.74605049\n",
      "Iteration 154, loss = 0.71597692\n"
     ]
    },
    {
     "name": "stdout",
     "output_type": "stream",
     "text": [
      "Iteration 155, loss = 0.71145533\n",
      "Iteration 156, loss = 0.71192260\n",
      "Iteration 157, loss = 0.71433159\n",
      "Iteration 158, loss = 0.71418930\n",
      "Iteration 159, loss = 0.71499508\n",
      "Iteration 160, loss = 0.71314517\n",
      "Iteration 161, loss = 0.71447063\n",
      "Iteration 162, loss = 0.71375328\n",
      "Iteration 163, loss = 0.70520234\n",
      "Iteration 164, loss = 0.70579422\n",
      "Iteration 165, loss = 0.70892910\n",
      "Iteration 166, loss = 0.70961909\n",
      "Iteration 167, loss = 0.70466425\n",
      "Iteration 168, loss = 0.71005785\n",
      "Iteration 169, loss = 0.70795287\n",
      "Iteration 170, loss = 0.73801175\n",
      "Iteration 171, loss = 0.71695357\n",
      "Iteration 172, loss = 0.72261291\n",
      "Iteration 173, loss = 0.72101799\n",
      "Iteration 174, loss = 0.71077092\n",
      "Iteration 175, loss = 0.70647933\n",
      "Iteration 176, loss = 0.70181342\n",
      "Iteration 177, loss = 0.72263026\n",
      "Iteration 178, loss = 0.72363086\n",
      "Iteration 179, loss = 0.72731968\n",
      "Iteration 180, loss = 0.70355632\n",
      "Iteration 181, loss = 0.71409505\n",
      "Iteration 182, loss = 0.72808870\n",
      "Iteration 183, loss = 0.71016430\n",
      "Iteration 184, loss = 0.72074484\n",
      "Iteration 185, loss = 0.70437050\n",
      "Iteration 186, loss = 0.70241086\n",
      "Iteration 187, loss = 0.69844664\n",
      "Iteration 188, loss = 0.69655102\n",
      "Iteration 189, loss = 0.70193746\n",
      "Iteration 190, loss = 0.70093568\n",
      "Iteration 191, loss = 0.69590319\n",
      "Iteration 192, loss = 0.69207232\n",
      "Iteration 193, loss = 0.69761143\n",
      "Iteration 194, loss = 0.69776242\n",
      "Iteration 195, loss = 0.72407790\n",
      "Iteration 196, loss = 0.69032783\n",
      "Iteration 197, loss = 0.69627475\n",
      "Iteration 198, loss = 0.69437743\n",
      "Iteration 199, loss = 0.69033385\n",
      "Iteration 200, loss = 0.69994145\n",
      "Iteration 201, loss = 0.68908632\n",
      "Iteration 202, loss = 0.69338340\n",
      "Iteration 203, loss = 0.68845186\n",
      "Iteration 204, loss = 0.68736338\n",
      "Iteration 205, loss = 0.68946768\n",
      "Iteration 206, loss = 0.69113118\n",
      "Iteration 207, loss = 0.68476187\n",
      "Iteration 208, loss = 0.68760594\n",
      "Iteration 209, loss = 0.68430321\n",
      "Iteration 210, loss = 0.70943921\n",
      "Iteration 211, loss = 0.69051330\n",
      "Iteration 212, loss = 0.69488384\n",
      "Iteration 213, loss = 0.69108262\n",
      "Iteration 214, loss = 0.69826774\n",
      "Iteration 215, loss = 0.70217273\n",
      "Iteration 216, loss = 0.68612270\n",
      "Iteration 217, loss = 0.70460440\n",
      "Iteration 218, loss = 0.68613096\n",
      "Iteration 219, loss = 0.68690586\n",
      "Iteration 220, loss = 0.70132680\n",
      "Training loss did not improve more than tol=0.000100 for 10 consecutive epochs. Stopping.\n",
      "Iteration 1, loss = 22.16814439\n",
      "Iteration 2, loss = 22.16814409\n",
      "Iteration 3, loss = 19.89544757\n",
      "Iteration 4, loss = 8.52242530\n",
      "Iteration 5, loss = 8.11652401\n",
      "Iteration 6, loss = 6.60477548\n",
      "Iteration 7, loss = 6.14317733\n",
      "Iteration 8, loss = 6.06892022\n",
      "Iteration 9, loss = 5.95368286\n",
      "Iteration 10, loss = 4.77530199\n",
      "Iteration 11, loss = 3.28870301\n",
      "Iteration 12, loss = 2.06081676\n",
      "Iteration 13, loss = 1.30501279\n",
      "Iteration 14, loss = 1.09890673\n",
      "Iteration 15, loss = 0.96115274\n",
      "Iteration 16, loss = 0.94316121\n",
      "Iteration 17, loss = 0.93588952\n",
      "Iteration 18, loss = 0.93140680\n",
      "Iteration 19, loss = 0.92918869\n",
      "Iteration 20, loss = 0.92684472\n",
      "Iteration 21, loss = 0.92526851\n",
      "Iteration 22, loss = 0.92376748\n",
      "Iteration 23, loss = 0.92180753\n",
      "Iteration 24, loss = 0.92054736\n",
      "Iteration 25, loss = 0.92019367\n",
      "Iteration 26, loss = 0.91804221\n",
      "Iteration 27, loss = 0.91712180\n",
      "Iteration 28, loss = 0.91650172\n",
      "Iteration 29, loss = 0.91453055\n",
      "Iteration 30, loss = 0.91347642\n",
      "Iteration 31, loss = 0.91239905\n",
      "Iteration 32, loss = 0.91353109\n",
      "Iteration 33, loss = 0.91038616\n",
      "Iteration 34, loss = 0.90955428\n",
      "Iteration 35, loss = 0.90881077\n",
      "Iteration 36, loss = 0.90759711\n",
      "Iteration 37, loss = 0.90772371\n",
      "Iteration 38, loss = 0.90510134\n",
      "Iteration 39, loss = 0.90502353\n",
      "Iteration 40, loss = 0.90257289\n",
      "Iteration 41, loss = 0.90146902\n",
      "Iteration 42, loss = 0.90008292\n",
      "Iteration 43, loss = 0.89794706\n",
      "Iteration 44, loss = 0.89759341\n",
      "Iteration 45, loss = 0.89620720\n",
      "Iteration 46, loss = 0.89473500\n",
      "Iteration 47, loss = 0.89402687\n",
      "Iteration 48, loss = 0.89263835\n",
      "Iteration 49, loss = 0.88955183\n",
      "Iteration 50, loss = 0.88878249\n",
      "Iteration 51, loss = 0.88645371\n",
      "Iteration 52, loss = 0.88455825\n",
      "Iteration 53, loss = 0.88414743\n",
      "Iteration 54, loss = 0.88428792\n",
      "Iteration 55, loss = 0.87954415\n",
      "Iteration 56, loss = 0.87741497\n",
      "Iteration 57, loss = 0.87410146\n",
      "Iteration 58, loss = 0.87228708\n",
      "Iteration 59, loss = 0.86940278\n",
      "Iteration 60, loss = 0.86897979\n",
      "Iteration 61, loss = 0.86405741\n",
      "Iteration 62, loss = 0.86197316\n",
      "Iteration 63, loss = 0.86067422\n",
      "Iteration 64, loss = 0.85786943\n",
      "Iteration 65, loss = 0.85399192\n",
      "Iteration 66, loss = 0.84942659\n",
      "Iteration 67, loss = 0.84731377\n",
      "Iteration 68, loss = 0.84743307\n",
      "Iteration 69, loss = 0.84297582\n",
      "Iteration 70, loss = 0.84388342\n",
      "Iteration 71, loss = 0.85011817\n",
      "Iteration 72, loss = 0.83462699\n",
      "Iteration 73, loss = 0.83196765\n",
      "Iteration 74, loss = 0.82796004\n",
      "Iteration 75, loss = 0.82414837\n",
      "Iteration 76, loss = 0.83052987\n",
      "Iteration 77, loss = 0.83906307\n",
      "Iteration 78, loss = 0.83138858\n",
      "Iteration 79, loss = 0.83049142\n",
      "Iteration 80, loss = 0.82530143\n",
      "Iteration 81, loss = 0.81291914\n",
      "Iteration 82, loss = 0.81084676\n",
      "Iteration 83, loss = 0.80679691\n",
      "Iteration 84, loss = 0.80340833\n",
      "Iteration 85, loss = 0.80617895\n",
      "Iteration 86, loss = 0.80024065\n",
      "Iteration 87, loss = 0.79991014\n",
      "Iteration 88, loss = 0.79571808\n",
      "Iteration 89, loss = 0.79939108\n",
      "Iteration 90, loss = 0.79374043\n",
      "Iteration 91, loss = 0.79317674\n",
      "Iteration 92, loss = 0.79402640\n",
      "Iteration 93, loss = 0.80113577\n",
      "Iteration 94, loss = 0.79389066\n",
      "Iteration 95, loss = 0.78525997\n",
      "Iteration 96, loss = 0.79299136\n",
      "Iteration 97, loss = 0.78882540\n",
      "Iteration 98, loss = 0.78960563\n",
      "Iteration 99, loss = 0.77773530\n",
      "Iteration 100, loss = 0.77769555\n",
      "Iteration 101, loss = 0.78909416\n",
      "Iteration 102, loss = 0.79125244\n",
      "Iteration 103, loss = 0.78986590\n",
      "Iteration 104, loss = 0.78653376\n",
      "Iteration 105, loss = 0.78064842\n",
      "Iteration 106, loss = 0.77552302\n",
      "Iteration 107, loss = 0.78472083\n",
      "Iteration 108, loss = 0.78889392\n",
      "Iteration 109, loss = 0.77430369\n",
      "Iteration 110, loss = 0.76467075\n",
      "Iteration 111, loss = 0.76688526\n",
      "Iteration 112, loss = 0.78183261\n",
      "Iteration 113, loss = 0.76519565\n",
      "Iteration 114, loss = 0.76587097\n",
      "Iteration 115, loss = 0.76493464\n",
      "Iteration 116, loss = 0.78147783\n",
      "Iteration 117, loss = 0.77476522\n",
      "Iteration 118, loss = 0.76665262\n",
      "Iteration 119, loss = 0.78287019\n",
      "Iteration 120, loss = 0.77630982\n",
      "Iteration 121, loss = 0.77399817\n",
      "Training loss did not improve more than tol=0.000100 for 10 consecutive epochs. Stopping.\n",
      "Iteration 1, loss = 7.65714333\n",
      "Iteration 2, loss = 2.59408243\n",
      "Iteration 3, loss = 1.60385294\n",
      "Iteration 4, loss = 1.42843761\n",
      "Iteration 5, loss = 1.29827405\n",
      "Iteration 6, loss = 1.24813117\n",
      "Iteration 7, loss = 1.15653723\n",
      "Iteration 8, loss = 1.08636764\n",
      "Iteration 9, loss = 0.98323779\n",
      "Iteration 10, loss = 0.96340426\n",
      "Iteration 11, loss = 0.99341298\n",
      "Iteration 12, loss = 0.92486344\n",
      "Iteration 13, loss = 0.98283594\n",
      "Iteration 14, loss = 0.92410370\n",
      "Iteration 15, loss = 0.93938289\n",
      "Iteration 16, loss = 0.91840546\n",
      "Iteration 17, loss = 0.88967282\n",
      "Iteration 18, loss = 0.88614829\n",
      "Iteration 19, loss = 0.88553048\n",
      "Iteration 20, loss = 0.89178656\n",
      "Iteration 21, loss = 0.87840001\n",
      "Iteration 22, loss = 0.99258929\n",
      "Iteration 23, loss = 1.03608488\n",
      "Iteration 24, loss = 0.94864384\n",
      "Iteration 25, loss = 0.92766414\n",
      "Iteration 26, loss = 0.92285911\n",
      "Iteration 27, loss = 0.91909881\n",
      "Iteration 28, loss = 0.91460408\n",
      "Iteration 29, loss = 0.90470521\n",
      "Iteration 30, loss = 0.90244141\n",
      "Iteration 31, loss = 0.91375374\n",
      "Iteration 32, loss = 1.40066957\n",
      "Training loss did not improve more than tol=0.000100 for 10 consecutive epochs. Stopping.\n",
      "Iteration 1, loss = 17.80160234\n",
      "Iteration 2, loss = 17.57766010\n",
      "Iteration 3, loss = 17.09705424\n",
      "Iteration 4, loss = 17.18115495\n",
      "Iteration 5, loss = 16.18036647\n",
      "Iteration 6, loss = 5.59667175\n",
      "Iteration 7, loss = 1.77142042\n",
      "Iteration 8, loss = 1.03057593\n",
      "Iteration 9, loss = 0.99762944\n",
      "Iteration 10, loss = 0.99369176\n",
      "Iteration 11, loss = 0.98675241\n",
      "Iteration 12, loss = 1.00202230\n",
      "Iteration 13, loss = 0.97409745\n",
      "Iteration 14, loss = 0.97450669\n",
      "Iteration 15, loss = 1.01109410\n",
      "Iteration 16, loss = 1.00097693\n",
      "Iteration 17, loss = 0.96934387\n",
      "Iteration 18, loss = 0.96693549\n",
      "Iteration 19, loss = 0.96472928\n",
      "Iteration 20, loss = 0.96337350\n",
      "Iteration 21, loss = 0.97013557\n",
      "Iteration 22, loss = 0.96380890\n",
      "Iteration 23, loss = 0.98663628\n",
      "Iteration 24, loss = 0.95516555\n",
      "Iteration 25, loss = 0.93844069\n",
      "Iteration 26, loss = 0.91964159\n",
      "Iteration 27, loss = 0.91550565\n"
     ]
    },
    {
     "name": "stdout",
     "output_type": "stream",
     "text": [
      "Iteration 28, loss = 0.90274028\n",
      "Iteration 29, loss = 0.89865436\n",
      "Iteration 30, loss = 0.91678169\n",
      "Iteration 31, loss = 0.89737250\n",
      "Iteration 32, loss = 0.89848331\n",
      "Iteration 33, loss = 0.88972957\n",
      "Iteration 34, loss = 0.88904898\n",
      "Iteration 35, loss = 0.91738952\n",
      "Iteration 36, loss = 0.91214452\n",
      "Iteration 37, loss = 0.88736542\n",
      "Iteration 38, loss = 0.88752816\n",
      "Iteration 39, loss = 0.87793416\n",
      "Iteration 40, loss = 0.88038542\n",
      "Iteration 41, loss = 0.87831487\n",
      "Iteration 42, loss = 0.87148343\n",
      "Iteration 43, loss = 0.87952958\n",
      "Iteration 44, loss = 0.89480215\n",
      "Iteration 45, loss = 0.88222501\n",
      "Iteration 46, loss = 0.87370242\n",
      "Iteration 47, loss = 0.88502627\n",
      "Iteration 48, loss = 0.87028723\n",
      "Iteration 49, loss = 0.92934234\n",
      "Iteration 50, loss = 0.86920658\n",
      "Iteration 51, loss = 0.86819782\n",
      "Iteration 52, loss = 0.88101116\n",
      "Iteration 53, loss = 0.86053869\n",
      "Iteration 54, loss = 0.89353563\n",
      "Iteration 55, loss = 0.86895730\n",
      "Iteration 56, loss = 0.86786042\n",
      "Iteration 57, loss = 0.85264094\n",
      "Iteration 58, loss = 0.85590973\n",
      "Iteration 59, loss = 0.85269850\n",
      "Iteration 60, loss = 0.86071864\n",
      "Iteration 61, loss = 0.84679892\n",
      "Iteration 62, loss = 0.85766872\n",
      "Iteration 63, loss = 0.87600082\n",
      "Iteration 64, loss = 0.88102225\n",
      "Iteration 65, loss = 0.85967270\n",
      "Iteration 66, loss = 0.85696816\n",
      "Iteration 67, loss = 0.86585345\n",
      "Iteration 68, loss = 0.85263935\n",
      "Iteration 69, loss = 0.86743542\n",
      "Iteration 70, loss = 0.85415734\n",
      "Iteration 71, loss = 0.85180862\n",
      "Iteration 72, loss = 0.85220659\n",
      "Training loss did not improve more than tol=0.000100 for 10 consecutive epochs. Stopping.\n"
     ]
    },
    {
     "data": {
      "text/plain": [
       "array([0.65469062, 0.6953047 , 0.687     , 0.62662663, 0.63426854])"
      ]
     },
     "execution_count": 10,
     "metadata": {},
     "output_type": "execute_result"
    }
   ],
   "source": [
    "mlp = MLPClassifier(hidden_layer_sizes=(8,8), max_iter=500, verbose=True)\n",
    "print('created')\n",
    "mlp.fit(X, Y)\n",
    "print('fit')\n",
    "cross_val_score(mlp, X, Y, cv=5)"
   ]
  },
  {
   "cell_type": "code",
   "execution_count": 11,
   "metadata": {},
   "outputs": [
    {
     "data": {
      "text/plain": [
       "MLPClassifier(activation='relu', alpha=0.0001, batch_size='auto', beta_1=0.9,\n",
       "       beta_2=0.999, early_stopping=False, epsilon=1e-08,\n",
       "       hidden_layer_sizes=(8, 8), learning_rate='constant',\n",
       "       learning_rate_init=0.001, max_iter=500, momentum=0.9,\n",
       "       n_iter_no_change=10, nesterovs_momentum=True, power_t=0.5,\n",
       "       random_state=None, shuffle=True, solver='adam', tol=0.0001,\n",
       "       validation_fraction=0.1, verbose=True, warm_start=False)"
      ]
     },
     "execution_count": 11,
     "metadata": {},
     "output_type": "execute_result"
    }
   ],
   "source": [
    "mlp"
   ]
  },
  {
   "cell_type": "markdown",
   "metadata": {},
   "source": [
    "**Does L2 penalizing improve anything?**"
   ]
  },
  {
   "cell_type": "code",
   "execution_count": 12,
   "metadata": {},
   "outputs": [
    {
     "data": {
      "text/plain": [
       "array([0.62874251, 0.62937063, 0.63      , 0.62962963, 0.63026052])"
      ]
     },
     "execution_count": 12,
     "metadata": {},
     "output_type": "execute_result"
    }
   ],
   "source": [
    "mlp = MLPClassifier(hidden_layer_sizes=(50,2), max_iter=350,\n",
    "                   alpha=.01)\n",
    "mlp.fit(X, Y)\n",
    "cross_val_score(mlp, X, Y, cv=5)"
   ]
  },
  {
   "cell_type": "code",
   "execution_count": 13,
   "metadata": {},
   "outputs": [
    {
     "data": {
      "text/plain": [
       "array([0.62874251, 0.62937063, 0.63      , 0.62962963, 0.63026052])"
      ]
     },
     "execution_count": 13,
     "metadata": {},
     "output_type": "execute_result"
    }
   ],
   "source": [
    "mlp = MLPClassifier(hidden_layer_sizes=(50,2), max_iter=350,\n",
    "                   alpha=.1)\n",
    "mlp.fit(X, Y)\n",
    "cross_val_score(mlp, X, Y, cv=5)"
   ]
  },
  {
   "cell_type": "code",
   "execution_count": 15,
   "metadata": {},
   "outputs": [
    {
     "data": {
      "text/plain": [
       "array([0.62874251, 0.62937063, 0.63      , 0.62962963, 0.63026052])"
      ]
     },
     "execution_count": 15,
     "metadata": {},
     "output_type": "execute_result"
    }
   ],
   "source": [
    "mlp = MLPClassifier(hidden_layer_sizes=(50,2), max_iter=350,\n",
    "                   alpha=.5)\n",
    "mlp.fit(X, Y)\n",
    "cross_val_score(mlp, X, Y, cv=5)"
   ]
  },
  {
   "cell_type": "markdown",
   "metadata": {},
   "source": [
    "**Apparently not.**\n",
    "\n",
    "**Try treating Date as a continuous variable not vategorical, which may capture differences between artistic eras better.**"
   ]
  },
  {
   "cell_type": "code",
   "execution_count": 51,
   "metadata": {},
   "outputs": [
    {
     "name": "stdout",
     "output_type": "stream",
     "text": [
      "<class 'pandas.core.frame.DataFrame'>\n",
      "Int64Index: 5069 entries, 121305 to 92230\n",
      "Data columns (total 7 columns):\n",
      "Gender          5069 non-null object\n",
      "Date            5069 non-null object\n",
      "URL             5069 non-null bool\n",
      "ThumbnailURL    5069 non-null bool\n",
      "Height (cm)     5069 non-null float64\n",
      "Width (cm)      5069 non-null float64\n",
      "YearAcquired    5069 non-null int64\n",
      "dtypes: bool(2), float64(2), int64(1), object(2)\n",
      "memory usage: 207.9+ KB\n"
     ]
    }
   ],
   "source": [
    "artworks5 = artworks.sample(5100)\n",
    "artworks5 = artworks5.dropna(axis=0)\n",
    "# Final column drops and NA drop.\n",
    "X = artworks5.drop(['Department', 'DateAcquired', 'Artist', 'Nationality'], 1)\n",
    "X.info()"
   ]
  },
  {
   "cell_type": "code",
   "execution_count": 52,
   "metadata": {},
   "outputs": [
    {
     "data": {
      "text/plain": [
       "((5069, 255), (5069,))"
      ]
     },
     "execution_count": 52,
     "metadata": {},
     "output_type": "execute_result"
    }
   ],
   "source": [
    "# Create dummies separately.\n",
    "nationalities = pd.get_dummies(artworks5.Nationality)\n",
    "X = pd.get_dummies(X, sparse=True)\n",
    "X = pd.concat([X, nationalities], axis=1)\n",
    "Y = artworks5.Department\n",
    "X.shape, Y.shape"
   ]
  },
  {
   "cell_type": "code",
   "execution_count": 54,
   "metadata": {},
   "outputs": [
    {
     "data": {
      "text/plain": [
       "array([0.62992126, 0.63017751, 0.63017751, 0.63079961, 0.63142292])"
      ]
     },
     "execution_count": 54,
     "metadata": {},
     "output_type": "execute_result"
    }
   ],
   "source": [
    "mlp = MLPClassifier(hidden_layer_sizes=(50,2), max_iter=500,\n",
    "                   alpha=.5)\n",
    "mlp.fit(X, Y)\n",
    "cross_val_score(mlp, X, Y, cv=5)"
   ]
  }
 ],
 "metadata": {
  "kernelspec": {
   "display_name": "Python 3",
   "language": "python",
   "name": "python3"
  },
  "language_info": {
   "codemirror_mode": {
    "name": "ipython",
    "version": 3
   },
   "file_extension": ".py",
   "mimetype": "text/x-python",
   "name": "python",
   "nbconvert_exporter": "python",
   "pygments_lexer": "ipython3",
   "version": "3.7.0"
  }
 },
 "nbformat": 4,
 "nbformat_minor": 2
}

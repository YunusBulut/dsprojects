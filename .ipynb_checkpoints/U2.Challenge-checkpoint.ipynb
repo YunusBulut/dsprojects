{
 "cells": [
  {
   "cell_type": "code",
   "execution_count": 1,
   "metadata": {},
   "outputs": [],
   "source": [
    "import pandas as pd\n",
    "import numpy as np\n",
    "import matplotlib.pyplot as plt\n",
    "import seaborn as sns\n",
    "%matplotlib inline\n",
    "%config IPCompleter.greedy=True"
   ]
  },
  {
   "cell_type": "code",
   "execution_count": 2,
   "metadata": {},
   "outputs": [
    {
     "data": {
      "text/html": [
       "<div>\n",
       "<style scoped>\n",
       "    .dataframe tbody tr th:only-of-type {\n",
       "        vertical-align: middle;\n",
       "    }\n",
       "\n",
       "    .dataframe tbody tr th {\n",
       "        vertical-align: top;\n",
       "    }\n",
       "\n",
       "    .dataframe thead th {\n",
       "        text-align: right;\n",
       "    }\n",
       "</style>\n",
       "<table border=\"1\" class=\"dataframe\">\n",
       "  <thead>\n",
       "    <tr style=\"text-align: right;\">\n",
       "      <th></th>\n",
       "      <th>country</th>\n",
       "      <th>region</th>\n",
       "      <th>happinessRank</th>\n",
       "      <th>happinessScore</th>\n",
       "      <th>lowerConfidenceInterval</th>\n",
       "      <th>upperConfidenceInterval</th>\n",
       "      <th>economy</th>\n",
       "      <th>family</th>\n",
       "      <th>health</th>\n",
       "      <th>freedom</th>\n",
       "      <th>govTrust</th>\n",
       "      <th>generosity</th>\n",
       "      <th>dystopiaResidual</th>\n",
       "    </tr>\n",
       "  </thead>\n",
       "  <tbody>\n",
       "    <tr>\n",
       "      <th>0</th>\n",
       "      <td>Denmark</td>\n",
       "      <td>Western Europe</td>\n",
       "      <td>1</td>\n",
       "      <td>7.526</td>\n",
       "      <td>7.460</td>\n",
       "      <td>7.592</td>\n",
       "      <td>1.44178</td>\n",
       "      <td>1.16374</td>\n",
       "      <td>0.79504</td>\n",
       "      <td>0.57941</td>\n",
       "      <td>0.44453</td>\n",
       "      <td>0.36171</td>\n",
       "      <td>2.73939</td>\n",
       "    </tr>\n",
       "    <tr>\n",
       "      <th>1</th>\n",
       "      <td>Switzerland</td>\n",
       "      <td>Western Europe</td>\n",
       "      <td>2</td>\n",
       "      <td>7.509</td>\n",
       "      <td>7.428</td>\n",
       "      <td>7.590</td>\n",
       "      <td>1.52733</td>\n",
       "      <td>1.14524</td>\n",
       "      <td>0.86303</td>\n",
       "      <td>0.58557</td>\n",
       "      <td>0.41203</td>\n",
       "      <td>0.28083</td>\n",
       "      <td>2.69463</td>\n",
       "    </tr>\n",
       "    <tr>\n",
       "      <th>2</th>\n",
       "      <td>Iceland</td>\n",
       "      <td>Western Europe</td>\n",
       "      <td>3</td>\n",
       "      <td>7.501</td>\n",
       "      <td>7.333</td>\n",
       "      <td>7.669</td>\n",
       "      <td>1.42666</td>\n",
       "      <td>1.18326</td>\n",
       "      <td>0.86733</td>\n",
       "      <td>0.56624</td>\n",
       "      <td>0.14975</td>\n",
       "      <td>0.47678</td>\n",
       "      <td>2.83137</td>\n",
       "    </tr>\n",
       "    <tr>\n",
       "      <th>3</th>\n",
       "      <td>Norway</td>\n",
       "      <td>Western Europe</td>\n",
       "      <td>4</td>\n",
       "      <td>7.498</td>\n",
       "      <td>7.421</td>\n",
       "      <td>7.575</td>\n",
       "      <td>1.57744</td>\n",
       "      <td>1.12690</td>\n",
       "      <td>0.79579</td>\n",
       "      <td>0.59609</td>\n",
       "      <td>0.35776</td>\n",
       "      <td>0.37895</td>\n",
       "      <td>2.66465</td>\n",
       "    </tr>\n",
       "    <tr>\n",
       "      <th>4</th>\n",
       "      <td>Finland</td>\n",
       "      <td>Western Europe</td>\n",
       "      <td>5</td>\n",
       "      <td>7.413</td>\n",
       "      <td>7.351</td>\n",
       "      <td>7.475</td>\n",
       "      <td>1.40598</td>\n",
       "      <td>1.13464</td>\n",
       "      <td>0.81091</td>\n",
       "      <td>0.57104</td>\n",
       "      <td>0.41004</td>\n",
       "      <td>0.25492</td>\n",
       "      <td>2.82596</td>\n",
       "    </tr>\n",
       "  </tbody>\n",
       "</table>\n",
       "</div>"
      ],
      "text/plain": [
       "       country          region  happinessRank  happinessScore  \\\n",
       "0      Denmark  Western Europe              1           7.526   \n",
       "1  Switzerland  Western Europe              2           7.509   \n",
       "2      Iceland  Western Europe              3           7.501   \n",
       "3       Norway  Western Europe              4           7.498   \n",
       "4      Finland  Western Europe              5           7.413   \n",
       "\n",
       "   lowerConfidenceInterval  upperConfidenceInterval  economy   family  \\\n",
       "0                    7.460                    7.592  1.44178  1.16374   \n",
       "1                    7.428                    7.590  1.52733  1.14524   \n",
       "2                    7.333                    7.669  1.42666  1.18326   \n",
       "3                    7.421                    7.575  1.57744  1.12690   \n",
       "4                    7.351                    7.475  1.40598  1.13464   \n",
       "\n",
       "    health  freedom  govTrust  generosity  dystopiaResidual  \n",
       "0  0.79504  0.57941   0.44453     0.36171           2.73939  \n",
       "1  0.86303  0.58557   0.41203     0.28083           2.69463  \n",
       "2  0.86733  0.56624   0.14975     0.47678           2.83137  \n",
       "3  0.79579  0.59609   0.35776     0.37895           2.66465  \n",
       "4  0.81091  0.57104   0.41004     0.25492           2.82596  "
      ]
     },
     "execution_count": 2,
     "metadata": {},
     "output_type": "execute_result"
    }
   ],
   "source": [
    "df = pd.read_csv('2016.csv')\n",
    "df.head()"
   ]
  },
  {
   "cell_type": "code",
   "execution_count": 3,
   "metadata": {},
   "outputs": [
    {
     "data": {
      "image/png": "[encoded data removed]",
      "text/plain": [
       "<Figure size 432x288 with 1 Axes>"
      ]
     },
     "metadata": {},
     "output_type": "display_data"
    },
    {
     "data": {
      "text/plain": [
       "'This chart shows the reported Happiness levels\\nfor Western European countries (where 10 = happiest and 1 = least happy). Denmark is\\nthe happiest country in this region, and Portugal and Greece are the least happy.'"
      ]
     },
     "execution_count": 3,
     "metadata": {},
     "output_type": "execute_result"
    }
   ],
   "source": [
    "nam = df[df['region']==\"Western Europe\"].sort_values(by=['happinessScore'], ascending=True)\n",
    "\n",
    "plt.barh(nam['country'], nam['happinessScore'])\n",
    "plt.title('Happiness Ratings for Western European Countries 2016')\n",
    "plt.xlim(0,10)\n",
    "plt.show()\n",
    "\n",
    "'''This chart shows the reported Happiness levels\n",
    "for Western European countries (where 10 = happiest and 1 = least happy). Denmark is\n",
    "the happiest country in this region, and Portugal and Greece are the least happy.'''"
   ]
  },
  {
   "cell_type": "code",
   "execution_count": 4,
   "metadata": {},
   "outputs": [
    {
     "data": {
      "image/png": "[encoded data removed]",
      "text/plain": [
       "<Figure size 432x288 with 1 Axes>"
      ]
     },
     "metadata": {},
     "output_type": "display_data"
    }
   ],
   "source": [
    "df['family'].hist(alpha=.5, color=\"blue\", label='Family')\n",
    "df['health'].hist(alpha=.5, color=\"green\", label='Health')\n",
    "plt.grid()\n",
    "plt.title('Family and Health as Contributors to Happiness')\n",
    "plt.legend()\n",
    "plt.show()\n",
    "#The histogram peak of Family is clearly greater than the peak for health, \n",
    "#suggesting that Family contributes more to happiness than health."
   ]
  },
  {
   "cell_type": "code",
   "execution_count": 5,
   "metadata": {},
   "outputs": [
    {
     "data": {
      "image/png": "[encoded data removed]",
      "text/plain": [
       "<Figure size 432x288 with 1 Axes>"
      ]
     },
     "metadata": {},
     "output_type": "display_data"
    }
   ],
   "source": [
    "plt.boxplot(df['generosity'], vert=False)\n",
    "plt.show()"
   ]
  },
  {
   "cell_type": "code",
   "execution_count": 6,
   "metadata": {},
   "outputs": [
    {
     "name": "stdout",
     "output_type": "stream",
     "text": [
      "118    Myanmar\n",
      "Name: country, dtype: object\n"
     ]
    }
   ],
   "source": [
    "#The above chart shows that there is one country where Generosity contributes to \n",
    "#Happiness significantly more to Happiness than other countries. We find out\n",
    "#which country it is below:\n",
    "\n",
    "print(df[df['generosity']>0.7]['country'])\n"
   ]
  },
  {
   "cell_type": "code",
   "execution_count": 20,
   "metadata": {},
   "outputs": [
    {
     "data": {
      "text/html": [
       "<div>\n",
       "<style scoped>\n",
       "    .dataframe tbody tr th:only-of-type {\n",
       "        vertical-align: middle;\n",
       "    }\n",
       "\n",
       "    .dataframe tbody tr th {\n",
       "        vertical-align: top;\n",
       "    }\n",
       "\n",
       "    .dataframe thead th {\n",
       "        text-align: right;\n",
       "    }\n",
       "</style>\n",
       "<table border=\"1\" class=\"dataframe\">\n",
       "  <thead>\n",
       "    <tr style=\"text-align: right;\">\n",
       "      <th></th>\n",
       "      <th>0</th>\n",
       "    </tr>\n",
       "  </thead>\n",
       "  <tbody>\n",
       "    <tr>\n",
       "      <th>country</th>\n",
       "      <td>(2.527656580088e-311+7.583216298674e-311j)</td>\n",
       "    </tr>\n",
       "    <tr>\n",
       "      <th>region</th>\n",
       "      <td>(6.861174714477e-311+3.791668757543e-311j)</td>\n",
       "    </tr>\n",
       "    <tr>\n",
       "      <th>happinessRank</th>\n",
       "      <td>(78.98089171974523+0j)</td>\n",
       "    </tr>\n",
       "    <tr>\n",
       "      <th>happinessScore</th>\n",
       "      <td>(5.382184713375796+0j)</td>\n",
       "    </tr>\n",
       "    <tr>\n",
       "      <th>lowerConfidenceInterval</th>\n",
       "      <td>(5.282394904458598+0j)</td>\n",
       "    </tr>\n",
       "    <tr>\n",
       "      <th>upperConfidenceInterval</th>\n",
       "      <td>(5.481974522292995+0j)</td>\n",
       "    </tr>\n",
       "    <tr>\n",
       "      <th>economy</th>\n",
       "      <td>(0.9538798089171973+0j)</td>\n",
       "    </tr>\n",
       "    <tr>\n",
       "      <th>family</th>\n",
       "      <td>(0.7936210828025482+0j)</td>\n",
       "    </tr>\n",
       "    <tr>\n",
       "      <th>health</th>\n",
       "      <td>(0.5576189808917195+0j)</td>\n",
       "    </tr>\n",
       "    <tr>\n",
       "      <th>freedom</th>\n",
       "      <td>(0.3709938853503184+0j)</td>\n",
       "    </tr>\n",
       "    <tr>\n",
       "      <th>govTrust</th>\n",
       "      <td>(0.1376237579617835+0j)</td>\n",
       "    </tr>\n",
       "    <tr>\n",
       "      <th>generosity</th>\n",
       "      <td>(0.24263490445859878+0j)</td>\n",
       "    </tr>\n",
       "    <tr>\n",
       "      <th>dystopiaResidual</th>\n",
       "      <td>(2.3258065605095544+0j)</td>\n",
       "    </tr>\n",
       "  </tbody>\n",
       "</table>\n",
       "</div>"
      ],
      "text/plain": [
       "                                                                  0\n",
       "country                  (2.527656580088e-311+7.583216298674e-311j)\n",
       "region                   (6.861174714477e-311+3.791668757543e-311j)\n",
       "happinessRank                                (78.98089171974523+0j)\n",
       "happinessScore                               (5.382184713375796+0j)\n",
       "lowerConfidenceInterval                      (5.282394904458598+0j)\n",
       "upperConfidenceInterval                      (5.481974522292995+0j)\n",
       "economy                                     (0.9538798089171973+0j)\n",
       "family                                      (0.7936210828025482+0j)\n",
       "health                                      (0.5576189808917195+0j)\n",
       "freedom                                     (0.3709938853503184+0j)\n",
       "govTrust                                    (0.1376237579617835+0j)\n",
       "generosity                                 (0.24263490445859878+0j)\n",
       "dystopiaResidual                            (2.3258065605095544+0j)"
      ]
     },
     "execution_count": 20,
     "metadata": {},
     "output_type": "execute_result"
    }
   ],
   "source": [
    "avgs = pd.DataFrame(df.mean())\n",
    "avgs"
   ]
  },
  {
   "cell_type": "code",
   "execution_count": 19,
   "metadata": {},
   "outputs": [
    {
     "name": "stderr",
     "output_type": "stream",
     "text": [
      "c:\\users\\greg\\appdata\\local\\programs\\python\\python37-32\\lib\\site-packages\\scipy\\stats\\stats.py:1713: FutureWarning: Using a non-tuple sequence for multidimensional indexing is deprecated; use `arr[tuple(seq)]` instead of `arr[seq]`. In the future this will be interpreted as an array index, `arr[np.array(seq)]`, which will result either in an error or a different result.\n",
      "  return np.add.reduce(sorted[indexer] * weights, axis=axis) / sumval\n"
     ]
    },
    {
     "data": {
      "image/png": "[encoded data removed]",
      "text/plain": [
       "<Figure size 432x288 with 1 Axes>"
      ]
     },
     "metadata": {},
     "output_type": "display_data"
    }
   ],
   "source": [
    "'''Based on the above table of means, Trust in government is one of the least\n",
    "contributors to happiness, which made me wonder if it's even affecting the overall\n",
    "score in a meaningful way, so I've done a regression of Trust in Government and Overall Happiness below.\n",
    "The slightly positive trendline shows there is a mild correlation.\n",
    "'''\n",
    "#research how to rename columns\n",
    "sns.regplot(df['happinessScore'], df['govTrust'])\n",
    "plt.ylabel('Contribution of Gov. trust to happiness')\n",
    "plt.xlabel('Total Happiness Score')\n",
    "plt.show()"
   ]
  },
  {
   "cell_type": "code",
   "execution_count": 10,
   "metadata": {},
   "outputs": [
    {
     "data": {
      "image/png": "[encoded data removed]",
      "text/plain": [
       "<Figure size 432x288 with 1 Axes>"
      ]
     },
     "metadata": {},
     "output_type": "display_data"
    }
   ],
   "source": [
    "#Which regions are happiest as a result of Family?\n",
    "cd = pd.DataFrame(df.groupby(['region'])['family'].mean().sort_values(ascending=True))\n",
    "plt.barh(cd.index, cd.family, color='green')\n",
    "plt.xlabel('Family Happiness Score')\n",
    "plt.show()"
   ]
  },
  {
   "cell_type": "code",
   "execution_count": null,
   "metadata": {},
   "outputs": [],
   "source": []
  }
 ],
 "metadata": {
  "kernelspec": {
   "display_name": "Python 3",
   "language": "python",
   "name": "python3"
  },
  "language_info": {
   "codemirror_mode": {
    "name": "ipython",
    "version": 3
   },
   "file_extension": ".py",
   "mimetype": "text/x-python",
   "name": "python",
   "nbconvert_exporter": "python",
   "pygments_lexer": "ipython3",
   "version": "3.7.0"
  }
 },
 "nbformat": 4,
 "nbformat_minor": 2
}

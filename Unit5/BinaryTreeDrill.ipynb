{
 "cells": [
  {
   "cell_type": "markdown",
   "metadata": {},
   "source": [
    "# DRILL:\n",
    "\n",
    "Implement a binary tree, which is filled with 15 pieces of random data. Your job is to then write a program to traverse the tree using a breadth first traversal. If you want additional practice, try other forms of traversal."
   ]
  },
  {
   "cell_type": "code",
   "execution_count": 1,
   "metadata": {},
   "outputs": [],
   "source": [
    "class node:\n",
    "    def __init__(self, val):\n",
    "        self.val = val\n",
    "        self.r = None\n",
    "        self.l = None"
   ]
  },
  {
   "cell_type": "code",
   "execution_count": 2,
   "metadata": {},
   "outputs": [],
   "source": [
    "root = node('University')\n",
    "root.l = node('Sciences')\n",
    "root.r = node('Arts')"
   ]
  },
  {
   "cell_type": "code",
   "execution_count": 5,
   "metadata": {},
   "outputs": [],
   "source": [
    "root.l.l = node('Life Sciences')\n",
    "root.l.r = node('Computer Sciences')\n",
    "root.r.l = node('Educational')\n",
    "root.r.r = node('Languages')"
   ]
  },
  {
   "cell_type": "code",
   "execution_count": 6,
   "metadata": {},
   "outputs": [],
   "source": [
    "root.l.l.l = node('Biology')\n",
    "root.l.l.r = node('Neuroscience')\n",
    "root.l.r.l = node('Data Science')\n",
    "root.l.r.r = node('Front End Development')\n",
    "\n",
    "root.r.l.l = node('Adult Education')\n",
    "root.r.l.r = node('Childhood Education')\n",
    "root.r.r.l = node('Spanish')\n",
    "root.r.r.r = node('Italian')"
   ]
  },
  {
   "cell_type": "code",
   "execution_count": 24,
   "metadata": {},
   "outputs": [],
   "source": [
    "#Depth First Traversal:\n",
    "def depthf(rt):\n",
    "    print(rt.val)\n",
    "    if rt.l:\n",
    "        depthf(rt.l)\n",
    "        depthf(rt.r)"
   ]
  },
  {
   "cell_type": "code",
   "execution_count": 25,
   "metadata": {},
   "outputs": [
    {
     "name": "stdout",
     "output_type": "stream",
     "text": [
      "University\n",
      "Sciences\n",
      "Life Sciences\n",
      "Biology\n",
      "Neuroscience\n",
      "Computer Sciences\n",
      "Data Science\n",
      "Front End Development\n",
      "Arts\n",
      "Educational\n",
      "Adult Education\n",
      "Childhood Education\n",
      "Languages\n",
      "Spanish\n",
      "Italian\n"
     ]
    }
   ],
   "source": [
    "depthf(root)"
   ]
  },
  {
   "cell_type": "code",
   "execution_count": 32,
   "metadata": {},
   "outputs": [],
   "source": [
    "#Breadth First Traversal:\n",
    "def prt(node):\n",
    "    print(node.l.val)\n",
    "    print(node.r.val)\n",
    "\n",
    "def breadthf(rt):\n",
    "    nodes = []\n",
    "    stack = [rt]\n",
    "    while stack:\n",
    "        cur_node = stack[0]\n",
    "        stack = stack[1:]\n",
    "        nodes.append(cur_node)\n",
    "        for child in [cur_node.l, cur_node.r]:\n",
    "            if child:\n",
    "                stack.append(child)\n",
    "    print([x.val for x in nodes])"
   ]
  },
  {
   "cell_type": "code",
   "execution_count": 33,
   "metadata": {},
   "outputs": [
    {
     "name": "stdout",
     "output_type": "stream",
     "text": [
      "['University', 'Sciences', 'Arts', 'Life Sciences', 'Computer Sciences', 'Educational', 'Languages', 'Biology', 'Neuroscience', 'Data Science', 'Front End Development', 'Adult Education', 'Childhood Education', 'Spanish', 'Italian']\n"
     ]
    }
   ],
   "source": [
    "breadthf(root)"
   ]
  }
 ],
 "metadata": {
  "kernelspec": {
   "display_name": "Python 3",
   "language": "python",
   "name": "python3"
  },
  "language_info": {
   "codemirror_mode": {
    "name": "ipython",
    "version": 3
   },
   "file_extension": ".py",
   "mimetype": "text/x-python",
   "name": "python",
   "nbconvert_exporter": "python",
   "pygments_lexer": "ipython3",
   "version": "3.7.0"
  }
 },
 "nbformat": 4,
 "nbformat_minor": 2
}

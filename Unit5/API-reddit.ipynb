{
 "cells": [
  {
   "cell_type": "code",
   "execution_count": 28,
   "metadata": {},
   "outputs": [],
   "source": [
    "import praw\n",
    "import datetime\n",
    "import pandas as pd\n",
    "import matplotlib.pyplot as plt\n",
    "import seaborn as sns\n",
    "import numpy as np"
   ]
  },
  {
   "cell_type": "code",
   "execution_count": 3,
   "metadata": {},
   "outputs": [],
   "source": [
    "reddit = praw.Reddit(client_id= 'qXrfeqBZifMmtA',\n",
    "                     client_secret= 'onlCFNaNySrpxg_NVJbmEzsYGuU' ,\n",
    "                    username = 'EdwardVayne',\n",
    "                    password = '052507',\n",
    "                    user_agent='edv')"
   ]
  },
  {
   "cell_type": "code",
   "execution_count": 4,
   "metadata": {},
   "outputs": [],
   "source": [
    "nba = reddit.subreddit('nba')\n",
    "nfl = reddit.subreddit('nfl')\n",
    "soccer = reddit.subreddit('soccer')"
   ]
  },
  {
   "cell_type": "code",
   "execution_count": 21,
   "metadata": {},
   "outputs": [],
   "source": [
    "def getdata(sub, name):\n",
    "    #retrieve top 1000 posts:\n",
    "    posts = sub.top(limit=1000)\n",
    "    data = [(_.title, _.created_utc, _.score, _.num_comments, _.link_flair_text, name) for _ in posts]\n",
    "    return data"
   ]
  },
  {
   "cell_type": "code",
   "execution_count": 22,
   "metadata": {},
   "outputs": [],
   "source": [
    "nba_data = getdata(nba, 'NBA')\n",
    "nfl_data = getdata(nfl, 'NFL')\n",
    "soc_data = getdata(soccer, 'Soccer')"
   ]
  },
  {
   "cell_type": "code",
   "execution_count": 23,
   "metadata": {},
   "outputs": [
    {
     "data": {
      "text/html": [
       "<div>\n",
       "<style scoped>\n",
       "    .dataframe tbody tr th:only-of-type {\n",
       "        vertical-align: middle;\n",
       "    }\n",
       "\n",
       "    .dataframe tbody tr th {\n",
       "        vertical-align: top;\n",
       "    }\n",
       "\n",
       "    .dataframe thead th {\n",
       "        text-align: right;\n",
       "    }\n",
       "</style>\n",
       "<table border=\"1\" class=\"dataframe\">\n",
       "  <thead>\n",
       "    <tr style=\"text-align: right;\">\n",
       "      <th></th>\n",
       "      <th>title</th>\n",
       "    </tr>\n",
       "    <tr>\n",
       "      <th>subreddit</th>\n",
       "      <th></th>\n",
       "    </tr>\n",
       "  </thead>\n",
       "  <tbody>\n",
       "    <tr>\n",
       "      <th>NBA</th>\n",
       "      <td>995</td>\n",
       "    </tr>\n",
       "    <tr>\n",
       "      <th>NFL</th>\n",
       "      <td>996</td>\n",
       "    </tr>\n",
       "    <tr>\n",
       "      <th>Soccer</th>\n",
       "      <td>998</td>\n",
       "    </tr>\n",
       "  </tbody>\n",
       "</table>\n",
       "</div>"
      ],
      "text/plain": [
       "           title\n",
       "subreddit       \n",
       "NBA          995\n",
       "NFL          996\n",
       "Soccer       998"
      ]
     },
     "execution_count": 23,
     "metadata": {},
     "output_type": "execute_result"
    }
   ],
   "source": [
    "nbadf = pd.DataFrame(nba_data, columns=['title', 'dateUTC', 'upvotes', 'comments', 'flair', 'subreddit'])\n",
    "nfldf = pd.DataFrame(nfl_data, columns=['title', 'dateUTC', 'upvotes', 'comments', 'flair', 'subreddit'])\n",
    "socdf = pd.DataFrame(soc_data, columns=['title', 'dateUTC', 'upvotes', 'comments', 'flair', 'subreddit'])\n",
    "df = nbadf.append(nfldf)\n",
    "df = df.append(socdf)\n",
    "df.groupby('subreddit').agg({'title':'count'})"
   ]
  },
  {
   "cell_type": "code",
   "execution_count": 24,
   "metadata": {},
   "outputs": [
    {
     "data": {
      "text/plain": [
       "(2989, 6)"
      ]
     },
     "execution_count": 24,
     "metadata": {},
     "output_type": "execute_result"
    }
   ],
   "source": [
    "df.shape"
   ]
  },
  {
   "cell_type": "code",
   "execution_count": 25,
   "metadata": {},
   "outputs": [
    {
     "data": {
      "text/html": [
       "<div>\n",
       "<style scoped>\n",
       "    .dataframe tbody tr th:only-of-type {\n",
       "        vertical-align: middle;\n",
       "    }\n",
       "\n",
       "    .dataframe tbody tr th {\n",
       "        vertical-align: top;\n",
       "    }\n",
       "\n",
       "    .dataframe thead th {\n",
       "        text-align: right;\n",
       "    }\n",
       "</style>\n",
       "<table border=\"1\" class=\"dataframe\">\n",
       "  <thead>\n",
       "    <tr style=\"text-align: right;\">\n",
       "      <th></th>\n",
       "      <th>title</th>\n",
       "      <th>dateUTC</th>\n",
       "      <th>upvotes</th>\n",
       "      <th>comments</th>\n",
       "      <th>flair</th>\n",
       "      <th>subreddit</th>\n",
       "    </tr>\n",
       "  </thead>\n",
       "  <tbody>\n",
       "    <tr>\n",
       "      <th>0</th>\n",
       "      <td>[Withers] LeBron signing with Lakers.</td>\n",
       "      <td>1.530490e+09</td>\n",
       "      <td>53336</td>\n",
       "      <td>9524</td>\n",
       "      <td>4 years, $154 million</td>\n",
       "      <td>NBA</td>\n",
       "    </tr>\n",
       "    <tr>\n",
       "      <th>1</th>\n",
       "      <td>LBJ throws it off the backboard to himself</td>\n",
       "      <td>1.528334e+09</td>\n",
       "      <td>47881</td>\n",
       "      <td>2293</td>\n",
       "      <td>LeBron James</td>\n",
       "      <td>NBA</td>\n",
       "    </tr>\n",
       "    <tr>\n",
       "      <th>2</th>\n",
       "      <td>Derrick Rose is reduced to tears after his tea...</td>\n",
       "      <td>1.541040e+09</td>\n",
       "      <td>45961</td>\n",
       "      <td>2490</td>\n",
       "      <td>Highlights</td>\n",
       "      <td>NBA</td>\n",
       "    </tr>\n",
       "    <tr>\n",
       "      <th>3</th>\n",
       "      <td>Is Lebron DENNIS systeming the cavs?</td>\n",
       "      <td>1.517529e+09</td>\n",
       "      <td>40415</td>\n",
       "      <td>919</td>\n",
       "      <td>sp</td>\n",
       "      <td>NBA</td>\n",
       "    </tr>\n",
       "    <tr>\n",
       "      <th>4</th>\n",
       "      <td>LeBron James passes to himself and dunks</td>\n",
       "      <td>1.497063e+09</td>\n",
       "      <td>39502</td>\n",
       "      <td>2328</td>\n",
       "      <td>Highlights</td>\n",
       "      <td>NBA</td>\n",
       "    </tr>\n",
       "  </tbody>\n",
       "</table>\n",
       "</div>"
      ],
      "text/plain": [
       "                                               title       dateUTC  upvotes  \\\n",
       "0              [Withers] LeBron signing with Lakers.  1.530490e+09    53336   \n",
       "1         LBJ throws it off the backboard to himself  1.528334e+09    47881   \n",
       "2  Derrick Rose is reduced to tears after his tea...  1.541040e+09    45961   \n",
       "3               Is Lebron DENNIS systeming the cavs?  1.517529e+09    40415   \n",
       "4           LeBron James passes to himself and dunks  1.497063e+09    39502   \n",
       "\n",
       "   comments                  flair subreddit  \n",
       "0      9524  4 years, $154 million       NBA  \n",
       "1      2293           LeBron James       NBA  \n",
       "2      2490             Highlights       NBA  \n",
       "3       919                     sp       NBA  \n",
       "4      2328             Highlights       NBA  "
      ]
     },
     "execution_count": 25,
     "metadata": {},
     "output_type": "execute_result"
    }
   ],
   "source": [
    "df.head()"
   ]
  },
  {
   "cell_type": "code",
   "execution_count": 27,
   "metadata": {},
   "outputs": [
    {
     "name": "stdout",
     "output_type": "stream",
     "text": [
      "<class 'str'>\n",
      "<class 'numpy.float64'>\n",
      "<class 'numpy.int64'>\n",
      "<class 'numpy.int64'>\n",
      "<class 'str'>\n",
      "<class 'str'>\n"
     ]
    }
   ],
   "source": [
    "for i in df.iloc[0,:]:\n",
    "    print(type(i))"
   ]
  },
  {
   "cell_type": "code",
   "execution_count": 30,
   "metadata": {},
   "outputs": [
    {
     "data": {
      "image/png": "[encoded data removed]",
      "text/plain": [
       "<Figure size 432x288 with 1 Axes>"
      ]
     },
     "metadata": {},
     "output_type": "display_data"
    }
   ],
   "source": [
    "plt.hist(df[df.subreddit == 'NBA']['upvotes'], alpha=.5)\n",
    "plt.hist(df[df.subreddit == 'NFL']['upvotes'], alpha=.5)\n",
    "plt.hist(df[df.subreddit == 'Soccer']['upvotes'], alpha=.5)\n",
    "plt.show()"
   ]
  },
  {
   "cell_type": "code",
   "execution_count": 33,
   "metadata": {},
   "outputs": [
    {
     "data": {
      "image/png": "[encoded data removed]",
      "text/plain": [
       "<Figure size 432x288 with 1 Axes>"
      ]
     },
     "metadata": {},
     "output_type": "display_data"
    }
   ],
   "source": [
    "plt.hist(df[df.subreddit == 'NBA']['comments'], alpha=.5)\n",
    "plt.hist(df[df.subreddit == 'NFL']['comments'], alpha=.5)\n",
    "plt.hist(df[df.subreddit == 'Soccer']['comments'], alpha=.5)\n",
    "plt.show()"
   ]
  },
  {
   "cell_type": "code",
   "execution_count": 51,
   "metadata": {},
   "outputs": [
    {
     "data": {
      "text/plain": [
       "flair\n",
       "Highlights          363\n",
       "National Writer      38\n",
       "Post Game Thread     23\n",
       "sp                   22\n",
       "Beat Writer          18\n",
       "Name: comments, dtype: int64"
      ]
     },
     "metadata": {},
     "output_type": "display_data"
    },
    {
     "data": {
      "text/plain": [
       "flair\n",
       "Highlights       83\n",
       "Breaking News    55\n",
       "Roster Move      52\n",
       "Rumor            46\n",
       "Serious          22\n",
       "Name: comments, dtype: int64"
      ]
     },
     "metadata": {},
     "output_type": "display_data"
    },
    {
     "data": {
      "text/plain": [
       "flair\n",
       "Media                 426\n",
       "Verified account       98\n",
       "Official source        97\n",
       "Unverified account     30\n",
       "Mirror in comments     11\n",
       "Name: comments, dtype: int64"
      ]
     },
     "metadata": {},
     "output_type": "display_data"
    }
   ],
   "source": [
    "#Most common threads by sport:\n",
    "display(df[df.subreddit=='NBA'].groupby(['flair'])['comments'].agg('count').sort_values(ascending=False)[:5])\n",
    "display(df[df.subreddit=='NFL'].groupby(['flair'])['comments'].agg('count').sort_values(ascending=False)[:5])\n",
    "display(df[df.subreddit=='Soccer'].groupby(['flair'])['comments'].agg('count').sort_values(ascending=False)[:5])"
   ]
  },
  {
   "cell_type": "code",
   "execution_count": null,
   "metadata": {},
   "outputs": [],
   "source": [
    "#which flairs get most engagement"
   ]
  }
 ],
 "metadata": {
  "kernelspec": {
   "display_name": "Python 3",
   "language": "python",
   "name": "python3"
  },
  "language_info": {
   "codemirror_mode": {
    "name": "ipython",
    "version": 3
   },
   "file_extension": ".py",
   "mimetype": "text/x-python",
   "name": "python",
   "nbconvert_exporter": "python",
   "pygments_lexer": "ipython3",
   "version": "3.7.0"
  }
 },
 "nbformat": 4,
 "nbformat_minor": 2
}

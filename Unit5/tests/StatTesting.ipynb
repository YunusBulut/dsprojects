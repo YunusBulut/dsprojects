{
 "cells": [
  {
   "cell_type": "markdown",
   "metadata": {},
   "source": [
    "# Address the following questions. For each question, explain why you chose the approach you did."
   ]
  },
  {
   "cell_type": "code",
   "execution_count": 17,
   "metadata": {},
   "outputs": [],
   "source": [
    "import numpy as np\n",
    "import pandas as pd \n",
    "import matplotlib.pyplot as plt\n",
    "import seaborn as sns\n",
    "import scipy.stats as stats\n",
    "from statsmodels.stats.multicomp import pairwise_tukeyhsd"
   ]
  },
  {
   "cell_type": "code",
   "execution_count": 2,
   "metadata": {},
   "outputs": [
    {
     "name": "stdout",
     "output_type": "stream",
     "text": [
      "(8594, 13)\n",
      "cntry       object\n",
      "idno       float64\n",
      "year         int64\n",
      "tvtot      float64\n",
      "ppltrst    float64\n",
      "pplfair    float64\n",
      "pplhlp     float64\n",
      "happy      float64\n",
      "sclmeet    float64\n",
      "sclact     float64\n",
      "gndr       float64\n",
      "agea       float64\n",
      "partner    float64\n",
      "dtype: object\n"
     ]
    },
    {
     "data": {
      "text/html": [
       "<div>\n",
       "<style scoped>\n",
       "    .dataframe tbody tr th:only-of-type {\n",
       "        vertical-align: middle;\n",
       "    }\n",
       "\n",
       "    .dataframe tbody tr th {\n",
       "        vertical-align: top;\n",
       "    }\n",
       "\n",
       "    .dataframe thead th {\n",
       "        text-align: right;\n",
       "    }\n",
       "</style>\n",
       "<table border=\"1\" class=\"dataframe\">\n",
       "  <thead>\n",
       "    <tr style=\"text-align: right;\">\n",
       "      <th></th>\n",
       "      <th>cntry</th>\n",
       "      <th>idno</th>\n",
       "      <th>year</th>\n",
       "      <th>tvtot</th>\n",
       "      <th>ppltrst</th>\n",
       "      <th>pplfair</th>\n",
       "      <th>pplhlp</th>\n",
       "      <th>happy</th>\n",
       "      <th>sclmeet</th>\n",
       "      <th>sclact</th>\n",
       "      <th>gndr</th>\n",
       "      <th>agea</th>\n",
       "      <th>partner</th>\n",
       "    </tr>\n",
       "  </thead>\n",
       "  <tbody>\n",
       "    <tr>\n",
       "      <th>0</th>\n",
       "      <td>CH</td>\n",
       "      <td>5.0</td>\n",
       "      <td>6</td>\n",
       "      <td>3.0</td>\n",
       "      <td>3.0</td>\n",
       "      <td>10.0</td>\n",
       "      <td>5.0</td>\n",
       "      <td>8.0</td>\n",
       "      <td>5.0</td>\n",
       "      <td>4.0</td>\n",
       "      <td>2.0</td>\n",
       "      <td>60.0</td>\n",
       "      <td>1.0</td>\n",
       "    </tr>\n",
       "    <tr>\n",
       "      <th>1</th>\n",
       "      <td>CH</td>\n",
       "      <td>25.0</td>\n",
       "      <td>6</td>\n",
       "      <td>6.0</td>\n",
       "      <td>5.0</td>\n",
       "      <td>7.0</td>\n",
       "      <td>5.0</td>\n",
       "      <td>9.0</td>\n",
       "      <td>3.0</td>\n",
       "      <td>2.0</td>\n",
       "      <td>2.0</td>\n",
       "      <td>59.0</td>\n",
       "      <td>1.0</td>\n",
       "    </tr>\n",
       "    <tr>\n",
       "      <th>2</th>\n",
       "      <td>CH</td>\n",
       "      <td>26.0</td>\n",
       "      <td>6</td>\n",
       "      <td>1.0</td>\n",
       "      <td>8.0</td>\n",
       "      <td>8.0</td>\n",
       "      <td>8.0</td>\n",
       "      <td>7.0</td>\n",
       "      <td>6.0</td>\n",
       "      <td>3.0</td>\n",
       "      <td>1.0</td>\n",
       "      <td>24.0</td>\n",
       "      <td>2.0</td>\n",
       "    </tr>\n",
       "    <tr>\n",
       "      <th>3</th>\n",
       "      <td>CH</td>\n",
       "      <td>28.0</td>\n",
       "      <td>6</td>\n",
       "      <td>4.0</td>\n",
       "      <td>6.0</td>\n",
       "      <td>6.0</td>\n",
       "      <td>7.0</td>\n",
       "      <td>10.0</td>\n",
       "      <td>6.0</td>\n",
       "      <td>2.0</td>\n",
       "      <td>2.0</td>\n",
       "      <td>64.0</td>\n",
       "      <td>1.0</td>\n",
       "    </tr>\n",
       "    <tr>\n",
       "      <th>4</th>\n",
       "      <td>CH</td>\n",
       "      <td>29.0</td>\n",
       "      <td>6</td>\n",
       "      <td>5.0</td>\n",
       "      <td>6.0</td>\n",
       "      <td>7.0</td>\n",
       "      <td>5.0</td>\n",
       "      <td>8.0</td>\n",
       "      <td>7.0</td>\n",
       "      <td>2.0</td>\n",
       "      <td>2.0</td>\n",
       "      <td>55.0</td>\n",
       "      <td>1.0</td>\n",
       "    </tr>\n",
       "  </tbody>\n",
       "</table>\n",
       "</div>"
      ],
      "text/plain": [
       "  cntry  idno  year  tvtot  ppltrst  pplfair  pplhlp  happy  sclmeet  sclact  \\\n",
       "0    CH   5.0     6    3.0      3.0     10.0     5.0    8.0      5.0     4.0   \n",
       "1    CH  25.0     6    6.0      5.0      7.0     5.0    9.0      3.0     2.0   \n",
       "2    CH  26.0     6    1.0      8.0      8.0     8.0    7.0      6.0     3.0   \n",
       "3    CH  28.0     6    4.0      6.0      6.0     7.0   10.0      6.0     2.0   \n",
       "4    CH  29.0     6    5.0      6.0      7.0     5.0    8.0      7.0     2.0   \n",
       "\n",
       "   gndr  agea  partner  \n",
       "0   2.0  60.0      1.0  \n",
       "1   2.0  59.0      1.0  \n",
       "2   1.0  24.0      2.0  \n",
       "3   2.0  64.0      1.0  \n",
       "4   2.0  55.0      1.0  "
      ]
     },
     "execution_count": 2,
     "metadata": {},
     "output_type": "execute_result"
    }
   ],
   "source": [
    "#https://thinkful-ed.github.io/data-201-resources/ESS_practice_data/ESS_codebook.html\n",
    "raw = pd.read_csv('ESS.csv')\n",
    "print(raw.shape)\n",
    "print(raw.dtypes)\n",
    "raw.head()"
   ]
  },
  {
   "cell_type": "code",
   "execution_count": 3,
   "metadata": {},
   "outputs": [
    {
     "name": "stdout",
     "output_type": "stream",
     "text": [
      "<class 'pandas.core.frame.DataFrame'>\n",
      "RangeIndex: 8594 entries, 0 to 8593\n",
      "Data columns (total 13 columns):\n",
      "cntry      8594 non-null object\n",
      "idno       8594 non-null float64\n",
      "year       8594 non-null int64\n",
      "tvtot      8586 non-null float64\n",
      "ppltrst    8580 non-null float64\n",
      "pplfair    8555 non-null float64\n",
      "pplhlp     8569 non-null float64\n",
      "happy      8563 non-null float64\n",
      "sclmeet    8579 non-null float64\n",
      "sclact     8500 non-null float64\n",
      "gndr       8584 non-null float64\n",
      "agea       8355 non-null float64\n",
      "partner    8577 non-null float64\n",
      "dtypes: float64(11), int64(1), object(1)\n",
      "memory usage: 839.3+ KB\n"
     ]
    }
   ],
   "source": [
    "raw.info()"
   ]
  },
  {
   "cell_type": "code",
   "execution_count": 4,
   "metadata": {},
   "outputs": [
    {
     "data": {
      "text/plain": [
       "year\n",
       "2012    4297\n",
       "2014    4297\n",
       "Name: idno, dtype: int64"
      ]
     },
     "execution_count": 4,
     "metadata": {},
     "output_type": "execute_result"
    }
   ],
   "source": [
    "raw['year'] = np.where(raw.year==6,2012,2014)\n",
    "raw.groupby('year')['idno'].agg('count')"
   ]
  },
  {
   "cell_type": "code",
   "execution_count": 5,
   "metadata": {},
   "outputs": [
    {
     "data": {
      "text/plain": [
       "cntry\n",
       "CH    1546\n",
       "CZ    1316\n",
       "DE      28\n",
       "ES    2426\n",
       "NO    1462\n",
       "SE    1816\n",
       "Name: idno, dtype: int64"
      ]
     },
     "execution_count": 5,
     "metadata": {},
     "output_type": "execute_result"
    }
   ],
   "source": [
    "raw.groupby('cntry')['idno'].agg('count')"
   ]
  },
  {
   "cell_type": "code",
   "execution_count": 6,
   "metadata": {},
   "outputs": [],
   "source": [
    "countries = {'CH': 'Switzerland',\n",
    "             'CZ': 'Czech Republic',\n",
    "             'DE': 'Germany',\n",
    "             'ES': 'Spain',\n",
    "             'NO': 'Norway',\n",
    "             'SE': 'Sweden'}"
   ]
  },
  {
   "cell_type": "code",
   "execution_count": 26,
   "metadata": {},
   "outputs": [],
   "source": [
    "#Checks distribution:\n",
    "\n",
    "def checkdist(series, bins=False):\n",
    "    #input s/b pandas series\n",
    "    fig = plt.figure(figsize=[15,5])\n",
    "    fig.add_subplot(121)\n",
    "    if bins:\n",
    "        plt.hist(series, bins=bins)\n",
    "    else:\n",
    "        plt.hist(series)\n",
    "    plt.axvline(np.mean(series), linestyle='dashed', color='black')\n",
    "    plt.title('Distribution')\n",
    "    fig.add_subplot(122)\n",
    "    norm = np.random.normal(size=len(series))\n",
    "    norm.sort()\n",
    "    series = series.sort_values()\n",
    "    plt.title('QQ plot')\n",
    "    plt.plot(series, norm, \"o\") \n",
    "    plt.show() "
   ]
  },
  {
   "cell_type": "markdown",
   "metadata": {},
   "source": [
    "# Did people become less trusting from 2012 to 2014? Compute results for each country in the sample."
   ]
  },
  {
   "cell_type": "code",
   "execution_count": 27,
   "metadata": {},
   "outputs": [
    {
     "data": {
      "image/png": "[encoded data removed]",
      "text/plain": [
       "<Figure size 1080x360 with 2 Axes>"
      ]
     },
     "metadata": {},
     "output_type": "display_data"
    }
   ],
   "source": [
    "#Check overall dataset\n",
    "checkdist(raw[raw.ppltrst.notnull()]['ppltrst'])"
   ]
  },
  {
   "cell_type": "code",
   "execution_count": 9,
   "metadata": {},
   "outputs": [
    {
     "name": "stdout",
     "output_type": "stream",
     "text": [
      "(8580, 13)\n"
     ]
    }
   ],
   "source": [
    "#Define a df for this trust question with nans dropped\n",
    "trst = raw.dropna(subset=['ppltrst'])\n",
    "print(trst.shape)"
   ]
  },
  {
   "cell_type": "code",
   "execution_count": 16,
   "metadata": {},
   "outputs": [],
   "source": [
    "#If we suppose that is a \"Normal\" distribution:"
   ]
  },
  {
   "cell_type": "code",
   "execution_count": 37,
   "metadata": {},
   "outputs": [
    {
     "name": "stdout",
     "output_type": "stream",
     "text": [
      "\n",
      " Switzerland\n",
      "f-statistic:  0.4600524426784201\n",
      "p-value:  0.49770110247170185\n",
      "\n",
      " Czech Republic\n",
      "f-statistic:  0.22709448291597525\n",
      "p-value:  0.6337663626855166\n",
      "\n",
      " Germany\n",
      "f-statistic:  0.03270440251572326\n",
      "p-value:  0.8578926631223294\n",
      "\n",
      " Spain\n",
      "f-statistic:  6.221415341840899\n",
      "p-value:  0.012687599930346013\n",
      "\n",
      " Norway\n",
      "f-statistic:  0.2956825356381541\n",
      "p-value:  0.586684963598745\n",
      "\n",
      " Sweden\n",
      "f-statistic:  4.364609741762067\n",
      "p-value:  0.036832086995183345\n"
     ]
    }
   ],
   "source": [
    "for c, name in countries.items():\n",
    "    F, p = stats.f_oneway(\n",
    "    trst[(trst.cntry==c) & (trst.year==2012)]['ppltrst'],\n",
    "    trst[(trst.cntry==c) & (trst.year==2014)]['ppltrst'])\n",
    "    print('\\n',name)\n",
    "    print('f-statistic: ',F)\n",
    "    print('p-value: ',p)"
   ]
  },
  {
   "cell_type": "code",
   "execution_count": null,
   "metadata": {},
   "outputs": [],
   "source": [
    "#If we do not accept that that is a normal distribution:"
   ]
  },
  {
   "cell_type": "code",
   "execution_count": 10,
   "metadata": {},
   "outputs": [
    {
     "name": "stdout",
     "output_type": "stream",
     "text": [
      "Switzerland 773  samples\n",
      "2012 mean:  5.677878395860285 \n",
      "2014 mean:  5.751617076326003\n",
      "KruskalResult(statistic=0.3016359964448019, pvalue=0.5828586111442048) \n",
      "\n",
      "Czech Republic 651  samples\n",
      "2012 mean:  4.362519201228879 \n",
      "2014 mean:  4.424657534246576\n",
      "KruskalResult(statistic=0.7211591385301228, pvalue=0.39576395374563544) \n",
      "\n",
      "Germany 14  samples\n",
      "2012 mean:  5.214285714285714 \n",
      "2014 mean:  5.357142857142857\n",
      "KruskalResult(statistic=0.03493591039585809, pvalue=0.8517300191250199) \n",
      "\n",
      "Spain 1213  samples\n",
      "2012 mean:  5.114591920857379 \n",
      "2014 mean:  4.895127993393889\n",
      "KruskalResult(statistic=8.216087354735361, pvalue=0.0041520627675982) \n",
      "\n",
      "Norway 730  samples\n",
      "2012 mean:  6.64931506849315 \n",
      "2014 mean:  6.598630136986301\n",
      "KruskalResult(statistic=0.244738742531337, pvalue=0.6208043004969865) \n",
      "\n",
      "Sweden 906  samples\n",
      "2012 mean:  6.058498896247241 \n",
      "2014 mean:  6.257709251101321\n",
      "KruskalResult(statistic=4.241254711044051, pvalue=0.03945299959307013) \n",
      "\n"
     ]
    }
   ],
   "source": [
    "for c, name in countries.items():\n",
    "    yr1 = trst[(trst.cntry == c) & (trst.year==2012)]['ppltrst']\n",
    "    yr2 = trst[(trst.cntry == c) & (trst.year==2014)]['ppltrst']\n",
    "    print(name, len(yr1), ' samples')\n",
    "    print('2012 mean: ', np.mean(yr1), '\\n2014 mean: ', np.mean(yr2),)\n",
    "    print(stats.kruskal(yr1,yr2), '\\n')"
   ]
  },
  {
   "cell_type": "markdown",
   "metadata": {},
   "source": [
    "Regardless of which method you use, Spain appears to have become less trustful from 2012 to 2014, while Sweden appears to have become more trustful. None of the other countries made changes we can be confident about."
   ]
  },
  {
   "cell_type": "markdown",
   "metadata": {},
   "source": [
    "# Did people become happier from 2012 to 2014? Compute results for each country in the sample."
   ]
  },
  {
   "cell_type": "code",
   "execution_count": 11,
   "metadata": {},
   "outputs": [
    {
     "name": "stdout",
     "output_type": "stream",
     "text": [
      "(8563, 13)\n"
     ]
    }
   ],
   "source": [
    "#Define a df for this trust quesiont with nans dropped\n",
    "hpy = raw.dropna(subset=['happy'])\n",
    "print(hpy.shape)"
   ]
  },
  {
   "cell_type": "code",
   "execution_count": 28,
   "metadata": {},
   "outputs": [
    {
     "data": {
      "image/png": "[encoded data removed]",
      "text/plain": [
       "<Figure size 1080x360 with 2 Axes>"
      ]
     },
     "metadata": {},
     "output_type": "display_data"
    }
   ],
   "source": [
    "checkdist(hpy.happy)"
   ]
  },
  {
   "cell_type": "code",
   "execution_count": 13,
   "metadata": {},
   "outputs": [
    {
     "name": "stdout",
     "output_type": "stream",
     "text": [
      "Switzerland 770  samples\n",
      "2012 mean:  8.088311688311688 \n",
      "2014 mean:  8.116429495472186\n",
      "KruskalResult(statistic=0.22331955287588717, pvalue=0.6365221432042547) \n",
      "\n",
      "Czech Republic 646  samples\n",
      "2012 mean:  6.7708978328173375 \n",
      "2014 mean:  6.914110429447852\n",
      "KruskalResult(statistic=1.4258218687180508, pvalue=0.23244752383800354) \n",
      "\n",
      "Germany 14  samples\n",
      "2012 mean:  7.428571428571429 \n",
      "2014 mean:  7.857142857142857\n",
      "KruskalResult(statistic=0.39056749122656015, pvalue=0.532001255058662) \n",
      "\n",
      "Spain 1212  samples\n",
      "2012 mean:  7.548679867986799 \n",
      "2014 mean:  7.41996699669967\n",
      "KruskalResult(statistic=4.089203641177268, pvalue=0.04315797189625085) \n",
      "\n",
      "Norway 727  samples\n",
      "2012 mean:  8.25171939477304 \n",
      "2014 mean:  7.9151846785225715\n",
      "KruskalResult(statistic=19.139561932891844, pvalue=1.215001301639077e-05) \n",
      "\n",
      "Sweden 907  samples\n",
      "2012 mean:  7.907386990077177 \n",
      "2014 mean:  7.946961325966851\n",
      "KruskalResult(statistic=0.05045734520052835, pvalue=0.8222693615371405) \n",
      "\n"
     ]
    }
   ],
   "source": [
    "for c, name in countries.items():\n",
    "    yr1 = hpy[(hpy.cntry == c) & (hpy.year==2012)]['happy']\n",
    "    yr2 = hpy[(hpy.cntry == c) & (hpy.year==2014)]['happy']\n",
    "    print(name, len(yr1), ' samples')\n",
    "    print('2012 mean: ', np.mean(yr1), '\\n2014 mean: ', np.mean(yr2),)\n",
    "    print(stats.kruskal(yr1,yr2), '\\n')"
   ]
  },
  {
   "cell_type": "markdown",
   "metadata": {},
   "source": [
    "None of these countries can be proven to have gotten happier from 2012 to 2014"
   ]
  },
  {
   "cell_type": "markdown",
   "metadata": {},
   "source": [
    "# Who reported watching more TV in 2012, men or women?"
   ]
  },
  {
   "cell_type": "code",
   "execution_count": 14,
   "metadata": {},
   "outputs": [
    {
     "data": {
      "text/plain": [
       "(4291, 13)"
      ]
     },
     "execution_count": 14,
     "metadata": {},
     "output_type": "execute_result"
    }
   ],
   "source": [
    "tv12 = raw[raw.year==2012].dropna(subset=['tvtot'])\n",
    "tv12.shape"
   ]
  },
  {
   "cell_type": "code",
   "execution_count": 29,
   "metadata": {},
   "outputs": [
    {
     "name": "stdout",
     "output_type": "stream",
     "text": [
      "Men:\n"
     ]
    },
    {
     "data": {
      "image/png": "[encoded data removed]",
      "text/plain": [
       "<Figure size 1080x360 with 2 Axes>"
      ]
     },
     "metadata": {},
     "output_type": "display_data"
    },
    {
     "name": "stdout",
     "output_type": "stream",
     "text": [
      "Women:\n"
     ]
    },
    {
     "data": {
      "image/png": "[encoded data removed]",
      "text/plain": [
       "<Figure size 1080x360 with 2 Axes>"
      ]
     },
     "metadata": {},
     "output_type": "display_data"
    }
   ],
   "source": [
    "print(\"Men:\")\n",
    "checkdist(tv12[tv12.gndr==1]['tvtot'], bins=[x for x in range(0,7)])\n",
    "print(\"Women:\")\n",
    "checkdist(tv12[tv12.gndr==2]['tvtot'], bins=[x for x in range(0,7)])"
   ]
  },
  {
   "cell_type": "code",
   "execution_count": 33,
   "metadata": {},
   "outputs": [
    {
     "name": "stdout",
     "output_type": "stream",
     "text": [
      "Men Mean:  3.901906090190609\n",
      "Women Mean:  3.944392523364486\n",
      "KruskalResult(statistic=0.5766091020549451, pvalue=0.447644522500795)\n"
     ]
    }
   ],
   "source": [
    "mentv = tv12[tv12.gndr==1]['tvtot']\n",
    "womentv = tv12[tv12.gndr==2]['tvtot']\n",
    "print('Men Mean: ', np.mean(mentv))\n",
    "print('Women Mean: ', np.mean(womentv))\n",
    "print(stats.kruskal(mentv, womentv))"
   ]
  },
  {
   "cell_type": "markdown",
   "metadata": {},
   "source": [
    "There is no indication that one sex watched more TV than the other in 2012."
   ]
  },
  {
   "cell_type": "markdown",
   "metadata": {},
   "source": [
    "# Who was more likely to believe people were fair in 2012, people living with a partner or people living alone?"
   ]
  },
  {
   "cell_type": "code",
   "execution_count": 38,
   "metadata": {},
   "outputs": [
    {
     "name": "stdout",
     "output_type": "stream",
     "text": [
      "(4271, 13)\n"
     ]
    }
   ],
   "source": [
    "fair12 = raw[raw.year==2012].dropna(subset=['pplfair','partner'])\n",
    "print(fair12.shape)"
   ]
  },
  {
   "cell_type": "code",
   "execution_count": 39,
   "metadata": {},
   "outputs": [
    {
     "name": "stdout",
     "output_type": "stream",
     "text": [
      "Lives with partner:\n"
     ]
    },
    {
     "data": {
      "image/png": "[encoded data removed]",
      "text/plain": [
       "<Figure size 1080x360 with 2 Axes>"
      ]
     },
     "metadata": {},
     "output_type": "display_data"
    },
    {
     "name": "stdout",
     "output_type": "stream",
     "text": [
      "Does not live with partner:\n"
     ]
    },
    {
     "data": {
      "image/png": "[encoded data removed]",
      "text/plain": [
       "<Figure size 1080x360 with 2 Axes>"
      ]
     },
     "metadata": {},
     "output_type": "display_data"
    }
   ],
   "source": [
    "print(\"Lives with partner:\")\n",
    "checkdist(fair12[fair12.partner==1]['pplfair'])\n",
    "print(\"Does not live with partner:\")\n",
    "checkdist(fair12[fair12.partner==2]['pplfair'])"
   ]
  },
  {
   "cell_type": "code",
   "execution_count": 40,
   "metadata": {},
   "outputs": [
    {
     "name": "stdout",
     "output_type": "stream",
     "text": [
      "Lives with partner Mean:\n",
      "6.080736012016523\n",
      "Does not live with partner:\n",
      "5.856965174129353\n",
      "f-statistic:  11.023086567011378\n",
      "p-value:  0.0009073952609876207\n"
     ]
    }
   ],
   "source": [
    "print(\"Lives with partner Mean:\")\n",
    "print(np.mean(fair12[fair12.partner==1]['pplfair']))\n",
    "print(\"Does not live with partner:\")\n",
    "print(np.mean(fair12[fair12.partner==2]['pplfair']))\n",
    "F, p = stats.f_oneway(\n",
    "    fair12[fair12.partner==1]['pplfair'],\n",
    "    fair12[fair12.partner==2]['pplfair'])\n",
    "print('f-statistic: ',F)\n",
    "print('p-value: ',p)"
   ]
  },
  {
   "cell_type": "markdown",
   "metadata": {},
   "source": [
    "Those who live with a partner were demonstrably more likely to believe the world is fair, averaging ~6.1 compared to only 5.9 on self-reported ratings."
   ]
  },
  {
   "cell_type": "markdown",
   "metadata": {},
   "source": [
    "# Pick three or four of the countries in the sample and compare how often people met socially in 2014. Are there differences, and if so, which countries stand out?"
   ]
  },
  {
   "cell_type": "code",
   "execution_count": 47,
   "metadata": {},
   "outputs": [
    {
     "data": {
      "text/plain": [
       "(1997, 13)"
      ]
     },
     "execution_count": 47,
     "metadata": {},
     "output_type": "execute_result"
    }
   ],
   "source": [
    "meets = raw.loc[raw['cntry'].isin(['DE','ES','CH'])]\n",
    "meets = meets[meets.year == 2014].dropna(subset=['sclmeet'])\n",
    "meets.shape"
   ]
  },
  {
   "cell_type": "code",
   "execution_count": 52,
   "metadata": {},
   "outputs": [
    {
     "name": "stdout",
     "output_type": "stream",
     "text": [
      "Germany\n"
     ]
    },
    {
     "data": {
      "image/png": "[encoded data removed]",
      "text/plain": [
       "<Figure size 1080x360 with 2 Axes>"
      ]
     },
     "metadata": {},
     "output_type": "display_data"
    },
    {
     "name": "stdout",
     "output_type": "stream",
     "text": [
      "Spain\n"
     ]
    },
    {
     "data": {
      "image/png": "[encoded data removed]",
      "text/plain": [
       "<Figure size 1080x360 with 2 Axes>"
      ]
     },
     "metadata": {},
     "output_type": "display_data"
    },
    {
     "name": "stdout",
     "output_type": "stream",
     "text": [
      "Switzerland\n"
     ]
    },
    {
     "data": {
      "image/png": "[encoded data removed]",
      "text/plain": [
       "<Figure size 1080x360 with 2 Axes>"
      ]
     },
     "metadata": {},
     "output_type": "display_data"
    }
   ],
   "source": [
    "print(countries['DE'])\n",
    "checkdist(meets[meets.cntry=='DE']['sclmeet'],\n",
    "         bins=[x for x in range(8)])\n",
    "print(countries['ES'])\n",
    "checkdist(meets[meets.cntry=='ES']['sclmeet'],\n",
    "          bins=[x for x in range(8)])\n",
    "print(countries['CH'])\n",
    "checkdist(meets[meets.cntry=='CH']['sclmeet'],\n",
    "          bins=[x for x in range(8)])"
   ]
  },
  {
   "cell_type": "code",
   "execution_count": 53,
   "metadata": {},
   "outputs": [
    {
     "name": "stdout",
     "output_type": "stream",
     "text": [
      "Germany :  4.428571428571429\n",
      "Spain :  5.2601156069364166\n",
      "Switzerland :  5.160621761658031\n"
     ]
    }
   ],
   "source": [
    "for c in ['DE','ES','CH']:\n",
    "    print(countries[c], ': ', \n",
    "          np.mean(meets[meets.cntry==c]['sclmeet']))"
   ]
  },
  {
   "cell_type": "code",
   "execution_count": 57,
   "metadata": {},
   "outputs": [
    {
     "data": {
      "text/plain": [
       "KruskalResult(statistic=6.811209280804956, pvalue=0.009058739707675768)"
      ]
     },
     "execution_count": 57,
     "metadata": {},
     "output_type": "execute_result"
    }
   ],
   "source": [
    "stats.kruskal(\n",
    "    meets[meets.cntry=='DE']['sclmeet'],\n",
    "    meets[meets.cntry=='CH']['sclmeet'])"
   ]
  },
  {
   "cell_type": "code",
   "execution_count": 58,
   "metadata": {
    "scrolled": true
   },
   "outputs": [
    {
     "data": {
      "text/plain": [
       "KruskalResult(statistic=8.48853020112894, pvalue=0.0035739241736939867)"
      ]
     },
     "execution_count": 58,
     "metadata": {},
     "output_type": "execute_result"
    }
   ],
   "source": [
    "stats.kruskal(\n",
    "    meets[meets.cntry=='DE']['sclmeet'],\n",
    "    meets[meets.cntry=='ES']['sclmeet'])"
   ]
  },
  {
   "cell_type": "code",
   "execution_count": 59,
   "metadata": {},
   "outputs": [
    {
     "data": {
      "text/plain": [
       "KruskalResult(statistic=6.260317221619147, pvalue=0.012347209292747114)"
      ]
     },
     "execution_count": 59,
     "metadata": {},
     "output_type": "execute_result"
    }
   ],
   "source": [
    "stats.kruskal(\n",
    "    meets[meets.cntry=='ES']['sclmeet'],\n",
    "    meets[meets.cntry=='CH']['sclmeet'])"
   ]
  },
  {
   "cell_type": "markdown",
   "metadata": {},
   "source": [
    "Both Spain and Switzerland are demonstrably more social than Germany. Additionally, Spain is more social than Switzerland."
   ]
  },
  {
   "cell_type": "markdown",
   "metadata": {},
   "source": [
    "# Pick three or four of the countries in the sample and compare how often people took part in social activities, relative to others their age, in 2014. Are there differences, and if so, which countries stand out?"
   ]
  },
  {
   "cell_type": "code",
   "execution_count": 69,
   "metadata": {},
   "outputs": [
    {
     "data": {
      "text/plain": [
       "(3585, 13)"
      ]
     },
     "execution_count": 69,
     "metadata": {},
     "output_type": "execute_result"
    }
   ],
   "source": [
    "acts = raw.loc[raw['cntry'].isin(['NO','ES','CH', 'SE'])]\n",
    "acts = acts[acts.year == 2014].dropna(subset=['sclact'])\n",
    "acts.shape"
   ]
  },
  {
   "cell_type": "code",
   "execution_count": 70,
   "metadata": {
    "scrolled": false
   },
   "outputs": [
    {
     "name": "stdout",
     "output_type": "stream",
     "text": [
      "Norway\n"
     ]
    },
    {
     "data": {
      "image/png": "[encoded data removed]",
      "text/plain": [
       "<Figure size 1080x360 with 2 Axes>"
      ]
     },
     "metadata": {},
     "output_type": "display_data"
    },
    {
     "name": "stdout",
     "output_type": "stream",
     "text": [
      "Spain\n"
     ]
    },
    {
     "data": {
      "image/png": "[encoded data removed]",
      "text/plain": [
       "<Figure size 1080x360 with 2 Axes>"
      ]
     },
     "metadata": {},
     "output_type": "display_data"
    },
    {
     "name": "stdout",
     "output_type": "stream",
     "text": [
      "Switzerland\n"
     ]
    },
    {
     "data": {
      "image/png": "[encoded data removed]",
      "text/plain": [
       "<Figure size 1080x360 with 2 Axes>"
      ]
     },
     "metadata": {},
     "output_type": "display_data"
    },
    {
     "name": "stdout",
     "output_type": "stream",
     "text": [
      "Sweden\n"
     ]
    },
    {
     "data": {
      "image/png": "[encoded data removed]",
      "text/plain": [
       "<Figure size 1080x360 with 2 Axes>"
      ]
     },
     "metadata": {},
     "output_type": "display_data"
    }
   ],
   "source": [
    "for c in ['NO','ES','CH', 'SE']:\n",
    "    print(countries[c])\n",
    "    checkdist(acts[acts.cntry==c]['sclact'],\n",
    "             bins=range(6))"
   ]
  },
  {
   "cell_type": "code",
   "execution_count": 71,
   "metadata": {},
   "outputs": [],
   "source": [
    "#These can pass for normal."
   ]
  },
  {
   "cell_type": "code",
   "execution_count": 76,
   "metadata": {},
   "outputs": [
    {
     "data": {
      "text/html": [
       "<table class=\"simpletable\">\n",
       "<caption>Multiple Comparison of Means - Tukey HSD,FWER=0.05</caption>\n",
       "<tr>\n",
       "  <th>group1</th> <th>group2</th> <th>meandiff</th>  <th>lower</th>   <th>upper</th>  <th>reject</th>\n",
       "</tr>\n",
       "<tr>\n",
       "    <td>CH</td>     <td>ES</td>    <td>-0.1648</td> <td>-0.2718</td> <td>-0.0578</td>  <td>True</td> \n",
       "</tr>\n",
       "<tr>\n",
       "    <td>CH</td>     <td>NO</td>    <td>0.0774</td>  <td>-0.0419</td> <td>0.1967</td>   <td>False</td>\n",
       "</tr>\n",
       "<tr>\n",
       "    <td>CH</td>     <td>SE</td>    <td>0.0977</td>  <td>-0.0156</td> <td>0.2111</td>   <td>False</td>\n",
       "</tr>\n",
       "<tr>\n",
       "    <td>ES</td>     <td>NO</td>    <td>0.2422</td>  <td>0.1337</td>  <td>0.3507</td>   <td>True</td> \n",
       "</tr>\n",
       "<tr>\n",
       "    <td>ES</td>     <td>SE</td>    <td>0.2625</td>  <td>0.1607</td>  <td>0.3644</td>   <td>True</td> \n",
       "</tr>\n",
       "<tr>\n",
       "    <td>NO</td>     <td>SE</td>    <td>0.0203</td>  <td>-0.0944</td> <td>0.1351</td>   <td>False</td>\n",
       "</tr>\n",
       "</table>"
      ],
      "text/plain": [
       "<class 'statsmodels.iolib.table.SimpleTable'>"
      ]
     },
     "execution_count": 76,
     "metadata": {},
     "output_type": "execute_result"
    }
   ],
   "source": [
    "tukey = pairwise_tukeyhsd(endog=acts['sclact'],\n",
    "            groups=acts['cntry'],alpha=0.05)\n",
    "\n",
    "tukey.summary()  "
   ]
  },
  {
   "cell_type": "markdown",
   "metadata": {},
   "source": [
    "Conclusion: We can confirm that Spain is more socially active than Switzerland, Norway, and Sweden."
   ]
  }
 ],
 "metadata": {
  "kernelspec": {
   "display_name": "Python 3",
   "language": "python",
   "name": "python3"
  },
  "language_info": {
   "codemirror_mode": {
    "name": "ipython",
    "version": 3
   },
   "file_extension": ".py",
   "mimetype": "text/x-python",
   "name": "python",
   "nbconvert_exporter": "python",
   "pygments_lexer": "ipython3",
   "version": "3.7.0"
  }
 },
 "nbformat": 4,
 "nbformat_minor": 2
}

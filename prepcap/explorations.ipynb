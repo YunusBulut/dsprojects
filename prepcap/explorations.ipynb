{
 "cells": [
  {
   "cell_type": "code",
   "execution_count": 76,
   "metadata": {},
   "outputs": [],
   "source": [
    "import numpy as np\n",
    "import pandas as pd\n",
    "import scipy\n",
    "import matplotlib.pyplot as plt\n",
    "import seaborn as sns\n",
    "%matplotlib inline\n",
    "%config IPCompleter.greedy=True"
   ]
  },
  {
   "cell_type": "code",
   "execution_count": 16,
   "metadata": {
    "scrolled": true
   },
   "outputs": [],
   "source": [
    "raw = pd.read_csv('Scorecard_Edited.csv', low_memory=False)\n",
    "#source https://www.kaggle.com/kaggle/college-scorecard/home\n",
    "# Code Book https://storage.googleapis.com/kaggle-datasets/11/6609/CollegeScorecardDataDictionary-09-12-2015.pdf\n",
    "#each row in this dataset is a branch of a higher education institution. The data comes from the US Dept of Education Scorecard \n",
    "#and has been filtered down to the collected data that pertains to debt and earnings potential from 2003-2013."
   ]
  },
  {
   "cell_type": "code",
   "execution_count": 6,
   "metadata": {},
   "outputs": [
    {
     "data": {
      "text/plain": [
       "(72032, 307)"
      ]
     },
     "execution_count": 6,
     "metadata": {},
     "output_type": "execute_result"
    }
   ],
   "source": [
    "raw.shape"
   ]
  },
  {
   "cell_type": "code",
   "execution_count": 7,
   "metadata": {},
   "outputs": [
    {
     "data": {
      "text/html": [
       "<div>\n",
       "<style scoped>\n",
       "    .dataframe tbody tr th:only-of-type {\n",
       "        vertical-align: middle;\n",
       "    }\n",
       "\n",
       "    .dataframe tbody tr th {\n",
       "        vertical-align: top;\n",
       "    }\n",
       "\n",
       "    .dataframe thead th {\n",
       "        text-align: right;\n",
       "    }\n",
       "</style>\n",
       "<table border=\"1\" class=\"dataframe\">\n",
       "  <thead>\n",
       "    <tr style=\"text-align: right;\">\n",
       "      <th></th>\n",
       "      <th>Id</th>\n",
       "      <th>UNITID</th>\n",
       "      <th>INSTNM</th>\n",
       "      <th>STABBR</th>\n",
       "      <th>AccredAgency</th>\n",
       "      <th>HCM2</th>\n",
       "      <th>main</th>\n",
       "      <th>NUMBRANCH</th>\n",
       "      <th>PREDDEG</th>\n",
       "      <th>CONTROL</th>\n",
       "      <th>...</th>\n",
       "      <th>mn_earn_wne_p8</th>\n",
       "      <th>md_earn_wne_p8</th>\n",
       "      <th>sd_earn_wne_p8</th>\n",
       "      <th>gt_25k_p8</th>\n",
       "      <th>count_nwne_p9</th>\n",
       "      <th>count_wne_p9</th>\n",
       "      <th>mn_earn_wne_p9</th>\n",
       "      <th>sd_earn_wne_p9</th>\n",
       "      <th>gt_25k_p9</th>\n",
       "      <th>Year</th>\n",
       "    </tr>\n",
       "  </thead>\n",
       "  <tbody>\n",
       "    <tr>\n",
       "      <th>0</th>\n",
       "      <td>52668</td>\n",
       "      <td>100654</td>\n",
       "      <td>ALABAMA A &amp; M UNIVERSITY</td>\n",
       "      <td>AL</td>\n",
       "      <td>NaN</td>\n",
       "      <td>0</td>\n",
       "      <td>True</td>\n",
       "      <td>1</td>\n",
       "      <td>Predominantly bachelor's-degree granting</td>\n",
       "      <td>Public</td>\n",
       "      <td>...</td>\n",
       "      <td>NaN</td>\n",
       "      <td>NaN</td>\n",
       "      <td>NaN</td>\n",
       "      <td>NaN</td>\n",
       "      <td>NaN</td>\n",
       "      <td>NaN</td>\n",
       "      <td>NaN</td>\n",
       "      <td>NaN</td>\n",
       "      <td>NaN</td>\n",
       "      <td>2004</td>\n",
       "    </tr>\n",
       "    <tr>\n",
       "      <th>1</th>\n",
       "      <td>52669</td>\n",
       "      <td>100663</td>\n",
       "      <td>UNIVERSITY OF ALABAMA AT BIRMINGHAM</td>\n",
       "      <td>AL</td>\n",
       "      <td>NaN</td>\n",
       "      <td>0</td>\n",
       "      <td>True</td>\n",
       "      <td>1</td>\n",
       "      <td>Predominantly bachelor's-degree granting</td>\n",
       "      <td>Public</td>\n",
       "      <td>...</td>\n",
       "      <td>NaN</td>\n",
       "      <td>NaN</td>\n",
       "      <td>NaN</td>\n",
       "      <td>NaN</td>\n",
       "      <td>NaN</td>\n",
       "      <td>NaN</td>\n",
       "      <td>NaN</td>\n",
       "      <td>NaN</td>\n",
       "      <td>NaN</td>\n",
       "      <td>2004</td>\n",
       "    </tr>\n",
       "    <tr>\n",
       "      <th>2</th>\n",
       "      <td>52670</td>\n",
       "      <td>100690</td>\n",
       "      <td>SOUTHERN CHRISTIAN UNIVERSITY</td>\n",
       "      <td>AL</td>\n",
       "      <td>NaN</td>\n",
       "      <td>0</td>\n",
       "      <td>True</td>\n",
       "      <td>1</td>\n",
       "      <td>Predominantly bachelor's-degree granting</td>\n",
       "      <td>Private nonprofit</td>\n",
       "      <td>...</td>\n",
       "      <td>NaN</td>\n",
       "      <td>NaN</td>\n",
       "      <td>NaN</td>\n",
       "      <td>NaN</td>\n",
       "      <td>NaN</td>\n",
       "      <td>NaN</td>\n",
       "      <td>NaN</td>\n",
       "      <td>NaN</td>\n",
       "      <td>NaN</td>\n",
       "      <td>2004</td>\n",
       "    </tr>\n",
       "    <tr>\n",
       "      <th>3</th>\n",
       "      <td>52671</td>\n",
       "      <td>100706</td>\n",
       "      <td>UNIVERSITY OF ALABAMA IN HUNTSVILLE</td>\n",
       "      <td>AL</td>\n",
       "      <td>NaN</td>\n",
       "      <td>0</td>\n",
       "      <td>True</td>\n",
       "      <td>1</td>\n",
       "      <td>Predominantly bachelor's-degree granting</td>\n",
       "      <td>Public</td>\n",
       "      <td>...</td>\n",
       "      <td>NaN</td>\n",
       "      <td>NaN</td>\n",
       "      <td>NaN</td>\n",
       "      <td>NaN</td>\n",
       "      <td>NaN</td>\n",
       "      <td>NaN</td>\n",
       "      <td>NaN</td>\n",
       "      <td>NaN</td>\n",
       "      <td>NaN</td>\n",
       "      <td>2004</td>\n",
       "    </tr>\n",
       "    <tr>\n",
       "      <th>4</th>\n",
       "      <td>52672</td>\n",
       "      <td>100724</td>\n",
       "      <td>ALABAMA STATE UNIVERSITY</td>\n",
       "      <td>AL</td>\n",
       "      <td>NaN</td>\n",
       "      <td>0</td>\n",
       "      <td>True</td>\n",
       "      <td>1</td>\n",
       "      <td>Predominantly bachelor's-degree granting</td>\n",
       "      <td>Public</td>\n",
       "      <td>...</td>\n",
       "      <td>NaN</td>\n",
       "      <td>NaN</td>\n",
       "      <td>NaN</td>\n",
       "      <td>NaN</td>\n",
       "      <td>NaN</td>\n",
       "      <td>NaN</td>\n",
       "      <td>NaN</td>\n",
       "      <td>NaN</td>\n",
       "      <td>NaN</td>\n",
       "      <td>2004</td>\n",
       "    </tr>\n",
       "  </tbody>\n",
       "</table>\n",
       "<p>5 rows × 307 columns</p>\n",
       "</div>"
      ],
      "text/plain": [
       "      Id  UNITID                               INSTNM STABBR AccredAgency  \\\n",
       "0  52668  100654             ALABAMA A & M UNIVERSITY     AL          NaN   \n",
       "1  52669  100663  UNIVERSITY OF ALABAMA AT BIRMINGHAM     AL          NaN   \n",
       "2  52670  100690        SOUTHERN CHRISTIAN UNIVERSITY     AL          NaN   \n",
       "3  52671  100706  UNIVERSITY OF ALABAMA IN HUNTSVILLE     AL          NaN   \n",
       "4  52672  100724             ALABAMA STATE UNIVERSITY     AL          NaN   \n",
       "\n",
       "   HCM2  main  NUMBRANCH                                   PREDDEG  \\\n",
       "0     0  True          1  Predominantly bachelor's-degree granting   \n",
       "1     0  True          1  Predominantly bachelor's-degree granting   \n",
       "2     0  True          1  Predominantly bachelor's-degree granting   \n",
       "3     0  True          1  Predominantly bachelor's-degree granting   \n",
       "4     0  True          1  Predominantly bachelor's-degree granting   \n",
       "\n",
       "             CONTROL  ...  mn_earn_wne_p8 md_earn_wne_p8 sd_earn_wne_p8  \\\n",
       "0             Public  ...             NaN            NaN            NaN   \n",
       "1             Public  ...             NaN            NaN            NaN   \n",
       "2  Private nonprofit  ...             NaN            NaN            NaN   \n",
       "3             Public  ...             NaN            NaN            NaN   \n",
       "4             Public  ...             NaN            NaN            NaN   \n",
       "\n",
       "  gt_25k_p8 count_nwne_p9  count_wne_p9  mn_earn_wne_p9  sd_earn_wne_p9  \\\n",
       "0       NaN           NaN           NaN             NaN             NaN   \n",
       "1       NaN           NaN           NaN             NaN             NaN   \n",
       "2       NaN           NaN           NaN             NaN             NaN   \n",
       "3       NaN           NaN           NaN             NaN             NaN   \n",
       "4       NaN           NaN           NaN             NaN             NaN   \n",
       "\n",
       "   gt_25k_p9  Year  \n",
       "0        NaN  2004  \n",
       "1        NaN  2004  \n",
       "2        NaN  2004  \n",
       "3        NaN  2004  \n",
       "4        NaN  2004  \n",
       "\n",
       "[5 rows x 307 columns]"
      ]
     },
     "execution_count": 7,
     "metadata": {},
     "output_type": "execute_result"
    }
   ],
   "source": [
    "raw.head()"
   ]
  },
  {
   "cell_type": "code",
   "execution_count": 25,
   "metadata": {},
   "outputs": [
    {
     "name": "stdout",
     "output_type": "stream",
     "text": [
      "Total Institutions in population: 9091\n"
     ]
    },
    {
     "data": {
      "text/plain": [
       "CONTROL\n",
       "Private for-profit    4655\n",
       "Public                2285\n",
       "Private nonprofit     2265\n",
       "Name: UNITID, dtype: int64"
      ]
     },
     "execution_count": 25,
     "metadata": {},
     "output_type": "execute_result"
    }
   ],
   "source": [
    "#How many of these institutions are under private vs public control?\n",
    "print(\"Total Institutions in population: \" + str(raw['UNITID'].nunique()))\n",
    "control = raw.groupby('CONTROL')['UNITID'].nunique()\n",
    "control.sort_values(ascending=False)"
   ]
  },
  {
   "cell_type": "code",
   "execution_count": 13,
   "metadata": {},
   "outputs": [
    {
     "data": {
      "text/plain": [
       "region\n",
       "Southeast (AL, AR, FL, GA, KY, LA, MS, NC, SC, TN, VA, WV)    2257\n",
       "Mid East (DE, DC, MD, NJ, NY, PA)                             1386\n",
       "Great Lakes (IL, IN, MI, OH, WI)                              1356\n",
       "Far West (AK, CA, HI, NV, OR, WA)                             1322\n",
       "Southwest (AZ, NM, OK, TX)                                     949\n",
       "Plains (IA, KS, MN, MO, NE, ND, SD)                            779\n",
       "New England (CT, ME, MA, NH, RI, VT)                           514\n",
       "Rocky Mountains (CO, ID, MT, UT, WY)                           346\n",
       "Outlying Areas (AS, FM, GU, MH, MP, PR, PW, VI)                192\n",
       "U.S. Service Schools                                             1\n",
       "Name: UNITID, dtype: int64"
      ]
     },
     "execution_count": 13,
     "metadata": {},
     "output_type": "execute_result"
    }
   ],
   "source": [
    "#Region?\n",
    "regions = raw.groupby('region')['UNITID'].nunique()\n",
    "regions.sort_values(ascending=False)"
   ]
  },
  {
   "cell_type": "code",
   "execution_count": 20,
   "metadata": {},
   "outputs": [
    {
     "data": {
      "text/plain": [
       "RELAFFIL\n",
       "None                           9084\n",
       "Roman Catholic                  253\n",
       "United Methodist                 95\n",
       "Baptist                          72\n",
       "Presbyterian Church (USA)        57\n",
       "Interdenominational              36\n",
       "Jewish                           36\n",
       "Evangelical Lutheran Church      31\n",
       "Other Protestant                 24\n",
       "Southern Baptist                 23\n",
       "Name: UNITID, dtype: int64"
      ]
     },
     "execution_count": 20,
     "metadata": {},
     "output_type": "execute_result"
    }
   ],
   "source": [
    "#Religious Affiliation?\n",
    "rel = raw.groupby('RELAFFIL')['UNITID'].nunique()\n",
    "rel.sort_values(ascending=False).head(10)"
   ]
  },
  {
   "cell_type": "code",
   "execution_count": 21,
   "metadata": {},
   "outputs": [
    {
     "data": {
      "text/plain": [
       "PREDDEG\n",
       "Predominantly certificate-degree granting    4559\n",
       "Predominantly bachelor's-degree granting     2355\n",
       "Predominantly associate's-degree granting    2100\n",
       "Not classified                               1323\n",
       "Entirely graduate-degree granting             408\n",
       "Name: UNITID, dtype: int64"
      ]
     },
     "execution_count": 21,
     "metadata": {},
     "output_type": "execute_result"
    }
   ],
   "source": [
    "#Predominant Degree\n",
    "preDeg = raw.groupby('PREDDEG')['UNITID'].nunique()\n",
    "preDeg.sort_values(ascending=False)"
   ]
  },
  {
   "cell_type": "code",
   "execution_count": 26,
   "metadata": {},
   "outputs": [
    {
     "data": {
      "text/plain": [
       "CURROPER\n",
       "True     7719\n",
       "False    1990\n",
       "Name: UNITID, dtype: int64"
      ]
     },
     "execution_count": 26,
     "metadata": {},
     "output_type": "execute_result"
    }
   ],
   "source": [
    "#How many are still operating as of the data's publication?\n",
    "op = raw.groupby('CURROPER')['UNITID'].nunique()\n",
    "op.sort_values(ascending=False)"
   ]
  },
  {
   "cell_type": "code",
   "execution_count": 34,
   "metadata": {},
   "outputs": [
    {
     "data": {
      "text/plain": [
       "(7804, 307)"
      ]
     },
     "execution_count": 34,
     "metadata": {},
     "output_type": "execute_result"
    }
   ],
   "source": [
    "#Let's isolate the 2013 data to do some further exploration\n",
    "\n",
    "yr13 = raw[raw['Year'] == 2013]\n",
    "yr13.shape"
   ]
  },
  {
   "cell_type": "code",
   "execution_count": 75,
   "metadata": {
    "scrolled": false
   },
   "outputs": [
    {
     "data": {
      "image/png": "[encoded data removed]",
      "text/plain": [
       "<Figure size 864x360 with 1 Axes>"
      ]
     },
     "metadata": {},
     "output_type": "display_data"
    }
   ],
   "source": [
    "#What's the net price box & whisker look like?\n",
    "#yr13['netp'] = yr13['NPT4_PUB'] + yr13['NPT4_PRIV']\n",
    "#yr13['NPT4_PRIV'].dtypes #I confirmed they are both floats\n",
    "\n",
    "yr13Pub = yr13[np.isnan(yr13.NPT4_PUB) == False]\n",
    "yr13Priv = yr13[np.isnan(yr13.NPT4_PRIV) == False]\n",
    "plt.figure(figsize=(12,5))\n",
    "plt.boxplot([yr13Pub.NPT4_PUB,yr13Priv.NPT4_PRIV], labels=['Public','Private (all)'], vert=False)\n",
    "plt.xlabel('Net Price')\n",
    "plt.show()\n",
    "\n",
    "\n"
   ]
  },
  {
   "cell_type": "code",
   "execution_count": 80,
   "metadata": {},
   "outputs": [
    {
     "data": {
      "image/png": "[encoded data removed]",
      "text/plain": [
       "<Figure size 864x360 with 1 Axes>"
      ]
     },
     "metadata": {},
     "output_type": "display_data"
    }
   ],
   "source": [
    "#try to replicate the above in seaborn, but I need to have the net price fields merged to work this I think.\n",
    "sns.set(style=\"darkgrid\")\n",
    "plt.figure(figsize=(12,5))\n",
    "ax = sns.boxplot(x='NPT4_PUB',data=yr13Pub)"
   ]
  },
  {
   "cell_type": "code",
   "execution_count": null,
   "metadata": {},
   "outputs": [],
   "source": []
  }
 ],
 "metadata": {
  "kernelspec": {
   "display_name": "Python 3",
   "language": "python",
   "name": "python3"
  },
  "language_info": {
   "codemirror_mode": {
    "name": "ipython",
    "version": 3
   },
   "file_extension": ".py",
   "mimetype": "text/x-python",
   "name": "python",
   "nbconvert_exporter": "python",
   "pygments_lexer": "ipython3",
   "version": "3.7.0"
  }
 },
 "nbformat": 4,
 "nbformat_minor": 2
}
